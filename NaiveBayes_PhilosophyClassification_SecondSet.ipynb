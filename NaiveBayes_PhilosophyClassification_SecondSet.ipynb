{
 "cells": [
  {
   "cell_type": "markdown",
   "metadata": {},
   "source": [
    "# Second Application of Naive Bayes to Philosophy/Non-Philosophy Classification"
   ]
  },
  {
   "cell_type": "code",
   "execution_count": 1,
   "metadata": {},
   "outputs": [],
   "source": [
    "import os\n",
    "import pickle\n",
    "from multiprocessing import Pool\n",
    "\n",
    "from ipywidgets import interact, interactive, fixed, interact_manual\n",
    "import ipywidgets as widgets\n",
    "\n",
    "from nltk.corpus import stopwords\n",
    "\n",
    "import numpy as np\n",
    "\n",
    "from sklearn import metrics\n",
    "from sklearn.feature_extraction.text import CountVectorizer, TfidfTransformer\n",
    "from sklearn.model_selection import GridSearchCV\n",
    "from sklearn.naive_bayes import MultinomialNB\n",
    "from sklearn.svm import SVC\n",
    "from sklearn.pipeline import Pipeline\n",
    "\n",
    "import pandas as pd\n",
    "\n",
    "import NL_helpers\n",
    "\n",
    "STOPWORDS = list(stopwords.words('english'))"
   ]
  },
  {
   "cell_type": "markdown",
   "metadata": {},
   "source": [
    "## Load Labels and Corresponding Texts"
   ]
  },
  {
   "cell_type": "markdown",
   "metadata": {},
   "source": [
    "Load labels with article codes."
   ]
  },
  {
   "cell_type": "code",
   "execution_count": 2,
   "metadata": {},
   "outputs": [],
   "source": [
    "annotated_df = pd.read_pickle('pickles/classified_df.pickle')"
   ]
  },
  {
   "cell_type": "code",
   "execution_count": 3,
   "metadata": {
    "scrolled": false
   },
   "outputs": [
    {
     "data": {
      "text/html": [
       "<div>\n",
       "<style scoped>\n",
       "    .dataframe tbody tr th:only-of-type {\n",
       "        vertical-align: middle;\n",
       "    }\n",
       "\n",
       "    .dataframe tbody tr th {\n",
       "        vertical-align: top;\n",
       "    }\n",
       "\n",
       "    .dataframe thead th {\n",
       "        text-align: right;\n",
       "    }\n",
       "</style>\n",
       "<table border=\"1\" class=\"dataframe\">\n",
       "  <thead>\n",
       "    <tr style=\"text-align: right;\">\n",
       "      <th></th>\n",
       "      <th>Readable</th>\n",
       "      <th>Philosophy</th>\n",
       "      <th>Philosophy Type</th>\n",
       "      <th>Writing Type</th>\n",
       "      <th>NZ</th>\n",
       "      <th>Notes</th>\n",
       "    </tr>\n",
       "  </thead>\n",
       "  <tbody>\n",
       "    <tr>\n",
       "      <th>LT_18971209_ARTICLE7</th>\n",
       "      <td>True</td>\n",
       "      <td>False</td>\n",
       "      <td>None</td>\n",
       "      <td>None</td>\n",
       "      <td>None</td>\n",
       "      <td></td>\n",
       "    </tr>\n",
       "    <tr>\n",
       "      <th>NZTIM_18860722_ARTICLE11</th>\n",
       "      <td>True</td>\n",
       "      <td>False</td>\n",
       "      <td>None</td>\n",
       "      <td>None</td>\n",
       "      <td>None</td>\n",
       "      <td></td>\n",
       "    </tr>\n",
       "    <tr>\n",
       "      <th>WC_18810721_ARTICLE7</th>\n",
       "      <td>True</td>\n",
       "      <td>False</td>\n",
       "      <td>None</td>\n",
       "      <td>None</td>\n",
       "      <td>None</td>\n",
       "      <td></td>\n",
       "    </tr>\n",
       "    <tr>\n",
       "      <th>DUNST_18980513_ARTICLE3</th>\n",
       "      <td>True</td>\n",
       "      <td>False</td>\n",
       "      <td>None</td>\n",
       "      <td>None</td>\n",
       "      <td>None</td>\n",
       "      <td></td>\n",
       "    </tr>\n",
       "    <tr>\n",
       "      <th>OAM_18960702_ARTICLE35</th>\n",
       "      <td>True</td>\n",
       "      <td>False</td>\n",
       "      <td>None</td>\n",
       "      <td>None</td>\n",
       "      <td>None</td>\n",
       "      <td></td>\n",
       "    </tr>\n",
       "    <tr>\n",
       "      <th>...</th>\n",
       "      <td>...</td>\n",
       "      <td>...</td>\n",
       "      <td>...</td>\n",
       "      <td>...</td>\n",
       "      <td>...</td>\n",
       "      <td>...</td>\n",
       "    </tr>\n",
       "    <tr>\n",
       "      <th>AG_18840116_ARTICLE5</th>\n",
       "      <td>True</td>\n",
       "      <td>False</td>\n",
       "      <td>None</td>\n",
       "      <td>None</td>\n",
       "      <td>None</td>\n",
       "      <td></td>\n",
       "    </tr>\n",
       "    <tr>\n",
       "      <th>MS_18830117_ARTICLE19</th>\n",
       "      <td>True</td>\n",
       "      <td>False</td>\n",
       "      <td>None</td>\n",
       "      <td>None</td>\n",
       "      <td>None</td>\n",
       "      <td></td>\n",
       "    </tr>\n",
       "    <tr>\n",
       "      <th>GRA_18970305_ARTICLE3</th>\n",
       "      <td>True</td>\n",
       "      <td>False</td>\n",
       "      <td>None</td>\n",
       "      <td>None</td>\n",
       "      <td>None</td>\n",
       "      <td></td>\n",
       "    </tr>\n",
       "    <tr>\n",
       "      <th>LT_18800611_ARTICLE5</th>\n",
       "      <td>True</td>\n",
       "      <td>False</td>\n",
       "      <td>None</td>\n",
       "      <td>None</td>\n",
       "      <td>None</td>\n",
       "      <td></td>\n",
       "    </tr>\n",
       "    <tr>\n",
       "      <th>AG_18910526_ARTICLE8</th>\n",
       "      <td>True</td>\n",
       "      <td>False</td>\n",
       "      <td>None</td>\n",
       "      <td>None</td>\n",
       "      <td>None</td>\n",
       "      <td></td>\n",
       "    </tr>\n",
       "  </tbody>\n",
       "</table>\n",
       "<p>959 rows × 6 columns</p>\n",
       "</div>"
      ],
      "text/plain": [
       "                         Readable Philosophy Philosophy Type Writing Type  \\\n",
       "LT_18971209_ARTICLE7         True      False            None         None   \n",
       "NZTIM_18860722_ARTICLE11     True      False            None         None   \n",
       "WC_18810721_ARTICLE7         True      False            None         None   \n",
       "DUNST_18980513_ARTICLE3      True      False            None         None   \n",
       "OAM_18960702_ARTICLE35       True      False            None         None   \n",
       "...                           ...        ...             ...          ...   \n",
       "AG_18840116_ARTICLE5         True      False            None         None   \n",
       "MS_18830117_ARTICLE19        True      False            None         None   \n",
       "GRA_18970305_ARTICLE3        True      False            None         None   \n",
       "LT_18800611_ARTICLE5         True      False            None         None   \n",
       "AG_18910526_ARTICLE8         True      False            None         None   \n",
       "\n",
       "                            NZ Notes  \n",
       "LT_18971209_ARTICLE7      None        \n",
       "NZTIM_18860722_ARTICLE11  None        \n",
       "WC_18810721_ARTICLE7      None        \n",
       "DUNST_18980513_ARTICLE3   None        \n",
       "OAM_18960702_ARTICLE35    None        \n",
       "...                        ...   ...  \n",
       "AG_18840116_ARTICLE5      None        \n",
       "MS_18830117_ARTICLE19     None        \n",
       "GRA_18970305_ARTICLE3     None        \n",
       "LT_18800611_ARTICLE5      None        \n",
       "AG_18910526_ARTICLE8      None        \n",
       "\n",
       "[959 rows x 6 columns]"
      ]
     },
     "execution_count": 3,
     "metadata": {},
     "output_type": "execute_result"
    }
   ],
   "source": [
    "annotated_df"
   ]
  },
  {
   "cell_type": "markdown",
   "metadata": {},
   "source": [
    "Use article codes to load texts."
   ]
  },
  {
   "cell_type": "code",
   "execution_count": 4,
   "metadata": {},
   "outputs": [],
   "source": [
    "dataset_path = '/home/joshua/hdd/Datasets/papers-past/'"
   ]
  },
  {
   "cell_type": "markdown",
   "metadata": {},
   "source": [
    "The total dataset is divided into nine pickles. The following code runs through each, and collects the text for any articles in the annotated df using a left join opperation."
   ]
  },
  {
   "cell_type": "code",
   "execution_count": 5,
   "metadata": {},
   "outputs": [],
   "source": [
    "texts = pd.DataFrame(index=annotated_df.index)\n",
    "for i in range(9):\n",
    "    df = pd.read_pickle(dataset_path+f'corpus_df_{i}.tar.gz')\n",
    "    matching_df = texts.join(df['Text'])\n",
    "    annotated_df = annotated_df.combine_first(matching_df)\n",
    "    del matching_df, df # May aid python memory management"
   ]
  },
  {
   "cell_type": "markdown",
   "metadata": {},
   "source": [
    "Change text from list to simple string"
   ]
  },
  {
   "cell_type": "code",
   "execution_count": 6,
   "metadata": {},
   "outputs": [],
   "source": [
    "annotated_df['Text as String'] = annotated_df['Text'].map(NL_helpers.blocks2string)"
   ]
  },
  {
   "cell_type": "code",
   "execution_count": 8,
   "metadata": {},
   "outputs": [
    {
     "data": {
      "text/html": [
       "<div>\n",
       "<style scoped>\n",
       "    .dataframe tbody tr th:only-of-type {\n",
       "        vertical-align: middle;\n",
       "    }\n",
       "\n",
       "    .dataframe tbody tr th {\n",
       "        vertical-align: top;\n",
       "    }\n",
       "\n",
       "    .dataframe thead th {\n",
       "        text-align: right;\n",
       "    }\n",
       "</style>\n",
       "<table border=\"1\" class=\"dataframe\">\n",
       "  <thead>\n",
       "    <tr style=\"text-align: right;\">\n",
       "      <th></th>\n",
       "      <th>NZ</th>\n",
       "      <th>Notes</th>\n",
       "      <th>Philosophy</th>\n",
       "      <th>Philosophy Type</th>\n",
       "      <th>Readable</th>\n",
       "      <th>Text</th>\n",
       "      <th>Writing Type</th>\n",
       "      <th>Text as String</th>\n",
       "    </tr>\n",
       "  </thead>\n",
       "  <tbody>\n",
       "    <tr>\n",
       "      <th>LT_18971209_ARTICLE7</th>\n",
       "      <td>None</td>\n",
       "      <td></td>\n",
       "      <td>False</td>\n",
       "      <td>None</td>\n",
       "      <td>True</td>\n",
       "      <td>[YOUR PALE AND SALLOW GIRLS NEED ATTENTION. TH...</td>\n",
       "      <td>None</td>\n",
       "      <td>YOUR PALE AND SALLOW GIRLS NEED ATTENTION. THE...</td>\n",
       "    </tr>\n",
       "    <tr>\n",
       "      <th>NZTIM_18860722_ARTICLE11</th>\n",
       "      <td>None</td>\n",
       "      <td></td>\n",
       "      <td>False</td>\n",
       "      <td>None</td>\n",
       "      <td>True</td>\n",
       "      <td>[By.Eleotbio Telegraph—Copyright. (BEDIEB’S TE...</td>\n",
       "      <td>None</td>\n",
       "      <td>By.Eleotbio Telegraph—Copyright. (BEDIEB’S TEL...</td>\n",
       "    </tr>\n",
       "    <tr>\n",
       "      <th>WC_18810721_ARTICLE7</th>\n",
       "      <td>None</td>\n",
       "      <td></td>\n",
       "      <td>False</td>\n",
       "      <td>None</td>\n",
       "      <td>True</td>\n",
       "      <td>[July 18. ; The \"Very Eev. A. P. Stanley, Dean...</td>\n",
       "      <td>None</td>\n",
       "      <td>July 18. ; The \"Very Eev. A. P. Stanley, Dean ...</td>\n",
       "    </tr>\n",
       "    <tr>\n",
       "      <th>DUNST_18980513_ARTICLE3</th>\n",
       "      <td>None</td>\n",
       "      <td></td>\n",
       "      <td>False</td>\n",
       "      <td>None</td>\n",
       "      <td>True</td>\n",
       "      <td>[(“ Weekly Press.”), There is something pathet...</td>\n",
       "      <td>None</td>\n",
       "      <td>(“ Weekly Press.”)\\nThere is something patheti...</td>\n",
       "    </tr>\n",
       "    <tr>\n",
       "      <th>OAM_18960702_ARTICLE35</th>\n",
       "      <td>None</td>\n",
       "      <td></td>\n",
       "      <td>False</td>\n",
       "      <td>None</td>\n",
       "      <td>True</td>\n",
       "      <td>[A novel suggestion as to the division of 1 a ...</td>\n",
       "      <td>None</td>\n",
       "      <td>A novel suggestion as to the division of 1 a y...</td>\n",
       "    </tr>\n",
       "    <tr>\n",
       "      <th>...</th>\n",
       "      <td>...</td>\n",
       "      <td>...</td>\n",
       "      <td>...</td>\n",
       "      <td>...</td>\n",
       "      <td>...</td>\n",
       "      <td>...</td>\n",
       "      <td>...</td>\n",
       "      <td>...</td>\n",
       "    </tr>\n",
       "    <tr>\n",
       "      <th>AG_18840116_ARTICLE5</th>\n",
       "      <td>None</td>\n",
       "      <td></td>\n",
       "      <td>False</td>\n",
       "      <td>None</td>\n",
       "      <td>True</td>\n",
       "      <td>[Trains Leave Ashburton for Ohrist ; church an...</td>\n",
       "      <td>None</td>\n",
       "      <td>Trains Leave Ashburton for Ohrist ; church and...</td>\n",
       "    </tr>\n",
       "    <tr>\n",
       "      <th>MS_18830117_ARTICLE19</th>\n",
       "      <td>None</td>\n",
       "      <td></td>\n",
       "      <td>False</td>\n",
       "      <td>None</td>\n",
       "      <td>True</td>\n",
       "      <td>[At a meeting of representatives of the variou...</td>\n",
       "      <td>None</td>\n",
       "      <td>At a meeting of representatives of the various...</td>\n",
       "    </tr>\n",
       "    <tr>\n",
       "      <th>GRA_18970305_ARTICLE3</th>\n",
       "      <td>None</td>\n",
       "      <td></td>\n",
       "      <td>False</td>\n",
       "      <td>None</td>\n",
       "      <td>True</td>\n",
       "      <td>[This day— For Dunedln, per Herald, at 11 am. ...</td>\n",
       "      <td>None</td>\n",
       "      <td>This day— For Dunedln, per Herald, at 11 am. F...</td>\n",
       "    </tr>\n",
       "    <tr>\n",
       "      <th>LT_18800611_ARTICLE5</th>\n",
       "      <td>None</td>\n",
       "      <td></td>\n",
       "      <td>False</td>\n",
       "      <td>None</td>\n",
       "      <td>True</td>\n",
       "      <td>[LYTTELTON., arrived. ~ , T . in_Wallinffton. ...</td>\n",
       "      <td>None</td>\n",
       "      <td>LYTTELTON.\\narrived. ~ , T . in_Wallinffton. 8...</td>\n",
       "    </tr>\n",
       "    <tr>\n",
       "      <th>AG_18910526_ARTICLE8</th>\n",
       "      <td>None</td>\n",
       "      <td></td>\n",
       "      <td>False</td>\n",
       "      <td>None</td>\n",
       "      <td>True</td>\n",
       "      <td>[MR SPENCE'S ATTACK ON THE MINISTRY.., The Inv...</td>\n",
       "      <td>None</td>\n",
       "      <td>MR SPENCE'S ATTACK ON THE MINISTRY.., The Inve...</td>\n",
       "    </tr>\n",
       "  </tbody>\n",
       "</table>\n",
       "<p>959 rows × 8 columns</p>\n",
       "</div>"
      ],
      "text/plain": [
       "                            NZ Notes Philosophy Philosophy Type Readable  \\\n",
       "LT_18971209_ARTICLE7      None            False            None     True   \n",
       "NZTIM_18860722_ARTICLE11  None            False            None     True   \n",
       "WC_18810721_ARTICLE7      None            False            None     True   \n",
       "DUNST_18980513_ARTICLE3   None            False            None     True   \n",
       "OAM_18960702_ARTICLE35    None            False            None     True   \n",
       "...                        ...   ...        ...             ...      ...   \n",
       "AG_18840116_ARTICLE5      None            False            None     True   \n",
       "MS_18830117_ARTICLE19     None            False            None     True   \n",
       "GRA_18970305_ARTICLE3     None            False            None     True   \n",
       "LT_18800611_ARTICLE5      None            False            None     True   \n",
       "AG_18910526_ARTICLE8      None            False            None     True   \n",
       "\n",
       "                                                                       Text  \\\n",
       "LT_18971209_ARTICLE7      [YOUR PALE AND SALLOW GIRLS NEED ATTENTION. TH...   \n",
       "NZTIM_18860722_ARTICLE11  [By.Eleotbio Telegraph—Copyright. (BEDIEB’S TE...   \n",
       "WC_18810721_ARTICLE7      [July 18. ; The \"Very Eev. A. P. Stanley, Dean...   \n",
       "DUNST_18980513_ARTICLE3   [(“ Weekly Press.”), There is something pathet...   \n",
       "OAM_18960702_ARTICLE35    [A novel suggestion as to the division of 1 a ...   \n",
       "...                                                                     ...   \n",
       "AG_18840116_ARTICLE5      [Trains Leave Ashburton for Ohrist ; church an...   \n",
       "MS_18830117_ARTICLE19     [At a meeting of representatives of the variou...   \n",
       "GRA_18970305_ARTICLE3     [This day— For Dunedln, per Herald, at 11 am. ...   \n",
       "LT_18800611_ARTICLE5      [LYTTELTON., arrived. ~ , T . in_Wallinffton. ...   \n",
       "AG_18910526_ARTICLE8      [MR SPENCE'S ATTACK ON THE MINISTRY.., The Inv...   \n",
       "\n",
       "                         Writing Type  \\\n",
       "LT_18971209_ARTICLE7             None   \n",
       "NZTIM_18860722_ARTICLE11         None   \n",
       "WC_18810721_ARTICLE7             None   \n",
       "DUNST_18980513_ARTICLE3          None   \n",
       "OAM_18960702_ARTICLE35           None   \n",
       "...                               ...   \n",
       "AG_18840116_ARTICLE5             None   \n",
       "MS_18830117_ARTICLE19            None   \n",
       "GRA_18970305_ARTICLE3            None   \n",
       "LT_18800611_ARTICLE5             None   \n",
       "AG_18910526_ARTICLE8             None   \n",
       "\n",
       "                                                             Text as String  \n",
       "LT_18971209_ARTICLE7      YOUR PALE AND SALLOW GIRLS NEED ATTENTION. THE...  \n",
       "NZTIM_18860722_ARTICLE11  By.Eleotbio Telegraph—Copyright. (BEDIEB’S TEL...  \n",
       "WC_18810721_ARTICLE7      July 18. ; The \"Very Eev. A. P. Stanley, Dean ...  \n",
       "DUNST_18980513_ARTICLE3   (“ Weekly Press.”)\\nThere is something patheti...  \n",
       "OAM_18960702_ARTICLE35    A novel suggestion as to the division of 1 a y...  \n",
       "...                                                                     ...  \n",
       "AG_18840116_ARTICLE5      Trains Leave Ashburton for Ohrist ; church and...  \n",
       "MS_18830117_ARTICLE19     At a meeting of representatives of the various...  \n",
       "GRA_18970305_ARTICLE3     This day— For Dunedln, per Herald, at 11 am. F...  \n",
       "LT_18800611_ARTICLE5      LYTTELTON.\\narrived. ~ , T . in_Wallinffton. 8...  \n",
       "AG_18910526_ARTICLE8      MR SPENCE'S ATTACK ON THE MINISTRY.., The Inve...  \n",
       "\n",
       "[959 rows x 8 columns]"
      ]
     },
     "execution_count": 8,
     "metadata": {},
     "output_type": "execute_result"
    }
   ],
   "source": [
    "annotated_df"
   ]
  },
  {
   "cell_type": "code",
   "execution_count": 7,
   "metadata": {},
   "outputs": [],
   "source": [
    "annotated_df.to_pickle('pickles/classified_with_text_df.pickle')"
   ]
  },
  {
   "cell_type": "code",
   "execution_count": 4,
   "metadata": {},
   "outputs": [],
   "source": [
    "# annotated_df = pd.read_pickle('pickles/classified_with_text_df.pickle')"
   ]
  },
  {
   "cell_type": "code",
   "execution_count": 86,
   "metadata": {},
   "outputs": [
    {
     "data": {
      "text/plain": [
       "False    620\n",
       "True     299\n",
       "Name: Philosophy, dtype: int64"
      ]
     },
     "execution_count": 86,
     "metadata": {},
     "output_type": "execute_result"
    }
   ],
   "source": [
    "annotated_df['Philosophy'].value_counts()"
   ]
  },
  {
   "cell_type": "markdown",
   "metadata": {},
   "source": [
    "I will use a 75/25 training/test split. Note use of 'random_state' for reproducability. This was not done for previous classifier."
   ]
  },
  {
   "cell_type": "code",
   "execution_count": 5,
   "metadata": {},
   "outputs": [],
   "source": [
    "training_phil = annotated_df.loc[annotated_df['Philosophy']==True].sample(n=299//4 * 3, random_state=1)\n",
    "training_nonphil = annotated_df.loc[annotated_df['Philosophy']==False].sample(n=620//4*3, random_state=1)\n",
    "training_df = training_phil.append(training_nonphil)\n",
    "del training_phil, training_nonphil"
   ]
  },
  {
   "cell_type": "code",
   "execution_count": 6,
   "metadata": {},
   "outputs": [],
   "source": [
    "test_df = annotated_df.loc[[i for i in annotated_df.index if not i in training_df.index]]"
   ]
  },
  {
   "cell_type": "code",
   "execution_count": 7,
   "metadata": {},
   "outputs": [
    {
     "data": {
      "text/html": [
       "<div>\n",
       "<style scoped>\n",
       "    .dataframe tbody tr th:only-of-type {\n",
       "        vertical-align: middle;\n",
       "    }\n",
       "\n",
       "    .dataframe tbody tr th {\n",
       "        vertical-align: top;\n",
       "    }\n",
       "\n",
       "    .dataframe thead th {\n",
       "        text-align: right;\n",
       "    }\n",
       "</style>\n",
       "<table border=\"1\" class=\"dataframe\">\n",
       "  <thead>\n",
       "    <tr style=\"text-align: right;\">\n",
       "      <th></th>\n",
       "      <th>NZ</th>\n",
       "      <th>Notes</th>\n",
       "      <th>Philosophy</th>\n",
       "      <th>Philosophy Type</th>\n",
       "      <th>Readable</th>\n",
       "      <th>Text</th>\n",
       "      <th>Writing Type</th>\n",
       "      <th>Text as String</th>\n",
       "    </tr>\n",
       "  </thead>\n",
       "  <tbody>\n",
       "    <tr>\n",
       "      <th>OW_18930608_ARTICLE44</th>\n",
       "      <td>True</td>\n",
       "      <td></td>\n",
       "      <td>True</td>\n",
       "      <td>e</td>\n",
       "      <td>True</td>\n",
       "      <td>[Prof cßsor Harvey's Patent St If -applied, i'...</td>\n",
       "      <td>l</td>\n",
       "      <td>Prof cßsor Harvey's Patent St If -applied, i'a...</td>\n",
       "    </tr>\n",
       "    <tr>\n",
       "      <th>CROMARG_18930822_ARTICLE4</th>\n",
       "      <td>False</td>\n",
       "      <td>American attitudes to nature (quotes Emerson a...</td>\n",
       "      <td>True</td>\n",
       "      <td>o</td>\n",
       "      <td>True</td>\n",
       "      <td>[Mr Gamaliel Bradford, juu., in liis paper on ...</td>\n",
       "      <td>f</td>\n",
       "      <td>Mr Gamaliel Bradford, juu., in liis paper on ‘...</td>\n",
       "    </tr>\n",
       "    <tr>\n",
       "      <th>OAM_18840416_ARTICLE16</th>\n",
       "      <td>None</td>\n",
       "      <td></td>\n",
       "      <td>True</td>\n",
       "      <td>r</td>\n",
       "      <td>True</td>\n",
       "      <td>[At the last meeting held in February by the V...</td>\n",
       "      <td>p</td>\n",
       "      <td>At the last meeting held in February by the Vi...</td>\n",
       "    </tr>\n",
       "    <tr>\n",
       "      <th>OO_18921224_ARTICLE2</th>\n",
       "      <td>None</td>\n",
       "      <td>Mr Collins public debate in Oxford (existence ...</td>\n",
       "      <td>True</td>\n",
       "      <td>r</td>\n",
       "      <td>True</td>\n",
       "      <td>[The following is a brief abstract of the Deba...</td>\n",
       "      <td>p</td>\n",
       "      <td>The following is a brief abstract of the Debat...</td>\n",
       "    </tr>\n",
       "    <tr>\n",
       "      <th>NOT_18920816_ARTICLE22</th>\n",
       "      <td>None</td>\n",
       "      <td>On secular education</td>\n",
       "      <td>True</td>\n",
       "      <td>e</td>\n",
       "      <td>True</td>\n",
       "      <td>[vival of the fittest. Then there is the \" Psa...</td>\n",
       "      <td>f</td>\n",
       "      <td>vival of the fittest. Then there is the \" Psal...</td>\n",
       "    </tr>\n",
       "    <tr>\n",
       "      <th>...</th>\n",
       "      <td>...</td>\n",
       "      <td>...</td>\n",
       "      <td>...</td>\n",
       "      <td>...</td>\n",
       "      <td>...</td>\n",
       "      <td>...</td>\n",
       "      <td>...</td>\n",
       "      <td>...</td>\n",
       "    </tr>\n",
       "    <tr>\n",
       "      <th>CHP_18890103_ARTICLE6</th>\n",
       "      <td>None</td>\n",
       "      <td></td>\n",
       "      <td>False</td>\n",
       "      <td>None</td>\n",
       "      <td>True</td>\n",
       "      <td>[T&amp;*t*d4r (TMs Day) Peugato erives aboafe 8 a....</td>\n",
       "      <td>None</td>\n",
       "      <td>T&amp;*t*d4r (TMs Day) Peugato erives aboafe 8 a.m...</td>\n",
       "    </tr>\n",
       "    <tr>\n",
       "      <th>ODT_18980924_ARTICLE5</th>\n",
       "      <td>None</td>\n",
       "      <td></td>\n",
       "      <td>False</td>\n",
       "      <td>None</td>\n",
       "      <td>True</td>\n",
       "      <td>[It is difficult to believe, probably nobody, ...</td>\n",
       "      <td>None</td>\n",
       "      <td>It is difficult to believe, probably nobody\\nd...</td>\n",
       "    </tr>\n",
       "    <tr>\n",
       "      <th>LT_18990128_ARTICLE29</th>\n",
       "      <td>None</td>\n",
       "      <td></td>\n",
       "      <td>False</td>\n",
       "      <td>None</td>\n",
       "      <td>True</td>\n",
       "      <td>[It will probably be- generally admitted that ...</td>\n",
       "      <td>None</td>\n",
       "      <td>It will probably be- generally admitted that t...</td>\n",
       "    </tr>\n",
       "    <tr>\n",
       "      <th>GRA_18961216_ARTICLE12</th>\n",
       "      <td>None</td>\n",
       "      <td></td>\n",
       "      <td>False</td>\n",
       "      <td>None</td>\n",
       "      <td>True</td>\n",
       "      <td>[~ Adelaide, December 15. Towns, a cyclist, ro...</td>\n",
       "      <td>None</td>\n",
       "      <td>~ Adelaide, December 15. Towns, a cyclist, rod...</td>\n",
       "    </tr>\n",
       "    <tr>\n",
       "      <th>MEX_18990609_ARTICLE6</th>\n",
       "      <td>None</td>\n",
       "      <td></td>\n",
       "      <td>False</td>\n",
       "      <td>None</td>\n",
       "      <td>True</td>\n",
       "      <td>[According to a writer, a Russian writer, m th...</td>\n",
       "      <td>None</td>\n",
       "      <td>According to a writer, a Russian writer, m the...</td>\n",
       "    </tr>\n",
       "  </tbody>\n",
       "</table>\n",
       "<p>687 rows × 8 columns</p>\n",
       "</div>"
      ],
      "text/plain": [
       "                              NZ  \\\n",
       "OW_18930608_ARTICLE44       True   \n",
       "CROMARG_18930822_ARTICLE4  False   \n",
       "OAM_18840416_ARTICLE16      None   \n",
       "OO_18921224_ARTICLE2        None   \n",
       "NOT_18920816_ARTICLE22      None   \n",
       "...                          ...   \n",
       "CHP_18890103_ARTICLE6       None   \n",
       "ODT_18980924_ARTICLE5       None   \n",
       "LT_18990128_ARTICLE29       None   \n",
       "GRA_18961216_ARTICLE12      None   \n",
       "MEX_18990609_ARTICLE6       None   \n",
       "\n",
       "                                                                       Notes  \\\n",
       "OW_18930608_ARTICLE44                                                          \n",
       "CROMARG_18930822_ARTICLE4  American attitudes to nature (quotes Emerson a...   \n",
       "OAM_18840416_ARTICLE16                                                         \n",
       "OO_18921224_ARTICLE2       Mr Collins public debate in Oxford (existence ...   \n",
       "NOT_18920816_ARTICLE22                                  On secular education   \n",
       "...                                                                      ...   \n",
       "CHP_18890103_ARTICLE6                                                          \n",
       "ODT_18980924_ARTICLE5                                                          \n",
       "LT_18990128_ARTICLE29                                                          \n",
       "GRA_18961216_ARTICLE12                                                         \n",
       "MEX_18990609_ARTICLE6                                                          \n",
       "\n",
       "                          Philosophy Philosophy Type Readable  \\\n",
       "OW_18930608_ARTICLE44           True               e     True   \n",
       "CROMARG_18930822_ARTICLE4       True               o     True   \n",
       "OAM_18840416_ARTICLE16          True               r     True   \n",
       "OO_18921224_ARTICLE2            True               r     True   \n",
       "NOT_18920816_ARTICLE22          True               e     True   \n",
       "...                              ...             ...      ...   \n",
       "CHP_18890103_ARTICLE6          False            None     True   \n",
       "ODT_18980924_ARTICLE5          False            None     True   \n",
       "LT_18990128_ARTICLE29          False            None     True   \n",
       "GRA_18961216_ARTICLE12         False            None     True   \n",
       "MEX_18990609_ARTICLE6          False            None     True   \n",
       "\n",
       "                                                                        Text  \\\n",
       "OW_18930608_ARTICLE44      [Prof cßsor Harvey's Patent St If -applied, i'...   \n",
       "CROMARG_18930822_ARTICLE4  [Mr Gamaliel Bradford, juu., in liis paper on ...   \n",
       "OAM_18840416_ARTICLE16     [At the last meeting held in February by the V...   \n",
       "OO_18921224_ARTICLE2       [The following is a brief abstract of the Deba...   \n",
       "NOT_18920816_ARTICLE22     [vival of the fittest. Then there is the \" Psa...   \n",
       "...                                                                      ...   \n",
       "CHP_18890103_ARTICLE6      [T&*t*d4r (TMs Day) Peugato erives aboafe 8 a....   \n",
       "ODT_18980924_ARTICLE5      [It is difficult to believe, probably nobody, ...   \n",
       "LT_18990128_ARTICLE29      [It will probably be- generally admitted that ...   \n",
       "GRA_18961216_ARTICLE12     [~ Adelaide, December 15. Towns, a cyclist, ro...   \n",
       "MEX_18990609_ARTICLE6      [According to a writer, a Russian writer, m th...   \n",
       "\n",
       "                          Writing Type  \\\n",
       "OW_18930608_ARTICLE44                l   \n",
       "CROMARG_18930822_ARTICLE4            f   \n",
       "OAM_18840416_ARTICLE16               p   \n",
       "OO_18921224_ARTICLE2                 p   \n",
       "NOT_18920816_ARTICLE22               f   \n",
       "...                                ...   \n",
       "CHP_18890103_ARTICLE6             None   \n",
       "ODT_18980924_ARTICLE5             None   \n",
       "LT_18990128_ARTICLE29             None   \n",
       "GRA_18961216_ARTICLE12            None   \n",
       "MEX_18990609_ARTICLE6             None   \n",
       "\n",
       "                                                              Text as String  \n",
       "OW_18930608_ARTICLE44      Prof cßsor Harvey's Patent St If -applied, i'a...  \n",
       "CROMARG_18930822_ARTICLE4  Mr Gamaliel Bradford, juu., in liis paper on ‘...  \n",
       "OAM_18840416_ARTICLE16     At the last meeting held in February by the Vi...  \n",
       "OO_18921224_ARTICLE2       The following is a brief abstract of the Debat...  \n",
       "NOT_18920816_ARTICLE22     vival of the fittest. Then there is the \" Psal...  \n",
       "...                                                                      ...  \n",
       "CHP_18890103_ARTICLE6      T&*t*d4r (TMs Day) Peugato erives aboafe 8 a.m...  \n",
       "ODT_18980924_ARTICLE5      It is difficult to believe, probably nobody\\nd...  \n",
       "LT_18990128_ARTICLE29      It will probably be- generally admitted that t...  \n",
       "GRA_18961216_ARTICLE12     ~ Adelaide, December 15. Towns, a cyclist, rod...  \n",
       "MEX_18990609_ARTICLE6      According to a writer, a Russian writer, m the...  \n",
       "\n",
       "[687 rows x 8 columns]"
      ]
     },
     "execution_count": 7,
     "metadata": {},
     "output_type": "execute_result"
    }
   ],
   "source": [
    "training_df"
   ]
  },
  {
   "cell_type": "code",
   "execution_count": 420,
   "metadata": {},
   "outputs": [
    {
     "data": {
      "text/html": [
       "<div>\n",
       "<style scoped>\n",
       "    .dataframe tbody tr th:only-of-type {\n",
       "        vertical-align: middle;\n",
       "    }\n",
       "\n",
       "    .dataframe tbody tr th {\n",
       "        vertical-align: top;\n",
       "    }\n",
       "\n",
       "    .dataframe thead th {\n",
       "        text-align: right;\n",
       "    }\n",
       "</style>\n",
       "<table border=\"1\" class=\"dataframe\">\n",
       "  <thead>\n",
       "    <tr style=\"text-align: right;\">\n",
       "      <th></th>\n",
       "      <th>NZ</th>\n",
       "      <th>Notes</th>\n",
       "      <th>Philosophy</th>\n",
       "      <th>Philosophy Type</th>\n",
       "      <th>Readable</th>\n",
       "      <th>Text</th>\n",
       "      <th>Writing Type</th>\n",
       "      <th>Text as String</th>\n",
       "    </tr>\n",
       "  </thead>\n",
       "  <tbody>\n",
       "    <tr>\n",
       "      <th>ESD_18890912_ARTICLE37</th>\n",
       "      <td>None</td>\n",
       "      <td></td>\n",
       "      <td>False</td>\n",
       "      <td>None</td>\n",
       "      <td>True</td>\n",
       "      <td>[[By Onr. Special Reporters.!, OAMARU, Septemb...</td>\n",
       "      <td>None</td>\n",
       "      <td>[By Onr. Special Reporters.!\\nOAMARU, Septembe...</td>\n",
       "    </tr>\n",
       "    <tr>\n",
       "      <th>WT_18760815_ARTICLE1</th>\n",
       "      <td>None</td>\n",
       "      <td></td>\n",
       "      <td>None</td>\n",
       "      <td>None</td>\n",
       "      <td>False</td>\n",
       "      <td>[Mr X ITU rt-pjrts that at Mr Oibson'i clearin...</td>\n",
       "      <td>None</td>\n",
       "      <td>Mr X ITU rt-pjrts that at Mr Oibson'i clearing...</td>\n",
       "    </tr>\n",
       "    <tr>\n",
       "      <th>LT_18941123_ARTICLE22</th>\n",
       "      <td>None</td>\n",
       "      <td>Theosophy</td>\n",
       "      <td>True</td>\n",
       "      <td>r</td>\n",
       "      <td>True</td>\n",
       "      <td>[THE COMIN6 RACE., revealing to the world one ...</td>\n",
       "      <td>f</td>\n",
       "      <td>THE COMIN6 RACE.\\nrevealing to the world one o...</td>\n",
       "    </tr>\n",
       "    <tr>\n",
       "      <th>MEX_18960107_ARTICLE1</th>\n",
       "      <td>None</td>\n",
       "      <td></td>\n",
       "      <td>False</td>\n",
       "      <td>None</td>\n",
       "      <td>True</td>\n",
       "      <td>[A G.zette extraordinary farther pro rogues Pa...</td>\n",
       "      <td>None</td>\n",
       "      <td>A G.zette extraordinary farther pro rogues Par...</td>\n",
       "    </tr>\n",
       "    <tr>\n",
       "      <th>BH_18771127_ARTICLE14</th>\n",
       "      <td>None</td>\n",
       "      <td></td>\n",
       "      <td>None</td>\n",
       "      <td>None</td>\n",
       "      <td>False</td>\n",
       "      <td>[- ■■ ;• I Fob a distance al mg the riv*r abov...</td>\n",
       "      <td>None</td>\n",
       "      <td>- ■■ ;• I Fob a distance al mg the riv*r above...</td>\n",
       "    </tr>\n",
       "    <tr>\n",
       "      <th>...</th>\n",
       "      <td>...</td>\n",
       "      <td>...</td>\n",
       "      <td>...</td>\n",
       "      <td>...</td>\n",
       "      <td>...</td>\n",
       "      <td>...</td>\n",
       "      <td>...</td>\n",
       "      <td>...</td>\n",
       "    </tr>\n",
       "    <tr>\n",
       "      <th>FS_18931026_ARTICLE21</th>\n",
       "      <td>None</td>\n",
       "      <td></td>\n",
       "      <td>False</td>\n",
       "      <td>None</td>\n",
       "      <td>True</td>\n",
       "      <td>[(?EB PBESS ASSOCIATION.) Auckland, October 25...</td>\n",
       "      <td>None</td>\n",
       "      <td>(?EB PBESS ASSOCIATION.) Auckland, October 25....</td>\n",
       "    </tr>\n",
       "    <tr>\n",
       "      <th>HNS_18840917_ARTICLE30</th>\n",
       "      <td>None</td>\n",
       "      <td></td>\n",
       "      <td>None</td>\n",
       "      <td>None</td>\n",
       "      <td>False</td>\n",
       "      <td>[, ' &gt;± '_  , j ROME, September 15. Subsiden...</td>\n",
       "      <td>None</td>\n",
       "      <td>, ' &gt;± '_  , j ROME, September 15. Subsidenc...</td>\n",
       "    </tr>\n",
       "    <tr>\n",
       "      <th>CHP_18831231_ARTICLE1</th>\n",
       "      <td>None</td>\n",
       "      <td></td>\n",
       "      <td>False</td>\n",
       "      <td>None</td>\n",
       "      <td>True</td>\n",
       "      <td>[Wat-ana __po_-—December 30.-;. ____.—We-iher,...</td>\n",
       "      <td>None</td>\n",
       "      <td>Wat-ana __po_-—December 30.-;. ____.—We-iher, ...</td>\n",
       "    </tr>\n",
       "    <tr>\n",
       "      <th>FS_18970311_ARTICLE12</th>\n",
       "      <td>None</td>\n",
       "      <td></td>\n",
       "      <td>False</td>\n",
       "      <td>None</td>\n",
       "      <td>True</td>\n",
       "      <td>[SHOCKING CRIME. A PHILANTHROPIST. (Per Press ...</td>\n",
       "      <td>None</td>\n",
       "      <td>SHOCKING CRIME. A PHILANTHROPIST. (Per Press A...</td>\n",
       "    </tr>\n",
       "    <tr>\n",
       "      <th>WT_18900422_ARTICLE8</th>\n",
       "      <td>None</td>\n",
       "      <td></td>\n",
       "      <td>False</td>\n",
       "      <td>None</td>\n",
       "      <td>True</td>\n",
       "      <td>[Walwouth.—On April 18fch, at Tauwhare, Jane, ...</td>\n",
       "      <td>None</td>\n",
       "      <td>Walwouth.—On April 18fch, at Tauwhare, Jane, t...</td>\n",
       "    </tr>\n",
       "  </tbody>\n",
       "</table>\n",
       "<p>272 rows × 8 columns</p>\n",
       "</div>"
      ],
      "text/plain": [
       "                          NZ      Notes Philosophy Philosophy Type Readable  \\\n",
       "ESD_18890912_ARTICLE37  None                 False            None     True   \n",
       "WT_18760815_ARTICLE1    None                  None            None    False   \n",
       "LT_18941123_ARTICLE22   None  Theosophy       True               r     True   \n",
       "MEX_18960107_ARTICLE1   None                 False            None     True   \n",
       "BH_18771127_ARTICLE14   None                  None            None    False   \n",
       "...                      ...        ...        ...             ...      ...   \n",
       "FS_18931026_ARTICLE21   None                 False            None     True   \n",
       "HNS_18840917_ARTICLE30  None                  None            None    False   \n",
       "CHP_18831231_ARTICLE1   None                 False            None     True   \n",
       "FS_18970311_ARTICLE12   None                 False            None     True   \n",
       "WT_18900422_ARTICLE8    None                 False            None     True   \n",
       "\n",
       "                                                                     Text  \\\n",
       "ESD_18890912_ARTICLE37  [[By Onr. Special Reporters.!, OAMARU, Septemb...   \n",
       "WT_18760815_ARTICLE1    [Mr X ITU rt-pjrts that at Mr Oibson'i clearin...   \n",
       "LT_18941123_ARTICLE22   [THE COMIN6 RACE., revealing to the world one ...   \n",
       "MEX_18960107_ARTICLE1   [A G.zette extraordinary farther pro rogues Pa...   \n",
       "BH_18771127_ARTICLE14   [- ■■ ;• I Fob a distance al mg the riv*r abov...   \n",
       "...                                                                   ...   \n",
       "FS_18931026_ARTICLE21   [(?EB PBESS ASSOCIATION.) Auckland, October 25...   \n",
       "HNS_18840917_ARTICLE30  [, ' >± '_  , j ROME, September 15. Subsiden...   \n",
       "CHP_18831231_ARTICLE1   [Wat-ana __po_-—December 30.-;. ____.—We-iher,...   \n",
       "FS_18970311_ARTICLE12   [SHOCKING CRIME. A PHILANTHROPIST. (Per Press ...   \n",
       "WT_18900422_ARTICLE8    [Walwouth.—On April 18fch, at Tauwhare, Jane, ...   \n",
       "\n",
       "                       Writing Type  \\\n",
       "ESD_18890912_ARTICLE37         None   \n",
       "WT_18760815_ARTICLE1           None   \n",
       "LT_18941123_ARTICLE22             f   \n",
       "MEX_18960107_ARTICLE1          None   \n",
       "BH_18771127_ARTICLE14          None   \n",
       "...                             ...   \n",
       "FS_18931026_ARTICLE21          None   \n",
       "HNS_18840917_ARTICLE30         None   \n",
       "CHP_18831231_ARTICLE1          None   \n",
       "FS_18970311_ARTICLE12          None   \n",
       "WT_18900422_ARTICLE8           None   \n",
       "\n",
       "                                                           Text as String  \n",
       "ESD_18890912_ARTICLE37  [By Onr. Special Reporters.!\\nOAMARU, Septembe...  \n",
       "WT_18760815_ARTICLE1    Mr X ITU rt-pjrts that at Mr Oibson'i clearing...  \n",
       "LT_18941123_ARTICLE22   THE COMIN6 RACE.\\nrevealing to the world one o...  \n",
       "MEX_18960107_ARTICLE1   A G.zette extraordinary farther pro rogues Par...  \n",
       "BH_18771127_ARTICLE14   - ■■ ;• I Fob a distance al mg the riv*r above...  \n",
       "...                                                                   ...  \n",
       "FS_18931026_ARTICLE21   (?EB PBESS ASSOCIATION.) Auckland, October 25....  \n",
       "HNS_18840917_ARTICLE30  , ' >± '_  , j ROME, September 15. Subsidenc...  \n",
       "CHP_18831231_ARTICLE1   Wat-ana __po_-—December 30.-;. ____.—We-iher, ...  \n",
       "FS_18970311_ARTICLE12   SHOCKING CRIME. A PHILANTHROPIST. (Per Press A...  \n",
       "WT_18900422_ARTICLE8    Walwouth.—On April 18fch, at Tauwhare, Jane, t...  \n",
       "\n",
       "[272 rows x 8 columns]"
      ]
     },
     "execution_count": 420,
     "metadata": {},
     "output_type": "execute_result"
    }
   ],
   "source": [
    "test_df"
   ]
  },
  {
   "cell_type": "markdown",
   "metadata": {},
   "source": [
    "Gonna try some class balance adjustment in a moment. Will just run the Naive Bayes first though."
   ]
  },
  {
   "cell_type": "code",
   "execution_count": 386,
   "metadata": {},
   "outputs": [
    {
     "data": {
      "text/plain": [
       "False    465\n",
       "True     222\n",
       "Name: Philosophy, dtype: int64"
      ]
     },
     "execution_count": 386,
     "metadata": {},
     "output_type": "execute_result"
    }
   ],
   "source": [
    "training_df['Philosophy'].value_counts()"
   ]
  },
  {
   "cell_type": "code",
   "execution_count": 387,
   "metadata": {
    "scrolled": false
   },
   "outputs": [
    {
     "data": {
      "text/plain": [
       "f    30\n",
       "l    20\n",
       "p    18\n",
       "r     9\n",
       "Name: Writing Type, dtype: int64"
      ]
     },
     "execution_count": 387,
     "metadata": {},
     "output_type": "execute_result"
    }
   ],
   "source": [
    "test_df['Writing Type'].value_counts()"
   ]
  },
  {
   "cell_type": "code",
   "execution_count": 389,
   "metadata": {},
   "outputs": [
    {
     "data": {
      "text/plain": [
       "False    155\n",
       "True      77\n",
       "Name: Philosophy, dtype: int64"
      ]
     },
     "execution_count": 389,
     "metadata": {},
     "output_type": "execute_result"
    }
   ],
   "source": [
    "test_df['Philosophy'].value_counts()"
   ]
  },
  {
   "cell_type": "markdown",
   "metadata": {},
   "source": [
    "## Fit 'Readable' Model"
   ]
  },
  {
   "cell_type": "markdown",
   "metadata": {},
   "source": [
    "An experiment: try to fit a model to detect poor OCR."
   ]
  },
  {
   "cell_type": "code",
   "execution_count": 200,
   "metadata": {},
   "outputs": [
    {
     "data": {
      "text/plain": [
       "True     918\n",
       "False     41\n",
       "Name: Readable, dtype: int64"
      ]
     },
     "execution_count": 200,
     "metadata": {},
     "output_type": "execute_result"
    }
   ],
   "source": [
    "annotated_df['Readable'].value_counts()"
   ]
  },
  {
   "cell_type": "markdown",
   "metadata": {},
   "source": [
    "Slightly different than previous. Will ensure class balance by simply sampling the same number of each class."
   ]
  },
  {
   "cell_type": "code",
   "execution_count": 353,
   "metadata": {},
   "outputs": [],
   "source": [
    "training_readable = annotated_df.loc[annotated_df['Readable']==True].sample(n=41//10 * 8, random_state=1)\n",
    "training_nonreadable = annotated_df.loc[annotated_df['Readable']==False].sample(n=41//10 * 6, random_state=1)\n",
    "readable_training_df = training_readable.append(training_nonreadable)\n",
    "del training_readable, training_nonreadable"
   ]
  },
  {
   "cell_type": "code",
   "execution_count": 354,
   "metadata": {},
   "outputs": [],
   "source": [
    "readable_test_df = annotated_df.loc[[i for i in annotated_df.index if not i in readable_training_df.index]]"
   ]
  },
  {
   "cell_type": "markdown",
   "metadata": {},
   "source": [
    "On basis that non-readable are quite rare (from my exploration of random samples of the dataset), will just leave the test set as is."
   ]
  },
  {
   "cell_type": "code",
   "execution_count": 355,
   "metadata": {},
   "outputs": [],
   "source": [
    "readable_training_features = readable_training_df['Text as String'].astype('string').to_numpy()\n",
    "readable_training_labels = readable_training_df['Readable'].to_numpy().astype(bool)"
   ]
  },
  {
   "cell_type": "markdown",
   "metadata": {},
   "source": [
    "Will require quite different features. In this case, very rare non-word strings are likely to correspond to bad OCR."
   ]
  },
  {
   "cell_type": "code",
   "execution_count": 356,
   "metadata": {},
   "outputs": [],
   "source": [
    "readable_classifier = Pipeline([\n",
    "    ('vect', CountVectorizer(\n",
    "        max_df=0.1,\n",
    "        min_df=1,\n",
    "        stop_words=STOPWORDS, \n",
    "        token_pattern=r'\\S+')),\n",
    "    ('tfidf', TfidfTransformer()),\n",
    "    ('clf', MultinomialNB()),\n",
    "])"
   ]
  },
  {
   "cell_type": "code",
   "execution_count": 357,
   "metadata": {},
   "outputs": [
    {
     "data": {
      "text/plain": [
       "Pipeline(memory=None,\n",
       "         steps=[('vect',\n",
       "                 CountVectorizer(analyzer='word', binary=False,\n",
       "                                 decode_error='strict',\n",
       "                                 dtype=<class 'numpy.int64'>, encoding='utf-8',\n",
       "                                 input='content', lowercase=True, max_df=0.1,\n",
       "                                 max_features=None, min_df=1,\n",
       "                                 ngram_range=(1, 1), preprocessor=None,\n",
       "                                 stop_words=['i', 'me', 'my', 'myself', 'we',\n",
       "                                             'our', 'ours', 'ourselves', 'you',\n",
       "                                             \"you're\", \"you've\", \"you'll\",...\n",
       "                                             'yourself', 'yourselves', 'he',\n",
       "                                             'him', 'his', 'himself', 'she',\n",
       "                                             \"she's\", 'her', 'hers', 'herself',\n",
       "                                             'it', \"it's\", 'its', 'itself', ...],\n",
       "                                 strip_accents=None, token_pattern='\\\\S+',\n",
       "                                 tokenizer=None, vocabulary=None)),\n",
       "                ('tfidf',\n",
       "                 TfidfTransformer(norm='l2', smooth_idf=True,\n",
       "                                  sublinear_tf=False, use_idf=True)),\n",
       "                ('clf',\n",
       "                 MultinomialNB(alpha=1.0, class_prior=None, fit_prior=True))],\n",
       "         verbose=False)"
      ]
     },
     "execution_count": 357,
     "metadata": {},
     "output_type": "execute_result"
    }
   ],
   "source": [
    "readable_classifier.fit(readable_training_features, readable_training_labels)"
   ]
  },
  {
   "cell_type": "code",
   "execution_count": 358,
   "metadata": {},
   "outputs": [],
   "source": [
    "readable_test_features = readable_test_df['Text as String'].astype('string').to_numpy()\n",
    "readable_test_labels = readable_test_df['Readable'].to_numpy().astype(bool)\n",
    "readable_predicted = readable_classifier.predict(readable_test_features)"
   ]
  },
  {
   "cell_type": "code",
   "execution_count": 359,
   "metadata": {},
   "outputs": [
    {
     "data": {
      "text/plain": [
       "0.9811738648947951"
      ]
     },
     "execution_count": 359,
     "metadata": {},
     "output_type": "execute_result"
    }
   ],
   "source": [
    "np.mean(readable_predicted == readable_test_labels)"
   ]
  },
  {
   "cell_type": "code",
   "execution_count": 360,
   "metadata": {},
   "outputs": [
    {
     "data": {
      "text/plain": [
       "array([[  2,  15],\n",
       "       [  2, 884]])"
      ]
     },
     "execution_count": 360,
     "metadata": {},
     "output_type": "execute_result"
    }
   ],
   "source": [
    "metrics.confusion_matrix(readable_test_labels, readable_predicted)"
   ]
  },
  {
   "cell_type": "code",
   "execution_count": 361,
   "metadata": {},
   "outputs": [],
   "source": [
    "readable_parameters = {\n",
    "    'vect__ngram_range': [(1, 1), (1,4), (1, 5), (1, 10)],\n",
    "    'vect__lowercase': (True, False),\n",
    "    'tfidf__use_idf': (True, False),\n",
    "    'clf__alpha': [1.0e-10, 0.001, 0.01],\n",
    "    'vect__min_df': [1, 2, 3, 5, 10],\n",
    "    'vect__max_df': [0.01, 0.05, 0.1, 0.2, 0.3, 0.4, 0.5]\n",
    "}"
   ]
  },
  {
   "cell_type": "code",
   "execution_count": 362,
   "metadata": {},
   "outputs": [
    {
     "data": {
      "text/plain": [
       "GridSearchCV(cv=5, error_score=nan,\n",
       "             estimator=Pipeline(memory=None,\n",
       "                                steps=[('vect',\n",
       "                                        CountVectorizer(analyzer='word',\n",
       "                                                        binary=False,\n",
       "                                                        decode_error='strict',\n",
       "                                                        dtype=<class 'numpy.int64'>,\n",
       "                                                        encoding='utf-8',\n",
       "                                                        input='content',\n",
       "                                                        lowercase=True,\n",
       "                                                        max_df=0.1,\n",
       "                                                        max_features=None,\n",
       "                                                        min_df=1,\n",
       "                                                        ngram_range=(1, 1),\n",
       "                                                        preprocessor=None,\n",
       "                                                        stop_words=['i', 'me',\n",
       "                                                                    'my',\n",
       "                                                                    'myself',\n",
       "                                                                    'we', 'our',\n",
       "                                                                    'ours',\n",
       "                                                                    '...\n",
       "                                verbose=False),\n",
       "             iid='deprecated', n_jobs=-1,\n",
       "             param_grid={'clf__alpha': [1e-10, 0.001, 0.01],\n",
       "                         'tfidf__use_idf': (True, False),\n",
       "                         'vect__lowercase': (True, False),\n",
       "                         'vect__max_df': [0.01, 0.05, 0.1, 0.2, 0.3, 0.4, 0.5],\n",
       "                         'vect__min_df': [1, 2, 3, 5, 10],\n",
       "                         'vect__ngram_range': [(1, 1), (1, 4), (1, 5),\n",
       "                                               (1, 10)]},\n",
       "             pre_dispatch='2*n_jobs', refit=True, return_train_score=False,\n",
       "             scoring=None, verbose=0)"
      ]
     },
     "execution_count": 362,
     "metadata": {},
     "output_type": "execute_result"
    }
   ],
   "source": [
    "readable_gs_clf = GridSearchCV(readable_classifier, readable_parameters, cv=5, n_jobs=-1)\n",
    "readable_gs_clf.fit(readable_training_features, readable_training_labels)"
   ]
  },
  {
   "cell_type": "code",
   "execution_count": 363,
   "metadata": {},
   "outputs": [
    {
     "data": {
      "text/plain": [
       "0.8560606060606061"
      ]
     },
     "execution_count": 363,
     "metadata": {},
     "output_type": "execute_result"
    }
   ],
   "source": [
    "readable_gs_clf.best_score_"
   ]
  },
  {
   "cell_type": "code",
   "execution_count": 364,
   "metadata": {},
   "outputs": [],
   "source": [
    "readable_grid_predicted = readable_gs_clf.best_estimator_.predict(readable_test_features)"
   ]
  },
  {
   "cell_type": "code",
   "execution_count": 365,
   "metadata": {},
   "outputs": [
    {
     "data": {
      "text/plain": [
       "array([[  5,  12],\n",
       "       [ 77, 809]])"
      ]
     },
     "execution_count": 365,
     "metadata": {},
     "output_type": "execute_result"
    }
   ],
   "source": [
    "metrics.confusion_matrix(readable_test_labels, readable_grid_predicted)"
   ]
  },
  {
   "cell_type": "code",
   "execution_count": 366,
   "metadata": {},
   "outputs": [
    {
     "name": "stdout",
     "output_type": "stream",
     "text": [
      "clf__alpha: 1e-10\n",
      "tfidf__use_idf: True\n",
      "vect__lowercase: True\n",
      "vect__max_df: 0.4\n",
      "vect__min_df: 10\n",
      "vect__ngram_range: (1, 1)\n"
     ]
    }
   ],
   "source": [
    "for param_name in sorted(readable_parameters.keys()):\n",
    "    print(\"%s: %r\" % (param_name, readable_gs_clf.best_params_[param_name]))"
   ]
  },
  {
   "cell_type": "markdown",
   "metadata": {},
   "source": [
    "The amount of readable material we would use by running this classifier makes it unworkable. Instead, we'll just ignore the 'readable' tag in the following and handle bad OCR later."
   ]
  },
  {
   "cell_type": "markdown",
   "metadata": {},
   "source": [
    "## Set up Pipeline and Fit Philosophy Model"
   ]
  },
  {
   "cell_type": "markdown",
   "metadata": {},
   "source": [
    "Tokeniser change from default: words of length 3+ rather than 2+."
   ]
  },
  {
   "cell_type": "code",
   "execution_count": 401,
   "metadata": {},
   "outputs": [],
   "source": [
    "phil_classifier = Pipeline([\n",
    "    ('vect', CountVectorizer(\n",
    "        max_df=0.4,\n",
    "        min_df=9,\n",
    "        stop_words=STOPWORDS, \n",
    "        token_pattern=r'(?u)\\b\\w\\w\\w+\\b')),\n",
    "    ('tfidf', TfidfTransformer()),\n",
    "    ('clf', MultinomialNB()),\n",
    "])"
   ]
  },
  {
   "cell_type": "code",
   "execution_count": 11,
   "metadata": {},
   "outputs": [],
   "source": [
    "training_features = training_df['Text as String'].astype('string').to_numpy()"
   ]
  },
  {
   "cell_type": "code",
   "execution_count": 12,
   "metadata": {},
   "outputs": [],
   "source": [
    "training_labels = training_df['Philosophy'].to_numpy().astype(bool)"
   ]
  },
  {
   "cell_type": "code",
   "execution_count": 423,
   "metadata": {
    "scrolled": true
   },
   "outputs": [
    {
     "data": {
      "text/plain": [
       "Pipeline(memory=None,\n",
       "         steps=[('vect',\n",
       "                 CountVectorizer(analyzer='word', binary=False,\n",
       "                                 decode_error='strict',\n",
       "                                 dtype=<class 'numpy.int64'>, encoding='utf-8',\n",
       "                                 input='content', lowercase=True, max_df=0.4,\n",
       "                                 max_features=None, min_df=9,\n",
       "                                 ngram_range=(1, 1), preprocessor=None,\n",
       "                                 stop_words=['i', 'me', 'my', 'myself', 'we',\n",
       "                                             'our', 'ours', 'ourselves', 'you',\n",
       "                                             \"you're\", \"you've\", \"you'll\",...\n",
       "                                             'yourself', 'yourselves', 'he',\n",
       "                                             'him', 'his', 'himself', 'she',\n",
       "                                             \"she's\", 'her', 'hers', 'herself',\n",
       "                                             'it', \"it's\", 'its', 'itself', ...],\n",
       "                                 strip_accents=None,\n",
       "                                 token_pattern='(?u)\\\\b\\\\w\\\\w\\\\w+\\\\b',\n",
       "                                 tokenizer=None, vocabulary=None)),\n",
       "                ('tfidf',\n",
       "                 TfidfTransformer(norm='l2', smooth_idf=True,\n",
       "                                  sublinear_tf=False, use_idf=True)),\n",
       "                ('clf',\n",
       "                 MultinomialNB(alpha=1.0, class_prior=None, fit_prior=True))],\n",
       "         verbose=False)"
      ]
     },
     "execution_count": 423,
     "metadata": {},
     "output_type": "execute_result"
    }
   ],
   "source": [
    "phil_classifier.fit(training_features, training_labels)"
   ]
  },
  {
   "cell_type": "code",
   "execution_count": 424,
   "metadata": {},
   "outputs": [],
   "source": [
    "test_features = test_df['Text as String'].astype('string').to_numpy()\n",
    "test_labels = test_df['Philosophy'].to_numpy().astype(bool)\n",
    "predicted = phil_classifier.predict(test_features)"
   ]
  },
  {
   "cell_type": "code",
   "execution_count": 425,
   "metadata": {},
   "outputs": [
    {
     "data": {
      "text/plain": [
       "0.8676470588235294"
      ]
     },
     "execution_count": 425,
     "metadata": {},
     "output_type": "execute_result"
    }
   ],
   "source": [
    "np.mean(predicted == test_labels)"
   ]
  },
  {
   "cell_type": "code",
   "execution_count": 426,
   "metadata": {},
   "outputs": [
    {
     "data": {
      "text/plain": [
       "array([[188,   7],\n",
       "       [ 29,  48]])"
      ]
     },
     "execution_count": 426,
     "metadata": {},
     "output_type": "execute_result"
    }
   ],
   "source": [
    "metrics.confusion_matrix(test_labels, predicted)"
   ]
  },
  {
   "cell_type": "code",
   "execution_count": 427,
   "metadata": {},
   "outputs": [
    {
     "data": {
      "text/plain": [
       "5232"
      ]
     },
     "execution_count": 427,
     "metadata": {},
     "output_type": "execute_result"
    }
   ],
   "source": [
    "len(phil_classifier['vect'].vocabulary_)"
   ]
  },
  {
   "cell_type": "markdown",
   "metadata": {},
   "source": [
    "This is classifying too many philosophy articles as non-philosophy. One way to deal with this is to fix the class balance to increase the prominence of philosophy articles to the classifier."
   ]
  },
  {
   "cell_type": "markdown",
   "metadata": {},
   "source": [
    "## Class Balance"
   ]
  },
  {
   "cell_type": "markdown",
   "metadata": {},
   "source": [
    "I'm going to try to upsample the positives by randomly doubling 25 of them at a time until the number of philosophy articles in the training set is at least 375.\n",
    "\n",
    "An earlier attempt upsampled to the point that philosophy outnumbered non-philosophy. I could not achieve a good balance of recall and precision in this case."
   ]
  },
  {
   "cell_type": "code",
   "execution_count": 409,
   "metadata": {},
   "outputs": [],
   "source": [
    "j = 0\n",
    "balanced = False\n",
    "while balanced == False:\n",
    "    indices_to_double = (\n",
    "        training_df[training_df['Philosophy']==True]\n",
    "        .sample(n=25, random_state=j) \n",
    "        .index\n",
    "    )\n",
    "    for i in indices_to_double:\n",
    "        training_df.loc[f'{i}_upsample_{j}'] = training_df.loc[i]\n",
    "    if len(training_df[training_df['Philosophy']==True]) >= 375:\n",
    "        balanced = True\n",
    "    j += 1"
   ]
  },
  {
   "cell_type": "code",
   "execution_count": 410,
   "metadata": {},
   "outputs": [
    {
     "data": {
      "text/plain": [
       "False    465\n",
       "True     397\n",
       "Name: Philosophy, dtype: int64"
      ]
     },
     "execution_count": 410,
     "metadata": {},
     "output_type": "execute_result"
    }
   ],
   "source": [
    "training_df['Philosophy'].value_counts()"
   ]
  },
  {
   "cell_type": "code",
   "execution_count": 411,
   "metadata": {},
   "outputs": [],
   "source": [
    "training_df.to_pickle('pickles/nb2_training_df_upsampled_2.tar.gz')"
   ]
  },
  {
   "cell_type": "code",
   "execution_count": 412,
   "metadata": {},
   "outputs": [],
   "source": [
    "training_features = training_df['Text as String'].astype('string').to_numpy()\n",
    "training_labels = training_df['Philosophy'].to_numpy().astype(bool)"
   ]
  },
  {
   "cell_type": "code",
   "execution_count": 413,
   "metadata": {},
   "outputs": [
    {
     "data": {
      "text/plain": [
       "Pipeline(memory=None,\n",
       "         steps=[('vect',\n",
       "                 CountVectorizer(analyzer='word', binary=False,\n",
       "                                 decode_error='strict',\n",
       "                                 dtype=<class 'numpy.int64'>, encoding='utf-8',\n",
       "                                 input='content', lowercase=True, max_df=0.4,\n",
       "                                 max_features=None, min_df=9,\n",
       "                                 ngram_range=(1, 1), preprocessor=None,\n",
       "                                 stop_words=['i', 'me', 'my', 'myself', 'we',\n",
       "                                             'our', 'ours', 'ourselves', 'you',\n",
       "                                             \"you're\", \"you've\", \"you'll\",...\n",
       "                                             'yourself', 'yourselves', 'he',\n",
       "                                             'him', 'his', 'himself', 'she',\n",
       "                                             \"she's\", 'her', 'hers', 'herself',\n",
       "                                             'it', \"it's\", 'its', 'itself', ...],\n",
       "                                 strip_accents=None,\n",
       "                                 token_pattern='(?u)\\\\b\\\\w\\\\w\\\\w+\\\\b',\n",
       "                                 tokenizer=None, vocabulary=None)),\n",
       "                ('tfidf',\n",
       "                 TfidfTransformer(norm='l2', smooth_idf=True,\n",
       "                                  sublinear_tf=False, use_idf=True)),\n",
       "                ('clf',\n",
       "                 MultinomialNB(alpha=1.0, class_prior=None, fit_prior=True))],\n",
       "         verbose=False)"
      ]
     },
     "execution_count": 413,
     "metadata": {},
     "output_type": "execute_result"
    }
   ],
   "source": [
    "phil_classifier.fit(training_features, training_labels)"
   ]
  },
  {
   "cell_type": "code",
   "execution_count": 414,
   "metadata": {},
   "outputs": [],
   "source": [
    "test_features = test_df['Text as String'].astype('string').to_numpy()\n",
    "test_labels = test_df['Philosophy'].to_numpy().astype(bool)\n",
    "predicted = phil_classifier.predict(test_features)"
   ]
  },
  {
   "cell_type": "code",
   "execution_count": 415,
   "metadata": {},
   "outputs": [
    {
     "data": {
      "text/plain": [
       "0.8663793103448276"
      ]
     },
     "execution_count": 415,
     "metadata": {},
     "output_type": "execute_result"
    }
   ],
   "source": [
    "np.mean(predicted == test_labels)"
   ]
  },
  {
   "cell_type": "code",
   "execution_count": 416,
   "metadata": {},
   "outputs": [
    {
     "data": {
      "text/plain": [
       "array([[135,  20],\n",
       "       [ 11,  66]])"
      ]
     },
     "execution_count": 416,
     "metadata": {},
     "output_type": "execute_result"
    }
   ],
   "source": [
    "confusion_matrix = metrics.confusion_matrix(test_labels, predicted)\n",
    "confusion_matrix"
   ]
  },
  {
   "cell_type": "markdown",
   "metadata": {},
   "source": [
    "In array y axis = true labels, x axis = predicted labels. This shows that 11 philosophy articles are being missed and 21 non-philosophy articles are being classifier as philosophy."
   ]
  },
  {
   "cell_type": "markdown",
   "metadata": {},
   "source": [
    "## Grid Parameter Search"
   ]
  },
  {
   "cell_type": "code",
   "execution_count": 112,
   "metadata": {},
   "outputs": [],
   "source": [
    "parameters = {\n",
    "    'vect__min_df': [2, 5, 7, 10, 15],\n",
    "    'vect__max_df': [0.2, 0.3, 0.4, 0.5, 0.6],\n",
    "    'vect__ngram_range': [(1, 1), (1, 2), (1, 3)],\n",
    "    'tfidf__use_idf': (True, False),\n",
    "    'clf__alpha': [0.5, 0.75, 1]\n",
    "}"
   ]
  },
  {
   "cell_type": "code",
   "execution_count": 113,
   "metadata": {},
   "outputs": [
    {
     "data": {
      "text/plain": [
       "GridSearchCV(cv=5, error_score=nan,\n",
       "             estimator=Pipeline(memory=None,\n",
       "                                steps=[('vect',\n",
       "                                        CountVectorizer(analyzer='word',\n",
       "                                                        binary=False,\n",
       "                                                        decode_error='strict',\n",
       "                                                        dtype=<class 'numpy.int64'>,\n",
       "                                                        encoding='utf-8',\n",
       "                                                        input='content',\n",
       "                                                        lowercase=True,\n",
       "                                                        max_df=0.4,\n",
       "                                                        max_features=None,\n",
       "                                                        min_df=9,\n",
       "                                                        ngram_range=(1, 1),\n",
       "                                                        preprocessor=None,\n",
       "                                                        stop_words=['i', 'me',\n",
       "                                                                    'my',\n",
       "                                                                    'myself',\n",
       "                                                                    'we', 'our',\n",
       "                                                                    'ours',\n",
       "                                                                    '...\n",
       "                                        MultinomialNB(alpha=1.0,\n",
       "                                                      class_prior=None,\n",
       "                                                      fit_prior=True))],\n",
       "                                verbose=False),\n",
       "             iid='deprecated', n_jobs=-1,\n",
       "             param_grid={'clf__alpha': [0.5, 0.75, 1],\n",
       "                         'tfidf__use_idf': (True, False),\n",
       "                         'vect__max_df': [0.2, 0.3, 0.4, 0.5, 0.6],\n",
       "                         'vect__min_df': [2, 5, 7, 10, 15],\n",
       "                         'vect__ngram_range': [(1, 1), (1, 2), (1, 3)]},\n",
       "             pre_dispatch='2*n_jobs', refit=True, return_train_score=False,\n",
       "             scoring=None, verbose=0)"
      ]
     },
     "execution_count": 113,
     "metadata": {},
     "output_type": "execute_result"
    }
   ],
   "source": [
    "gs_clf = GridSearchCV(phil_classifier, parameters, cv=5, n_jobs=-1)\n",
    "gs_clf.fit(training_features, training_labels)"
   ]
  },
  {
   "cell_type": "code",
   "execution_count": 114,
   "metadata": {},
   "outputs": [
    {
     "data": {
      "text/plain": [
       "0.8805820674821885"
      ]
     },
     "execution_count": 114,
     "metadata": {},
     "output_type": "execute_result"
    }
   ],
   "source": [
    "gs_clf.best_score_"
   ]
  },
  {
   "cell_type": "code",
   "execution_count": 115,
   "metadata": {},
   "outputs": [
    {
     "name": "stdout",
     "output_type": "stream",
     "text": [
      "clf__alpha: 0.5\n",
      "tfidf__use_idf: True\n",
      "vect__max_df: 0.4\n",
      "vect__min_df: 2\n",
      "vect__ngram_range: (1, 1)\n"
     ]
    }
   ],
   "source": [
    "for param_name in sorted(parameters.keys()):\n",
    "    print(\"%s: %r\" % (param_name, gs_clf.best_params_[param_name]))"
   ]
  },
  {
   "cell_type": "code",
   "execution_count": 433,
   "metadata": {},
   "outputs": [],
   "source": [
    "predicted = gs_clf.best_estimator_.predict(test_features)"
   ]
  },
  {
   "cell_type": "code",
   "execution_count": 434,
   "metadata": {},
   "outputs": [
    {
     "data": {
      "text/plain": [
       "0.8933823529411765"
      ]
     },
     "execution_count": 434,
     "metadata": {},
     "output_type": "execute_result"
    }
   ],
   "source": [
    "np.mean(predicted == test_labels)"
   ]
  },
  {
   "cell_type": "code",
   "execution_count": 435,
   "metadata": {},
   "outputs": [
    {
     "data": {
      "text/plain": [
       "array([[181,  14],\n",
       "       [ 15,  62]])"
      ]
     },
     "execution_count": 435,
     "metadata": {},
     "output_type": "execute_result"
    }
   ],
   "source": [
    "confusion_matrix = metrics.confusion_matrix(test_labels, predicted)\n",
    "confusion_matrix"
   ]
  },
  {
   "cell_type": "code",
   "execution_count": 436,
   "metadata": {},
   "outputs": [
    {
     "name": "stdout",
     "output_type": "stream",
     "text": [
      "recall: 0.8051948051948052\n",
      "precision: 0.8157894736842105\n"
     ]
    }
   ],
   "source": [
    "tp = confusion_matrix[1][1]\n",
    "fn = confusion_matrix[1][0]\n",
    "fp = confusion_matrix[0][1]\n",
    "tn = confusion_matrix[0][0]\n",
    "recall = tp/(tp+fn)\n",
    "precision = tp/(tp+fp)\n",
    "print(f'recall: {recall}')\n",
    "print(f'precision: {precision}')"
   ]
  },
  {
   "cell_type": "markdown",
   "metadata": {},
   "source": [
    "## Explore Missclassifications"
   ]
  },
  {
   "cell_type": "markdown",
   "metadata": {},
   "source": [
    "### In test set"
   ]
  },
  {
   "cell_type": "markdown",
   "metadata": {},
   "source": [
    "Look at the false positives for overall accuracy model:"
   ]
  },
  {
   "cell_type": "code",
   "execution_count": 16,
   "metadata": {},
   "outputs": [],
   "source": [
    "test_df['Predicted'] = predicted"
   ]
  },
  {
   "cell_type": "code",
   "execution_count": 17,
   "metadata": {},
   "outputs": [],
   "source": [
    "false_negatives = test_df.loc[(test_df['Philosophy'] == True)&(test_df['Predicted'] == False)]"
   ]
  },
  {
   "cell_type": "code",
   "execution_count": 18,
   "metadata": {},
   "outputs": [
    {
     "data": {
      "text/plain": [
       "e    13\n",
       "o     2\n",
       "Name: Philosophy Type, dtype: int64"
      ]
     },
     "execution_count": 18,
     "metadata": {},
     "output_type": "execute_result"
    }
   ],
   "source": [
    "false_negatives['Philosophy Type'].value_counts()"
   ]
  },
  {
   "cell_type": "markdown",
   "metadata": {},
   "source": [
    "Note: mostly ethics"
   ]
  },
  {
   "cell_type": "code",
   "execution_count": 440,
   "metadata": {},
   "outputs": [
    {
     "data": {
      "text/plain": [
       "f    7\n",
       "l    4\n",
       "p    2\n",
       "r    2\n",
       "Name: Writing Type, dtype: int64"
      ]
     },
     "execution_count": 440,
     "metadata": {},
     "output_type": "execute_result"
    }
   ],
   "source": [
    "false_negatives['Writing Type'].value_counts()"
   ]
  },
  {
   "cell_type": "markdown",
   "metadata": {},
   "source": [
    "Seems to be mostly misclassifying first-order pieces."
   ]
  },
  {
   "cell_type": "code",
   "execution_count": 19,
   "metadata": {},
   "outputs": [
    {
     "data": {
      "text/html": [
       "<div>\n",
       "<style scoped>\n",
       "    .dataframe tbody tr th:only-of-type {\n",
       "        vertical-align: middle;\n",
       "    }\n",
       "\n",
       "    .dataframe tbody tr th {\n",
       "        vertical-align: top;\n",
       "    }\n",
       "\n",
       "    .dataframe thead th {\n",
       "        text-align: right;\n",
       "    }\n",
       "</style>\n",
       "<table border=\"1\" class=\"dataframe\">\n",
       "  <thead>\n",
       "    <tr style=\"text-align: right;\">\n",
       "      <th></th>\n",
       "      <th>NZ</th>\n",
       "      <th>Notes</th>\n",
       "      <th>Philosophy</th>\n",
       "      <th>Philosophy Type</th>\n",
       "      <th>Readable</th>\n",
       "      <th>Text</th>\n",
       "      <th>Writing Type</th>\n",
       "      <th>Text as String</th>\n",
       "      <th>Predicted</th>\n",
       "    </tr>\n",
       "  </thead>\n",
       "  <tbody>\n",
       "    <tr>\n",
       "      <th>NZTIM_18780509_ARTICLE5</th>\n",
       "      <td>True</td>\n",
       "      <td>First paras, discussion of liberalism and demo...</td>\n",
       "      <td>True</td>\n",
       "      <td>e</td>\n",
       "      <td>True</td>\n",
       "      <td>[It is not every day we find a ‘writer who has...</td>\n",
       "      <td>f</td>\n",
       "      <td>It is not every day we find a ‘writer who has ...</td>\n",
       "      <td>False</td>\n",
       "    </tr>\n",
       "    <tr>\n",
       "      <th>ODT_18830714_ARTICLE20</th>\n",
       "      <td>True</td>\n",
       "      <td>section on curiosity as virtue or vice</td>\n",
       "      <td>True</td>\n",
       "      <td>e</td>\n",
       "      <td>True</td>\n",
       "      <td>[(Prom Otago Witness.) v, The political uaei o...</td>\n",
       "      <td>f</td>\n",
       "      <td>(Prom Otago Witness.) v\\nThe political uaei of...</td>\n",
       "      <td>False</td>\n",
       "    </tr>\n",
       "    <tr>\n",
       "      <th>WI_18470303_ARTICLE5</th>\n",
       "      <td>True</td>\n",
       "      <td>Proposes philosophical reflections to be publi...</td>\n",
       "      <td>True</td>\n",
       "      <td>e</td>\n",
       "      <td>True</td>\n",
       "      <td>[To the Editor of the *• Independent. , ', Sia...</td>\n",
       "      <td>l</td>\n",
       "      <td>To the Editor of the *• Independent. , '\\nSia....</td>\n",
       "      <td>False</td>\n",
       "    </tr>\n",
       "    <tr>\n",
       "      <th>DTN_18940820_ARTICLE7</th>\n",
       "      <td>True</td>\n",
       "      <td>Barely counts - asserts in context of NZ polit...</td>\n",
       "      <td>True</td>\n",
       "      <td>e</td>\n",
       "      <td>True</td>\n",
       "      <td>[The Opposition are, like the conies, a feeble...</td>\n",
       "      <td>f</td>\n",
       "      <td>The Opposition are, like the conies, a feeble ...</td>\n",
       "      <td>False</td>\n",
       "    </tr>\n",
       "    <tr>\n",
       "      <th>LT_18831025_ARTICLE34</th>\n",
       "      <td>True</td>\n",
       "      <td>Only final block</td>\n",
       "      <td>True</td>\n",
       "      <td>o</td>\n",
       "      <td>True</td>\n",
       "      <td>[[non ora own oobbxspohdmt.], There is very li...</td>\n",
       "      <td>f</td>\n",
       "      <td>[non ora own oobbxspohdmt.]\\nThere is very lit...</td>\n",
       "      <td>False</td>\n",
       "    </tr>\n",
       "    <tr>\n",
       "      <th>OO_18970911_ARTICLE4</th>\n",
       "      <td>False</td>\n",
       "      <td>Lady Cook</td>\n",
       "      <td>True</td>\n",
       "      <td>e</td>\n",
       "      <td>True</td>\n",
       "      <td>[j^isar^s specially for the 'Observer - JV: v ...</td>\n",
       "      <td>f</td>\n",
       "      <td>j^isar^s specially for the 'Observer - JV: v '...</td>\n",
       "      <td>False</td>\n",
       "    </tr>\n",
       "    <tr>\n",
       "      <th>LT_18980920_ARTICLE26</th>\n",
       "      <td>None</td>\n",
       "      <td>Final 5 blocks - review of set of essays on et...</td>\n",
       "      <td>True</td>\n",
       "      <td>e</td>\n",
       "      <td>True</td>\n",
       "      <td>[THE POWEES AND PEACE., Kaiser Wilhelm and Kin...</td>\n",
       "      <td>r</td>\n",
       "      <td>THE POWEES AND PEACE.\\nKaiser Wilhelm and Kins...</td>\n",
       "      <td>False</td>\n",
       "    </tr>\n",
       "    <tr>\n",
       "      <th>AS_18820306_ARTICLE31</th>\n",
       "      <td>None</td>\n",
       "      <td></td>\n",
       "      <td>True</td>\n",
       "      <td>e</td>\n",
       "      <td>True</td>\n",
       "      <td>[(To the Kditor.), Sin,—l trust you will permi...</td>\n",
       "      <td>l</td>\n",
       "      <td>(To the Kditor.)\\nSin,—l trust you will permit...</td>\n",
       "      <td>False</td>\n",
       "    </tr>\n",
       "    <tr>\n",
       "      <th>DSC_18600731_ARTICLE28</th>\n",
       "      <td>True</td>\n",
       "      <td>Deliberation on biculturalism.</td>\n",
       "      <td>True</td>\n",
       "      <td>o</td>\n",
       "      <td>True</td>\n",
       "      <td>[, taeaty;.you'h»wi Ml oj&gt;r^rtunity of telling...</td>\n",
       "      <td>p</td>\n",
       "      <td>\\ntaeaty;.you'h»wi Ml oj&gt;r^rtunity of telling ...</td>\n",
       "      <td>False</td>\n",
       "    </tr>\n",
       "    <tr>\n",
       "      <th>AS_18760720_ARTICLE20</th>\n",
       "      <td>True</td>\n",
       "      <td></td>\n",
       "      <td>True</td>\n",
       "      <td>e</td>\n",
       "      <td>True</td>\n",
       "      <td>[(To the Editor of the Star.), Sir,—l am a wom...</td>\n",
       "      <td>l</td>\n",
       "      <td>(To the Editor of the Star.)\\nSir,—l am a woma...</td>\n",
       "      <td>False</td>\n",
       "    </tr>\n",
       "    <tr>\n",
       "      <th>DSC_18601225_ARTICLE10</th>\n",
       "      <td>True</td>\n",
       "      <td>Added on grounds that I've added early materia...</td>\n",
       "      <td>True</td>\n",
       "      <td>e</td>\n",
       "      <td>True</td>\n",
       "      <td>[The Pamphlet in question is in many points a ...</td>\n",
       "      <td>r</td>\n",
       "      <td>The Pamphlet in question is in many points a r...</td>\n",
       "      <td>False</td>\n",
       "    </tr>\n",
       "    <tr>\n",
       "      <th>LT_18970507_ARTICLE14</th>\n",
       "      <td>None</td>\n",
       "      <td></td>\n",
       "      <td>True</td>\n",
       "      <td>e</td>\n",
       "      <td>True</td>\n",
       "      <td>[TO THE EDITOR. Sib, —No sooner is a cold-bloo...</td>\n",
       "      <td>l</td>\n",
       "      <td>TO THE EDITOR. Sib, —No sooner is a cold-blood...</td>\n",
       "      <td>False</td>\n",
       "    </tr>\n",
       "    <tr>\n",
       "      <th>NEM_18800301_ARTICLE9</th>\n",
       "      <td>None</td>\n",
       "      <td>Discussion of underlying philosophical tenents...</td>\n",
       "      <td>True</td>\n",
       "      <td>e</td>\n",
       "      <td>True</td>\n",
       "      <td>[This is a question to which recent events in ...</td>\n",
       "      <td>f</td>\n",
       "      <td>This is a question to which recent events in l...</td>\n",
       "      <td>False</td>\n",
       "    </tr>\n",
       "    <tr>\n",
       "      <th>AS_18881121_ARTICLE77</th>\n",
       "      <td>True</td>\n",
       "      <td></td>\n",
       "      <td>True</td>\n",
       "      <td>e</td>\n",
       "      <td>True</td>\n",
       "      <td>[The announcement that the Rev. E. H. Gulliver...</td>\n",
       "      <td>p</td>\n",
       "      <td>The announcement that the Rev. E. H. Gulliver,...</td>\n",
       "      <td>False</td>\n",
       "    </tr>\n",
       "    <tr>\n",
       "      <th>ESD_18890826_ARTICLE1</th>\n",
       "      <td>True</td>\n",
       "      <td>Reaction to Royce and some English figures acc...</td>\n",
       "      <td>True</td>\n",
       "      <td>e</td>\n",
       "      <td>True</td>\n",
       "      <td>[There is no kind of reading more interesting ...</td>\n",
       "      <td>f</td>\n",
       "      <td>There is no kind of reading more interesting t...</td>\n",
       "      <td>False</td>\n",
       "    </tr>\n",
       "  </tbody>\n",
       "</table>\n",
       "</div>"
      ],
      "text/plain": [
       "                            NZ  \\\n",
       "NZTIM_18780509_ARTICLE5   True   \n",
       "ODT_18830714_ARTICLE20    True   \n",
       "WI_18470303_ARTICLE5      True   \n",
       "DTN_18940820_ARTICLE7     True   \n",
       "LT_18831025_ARTICLE34     True   \n",
       "OO_18970911_ARTICLE4     False   \n",
       "LT_18980920_ARTICLE26     None   \n",
       "AS_18820306_ARTICLE31     None   \n",
       "DSC_18600731_ARTICLE28    True   \n",
       "AS_18760720_ARTICLE20     True   \n",
       "DSC_18601225_ARTICLE10    True   \n",
       "LT_18970507_ARTICLE14     None   \n",
       "NEM_18800301_ARTICLE9     None   \n",
       "AS_18881121_ARTICLE77     True   \n",
       "ESD_18890826_ARTICLE1     True   \n",
       "\n",
       "                                                                     Notes  \\\n",
       "NZTIM_18780509_ARTICLE5  First paras, discussion of liberalism and demo...   \n",
       "ODT_18830714_ARTICLE20              section on curiosity as virtue or vice   \n",
       "WI_18470303_ARTICLE5     Proposes philosophical reflections to be publi...   \n",
       "DTN_18940820_ARTICLE7    Barely counts - asserts in context of NZ polit...   \n",
       "LT_18831025_ARTICLE34                                     Only final block   \n",
       "OO_18970911_ARTICLE4                                             Lady Cook   \n",
       "LT_18980920_ARTICLE26    Final 5 blocks - review of set of essays on et...   \n",
       "AS_18820306_ARTICLE31                                                        \n",
       "DSC_18600731_ARTICLE28                      Deliberation on biculturalism.   \n",
       "AS_18760720_ARTICLE20                                                        \n",
       "DSC_18601225_ARTICLE10   Added on grounds that I've added early materia...   \n",
       "LT_18970507_ARTICLE14                                                        \n",
       "NEM_18800301_ARTICLE9    Discussion of underlying philosophical tenents...   \n",
       "AS_18881121_ARTICLE77                                                        \n",
       "ESD_18890826_ARTICLE1    Reaction to Royce and some English figures acc...   \n",
       "\n",
       "                        Philosophy Philosophy Type Readable  \\\n",
       "NZTIM_18780509_ARTICLE5       True               e     True   \n",
       "ODT_18830714_ARTICLE20        True               e     True   \n",
       "WI_18470303_ARTICLE5          True               e     True   \n",
       "DTN_18940820_ARTICLE7         True               e     True   \n",
       "LT_18831025_ARTICLE34         True               o     True   \n",
       "OO_18970911_ARTICLE4          True               e     True   \n",
       "LT_18980920_ARTICLE26         True               e     True   \n",
       "AS_18820306_ARTICLE31         True               e     True   \n",
       "DSC_18600731_ARTICLE28        True               o     True   \n",
       "AS_18760720_ARTICLE20         True               e     True   \n",
       "DSC_18601225_ARTICLE10        True               e     True   \n",
       "LT_18970507_ARTICLE14         True               e     True   \n",
       "NEM_18800301_ARTICLE9         True               e     True   \n",
       "AS_18881121_ARTICLE77         True               e     True   \n",
       "ESD_18890826_ARTICLE1         True               e     True   \n",
       "\n",
       "                                                                      Text  \\\n",
       "NZTIM_18780509_ARTICLE5  [It is not every day we find a ‘writer who has...   \n",
       "ODT_18830714_ARTICLE20   [(Prom Otago Witness.) v, The political uaei o...   \n",
       "WI_18470303_ARTICLE5     [To the Editor of the *• Independent. , ', Sia...   \n",
       "DTN_18940820_ARTICLE7    [The Opposition are, like the conies, a feeble...   \n",
       "LT_18831025_ARTICLE34    [[non ora own oobbxspohdmt.], There is very li...   \n",
       "OO_18970911_ARTICLE4     [j^isar^s specially for the 'Observer - JV: v ...   \n",
       "LT_18980920_ARTICLE26    [THE POWEES AND PEACE., Kaiser Wilhelm and Kin...   \n",
       "AS_18820306_ARTICLE31    [(To the Kditor.), Sin,—l trust you will permi...   \n",
       "DSC_18600731_ARTICLE28   [, taeaty;.you'h»wi Ml oj>r^rtunity of telling...   \n",
       "AS_18760720_ARTICLE20    [(To the Editor of the Star.), Sir,—l am a wom...   \n",
       "DSC_18601225_ARTICLE10   [The Pamphlet in question is in many points a ...   \n",
       "LT_18970507_ARTICLE14    [TO THE EDITOR. Sib, —No sooner is a cold-bloo...   \n",
       "NEM_18800301_ARTICLE9    [This is a question to which recent events in ...   \n",
       "AS_18881121_ARTICLE77    [The announcement that the Rev. E. H. Gulliver...   \n",
       "ESD_18890826_ARTICLE1    [There is no kind of reading more interesting ...   \n",
       "\n",
       "                        Writing Type  \\\n",
       "NZTIM_18780509_ARTICLE5            f   \n",
       "ODT_18830714_ARTICLE20             f   \n",
       "WI_18470303_ARTICLE5               l   \n",
       "DTN_18940820_ARTICLE7              f   \n",
       "LT_18831025_ARTICLE34              f   \n",
       "OO_18970911_ARTICLE4               f   \n",
       "LT_18980920_ARTICLE26              r   \n",
       "AS_18820306_ARTICLE31              l   \n",
       "DSC_18600731_ARTICLE28             p   \n",
       "AS_18760720_ARTICLE20              l   \n",
       "DSC_18601225_ARTICLE10             r   \n",
       "LT_18970507_ARTICLE14              l   \n",
       "NEM_18800301_ARTICLE9              f   \n",
       "AS_18881121_ARTICLE77              p   \n",
       "ESD_18890826_ARTICLE1              f   \n",
       "\n",
       "                                                            Text as String  \\\n",
       "NZTIM_18780509_ARTICLE5  It is not every day we find a ‘writer who has ...   \n",
       "ODT_18830714_ARTICLE20   (Prom Otago Witness.) v\\nThe political uaei of...   \n",
       "WI_18470303_ARTICLE5     To the Editor of the *• Independent. , '\\nSia....   \n",
       "DTN_18940820_ARTICLE7    The Opposition are, like the conies, a feeble ...   \n",
       "LT_18831025_ARTICLE34    [non ora own oobbxspohdmt.]\\nThere is very lit...   \n",
       "OO_18970911_ARTICLE4     j^isar^s specially for the 'Observer - JV: v '...   \n",
       "LT_18980920_ARTICLE26    THE POWEES AND PEACE.\\nKaiser Wilhelm and Kins...   \n",
       "AS_18820306_ARTICLE31    (To the Kditor.)\\nSin,—l trust you will permit...   \n",
       "DSC_18600731_ARTICLE28   \\ntaeaty;.you'h»wi Ml oj>r^rtunity of telling ...   \n",
       "AS_18760720_ARTICLE20    (To the Editor of the Star.)\\nSir,—l am a woma...   \n",
       "DSC_18601225_ARTICLE10   The Pamphlet in question is in many points a r...   \n",
       "LT_18970507_ARTICLE14    TO THE EDITOR. Sib, —No sooner is a cold-blood...   \n",
       "NEM_18800301_ARTICLE9    This is a question to which recent events in l...   \n",
       "AS_18881121_ARTICLE77    The announcement that the Rev. E. H. Gulliver,...   \n",
       "ESD_18890826_ARTICLE1    There is no kind of reading more interesting t...   \n",
       "\n",
       "                         Predicted  \n",
       "NZTIM_18780509_ARTICLE5      False  \n",
       "ODT_18830714_ARTICLE20       False  \n",
       "WI_18470303_ARTICLE5         False  \n",
       "DTN_18940820_ARTICLE7        False  \n",
       "LT_18831025_ARTICLE34        False  \n",
       "OO_18970911_ARTICLE4         False  \n",
       "LT_18980920_ARTICLE26        False  \n",
       "AS_18820306_ARTICLE31        False  \n",
       "DSC_18600731_ARTICLE28       False  \n",
       "AS_18760720_ARTICLE20        False  \n",
       "DSC_18601225_ARTICLE10       False  \n",
       "LT_18970507_ARTICLE14        False  \n",
       "NEM_18800301_ARTICLE9        False  \n",
       "AS_18881121_ARTICLE77        False  \n",
       "ESD_18890826_ARTICLE1        False  "
      ]
     },
     "execution_count": 19,
     "metadata": {},
     "output_type": "execute_result"
    }
   ],
   "source": [
    "false_negatives"
   ]
  },
  {
   "cell_type": "code",
   "execution_count": 20,
   "metadata": {
    "scrolled": false
   },
   "outputs": [
    {
     "data": {
      "application/vnd.jupyter.widget-view+json": {
       "model_id": "5e655541134f4a81a27e664638c8622f",
       "version_major": 2,
       "version_minor": 0
      },
      "text/plain": [
       "interactive(children=(Dropdown(description='index', options=('NZTIM_18780509_ARTICLE5', 'ODT_18830714_ARTICLE2…"
      ]
     },
     "metadata": {},
     "output_type": "display_data"
    },
    {
     "data": {
      "text/plain": [
       "<function __main__.print_article_text(index, dataframe)>"
      ]
     },
     "execution_count": 20,
     "metadata": {},
     "output_type": "execute_result"
    }
   ],
   "source": [
    "def print_article_text(index, dataframe):\n",
    "    article_text = '\\n\\n'.join(dataframe.loc[index]['Text'])\n",
    "    print (f\"\"\"\n",
    "{index}\n",
    "    \n",
    "{dataframe.loc[index]['Philosophy Type']} -{dataframe.loc[index]['Notes']} \n",
    "\n",
    "{article_text}\n",
    "\"\"\")\n",
    "indices = false_negatives.index\n",
    "interact(print_article_text, index=indices, dataframe=fixed(false_negatives))"
   ]
  },
  {
   "cell_type": "markdown",
   "metadata": {},
   "source": [
    "What've we got:\n",
    "* Composite piece: NZTIM_18780509_ARTICLE5, ODT_18830714_ARTICLE20, LT_18831025_ARTICLE34, LT_18980920_ARTICLE26, \n",
    "* Meta philosophy: WI_18470303_ARTICLE5 (proposes philosophical discussion about nature of education, doesn't do it tho). \n",
    "* Dubious: DTN_18940820_ARTICLE7 (Mill dead as door nail) (Passing reference).\n",
    "* OO_18970911_ARTICLE4 Lady Cook, vices and virtues blackmail. Not similar to the others. (possibly need to find more like this by relabelling?\n",
    "* AS_18820306_ARTICLE31: arg that athiest shouldn't be MP given current constitution. Not really satisfying definition.\n",
    "* DSC_18600731_ARTICLE28: really gutting not to get this. Has a very narrative structure...\n",
    "* LT_18970507_ARTICLE14: more ethics that it would be good to have. Args against capital punishment.\n",
    "* NEM_18800301_ARTICLE9: politics, would be good to have.\n",
    "* AS_18881121_ARTICLE77: More politics and with NZ connection. Again frustrating.\n",
    "* ESD_18890826_ARTICLE1: Politics with NZ connection, less frustrating (more direct political discourse).\n",
    "* AS_18760720_ARTICLE20: prob desirable.\n",
    "* DSC_18601225_ARTICLE10: Also would be very good. NZ delib on sovereignty and bicultralism. \n",
    "\n",
    "NZTIM_18780509_ARTICLE5's philosophical bit is not particularly desirable anyway."
   ]
  },
  {
   "cell_type": "code",
   "execution_count": 21,
   "metadata": {},
   "outputs": [],
   "source": [
    "false_positives = test_df.loc[(test_df['Philosophy'] == False)&(test_df['Predicted'] == True)]"
   ]
  },
  {
   "cell_type": "code",
   "execution_count": 22,
   "metadata": {
    "scrolled": false
   },
   "outputs": [
    {
     "data": {
      "text/plain": [
       "13"
      ]
     },
     "execution_count": 22,
     "metadata": {},
     "output_type": "execute_result"
    }
   ],
   "source": [
    "len(false_positives)"
   ]
  },
  {
   "cell_type": "code",
   "execution_count": 24,
   "metadata": {},
   "outputs": [
    {
     "data": {
      "text/html": [
       "<div>\n",
       "<style scoped>\n",
       "    .dataframe tbody tr th:only-of-type {\n",
       "        vertical-align: middle;\n",
       "    }\n",
       "\n",
       "    .dataframe tbody tr th {\n",
       "        vertical-align: top;\n",
       "    }\n",
       "\n",
       "    .dataframe thead th {\n",
       "        text-align: right;\n",
       "    }\n",
       "</style>\n",
       "<table border=\"1\" class=\"dataframe\">\n",
       "  <thead>\n",
       "    <tr style=\"text-align: right;\">\n",
       "      <th></th>\n",
       "      <th>NZ</th>\n",
       "      <th>Notes</th>\n",
       "      <th>Philosophy</th>\n",
       "      <th>Philosophy Type</th>\n",
       "      <th>Readable</th>\n",
       "      <th>Text</th>\n",
       "      <th>Writing Type</th>\n",
       "      <th>Text as String</th>\n",
       "      <th>Predicted</th>\n",
       "    </tr>\n",
       "  </thead>\n",
       "  <tbody>\n",
       "    <tr>\n",
       "      <th>LT_18801016_ARTICLE32</th>\n",
       "      <td>None</td>\n",
       "      <td></td>\n",
       "      <td>False</td>\n",
       "      <td>None</td>\n",
       "      <td>True</td>\n",
       "      <td>[1h i fallowing is the result of the Annuel Pa...</td>\n",
       "      <td>None</td>\n",
       "      <td>1h i fallowing is the result of the Annuel Pas...</td>\n",
       "      <td>True</td>\n",
       "    </tr>\n",
       "    <tr>\n",
       "      <th>AG_18990504_ARTICLE7</th>\n",
       "      <td>None</td>\n",
       "      <td></td>\n",
       "      <td>False</td>\n",
       "      <td>None</td>\n",
       "      <td>True</td>\n",
       "      <td>[The maintenance or the recovery of youth hag ...</td>\n",
       "      <td>None</td>\n",
       "      <td>The maintenance or the recovery of youth hag e...</td>\n",
       "      <td>True</td>\n",
       "    </tr>\n",
       "    <tr>\n",
       "      <th>ODT_18981013_ARTICLE51</th>\n",
       "      <td>None</td>\n",
       "      <td></td>\n",
       "      <td>False</td>\n",
       "      <td>None</td>\n",
       "      <td>True</td>\n",
       "      <td>[THE ATTEMPT OP AN ESTIMATE, ,■'•,' (By O. E. ...</td>\n",
       "      <td>None</td>\n",
       "      <td>THE ATTEMPT OP AN ESTIMATE, ,■'•,' (By O. E. H...</td>\n",
       "      <td>True</td>\n",
       "    </tr>\n",
       "    <tr>\n",
       "      <th>NEM_18920606_ARTICLE29</th>\n",
       "      <td>None</td>\n",
       "      <td></td>\n",
       "      <td>False</td>\n",
       "      <td>None</td>\n",
       "      <td>True</td>\n",
       "      <td>[The double anniversary of the Pope's birthday...</td>\n",
       "      <td>None</td>\n",
       "      <td>The double anniversary of the Pope's birthday ...</td>\n",
       "      <td>True</td>\n",
       "    </tr>\n",
       "    <tr>\n",
       "      <th>ODT_18980407_ARTICLE89</th>\n",
       "      <td>None</td>\n",
       "      <td></td>\n",
       "      <td>False</td>\n",
       "      <td>None</td>\n",
       "      <td>True</td>\n",
       "      <td>[, The last number ,of the \" Christian Globs \"...</td>\n",
       "      <td>None</td>\n",
       "      <td>, The last number ,of the \" Christian Globs \" ...</td>\n",
       "      <td>True</td>\n",
       "    </tr>\n",
       "    <tr>\n",
       "      <th>OW_18770317_ARTICLE59</th>\n",
       "      <td>None</td>\n",
       "      <td>l</td>\n",
       "      <td>False</td>\n",
       "      <td>None</td>\n",
       "      <td>True</td>\n",
       "      <td>[TO THE EDITOK, Sir,— ln your report or Mr Bri...</td>\n",
       "      <td>None</td>\n",
       "      <td>TO THE EDITOK, Sir,— ln your report or Mr Brig...</td>\n",
       "      <td>True</td>\n",
       "    </tr>\n",
       "    <tr>\n",
       "      <th>ESD_18891218_ARTICLE59</th>\n",
       "      <td>None</td>\n",
       "      <td></td>\n",
       "      <td>False</td>\n",
       "      <td>None</td>\n",
       "      <td>True</td>\n",
       "      <td>[On Sunday evening the Rev. E. D. Ceo J preach...</td>\n",
       "      <td>None</td>\n",
       "      <td>On Sunday evening the Rev. E. D. Ceo J preache...</td>\n",
       "      <td>True</td>\n",
       "    </tr>\n",
       "    <tr>\n",
       "      <th>LWM_18950614_ARTICLE27</th>\n",
       "      <td>None</td>\n",
       "      <td>Poetry</td>\n",
       "      <td>False</td>\n",
       "      <td>None</td>\n",
       "      <td>True</td>\n",
       "      <td>[LATE MOST REV. DR. MCUAN, First Bisiiop o» Dc...</td>\n",
       "      <td>None</td>\n",
       "      <td>LATE MOST REV. DR. MCUAN, First Bisiiop o» Dcs...</td>\n",
       "      <td>True</td>\n",
       "    </tr>\n",
       "    <tr>\n",
       "      <th>ODT_18850204_ARTICLE30</th>\n",
       "      <td>None</td>\n",
       "      <td>Education</td>\n",
       "      <td>False</td>\n",
       "      <td>None</td>\n",
       "      <td>True</td>\n",
       "      <td>[TO THE EDITOB, Sib,—lt is somewhat curious th...</td>\n",
       "      <td>None</td>\n",
       "      <td>TO THE EDITOB, Sib,—lt is somewhat curious tha...</td>\n",
       "      <td>True</td>\n",
       "    </tr>\n",
       "    <tr>\n",
       "      <th>GRA_18960522_ARTICLE19</th>\n",
       "      <td>None</td>\n",
       "      <td></td>\n",
       "      <td>False</td>\n",
       "      <td>None</td>\n",
       "      <td>True</td>\n",
       "      <td>[The possible] use of the process of photogz/f...</td>\n",
       "      <td>None</td>\n",
       "      <td>The possible] use of the process of photogz/fe...</td>\n",
       "      <td>True</td>\n",
       "    </tr>\n",
       "    <tr>\n",
       "      <th>ESD_18851028_ARTICLE1</th>\n",
       "      <td>None</td>\n",
       "      <td></td>\n",
       "      <td>False</td>\n",
       "      <td>None</td>\n",
       "      <td>True</td>\n",
       "      <td>[A public meeting was held at the Cham ber of ...</td>\n",
       "      <td>None</td>\n",
       "      <td>A public meeting was held at the Cham ber of C...</td>\n",
       "      <td>True</td>\n",
       "    </tr>\n",
       "    <tr>\n",
       "      <th>CHP_18951209_ARTICLE55</th>\n",
       "      <td>None</td>\n",
       "      <td></td>\n",
       "      <td>False</td>\n",
       "      <td>None</td>\n",
       "      <td>True</td>\n",
       "      <td>[At this church, yesterday evening, the Rev. W...</td>\n",
       "      <td>None</td>\n",
       "      <td>At this church, yesterday evening, the Rev. W....</td>\n",
       "      <td>True</td>\n",
       "    </tr>\n",
       "    <tr>\n",
       "      <th>ESD_18960111_ARTICLE47</th>\n",
       "      <td>None</td>\n",
       "      <td></td>\n",
       "      <td>False</td>\n",
       "      <td>None</td>\n",
       "      <td>True</td>\n",
       "      <td>[[By mb ReV. William Bibch, D.D.] [COIYKIGHT.]...</td>\n",
       "      <td>None</td>\n",
       "      <td>[By mb ReV. William Bibch, D.D.] [COIYKIGHT.] ...</td>\n",
       "      <td>True</td>\n",
       "    </tr>\n",
       "  </tbody>\n",
       "</table>\n",
       "</div>"
      ],
      "text/plain": [
       "                          NZ      Notes Philosophy Philosophy Type Readable  \\\n",
       "LT_18801016_ARTICLE32   None                 False            None     True   \n",
       "AG_18990504_ARTICLE7    None                 False            None     True   \n",
       "ODT_18981013_ARTICLE51  None                 False            None     True   \n",
       "NEM_18920606_ARTICLE29  None                 False            None     True   \n",
       "ODT_18980407_ARTICLE89  None                 False            None     True   \n",
       "OW_18770317_ARTICLE59   None          l      False            None     True   \n",
       "ESD_18891218_ARTICLE59  None                 False            None     True   \n",
       "LWM_18950614_ARTICLE27  None     Poetry      False            None     True   \n",
       "ODT_18850204_ARTICLE30  None  Education      False            None     True   \n",
       "GRA_18960522_ARTICLE19  None                 False            None     True   \n",
       "ESD_18851028_ARTICLE1   None                 False            None     True   \n",
       "CHP_18951209_ARTICLE55  None                 False            None     True   \n",
       "ESD_18960111_ARTICLE47  None                 False            None     True   \n",
       "\n",
       "                                                                     Text  \\\n",
       "LT_18801016_ARTICLE32   [1h i fallowing is the result of the Annuel Pa...   \n",
       "AG_18990504_ARTICLE7    [The maintenance or the recovery of youth hag ...   \n",
       "ODT_18981013_ARTICLE51  [THE ATTEMPT OP AN ESTIMATE, ,■'•,' (By O. E. ...   \n",
       "NEM_18920606_ARTICLE29  [The double anniversary of the Pope's birthday...   \n",
       "ODT_18980407_ARTICLE89  [, The last number ,of the \" Christian Globs \"...   \n",
       "OW_18770317_ARTICLE59   [TO THE EDITOK, Sir,— ln your report or Mr Bri...   \n",
       "ESD_18891218_ARTICLE59  [On Sunday evening the Rev. E. D. Ceo J preach...   \n",
       "LWM_18950614_ARTICLE27  [LATE MOST REV. DR. MCUAN, First Bisiiop o» Dc...   \n",
       "ODT_18850204_ARTICLE30  [TO THE EDITOB, Sib,—lt is somewhat curious th...   \n",
       "GRA_18960522_ARTICLE19  [The possible] use of the process of photogz/f...   \n",
       "ESD_18851028_ARTICLE1   [A public meeting was held at the Cham ber of ...   \n",
       "CHP_18951209_ARTICLE55  [At this church, yesterday evening, the Rev. W...   \n",
       "ESD_18960111_ARTICLE47  [[By mb ReV. William Bibch, D.D.] [COIYKIGHT.]...   \n",
       "\n",
       "                       Writing Type  \\\n",
       "LT_18801016_ARTICLE32          None   \n",
       "AG_18990504_ARTICLE7           None   \n",
       "ODT_18981013_ARTICLE51         None   \n",
       "NEM_18920606_ARTICLE29         None   \n",
       "ODT_18980407_ARTICLE89         None   \n",
       "OW_18770317_ARTICLE59          None   \n",
       "ESD_18891218_ARTICLE59         None   \n",
       "LWM_18950614_ARTICLE27         None   \n",
       "ODT_18850204_ARTICLE30         None   \n",
       "GRA_18960522_ARTICLE19         None   \n",
       "ESD_18851028_ARTICLE1          None   \n",
       "CHP_18951209_ARTICLE55         None   \n",
       "ESD_18960111_ARTICLE47         None   \n",
       "\n",
       "                                                           Text as String  \\\n",
       "LT_18801016_ARTICLE32   1h i fallowing is the result of the Annuel Pas...   \n",
       "AG_18990504_ARTICLE7    The maintenance or the recovery of youth hag e...   \n",
       "ODT_18981013_ARTICLE51  THE ATTEMPT OP AN ESTIMATE, ,■'•,' (By O. E. H...   \n",
       "NEM_18920606_ARTICLE29  The double anniversary of the Pope's birthday ...   \n",
       "ODT_18980407_ARTICLE89  , The last number ,of the \" Christian Globs \" ...   \n",
       "OW_18770317_ARTICLE59   TO THE EDITOK, Sir,— ln your report or Mr Brig...   \n",
       "ESD_18891218_ARTICLE59  On Sunday evening the Rev. E. D. Ceo J preache...   \n",
       "LWM_18950614_ARTICLE27  LATE MOST REV. DR. MCUAN, First Bisiiop o» Dcs...   \n",
       "ODT_18850204_ARTICLE30  TO THE EDITOB, Sib,—lt is somewhat curious tha...   \n",
       "GRA_18960522_ARTICLE19  The possible] use of the process of photogz/fe...   \n",
       "ESD_18851028_ARTICLE1   A public meeting was held at the Cham ber of C...   \n",
       "CHP_18951209_ARTICLE55  At this church, yesterday evening, the Rev. W....   \n",
       "ESD_18960111_ARTICLE47  [By mb ReV. William Bibch, D.D.] [COIYKIGHT.] ...   \n",
       "\n",
       "                        Predicted  \n",
       "LT_18801016_ARTICLE32        True  \n",
       "AG_18990504_ARTICLE7         True  \n",
       "ODT_18981013_ARTICLE51       True  \n",
       "NEM_18920606_ARTICLE29       True  \n",
       "ODT_18980407_ARTICLE89       True  \n",
       "OW_18770317_ARTICLE59        True  \n",
       "ESD_18891218_ARTICLE59       True  \n",
       "LWM_18950614_ARTICLE27       True  \n",
       "ODT_18850204_ARTICLE30       True  \n",
       "GRA_18960522_ARTICLE19       True  \n",
       "ESD_18851028_ARTICLE1        True  \n",
       "CHP_18951209_ARTICLE55       True  \n",
       "ESD_18960111_ARTICLE47       True  "
      ]
     },
     "execution_count": 24,
     "metadata": {},
     "output_type": "execute_result"
    }
   ],
   "source": [
    "false_positives"
   ]
  },
  {
   "cell_type": "code",
   "execution_count": 23,
   "metadata": {
    "scrolled": false
   },
   "outputs": [
    {
     "data": {
      "application/vnd.jupyter.widget-view+json": {
       "model_id": "b62d0cbb34f4419ca8fe2b3e1756e10f",
       "version_major": 2,
       "version_minor": 0
      },
      "text/plain": [
       "interactive(children=(Dropdown(description='index', options=('LT_18801016_ARTICLE32', 'AG_18990504_ARTICLE7', …"
      ]
     },
     "metadata": {},
     "output_type": "display_data"
    },
    {
     "data": {
      "text/plain": [
       "<function __main__.print_article_text(index, dataframe)>"
      ]
     },
     "execution_count": 23,
     "metadata": {},
     "output_type": "execute_result"
    }
   ],
   "source": [
    "indices = false_positives.index\n",
    "interact(print_article_text, index=indices, dataframe=fixed(false_positives))"
   ]
  },
  {
   "cell_type": "markdown",
   "metadata": {},
   "source": [
    "Having a look at these:\n",
    "* List of graduations: LT_18801016_ARTICLE32,\n",
    "* Quack medical material referencing the philosopher's stone: AG_18990504_ARTICLE7\n",
    "* Religious material, not directly philosophical: ODT_18981013_ARTICLE51 (remembering Bismark);  ODT_18980407_ARTICLE89 (in favour of theatre going)\n",
    "* Catholic church vs. world: NEM_18920606_ARTICLE29 (dubious)\n",
    "* letter about public lecture on infallibility and inspiration (should be in) OW_18770317_ARTICLE59\n",
    "* Christian influence on society in general (prob counts as political philosophy) (ESD_18891218_ARTICLE59); \n",
    "* Poetry about clergy. LWM_18950614_ARTICLE27\n",
    "* Material about denominational schooling (ODT_18850204_ARTICLE30)\n",
    "* Totally off: material science concerning war ships (\"GRA_18960522_ARTICLE19\")\n",
    "* Public meeting concerning a church body. Not particularly philosophical (White Cross Society) (ESD_18851028_ARTICLE1)\n",
    "* Collection of sermon reports. Some on concept of 'knowledge' ('CHP_18951209_ARTICLE55')\n",
    "* ESD_18960111_ARTICLE47 Good: material on liberal/conservative disputes over interpretation of Christianity (sermon).\n",
    "\n",
    "Unaccount for must be 'unreadable'"
   ]
  },
  {
   "cell_type": "code",
   "execution_count": 445,
   "metadata": {},
   "outputs": [],
   "source": [
    "straggler = test_df.loc[(test_df['Readable'] == False)&(test_df['Predicted'] == True)]"
   ]
  },
  {
   "cell_type": "code",
   "execution_count": 446,
   "metadata": {},
   "outputs": [
    {
     "data": {
      "text/html": [
       "<div>\n",
       "<style scoped>\n",
       "    .dataframe tbody tr th:only-of-type {\n",
       "        vertical-align: middle;\n",
       "    }\n",
       "\n",
       "    .dataframe tbody tr th {\n",
       "        vertical-align: top;\n",
       "    }\n",
       "\n",
       "    .dataframe thead th {\n",
       "        text-align: right;\n",
       "    }\n",
       "</style>\n",
       "<table border=\"1\" class=\"dataframe\">\n",
       "  <thead>\n",
       "    <tr style=\"text-align: right;\">\n",
       "      <th></th>\n",
       "      <th>NZ</th>\n",
       "      <th>Notes</th>\n",
       "      <th>Philosophy</th>\n",
       "      <th>Philosophy Type</th>\n",
       "      <th>Readable</th>\n",
       "      <th>Text</th>\n",
       "      <th>Writing Type</th>\n",
       "      <th>Text as String</th>\n",
       "      <th>Predicted</th>\n",
       "    </tr>\n",
       "  </thead>\n",
       "  <tbody>\n",
       "    <tr>\n",
       "      <th>ME_18870708_ARTICLE32</th>\n",
       "      <td>None</td>\n",
       "      <td></td>\n",
       "      <td>None</td>\n",
       "      <td>None</td>\n",
       "      <td>False</td>\n",
       "      <td>[i . , .»■ ,'..'rr ..- .:rTTTT/i ••■ !■•; •.'....</td>\n",
       "      <td>None</td>\n",
       "      <td>i . , .»■ ,'..'rr ..- .:rTTTT/i ••■ !■•; •.'. ...</td>\n",
       "      <td>True</td>\n",
       "    </tr>\n",
       "  </tbody>\n",
       "</table>\n",
       "</div>"
      ],
      "text/plain": [
       "                         NZ Notes Philosophy Philosophy Type Readable  \\\n",
       "ME_18870708_ARTICLE32  None             None            None    False   \n",
       "\n",
       "                                                                    Text  \\\n",
       "ME_18870708_ARTICLE32  [i . , .»■ ,'..'rr ..- .:rTTTT/i ••■ !■•; •.'....   \n",
       "\n",
       "                      Writing Type  \\\n",
       "ME_18870708_ARTICLE32         None   \n",
       "\n",
       "                                                          Text as String  \\\n",
       "ME_18870708_ARTICLE32  i . , .»■ ,'..'rr ..- .:rTTTT/i ••■ !■•; •.'. ...   \n",
       "\n",
       "                       Predicted  \n",
       "ME_18870708_ARTICLE32       True  "
      ]
     },
     "execution_count": 446,
     "metadata": {},
     "output_type": "execute_result"
    }
   ],
   "source": [
    "straggler"
   ]
  },
  {
   "cell_type": "code",
   "execution_count": 448,
   "metadata": {},
   "outputs": [
    {
     "data": {
      "application/vnd.jupyter.widget-view+json": {
       "model_id": "d8eebd3407ce4ce082fae7fffe4b389a",
       "version_major": 2,
       "version_minor": 0
      },
      "text/plain": [
       "interactive(children=(Dropdown(description='index', options=('ME_18870708_ARTICLE32',), value='ME_18870708_ART…"
      ]
     },
     "metadata": {},
     "output_type": "display_data"
    },
    {
     "data": {
      "text/plain": [
       "<function __main__.print_article_text(index, dataframe)>"
      ]
     },
     "execution_count": 448,
     "metadata": {},
     "output_type": "execute_result"
    }
   ],
   "source": [
    "indices = straggler.index\n",
    "interact(print_article_text, index=indices, dataframe=fixed(straggler))"
   ]
  },
  {
   "cell_type": "markdown",
   "metadata": {},
   "source": [
    "Not pretty, but if you squint it looks like philosophy. Also good to know that all the other non-readables have been classifier as non-philosophy."
   ]
  },
  {
   "cell_type": "markdown",
   "metadata": {},
   "source": [
    "### In training set."
   ]
  },
  {
   "cell_type": "markdown",
   "metadata": {},
   "source": [
    "## Save Model"
   ]
  },
  {
   "cell_type": "markdown",
   "metadata": {},
   "source": [
    "I'm going to save the model optimised for overall accuracy. I think I've eered in my labelling on both sides as well."
   ]
  },
  {
   "cell_type": "code",
   "execution_count": 144,
   "metadata": {},
   "outputs": [],
   "source": [
    "with open('classifiers/NB_2_v2.pickle', 'wb') as fout:\n",
    "    pickle.dump(gs_clf.best_estimator_, fout)"
   ]
  },
  {
   "cell_type": "markdown",
   "metadata": {},
   "source": [
    "## Try SVMs"
   ]
  },
  {
   "cell_type": "markdown",
   "metadata": {},
   "source": [
    "I'm keen to try a slightly more 'complex' method, which is said to perform better for text classification. This is done with the proviso that the above false negatives and positives are s(pretty much) all arguable cases."
   ]
  },
  {
   "cell_type": "code",
   "execution_count": 136,
   "metadata": {},
   "outputs": [],
   "source": [
    "SVC_Pipeline = Pipeline([\n",
    "    ('vect', CountVectorizer(\n",
    "        max_df=0.4,\n",
    "        min_df=9,\n",
    "        stop_words=STOPWORDS, \n",
    "        token_pattern=r'(?u)\\b\\w\\w\\w+\\b')),\n",
    "    ('tfidf', TfidfTransformer()),\n",
    "    ('clf', SVC(kernel='poly',\n",
    "                C=1.0\n",
    "        )),\n",
    "])"
   ]
  },
  {
   "cell_type": "code",
   "execution_count": 137,
   "metadata": {},
   "outputs": [
    {
     "data": {
      "text/plain": [
       "Pipeline(memory=None,\n",
       "         steps=[('vect',\n",
       "                 CountVectorizer(analyzer='word', binary=False,\n",
       "                                 decode_error='strict',\n",
       "                                 dtype=<class 'numpy.int64'>, encoding='utf-8',\n",
       "                                 input='content', lowercase=True, max_df=0.4,\n",
       "                                 max_features=None, min_df=9,\n",
       "                                 ngram_range=(1, 1), preprocessor=None,\n",
       "                                 stop_words=['i', 'me', 'my', 'myself', 'we',\n",
       "                                             'our', 'ours', 'ourselves', 'you',\n",
       "                                             \"you're\", \"you've\", \"you'll\",...\n",
       "                                 tokenizer=None, vocabulary=None)),\n",
       "                ('tfidf',\n",
       "                 TfidfTransformer(norm='l2', smooth_idf=True,\n",
       "                                  sublinear_tf=False, use_idf=True)),\n",
       "                ('clf',\n",
       "                 SVC(C=1.0, break_ties=False, cache_size=200, class_weight=None,\n",
       "                     coef0=0.0, decision_function_shape='ovr', degree=3,\n",
       "                     gamma='scale', kernel='poly', max_iter=-1,\n",
       "                     probability=False, random_state=None, shrinking=True,\n",
       "                     tol=0.001, verbose=False))],\n",
       "         verbose=False)"
      ]
     },
     "execution_count": 137,
     "metadata": {},
     "output_type": "execute_result"
    }
   ],
   "source": [
    "SVC_Pipeline.fit(training_features, training_labels)"
   ]
  },
  {
   "cell_type": "code",
   "execution_count": 138,
   "metadata": {},
   "outputs": [],
   "source": [
    "svc_pred = SVC_Pipeline.predict(test_features)"
   ]
  },
  {
   "cell_type": "code",
   "execution_count": 139,
   "metadata": {},
   "outputs": [
    {
     "data": {
      "text/plain": [
       "array([[195,   0],\n",
       "       [ 74,   3]])"
      ]
     },
     "execution_count": 139,
     "metadata": {},
     "output_type": "execute_result"
    }
   ],
   "source": [
    "svc_confusion_matrix = metrics.confusion_matrix(test_labels, svc_pred)\n",
    "svc_confusion_matrix"
   ]
  },
  {
   "cell_type": "code",
   "execution_count": 140,
   "metadata": {},
   "outputs": [
    {
     "name": "stdout",
     "output_type": "stream",
     "text": [
      "accuracy: 0.7279411764705882\n",
      "recall: 0.03896103896103896\n",
      "precision: 1.0\n"
     ]
    }
   ],
   "source": [
    "tp = svc_confusion_matrix[1][1]\n",
    "fn = svc_confusion_matrix[1][0]\n",
    "fp = svc_confusion_matrix[0][1]\n",
    "tn = svc_confusion_matrix[0][0]\n",
    "svc_recall = tp/(tp+fn)\n",
    "svc_precision = tp/(tp+fp)\n",
    "svc_accuracy = (tp+tn)/(tp+fp+tn+fn)\n",
    "print(f'accuracy: {svc_accuracy}')\n",
    "print(f'recall: {svc_recall}')\n",
    "print(f'precision: {svc_precision}')"
   ]
  },
  {
   "cell_type": "code",
   "execution_count": 142,
   "metadata": {},
   "outputs": [],
   "source": [
    "svc_parameters = {\n",
    "    'vect__min_df': [2, 5, 7, 10, 15],\n",
    "    'vect__max_df': [0.2, 0.3, 0.4, 0.5, 0.6],\n",
    "    'vect__ngram_range': [(1, 1), (1, 2), (1, 3)],\n",
    "    'clf__C': [0.5, 0.75, 1, 2, 10],\n",
    "    'clf__kernel':['poly', 'linear', 'sigmoid', 'rbf']\n",
    "}"
   ]
  },
  {
   "cell_type": "code",
   "execution_count": 143,
   "metadata": {
    "scrolled": true
   },
   "outputs": [
    {
     "data": {
      "text/plain": [
       "GridSearchCV(cv=5, error_score=nan,\n",
       "             estimator=Pipeline(memory=None,\n",
       "                                steps=[('vect',\n",
       "                                        CountVectorizer(analyzer='word',\n",
       "                                                        binary=False,\n",
       "                                                        decode_error='strict',\n",
       "                                                        dtype=<class 'numpy.int64'>,\n",
       "                                                        encoding='utf-8',\n",
       "                                                        input='content',\n",
       "                                                        lowercase=True,\n",
       "                                                        max_df=0.4,\n",
       "                                                        max_features=None,\n",
       "                                                        min_df=9,\n",
       "                                                        ngram_range=(1, 1),\n",
       "                                                        preprocessor=None,\n",
       "                                                        stop_words=['i', 'me',\n",
       "                                                                    'my',\n",
       "                                                                    'myself',\n",
       "                                                                    'we', 'our',\n",
       "                                                                    'ours',\n",
       "                                                                    '...\n",
       "                                            random_state=None, shrinking=True,\n",
       "                                            tol=0.001, verbose=False))],\n",
       "                                verbose=False),\n",
       "             iid='deprecated', n_jobs=-1,\n",
       "             param_grid={'clf__C': [0.5, 0.75, 1, 2, 10],\n",
       "                         'clf__kernel': ['poly', 'linear', 'sigmoid', 'rbf'],\n",
       "                         'vect__max_df': [0.2, 0.3, 0.4, 0.5, 0.6],\n",
       "                         'vect__min_df': [2, 5, 7, 10, 15],\n",
       "                         'vect__ngram_range': [(1, 1), (1, 2), (1, 3)]},\n",
       "             pre_dispatch='2*n_jobs', refit=True, return_train_score=False,\n",
       "             scoring=None, verbose=0)"
      ]
     },
     "execution_count": 143,
     "metadata": {},
     "output_type": "execute_result"
    }
   ],
   "source": [
    "grid_svc_clf = GridSearchCV(SVC_Pipeline, svc_parameters, cv=5, n_jobs=-1)\n",
    "grid_svc_clf.fit(training_features, training_labels)"
   ]
  },
  {
   "cell_type": "code",
   "execution_count": 145,
   "metadata": {},
   "outputs": [],
   "source": [
    "grid_svc_pred = grid_svc_clf.best_estimator_.predict(test_features)"
   ]
  },
  {
   "cell_type": "code",
   "execution_count": 150,
   "metadata": {},
   "outputs": [
    {
     "data": {
      "text/plain": [
       "array([[186,   9],\n",
       "       [ 21,  56]])"
      ]
     },
     "execution_count": 150,
     "metadata": {},
     "output_type": "execute_result"
    }
   ],
   "source": [
    "grid_svc_confusion_matrix = metrics.confusion_matrix(test_labels, grid_svc_pred)\n",
    "grid_svc_confusion_matrix"
   ]
  },
  {
   "cell_type": "code",
   "execution_count": 152,
   "metadata": {},
   "outputs": [
    {
     "name": "stdout",
     "output_type": "stream",
     "text": [
      "accuracy: 0.8897058823529411\n",
      "recall: 0.7272727272727273\n",
      "precision: 0.8615384615384616\n"
     ]
    }
   ],
   "source": [
    "grid_tp = grid_svc_confusion_matrix[1][1]\n",
    "grid_fn = grid_svc_confusion_matrix[1][0]\n",
    "grid_fp = grid_svc_confusion_matrix[0][1]\n",
    "grid_tn = grid_svc_confusion_matrix[0][0]\n",
    "grid_svc_recall = grid_tp/(grid_tp+grid_fn)\n",
    "grid_svc_precision = grid_tp/(grid_tp+grid_fp)\n",
    "grid_svc_accuracy = (grid_tp+grid_tn)/(grid_tp+grid_fp+grid_tn+grid_fn)\n",
    "print(f'accuracy: {grid_svc_accuracy}')\n",
    "print(f'recall: {grid_svc_recall}')\n",
    "print(f'precision: {grid_svc_precision}')"
   ]
  },
  {
   "cell_type": "code",
   "execution_count": 157,
   "metadata": {},
   "outputs": [
    {
     "data": {
      "text/plain": [
       "0.9269861540529641"
      ]
     },
     "execution_count": 157,
     "metadata": {},
     "output_type": "execute_result"
    }
   ],
   "source": [
    "grid_svc_clf.best_score_"
   ]
  },
  {
   "cell_type": "markdown",
   "metadata": {},
   "source": [
    "If anything, overfitting noisy training data?"
   ]
  },
  {
   "cell_type": "code",
   "execution_count": 155,
   "metadata": {},
   "outputs": [
    {
     "name": "stdout",
     "output_type": "stream",
     "text": [
      "clf__C: 1\n",
      "clf__kernel: 'linear'\n",
      "vect__max_df: 0.6\n",
      "vect__min_df: 2\n",
      "vect__ngram_range: (1, 2)\n"
     ]
    }
   ],
   "source": [
    "for param_name in sorted(svc_parameters.keys()):\n",
    "    print(\"%s: %r\" % (param_name, grid_svc_clf.best_params_[param_name]))"
   ]
  },
  {
   "cell_type": "markdown",
   "metadata": {},
   "source": [
    "Goes for linear kernel!"
   ]
  },
  {
   "cell_type": "code",
   "execution_count": 156,
   "metadata": {},
   "outputs": [],
   "source": [
    "with open('classifiers/SVC_2.pickle', 'wb') as fout:\n",
    "    pickle.dump(grid_svc_clf.best_estimator_, fout)"
   ]
  },
  {
   "cell_type": "markdown",
   "metadata": {},
   "source": [
    "## Apply Model with Best Params to Dataset"
   ]
  },
  {
   "cell_type": "markdown",
   "metadata": {},
   "source": [
    "Some of these include articles that will be in the test set. I don't think this is a big deal."
   ]
  },
  {
   "cell_type": "code",
   "execution_count": 8,
   "metadata": {},
   "outputs": [],
   "source": [
    "# If necessary reload model:\n",
    "with open('classifiers/NB_2_v2.pickle', 'rb') as fin:\n",
    "  phil_classifier_2 = pickle.load(fin)"
   ]
  },
  {
   "cell_type": "code",
   "execution_count": 3,
   "metadata": {},
   "outputs": [],
   "source": [
    "def filter_short_articles(string):\n",
    "    if len(string)<800:\n",
    "        string = ''\n",
    "    return string"
   ]
  },
  {
   "cell_type": "markdown",
   "metadata": {},
   "source": [
    "A multicore attempt at fitting model (via https://github.com/scikit-learn/scikit-learn/issues/7448).\n",
    "\n",
    "Final result is a list of all articles classified as true along with 'Title' and 'Text' columns."
   ]
  },
  {
   "cell_type": "code",
   "execution_count": 4,
   "metadata": {},
   "outputs": [],
   "source": [
    "slices_directory = '/home/joshua/Documents/data601_small_slices/'\n",
    "slices = [f'{slices_directory}{path}' for path in os.listdir(slices_directory)]"
   ]
  },
  {
   "cell_type": "code",
   "execution_count": 7,
   "metadata": {},
   "outputs": [],
   "source": [
    "# This only takes one argument to enable the 'imap' later.\n",
    "def phil_from_slice(slice_path):\n",
    "    df = pd.read_pickle(slice_path)\n",
    "    series = (\n",
    "        df['Text']\n",
    "        .map(NL_helpers.blocks2string)\n",
    "        .map(filter_short_articles)\n",
    "    )\n",
    "    series.drop(series[series==''].index, inplace=True)\n",
    "    predictions = pd.Series(data=phil_classifier_2.predict(series))\n",
    "    predictions.index = series.index\n",
    "    phil = df[['Title', 'Text']].loc[predictions[predictions].index]\n",
    "    del df\n",
    "    return phil\n",
    "    "
   ]
  },
  {
   "cell_type": "code",
   "execution_count": 8,
   "metadata": {},
   "outputs": [],
   "source": [
    "phil_nb2 = []\n",
    "if __name__ == '__main__':\n",
    "    with Pool(processes=os.cpu_count()//4) as pool:\n",
    "        phil_predictions = pool.imap(phil_from_slice, slices)\n",
    "        for prediction in phil_predictions:\n",
    "            phil_nb2.append(prediction)"
   ]
  },
  {
   "cell_type": "code",
   "execution_count": 9,
   "metadata": {},
   "outputs": [],
   "source": [
    "total_phil = 0\n",
    "for item in phil_nb2:\n",
    "    total_phil += len(item)"
   ]
  },
  {
   "cell_type": "code",
   "execution_count": 10,
   "metadata": {},
   "outputs": [
    {
     "data": {
      "text/plain": [
       "36537"
      ]
     },
     "execution_count": 10,
     "metadata": {},
     "output_type": "execute_result"
    }
   ],
   "source": [
    "total_phil"
   ]
  },
  {
   "cell_type": "markdown",
   "metadata": {},
   "source": [
    "prev: 287832, new: 44730; prev_2: 44730, new_2: 36537."
   ]
  },
  {
   "cell_type": "code",
   "execution_count": 11,
   "metadata": {},
   "outputs": [],
   "source": [
    "all_phil_nb2 = pd.concat(phil_nb2)"
   ]
  },
  {
   "cell_type": "code",
   "execution_count": 14,
   "metadata": {},
   "outputs": [],
   "source": [
    "all_phil_nb2 = all_phil_nb2.loc[~all_phil_nb2.index.duplicated()]"
   ]
  },
  {
   "cell_type": "code",
   "execution_count": 15,
   "metadata": {},
   "outputs": [
    {
     "data": {
      "text/plain": [
       "31131"
      ]
     },
     "execution_count": 15,
     "metadata": {},
     "output_type": "execute_result"
    }
   ],
   "source": [
    "len(all_phil_nb2)"
   ]
  },
  {
   "cell_type": "code",
   "execution_count": 16,
   "metadata": {},
   "outputs": [
    {
     "data": {
      "text/html": [
       "<div>\n",
       "<style scoped>\n",
       "    .dataframe tbody tr th:only-of-type {\n",
       "        vertical-align: middle;\n",
       "    }\n",
       "\n",
       "    .dataframe tbody tr th {\n",
       "        vertical-align: top;\n",
       "    }\n",
       "\n",
       "    .dataframe thead th {\n",
       "        text-align: right;\n",
       "    }\n",
       "</style>\n",
       "<table border=\"1\" class=\"dataframe\">\n",
       "  <thead>\n",
       "    <tr style=\"text-align: right;\">\n",
       "      <th></th>\n",
       "      <th>Title</th>\n",
       "      <th>Text</th>\n",
       "    </tr>\n",
       "  </thead>\n",
       "  <tbody>\n",
       "    <tr>\n",
       "      <th>LT_18940102_ARTICLE15</th>\n",
       "      <td>ROMANTIC WOMEN.</td>\n",
       "      <td>[Most women are inclined to be romantic. This ...</td>\n",
       "    </tr>\n",
       "    <tr>\n",
       "      <th>LT_18940108_ARTICLE22</th>\n",
       "      <td>The Lyttelton Times. MONDAY. JAN. 8, 1894.</td>\n",
       "      <td>[Among the five bishops who passed away last y...</td>\n",
       "    </tr>\n",
       "    <tr>\n",
       "      <th>LT_18940109_ARTICLE7</th>\n",
       "      <td>THE TASK OF THE BIOLOGIST.</td>\n",
       "      <td>[No. 11. When chemistry had finished _ shaping...</td>\n",
       "    </tr>\n",
       "    <tr>\n",
       "      <th>LT_18940115_ARTICLE5</th>\n",
       "      <td>THE THEORY OF EVOLUTION.</td>\n",
       "      <td>[SIGNIFICANT RUDIMENTS. [BY W.G.P.] No. lII.' ...</td>\n",
       "    </tr>\n",
       "    <tr>\n",
       "      <th>LT_18940124_ARTICLE6</th>\n",
       "      <td>THE THEORY OF EVOLUTION.</td>\n",
       "      <td>[THE CEADLE OP THOUGHT. [BY W.G.P.] No. IV. Iu...</td>\n",
       "    </tr>\n",
       "    <tr>\n",
       "      <th>...</th>\n",
       "      <td>...</td>\n",
       "      <td>...</td>\n",
       "    </tr>\n",
       "    <tr>\n",
       "      <th>ODT_18790118_ARTICLE23</th>\n",
       "      <td>UNTITLED</td>\n",
       "      <td>[Sir,—Before the public can fairly under stand...</td>\n",
       "    </tr>\n",
       "    <tr>\n",
       "      <th>ODT_18790120_ARTICLE11</th>\n",
       "      <td>THE BIBLE IN SCHOOLS.</td>\n",
       "      <td>[The Rev. Dr Roseby presched en this sub j set...</td>\n",
       "    </tr>\n",
       "    <tr>\n",
       "      <th>ODT_18790120_ARTICLE17</th>\n",
       "      <td>THE EARLY SETTLERS AND THE BIBLE. TO THE EDITOR.</td>\n",
       "      <td>[Sir, —I was gratified to read in your leading...</td>\n",
       "    </tr>\n",
       "    <tr>\n",
       "      <th>ODT_18790121_ARTICLE3</th>\n",
       "      <td>The Otago Daily Times. WITH WHICH IS INCORPORA...</td>\n",
       "      <td>[The Committee appointed by the Athenceum meet...</td>\n",
       "    </tr>\n",
       "    <tr>\n",
       "      <th>ODT_18790121_ARTICLE17</th>\n",
       "      <td>THE BIBLE SCHOOLS. TO THE EDITOR.</td>\n",
       "      <td>[Sia,—lt may not be out of place, in the prese...</td>\n",
       "    </tr>\n",
       "  </tbody>\n",
       "</table>\n",
       "<p>31131 rows × 2 columns</p>\n",
       "</div>"
      ],
      "text/plain": [
       "                                                                    Title  \\\n",
       "LT_18940102_ARTICLE15                                     ROMANTIC WOMEN.   \n",
       "LT_18940108_ARTICLE22          The Lyttelton Times. MONDAY. JAN. 8, 1894.   \n",
       "LT_18940109_ARTICLE7                           THE TASK OF THE BIOLOGIST.   \n",
       "LT_18940115_ARTICLE5                             THE THEORY OF EVOLUTION.   \n",
       "LT_18940124_ARTICLE6                             THE THEORY OF EVOLUTION.   \n",
       "...                                                                   ...   \n",
       "ODT_18790118_ARTICLE23                                           UNTITLED   \n",
       "ODT_18790120_ARTICLE11                              THE BIBLE IN SCHOOLS.   \n",
       "ODT_18790120_ARTICLE17   THE EARLY SETTLERS AND THE BIBLE. TO THE EDITOR.   \n",
       "ODT_18790121_ARTICLE3   The Otago Daily Times. WITH WHICH IS INCORPORA...   \n",
       "ODT_18790121_ARTICLE17                  THE BIBLE SCHOOLS. TO THE EDITOR.   \n",
       "\n",
       "                                                                     Text  \n",
       "LT_18940102_ARTICLE15   [Most women are inclined to be romantic. This ...  \n",
       "LT_18940108_ARTICLE22   [Among the five bishops who passed away last y...  \n",
       "LT_18940109_ARTICLE7    [No. 11. When chemistry had finished _ shaping...  \n",
       "LT_18940115_ARTICLE5    [SIGNIFICANT RUDIMENTS. [BY W.G.P.] No. lII.' ...  \n",
       "LT_18940124_ARTICLE6    [THE CEADLE OP THOUGHT. [BY W.G.P.] No. IV. Iu...  \n",
       "...                                                                   ...  \n",
       "ODT_18790118_ARTICLE23  [Sir,—Before the public can fairly under stand...  \n",
       "ODT_18790120_ARTICLE11  [The Rev. Dr Roseby presched en this sub j set...  \n",
       "ODT_18790120_ARTICLE17  [Sir, —I was gratified to read in your leading...  \n",
       "ODT_18790121_ARTICLE3   [The Committee appointed by the Athenceum meet...  \n",
       "ODT_18790121_ARTICLE17  [Sia,—lt may not be out of place, in the prese...  \n",
       "\n",
       "[31131 rows x 2 columns]"
      ]
     },
     "execution_count": 16,
     "metadata": {},
     "output_type": "execute_result"
    }
   ],
   "source": [
    "all_phil_nb2"
   ]
  },
  {
   "cell_type": "code",
   "execution_count": 17,
   "metadata": {},
   "outputs": [],
   "source": [
    "all_phil_nb2.to_pickle('pickles/nb2_philoso_df_v2.tar.gz')"
   ]
  }
 ],
 "metadata": {
  "kernelspec": {
   "display_name": "Python 3",
   "language": "python",
   "name": "python3"
  },
  "language_info": {
   "codemirror_mode": {
    "name": "ipython",
    "version": 3
   },
   "file_extension": ".py",
   "mimetype": "text/x-python",
   "name": "python",
   "nbconvert_exporter": "python",
   "pygments_lexer": "ipython3",
   "version": "3.7.6"
  }
 },
 "nbformat": 4,
 "nbformat_minor": 4
}

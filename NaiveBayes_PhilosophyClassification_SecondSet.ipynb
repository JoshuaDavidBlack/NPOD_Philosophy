{
 "cells": [
  {
   "cell_type": "markdown",
   "metadata": {},
   "source": [
    "# First Application of Naive Bayes to Philosophy/Non-Philosophy Classification"
   ]
  },
  {
   "cell_type": "code",
   "execution_count": 1,
   "metadata": {},
   "outputs": [],
   "source": [
    "import os\n",
    "import pickle\n",
    "from multiprocessing import Pool\n",
    "\n",
    "from ipywidgets import interact, interactive, fixed, interact_manual\n",
    "import ipywidgets as widgets\n",
    "\n",
    "from nltk.corpus import stopwords\n",
    "\n",
    "import numpy as np\n",
    "\n",
    "from sklearn import metrics\n",
    "from sklearn.feature_extraction.text import CountVectorizer, TfidfTransformer\n",
    "from sklearn.model_selection import GridSearchCV\n",
    "from sklearn.naive_bayes import MultinomialNB\n",
    "from sklearn.svm import SVC\n",
    "from sklearn.pipeline import Pipeline\n",
    "\n",
    "import pandas as pd\n",
    "\n",
    "import NL_helpers\n",
    "\n",
    "STOPWORDS = list(stopwords.words('english'))\n",
    "STOPWORDS_2 = STOPWORDS + ['philosophy']"
   ]
  },
  {
   "cell_type": "markdown",
   "metadata": {},
   "source": [
    "## Load Labels and Corresponding Texts"
   ]
  },
  {
   "cell_type": "markdown",
   "metadata": {},
   "source": [
    "Load labels with article codes."
   ]
  },
  {
   "cell_type": "code",
   "execution_count": 2,
   "metadata": {},
   "outputs": [],
   "source": [
    "annotated_df = pd.read_pickle('pickles/classified_df.pickle')"
   ]
  },
  {
   "cell_type": "code",
   "execution_count": 3,
   "metadata": {
    "scrolled": true
   },
   "outputs": [
    {
     "data": {
      "text/html": [
       "<div>\n",
       "<style scoped>\n",
       "    .dataframe tbody tr th:only-of-type {\n",
       "        vertical-align: middle;\n",
       "    }\n",
       "\n",
       "    .dataframe tbody tr th {\n",
       "        vertical-align: top;\n",
       "    }\n",
       "\n",
       "    .dataframe thead th {\n",
       "        text-align: right;\n",
       "    }\n",
       "</style>\n",
       "<table border=\"1\" class=\"dataframe\">\n",
       "  <thead>\n",
       "    <tr style=\"text-align: right;\">\n",
       "      <th></th>\n",
       "      <th>Readable</th>\n",
       "      <th>Philosophy</th>\n",
       "      <th>Philosophy Type</th>\n",
       "      <th>Writing Type</th>\n",
       "      <th>NZ</th>\n",
       "      <th>Notes</th>\n",
       "    </tr>\n",
       "  </thead>\n",
       "  <tbody>\n",
       "    <tr>\n",
       "      <th>LT_18971209_ARTICLE7</th>\n",
       "      <td>True</td>\n",
       "      <td>False</td>\n",
       "      <td>None</td>\n",
       "      <td>None</td>\n",
       "      <td>None</td>\n",
       "      <td></td>\n",
       "    </tr>\n",
       "    <tr>\n",
       "      <th>NZTIM_18860722_ARTICLE11</th>\n",
       "      <td>True</td>\n",
       "      <td>False</td>\n",
       "      <td>None</td>\n",
       "      <td>None</td>\n",
       "      <td>None</td>\n",
       "      <td></td>\n",
       "    </tr>\n",
       "    <tr>\n",
       "      <th>WC_18810721_ARTICLE7</th>\n",
       "      <td>True</td>\n",
       "      <td>False</td>\n",
       "      <td>None</td>\n",
       "      <td>None</td>\n",
       "      <td>None</td>\n",
       "      <td></td>\n",
       "    </tr>\n",
       "    <tr>\n",
       "      <th>DUNST_18980513_ARTICLE3</th>\n",
       "      <td>True</td>\n",
       "      <td>False</td>\n",
       "      <td>None</td>\n",
       "      <td>None</td>\n",
       "      <td>None</td>\n",
       "      <td></td>\n",
       "    </tr>\n",
       "    <tr>\n",
       "      <th>OAM_18960702_ARTICLE35</th>\n",
       "      <td>True</td>\n",
       "      <td>False</td>\n",
       "      <td>None</td>\n",
       "      <td>None</td>\n",
       "      <td>None</td>\n",
       "      <td></td>\n",
       "    </tr>\n",
       "    <tr>\n",
       "      <th>...</th>\n",
       "      <td>...</td>\n",
       "      <td>...</td>\n",
       "      <td>...</td>\n",
       "      <td>...</td>\n",
       "      <td>...</td>\n",
       "      <td>...</td>\n",
       "    </tr>\n",
       "    <tr>\n",
       "      <th>AG_18840116_ARTICLE5</th>\n",
       "      <td>True</td>\n",
       "      <td>False</td>\n",
       "      <td>None</td>\n",
       "      <td>None</td>\n",
       "      <td>None</td>\n",
       "      <td></td>\n",
       "    </tr>\n",
       "    <tr>\n",
       "      <th>MS_18830117_ARTICLE19</th>\n",
       "      <td>True</td>\n",
       "      <td>False</td>\n",
       "      <td>None</td>\n",
       "      <td>None</td>\n",
       "      <td>None</td>\n",
       "      <td></td>\n",
       "    </tr>\n",
       "    <tr>\n",
       "      <th>GRA_18970305_ARTICLE3</th>\n",
       "      <td>True</td>\n",
       "      <td>False</td>\n",
       "      <td>None</td>\n",
       "      <td>None</td>\n",
       "      <td>None</td>\n",
       "      <td></td>\n",
       "    </tr>\n",
       "    <tr>\n",
       "      <th>LT_18800611_ARTICLE5</th>\n",
       "      <td>True</td>\n",
       "      <td>False</td>\n",
       "      <td>None</td>\n",
       "      <td>None</td>\n",
       "      <td>None</td>\n",
       "      <td></td>\n",
       "    </tr>\n",
       "    <tr>\n",
       "      <th>AG_18910526_ARTICLE8</th>\n",
       "      <td>True</td>\n",
       "      <td>False</td>\n",
       "      <td>None</td>\n",
       "      <td>None</td>\n",
       "      <td>None</td>\n",
       "      <td></td>\n",
       "    </tr>\n",
       "  </tbody>\n",
       "</table>\n",
       "<p>959 rows × 6 columns</p>\n",
       "</div>"
      ],
      "text/plain": [
       "                         Readable Philosophy Philosophy Type Writing Type  \\\n",
       "LT_18971209_ARTICLE7         True      False            None         None   \n",
       "NZTIM_18860722_ARTICLE11     True      False            None         None   \n",
       "WC_18810721_ARTICLE7         True      False            None         None   \n",
       "DUNST_18980513_ARTICLE3      True      False            None         None   \n",
       "OAM_18960702_ARTICLE35       True      False            None         None   \n",
       "...                           ...        ...             ...          ...   \n",
       "AG_18840116_ARTICLE5         True      False            None         None   \n",
       "MS_18830117_ARTICLE19        True      False            None         None   \n",
       "GRA_18970305_ARTICLE3        True      False            None         None   \n",
       "LT_18800611_ARTICLE5         True      False            None         None   \n",
       "AG_18910526_ARTICLE8         True      False            None         None   \n",
       "\n",
       "                            NZ Notes  \n",
       "LT_18971209_ARTICLE7      None        \n",
       "NZTIM_18860722_ARTICLE11  None        \n",
       "WC_18810721_ARTICLE7      None        \n",
       "DUNST_18980513_ARTICLE3   None        \n",
       "OAM_18960702_ARTICLE35    None        \n",
       "...                        ...   ...  \n",
       "AG_18840116_ARTICLE5      None        \n",
       "MS_18830117_ARTICLE19     None        \n",
       "GRA_18970305_ARTICLE3     None        \n",
       "LT_18800611_ARTICLE5      None        \n",
       "AG_18910526_ARTICLE8      None        \n",
       "\n",
       "[959 rows x 6 columns]"
      ]
     },
     "execution_count": 3,
     "metadata": {},
     "output_type": "execute_result"
    }
   ],
   "source": [
    "annotated_df"
   ]
  },
  {
   "cell_type": "markdown",
   "metadata": {},
   "source": [
    "Use article codes to load texts."
   ]
  },
  {
   "cell_type": "code",
   "execution_count": 4,
   "metadata": {},
   "outputs": [],
   "source": [
    "dataset_path = '/home/joshua/hdd/Datasets/papers-past/'"
   ]
  },
  {
   "cell_type": "markdown",
   "metadata": {},
   "source": [
    "The total dataset is divided into nine pickles. The following code runs through each, and collects the text for any articles in the annotated df using a left join opperation."
   ]
  },
  {
   "cell_type": "code",
   "execution_count": 5,
   "metadata": {},
   "outputs": [],
   "source": [
    "texts = pd.DataFrame(index=annotated_df.index)\n",
    "for i in range(9):\n",
    "    df = pd.read_pickle(dataset_path+f'corpus_df_{i}.tar.gz')\n",
    "    matching_df = texts.join(df['Text'])\n",
    "    annotated_df = annotated_df.combine_first(matching_df)\n",
    "    del matching_df, df # May aid python memory management"
   ]
  },
  {
   "cell_type": "markdown",
   "metadata": {},
   "source": [
    "Change text from list to simple string"
   ]
  },
  {
   "cell_type": "code",
   "execution_count": 6,
   "metadata": {},
   "outputs": [],
   "source": [
    "annotated_df['Text'] = annotated_df['Text'].map(NL_helpers.blocks2string)"
   ]
  },
  {
   "cell_type": "code",
   "execution_count": 7,
   "metadata": {},
   "outputs": [],
   "source": [
    "annotated_df.to_pickle('pickles/classified_with_text_df.pickle')"
   ]
  },
  {
   "cell_type": "code",
   "execution_count": 3,
   "metadata": {},
   "outputs": [],
   "source": [
    "# annotated_df = pd.read_pickle('pickles/classified_with_text_df.pickle')"
   ]
  },
  {
   "cell_type": "code",
   "execution_count": 9,
   "metadata": {},
   "outputs": [
    {
     "data": {
      "text/plain": [
       "False    620\n",
       "True     299\n",
       "Name: Philosophy, dtype: int64"
      ]
     },
     "execution_count": 9,
     "metadata": {},
     "output_type": "execute_result"
    }
   ],
   "source": [
    "annotated_df['Philosophy'].value_counts()"
   ]
  },
  {
   "cell_type": "markdown",
   "metadata": {},
   "source": [
    "I will go for a 75/25 training/test split on the philosophy observations. I will do the same on 100 of the non-philosophy and then add the remaining 47 non-philosophy articles to the test set. This should somewhat mimic the prevalence of non-philosophy articles in the overall dataset."
   ]
  },
  {
   "cell_type": "code",
   "execution_count": 38,
   "metadata": {},
   "outputs": [],
   "source": [
    "training_phil = annotated_df.loc[annotated_df['Philosophy']==True].sample(n=299//4 * 3)\n",
    "training_nonphil = annotated_df.loc[annotated_df['Philosophy']==False].sample(n=620//4*3)\n",
    "training_df = training_phil.append(training_nonphil)\n",
    "del training_phil, training_nonphil"
   ]
  },
  {
   "cell_type": "code",
   "execution_count": 39,
   "metadata": {},
   "outputs": [],
   "source": [
    "test_df = annotated_df.loc[[i for i in annotated_df.index if not i in training_df.index]]"
   ]
  },
  {
   "cell_type": "code",
   "execution_count": 40,
   "metadata": {},
   "outputs": [
    {
     "data": {
      "text/html": [
       "<div>\n",
       "<style scoped>\n",
       "    .dataframe tbody tr th:only-of-type {\n",
       "        vertical-align: middle;\n",
       "    }\n",
       "\n",
       "    .dataframe tbody tr th {\n",
       "        vertical-align: top;\n",
       "    }\n",
       "\n",
       "    .dataframe thead th {\n",
       "        text-align: right;\n",
       "    }\n",
       "</style>\n",
       "<table border=\"1\" class=\"dataframe\">\n",
       "  <thead>\n",
       "    <tr style=\"text-align: right;\">\n",
       "      <th></th>\n",
       "      <th>NZ</th>\n",
       "      <th>Notes</th>\n",
       "      <th>Philosophy</th>\n",
       "      <th>Philosophy Type</th>\n",
       "      <th>Readable</th>\n",
       "      <th>Text</th>\n",
       "      <th>Writing Type</th>\n",
       "    </tr>\n",
       "  </thead>\n",
       "  <tbody>\n",
       "    <tr>\n",
       "      <th>NZTIM_18860722_ARTICLE11</th>\n",
       "      <td>None</td>\n",
       "      <td></td>\n",
       "      <td>False</td>\n",
       "      <td>None</td>\n",
       "      <td>True</td>\n",
       "      <td>By.Eleotbio Telegraph—Copyright. (BEDIEB’S TEL...</td>\n",
       "      <td>None</td>\n",
       "    </tr>\n",
       "    <tr>\n",
       "      <th>AG_18920514_ARTICLE2</th>\n",
       "      <td>None</td>\n",
       "      <td></td>\n",
       "      <td>False</td>\n",
       "      <td>None</td>\n",
       "      <td>True</td>\n",
       "      <td>At the recent annual election of members of th...</td>\n",
       "      <td>None</td>\n",
       "    </tr>\n",
       "    <tr>\n",
       "      <th>NEM_18930614_ARTICLE34</th>\n",
       "      <td>True</td>\n",
       "      <td>First part: somewhat readable complaint about ...</td>\n",
       "      <td>True</td>\n",
       "      <td>o</td>\n",
       "      <td>True</td>\n",
       "      <td>DESIGNING CHARLATANS.\\nThe following remarks a...</td>\n",
       "      <td>f</td>\n",
       "    </tr>\n",
       "    <tr>\n",
       "      <th>WT_18760815_ARTICLE1</th>\n",
       "      <td>None</td>\n",
       "      <td></td>\n",
       "      <td>None</td>\n",
       "      <td>None</td>\n",
       "      <td>False</td>\n",
       "      <td>Mr X ITU rt-pjrts that at Mr Oibson'i clearing...</td>\n",
       "      <td>None</td>\n",
       "    </tr>\n",
       "    <tr>\n",
       "      <th>BH_18771127_ARTICLE14</th>\n",
       "      <td>None</td>\n",
       "      <td></td>\n",
       "      <td>None</td>\n",
       "      <td>None</td>\n",
       "      <td>False</td>\n",
       "      <td>- ■■ ;• I Fob a distance al mg the riv*r above...</td>\n",
       "      <td>None</td>\n",
       "    </tr>\n",
       "    <tr>\n",
       "      <th>...</th>\n",
       "      <td>...</td>\n",
       "      <td>...</td>\n",
       "      <td>...</td>\n",
       "      <td>...</td>\n",
       "      <td>...</td>\n",
       "      <td>...</td>\n",
       "      <td>...</td>\n",
       "    </tr>\n",
       "    <tr>\n",
       "      <th>FS_18970311_ARTICLE12</th>\n",
       "      <td>None</td>\n",
       "      <td></td>\n",
       "      <td>False</td>\n",
       "      <td>None</td>\n",
       "      <td>True</td>\n",
       "      <td>SHOCKING CRIME. A PHILANTHROPIST. (Per Press A...</td>\n",
       "      <td>None</td>\n",
       "    </tr>\n",
       "    <tr>\n",
       "      <th>ODT_18760718_ARTICLE3</th>\n",
       "      <td>None</td>\n",
       "      <td></td>\n",
       "      <td>False</td>\n",
       "      <td>None</td>\n",
       "      <td>True</td>\n",
       "      <td>Daily Times Office, Monday oYeninK. Tha amount...</td>\n",
       "      <td>None</td>\n",
       "    </tr>\n",
       "    <tr>\n",
       "      <th>CHP_18680716_ARTICLE12</th>\n",
       "      <td>None</td>\n",
       "      <td></td>\n",
       "      <td>False</td>\n",
       "      <td>None</td>\n",
       "      <td>True</td>\n",
       "      <td>It appears that the Government has instructed ...</td>\n",
       "      <td>None</td>\n",
       "    </tr>\n",
       "    <tr>\n",
       "      <th>WT_18900422_ARTICLE8</th>\n",
       "      <td>None</td>\n",
       "      <td></td>\n",
       "      <td>False</td>\n",
       "      <td>None</td>\n",
       "      <td>True</td>\n",
       "      <td>Walwouth.—On April 18fch, at Tauwhare, Jane, t...</td>\n",
       "      <td>None</td>\n",
       "    </tr>\n",
       "    <tr>\n",
       "      <th>GRA_18970305_ARTICLE3</th>\n",
       "      <td>None</td>\n",
       "      <td></td>\n",
       "      <td>False</td>\n",
       "      <td>None</td>\n",
       "      <td>True</td>\n",
       "      <td>This day— For Dunedln, per Herald, at 11 am. F...</td>\n",
       "      <td>None</td>\n",
       "    </tr>\n",
       "  </tbody>\n",
       "</table>\n",
       "<p>272 rows × 7 columns</p>\n",
       "</div>"
      ],
      "text/plain": [
       "                            NZ  \\\n",
       "NZTIM_18860722_ARTICLE11  None   \n",
       "AG_18920514_ARTICLE2      None   \n",
       "NEM_18930614_ARTICLE34    True   \n",
       "WT_18760815_ARTICLE1      None   \n",
       "BH_18771127_ARTICLE14     None   \n",
       "...                        ...   \n",
       "FS_18970311_ARTICLE12     None   \n",
       "ODT_18760718_ARTICLE3     None   \n",
       "CHP_18680716_ARTICLE12    None   \n",
       "WT_18900422_ARTICLE8      None   \n",
       "GRA_18970305_ARTICLE3     None   \n",
       "\n",
       "                                                                      Notes  \\\n",
       "NZTIM_18860722_ARTICLE11                                                      \n",
       "AG_18920514_ARTICLE2                                                          \n",
       "NEM_18930614_ARTICLE34    First part: somewhat readable complaint about ...   \n",
       "WT_18760815_ARTICLE1                                                          \n",
       "BH_18771127_ARTICLE14                                                         \n",
       "...                                                                     ...   \n",
       "FS_18970311_ARTICLE12                                                         \n",
       "ODT_18760718_ARTICLE3                                                         \n",
       "CHP_18680716_ARTICLE12                                                        \n",
       "WT_18900422_ARTICLE8                                                          \n",
       "GRA_18970305_ARTICLE3                                                         \n",
       "\n",
       "                         Philosophy Philosophy Type Readable  \\\n",
       "NZTIM_18860722_ARTICLE11      False            None     True   \n",
       "AG_18920514_ARTICLE2          False            None     True   \n",
       "NEM_18930614_ARTICLE34         True               o     True   \n",
       "WT_18760815_ARTICLE1           None            None    False   \n",
       "BH_18771127_ARTICLE14          None            None    False   \n",
       "...                             ...             ...      ...   \n",
       "FS_18970311_ARTICLE12         False            None     True   \n",
       "ODT_18760718_ARTICLE3         False            None     True   \n",
       "CHP_18680716_ARTICLE12        False            None     True   \n",
       "WT_18900422_ARTICLE8          False            None     True   \n",
       "GRA_18970305_ARTICLE3         False            None     True   \n",
       "\n",
       "                                                                       Text  \\\n",
       "NZTIM_18860722_ARTICLE11  By.Eleotbio Telegraph—Copyright. (BEDIEB’S TEL...   \n",
       "AG_18920514_ARTICLE2      At the recent annual election of members of th...   \n",
       "NEM_18930614_ARTICLE34    DESIGNING CHARLATANS.\\nThe following remarks a...   \n",
       "WT_18760815_ARTICLE1      Mr X ITU rt-pjrts that at Mr Oibson'i clearing...   \n",
       "BH_18771127_ARTICLE14     - ■■ ;• I Fob a distance al mg the riv*r above...   \n",
       "...                                                                     ...   \n",
       "FS_18970311_ARTICLE12     SHOCKING CRIME. A PHILANTHROPIST. (Per Press A...   \n",
       "ODT_18760718_ARTICLE3     Daily Times Office, Monday oYeninK. Tha amount...   \n",
       "CHP_18680716_ARTICLE12    It appears that the Government has instructed ...   \n",
       "WT_18900422_ARTICLE8      Walwouth.—On April 18fch, at Tauwhare, Jane, t...   \n",
       "GRA_18970305_ARTICLE3     This day— For Dunedln, per Herald, at 11 am. F...   \n",
       "\n",
       "                         Writing Type  \n",
       "NZTIM_18860722_ARTICLE11         None  \n",
       "AG_18920514_ARTICLE2             None  \n",
       "NEM_18930614_ARTICLE34              f  \n",
       "WT_18760815_ARTICLE1             None  \n",
       "BH_18771127_ARTICLE14            None  \n",
       "...                               ...  \n",
       "FS_18970311_ARTICLE12            None  \n",
       "ODT_18760718_ARTICLE3            None  \n",
       "CHP_18680716_ARTICLE12           None  \n",
       "WT_18900422_ARTICLE8             None  \n",
       "GRA_18970305_ARTICLE3            None  \n",
       "\n",
       "[272 rows x 7 columns]"
      ]
     },
     "execution_count": 40,
     "metadata": {},
     "output_type": "execute_result"
    }
   ],
   "source": [
    "test_df"
   ]
  },
  {
   "cell_type": "markdown",
   "metadata": {},
   "source": [
    "Gonna try some class balance adjustment in a moment. Will just run the Naive Bayes first though."
   ]
  },
  {
   "cell_type": "code",
   "execution_count": 41,
   "metadata": {},
   "outputs": [
    {
     "data": {
      "text/plain": [
       "False    465\n",
       "True     222\n",
       "Name: Philosophy, dtype: int64"
      ]
     },
     "execution_count": 41,
     "metadata": {},
     "output_type": "execute_result"
    }
   ],
   "source": [
    "training_df['Philosophy'].value_counts()"
   ]
  },
  {
   "cell_type": "code",
   "execution_count": 106,
   "metadata": {},
   "outputs": [
    {
     "data": {
      "text/plain": [
       "p              27\n",
       "f              23\n",
       "l              22\n",
       "r               4\n",
       "input error     1\n",
       "Name: Writing Type, dtype: int64"
      ]
     },
     "execution_count": 106,
     "metadata": {},
     "output_type": "execute_result"
    }
   ],
   "source": [
    "test_df['Writing Type'].value_counts()"
   ]
  },
  {
   "cell_type": "markdown",
   "metadata": {},
   "source": [
    "## Set up Pipeline and Fit Model"
   ]
  },
  {
   "cell_type": "markdown",
   "metadata": {},
   "source": [
    "Tokeniser change from default: words of length 3+ rather than 2+."
   ]
  },
  {
   "cell_type": "code",
   "execution_count": 16,
   "metadata": {},
   "outputs": [],
   "source": [
    "phil_classifier = Pipeline([\n",
    "    ('vect', CountVectorizer(\n",
    "        max_df=0.4,\n",
    "        min_df=9,\n",
    "        stop_words=STOPWORDS, \n",
    "        token_pattern=r'(?u)\\b\\w\\w\\w+\\b')),\n",
    "    ('tfidf', TfidfTransformer()),\n",
    "    ('clf', MultinomialNB()),\n",
    "])"
   ]
  },
  {
   "cell_type": "code",
   "execution_count": 17,
   "metadata": {},
   "outputs": [],
   "source": [
    "training_features = training_df['Text'].astype('string').to_numpy()"
   ]
  },
  {
   "cell_type": "code",
   "execution_count": 18,
   "metadata": {},
   "outputs": [],
   "source": [
    "training_labels = training_df['Philosophy'].to_numpy().astype(bool)"
   ]
  },
  {
   "cell_type": "code",
   "execution_count": 20,
   "metadata": {
    "scrolled": true
   },
   "outputs": [
    {
     "data": {
      "text/plain": [
       "Pipeline(memory=None,\n",
       "         steps=[('vect',\n",
       "                 CountVectorizer(analyzer='word', binary=False,\n",
       "                                 decode_error='strict',\n",
       "                                 dtype=<class 'numpy.int64'>, encoding='utf-8',\n",
       "                                 input='content', lowercase=True, max_df=0.4,\n",
       "                                 max_features=None, min_df=9,\n",
       "                                 ngram_range=(1, 1), preprocessor=None,\n",
       "                                 stop_words=['i', 'me', 'my', 'myself', 'we',\n",
       "                                             'our', 'ours', 'ourselves', 'you',\n",
       "                                             \"you're\", \"you've\", \"you'll\",...\n",
       "                                             'yourself', 'yourselves', 'he',\n",
       "                                             'him', 'his', 'himself', 'she',\n",
       "                                             \"she's\", 'her', 'hers', 'herself',\n",
       "                                             'it', \"it's\", 'its', 'itself', ...],\n",
       "                                 strip_accents=None,\n",
       "                                 token_pattern='(?u)\\\\b\\\\w\\\\w\\\\w+\\\\b',\n",
       "                                 tokenizer=None, vocabulary=None)),\n",
       "                ('tfidf',\n",
       "                 TfidfTransformer(norm='l2', smooth_idf=True,\n",
       "                                  sublinear_tf=False, use_idf=True)),\n",
       "                ('clf',\n",
       "                 MultinomialNB(alpha=1.0, class_prior=None, fit_prior=True))],\n",
       "         verbose=False)"
      ]
     },
     "execution_count": 20,
     "metadata": {},
     "output_type": "execute_result"
    }
   ],
   "source": [
    "phil_classifier.fit(training_features, training_labels)"
   ]
  },
  {
   "cell_type": "code",
   "execution_count": 21,
   "metadata": {},
   "outputs": [],
   "source": [
    "test_features = test_df['Text'].astype('string').to_numpy()"
   ]
  },
  {
   "cell_type": "code",
   "execution_count": 22,
   "metadata": {},
   "outputs": [],
   "source": [
    "test_labels = test_df['Philosophy'].to_numpy().astype(bool)"
   ]
  },
  {
   "cell_type": "code",
   "execution_count": 23,
   "metadata": {},
   "outputs": [],
   "source": [
    "predicted = phil_classifier.predict(test_features)"
   ]
  },
  {
   "cell_type": "code",
   "execution_count": 24,
   "metadata": {},
   "outputs": [
    {
     "data": {
      "text/plain": [
       "0.8529411764705882"
      ]
     },
     "execution_count": 24,
     "metadata": {},
     "output_type": "execute_result"
    }
   ],
   "source": [
    "np.mean(predicted == test_labels)"
   ]
  },
  {
   "cell_type": "code",
   "execution_count": 25,
   "metadata": {},
   "outputs": [
    {
     "data": {
      "text/plain": [
       "array([[186,   9],\n",
       "       [ 31,  46]])"
      ]
     },
     "execution_count": 25,
     "metadata": {},
     "output_type": "execute_result"
    }
   ],
   "source": [
    "metrics.confusion_matrix(test_labels, predicted)"
   ]
  },
  {
   "cell_type": "code",
   "execution_count": 26,
   "metadata": {},
   "outputs": [
    {
     "data": {
      "text/plain": [
       "5228"
      ]
     },
     "execution_count": 26,
     "metadata": {},
     "output_type": "execute_result"
    }
   ],
   "source": [
    "len(phil_classifier['vect'].vocabulary_)"
   ]
  },
  {
   "cell_type": "markdown",
   "metadata": {},
   "source": [
    "## Grid Parameter Search"
   ]
  },
  {
   "cell_type": "markdown",
   "metadata": {},
   "source": [
    "ACK! - Results in this section are actually using the class balanced version of the dataset."
   ]
  },
  {
   "cell_type": "code",
   "execution_count": 89,
   "metadata": {},
   "outputs": [],
   "source": [
    "parameters = {\n",
    "    'vect__min_df': [7, 8, 9, 10, 11, 12],\n",
    "    'vect__max_df': [0.2, 0.3, 0.4, 0.5],\n",
    "    'vect__ngram_range': [(1, 1), (1, 2), (1, 3)],\n",
    "    'tfidf__use_idf': (True, False),\n",
    "}"
   ]
  },
  {
   "cell_type": "code",
   "execution_count": 107,
   "metadata": {},
   "outputs": [
    {
     "data": {
      "text/plain": [
       "GridSearchCV(cv=5, error_score=nan,\n",
       "             estimator=Pipeline(memory=None,\n",
       "                                steps=[('vect',\n",
       "                                        CountVectorizer(analyzer='word',\n",
       "                                                        binary=False,\n",
       "                                                        decode_error='strict',\n",
       "                                                        dtype=<class 'numpy.int64'>,\n",
       "                                                        encoding='utf-8',\n",
       "                                                        input='content',\n",
       "                                                        lowercase=True,\n",
       "                                                        max_df=0.4,\n",
       "                                                        max_features=None,\n",
       "                                                        min_df=9,\n",
       "                                                        ngram_range=(1, 1),\n",
       "                                                        preprocessor=None,\n",
       "                                                        stop_words=['i', 'me',\n",
       "                                                                    'my',\n",
       "                                                                    'myself',\n",
       "                                                                    'we', 'our',\n",
       "                                                                    'ours',\n",
       "                                                                    '...\n",
       "                                                         use_idf=True)),\n",
       "                                       ('clf',\n",
       "                                        MultinomialNB(alpha=1.0,\n",
       "                                                      class_prior=None,\n",
       "                                                      fit_prior=True))],\n",
       "                                verbose=False),\n",
       "             iid='deprecated', n_jobs=-1,\n",
       "             param_grid={'tfidf__use_idf': (True, False),\n",
       "                         'vect__max_df': [0.2, 0.3, 0.4, 0.5],\n",
       "                         'vect__min_df': [7, 8, 9, 10, 11, 12],\n",
       "                         'vect__ngram_range': [(1, 1), (1, 2), (1, 3)]},\n",
       "             pre_dispatch='2*n_jobs', refit=True, return_train_score=False,\n",
       "             scoring=None, verbose=0)"
      ]
     },
     "execution_count": 107,
     "metadata": {},
     "output_type": "execute_result"
    }
   ],
   "source": [
    "gs_clf = GridSearchCV(phil_classifier, parameters, cv=5, n_jobs=-1)\n",
    "gs_clf.fit(training_features, training_labels)"
   ]
  },
  {
   "cell_type": "code",
   "execution_count": 108,
   "metadata": {},
   "outputs": [
    {
     "data": {
      "text/plain": [
       "0.8807684729064039"
      ]
     },
     "execution_count": 108,
     "metadata": {},
     "output_type": "execute_result"
    }
   ],
   "source": [
    "gs_clf.best_score_"
   ]
  },
  {
   "cell_type": "code",
   "execution_count": 109,
   "metadata": {},
   "outputs": [
    {
     "name": "stdout",
     "output_type": "stream",
     "text": [
      "tfidf__use_idf: True\n",
      "vect__max_df: 0.2\n",
      "vect__min_df: 7\n",
      "vect__ngram_range: (1, 2)\n"
     ]
    }
   ],
   "source": [
    "for param_name in sorted(parameters.keys()):\n",
    "    print(\"%s: %r\" % (param_name, gs_clf.best_params_[param_name]))"
   ]
  },
  {
   "cell_type": "code",
   "execution_count": 111,
   "metadata": {},
   "outputs": [],
   "source": [
    "predicted = gs_clf.best_estimator_.predict(test_features)"
   ]
  },
  {
   "cell_type": "code",
   "execution_count": 112,
   "metadata": {},
   "outputs": [
    {
     "data": {
      "text/plain": [
       "0.8897058823529411"
      ]
     },
     "execution_count": 112,
     "metadata": {},
     "output_type": "execute_result"
    }
   ],
   "source": [
    "np.mean(predicted == test_labels)"
   ]
  },
  {
   "cell_type": "code",
   "execution_count": 113,
   "metadata": {},
   "outputs": [
    {
     "data": {
      "text/plain": [
       "array([[179,  16],\n",
       "       [ 14,  63]])"
      ]
     },
     "execution_count": 113,
     "metadata": {},
     "output_type": "execute_result"
    }
   ],
   "source": [
    "confusion_matrix = metrics.confusion_matrix(test_labels, predicted)\n",
    "confusion_matrix"
   ]
  },
  {
   "cell_type": "code",
   "execution_count": 152,
   "metadata": {},
   "outputs": [
    {
     "name": "stdout",
     "output_type": "stream",
     "text": [
      "recall: 0.8181818181818182\n",
      "precision: 0.7974683544303798\n"
     ]
    }
   ],
   "source": [
    "tp = confusion_matrix[1][1]\n",
    "fn = confusion_matrix[1][0]\n",
    "fp = confusion_matrix[0][1]\n",
    "tn = confusion_matrix[0][0]\n",
    "recall = tp/(tp+fn)\n",
    "precision = tp/(tp+fp)\n",
    "print(f'recall: {recall}')\n",
    "print(f'precision: {precision}')"
   ]
  },
  {
   "cell_type": "markdown",
   "metadata": {},
   "source": [
    "### Let's try fix the class balance."
   ]
  },
  {
   "cell_type": "markdown",
   "metadata": {},
   "source": [
    "I'm going to try to upsample the positives by randomly doubling just over half of them."
   ]
  },
  {
   "cell_type": "code",
   "execution_count": 53,
   "metadata": {},
   "outputs": [],
   "source": [
    "half_phil_indices = (\n",
    "    training_df[training_df['Philosophy']==True]\n",
    "    .sample(n=20) # This is not recoverable as code!\n",
    "    .index\n",
    ")\n",
    "for i in half_phil_indices:\n",
    "    training_df.loc[f'{i}_upsample'] = training_df.loc[i]"
   ]
  },
  {
   "cell_type": "code",
   "execution_count": 54,
   "metadata": {},
   "outputs": [
    {
     "data": {
      "text/plain": [
       "False    465\n",
       "True     407\n",
       "Name: Philosophy, dtype: int64"
      ]
     },
     "execution_count": 54,
     "metadata": {},
     "output_type": "execute_result"
    }
   ],
   "source": [
    "training_df['Philosophy'].value_counts()"
   ]
  },
  {
   "cell_type": "code",
   "execution_count": 56,
   "metadata": {},
   "outputs": [],
   "source": [
    "training_features = training_df['Text'].astype('string').to_numpy()\n",
    "training_labels = training_df['Philosophy'].to_numpy().astype(bool)"
   ]
  },
  {
   "cell_type": "code",
   "execution_count": 57,
   "metadata": {},
   "outputs": [
    {
     "data": {
      "text/plain": [
       "Pipeline(memory=None,\n",
       "         steps=[('vect',\n",
       "                 CountVectorizer(analyzer='word', binary=False,\n",
       "                                 decode_error='strict',\n",
       "                                 dtype=<class 'numpy.int64'>, encoding='utf-8',\n",
       "                                 input='content', lowercase=True, max_df=0.4,\n",
       "                                 max_features=None, min_df=9,\n",
       "                                 ngram_range=(1, 1), preprocessor=None,\n",
       "                                 stop_words=['i', 'me', 'my', 'myself', 'we',\n",
       "                                             'our', 'ours', 'ourselves', 'you',\n",
       "                                             \"you're\", \"you've\", \"you'll\",...\n",
       "                                             'yourself', 'yourselves', 'he',\n",
       "                                             'him', 'his', 'himself', 'she',\n",
       "                                             \"she's\", 'her', 'hers', 'herself',\n",
       "                                             'it', \"it's\", 'its', 'itself', ...],\n",
       "                                 strip_accents=None,\n",
       "                                 token_pattern='(?u)\\\\b\\\\w\\\\w\\\\w+\\\\b',\n",
       "                                 tokenizer=None, vocabulary=None)),\n",
       "                ('tfidf',\n",
       "                 TfidfTransformer(norm='l2', smooth_idf=True,\n",
       "                                  sublinear_tf=False, use_idf=True)),\n",
       "                ('clf',\n",
       "                 MultinomialNB(alpha=1.0, class_prior=None, fit_prior=True))],\n",
       "         verbose=False)"
      ]
     },
     "execution_count": 57,
     "metadata": {},
     "output_type": "execute_result"
    }
   ],
   "source": [
    "phil_classifier.fit(training_features, training_labels)"
   ]
  },
  {
   "cell_type": "code",
   "execution_count": 59,
   "metadata": {},
   "outputs": [],
   "source": [
    "test_features = test_df['Text'].astype('string').to_numpy()\n",
    "test_labels = test_df['Philosophy'].to_numpy().astype(bool)\n",
    "predicted = phil_classifier.predict(test_features)"
   ]
  },
  {
   "cell_type": "code",
   "execution_count": 151,
   "metadata": {},
   "outputs": [
    {
     "data": {
      "text/plain": [
       "0.8897058823529411"
      ]
     },
     "execution_count": 151,
     "metadata": {},
     "output_type": "execute_result"
    }
   ],
   "source": [
    "np.mean(predicted == test_labels)"
   ]
  },
  {
   "cell_type": "code",
   "execution_count": 150,
   "metadata": {},
   "outputs": [
    {
     "data": {
      "text/plain": [
       "array([[179,  16],\n",
       "       [ 14,  63]])"
      ]
     },
     "execution_count": 150,
     "metadata": {},
     "output_type": "execute_result"
    }
   ],
   "source": [
    "confusion_matrix = metrics.confusion_matrix(test_labels, predicted)\n",
    "confusion_matrix"
   ]
  },
  {
   "cell_type": "markdown",
   "metadata": {},
   "source": [
    "increase recall"
   ]
  },
  {
   "cell_type": "code",
   "execution_count": 83,
   "metadata": {},
   "outputs": [
    {
     "data": {
      "text/plain": [
       "GridSearchCV(cv=5, error_score=nan,\n",
       "             estimator=Pipeline(memory=None,\n",
       "                                steps=[('vect',\n",
       "                                        CountVectorizer(analyzer='word',\n",
       "                                                        binary=False,\n",
       "                                                        decode_error='strict',\n",
       "                                                        dtype=<class 'numpy.int64'>,\n",
       "                                                        encoding='utf-8',\n",
       "                                                        input='content',\n",
       "                                                        lowercase=True,\n",
       "                                                        max_df=0.4,\n",
       "                                                        max_features=None,\n",
       "                                                        min_df=9,\n",
       "                                                        ngram_range=(1, 1),\n",
       "                                                        preprocessor=None,\n",
       "                                                        stop_words=['i', 'me',\n",
       "                                                                    'my',\n",
       "                                                                    'myself',\n",
       "                                                                    'we', 'our',\n",
       "                                                                    'ours',\n",
       "                                                                    '...\n",
       "                                               'hers', 'herself', 'it', \"it's\",\n",
       "                                               'its', 'itself', ...],\n",
       "                                              ['i', 'me', 'my', 'myself', 'we',\n",
       "                                               'our', 'ours', 'ourselves',\n",
       "                                               'you', \"you're\", \"you've\",\n",
       "                                               \"you'll\", \"you'd\", 'your',\n",
       "                                               'yours', 'yourself',\n",
       "                                               'yourselves', 'he', 'him', 'his',\n",
       "                                               'himself', 'she', \"she's\", 'her',\n",
       "                                               'hers', 'herself', 'it', \"it's\",\n",
       "                                               'its', 'itself', ...]]},\n",
       "             pre_dispatch='2*n_jobs', refit=True, return_train_score=False,\n",
       "             scoring='recall', verbose=0)"
      ]
     },
     "execution_count": 83,
     "metadata": {},
     "output_type": "execute_result"
    }
   ],
   "source": [
    "gs_clf_r = GridSearchCV(\n",
    "    phil_classifier, \n",
    "    parameters, \n",
    "    cv=5, \n",
    "    scoring='recall',\n",
    "    n_jobs=-1)\n",
    "gs_clf_r.fit(training_features, training_labels)"
   ]
  },
  {
   "cell_type": "code",
   "execution_count": 84,
   "metadata": {},
   "outputs": [
    {
     "data": {
      "text/plain": [
       "0.9238482384823847"
      ]
     },
     "execution_count": 84,
     "metadata": {},
     "output_type": "execute_result"
    }
   ],
   "source": [
    "gs_clf_r.best_score_"
   ]
  },
  {
   "cell_type": "code",
   "execution_count": 85,
   "metadata": {
    "scrolled": true
   },
   "outputs": [
    {
     "name": "stdout",
     "output_type": "stream",
     "text": [
      "tfidf__use_idf: True\n",
      "vect__max_df: 0.5\n",
      "vect__min_df: 7\n",
      "vect__ngram_range: (1, 1)\n",
      "vect__stop_words: ['i', 'me', 'my', 'myself', 'we', 'our', 'ours', 'ourselves', 'you', \"you're\", \"you've\", \"you'll\", \"you'd\", 'your', 'yours', 'yourself', 'yourselves', 'he', 'him', 'his', 'himself', 'she', \"she's\", 'her', 'hers', 'herself', 'it', \"it's\", 'its', 'itself', 'they', 'them', 'their', 'theirs', 'themselves', 'what', 'which', 'who', 'whom', 'this', 'that', \"that'll\", 'these', 'those', 'am', 'is', 'are', 'was', 'were', 'be', 'been', 'being', 'have', 'has', 'had', 'having', 'do', 'does', 'did', 'doing', 'a', 'an', 'the', 'and', 'but', 'if', 'or', 'because', 'as', 'until', 'while', 'of', 'at', 'by', 'for', 'with', 'about', 'against', 'between', 'into', 'through', 'during', 'before', 'after', 'above', 'below', 'to', 'from', 'up', 'down', 'in', 'out', 'on', 'off', 'over', 'under', 'again', 'further', 'then', 'once', 'here', 'there', 'when', 'where', 'why', 'how', 'all', 'any', 'both', 'each', 'few', 'more', 'most', 'other', 'some', 'such', 'no', 'nor', 'not', 'only', 'own', 'same', 'so', 'than', 'too', 'very', 's', 't', 'can', 'will', 'just', 'don', \"don't\", 'should', \"should've\", 'now', 'd', 'll', 'm', 'o', 're', 've', 'y', 'ain', 'aren', \"aren't\", 'couldn', \"couldn't\", 'didn', \"didn't\", 'doesn', \"doesn't\", 'hadn', \"hadn't\", 'hasn', \"hasn't\", 'haven', \"haven't\", 'isn', \"isn't\", 'ma', 'mightn', \"mightn't\", 'mustn', \"mustn't\", 'needn', \"needn't\", 'shan', \"shan't\", 'shouldn', \"shouldn't\", 'wasn', \"wasn't\", 'weren', \"weren't\", 'won', \"won't\", 'wouldn', \"wouldn't\", 'philosophy']\n"
     ]
    }
   ],
   "source": [
    "for param_name in sorted(parameters.keys()):\n",
    "    print(\"%s: %r\" % (param_name, gs_clf_r.best_params_[param_name]))"
   ]
  },
  {
   "cell_type": "code",
   "execution_count": 99,
   "metadata": {},
   "outputs": [],
   "source": [
    "predicted_r = gs_clf_r.best_estimator_.predict(test_features)"
   ]
  },
  {
   "cell_type": "code",
   "execution_count": 100,
   "metadata": {},
   "outputs": [
    {
     "data": {
      "text/plain": [
       "0.8455882352941176"
      ]
     },
     "execution_count": 100,
     "metadata": {},
     "output_type": "execute_result"
    }
   ],
   "source": [
    "np.mean(predicted_r == test_labels)"
   ]
  },
  {
   "cell_type": "code",
   "execution_count": 148,
   "metadata": {},
   "outputs": [
    {
     "data": {
      "text/plain": [
       "array([[166,  29],\n",
       "       [ 13,  64]])"
      ]
     },
     "execution_count": 148,
     "metadata": {},
     "output_type": "execute_result"
    }
   ],
   "source": [
    "rec_confusion_matrix = metrics.confusion_matrix(test_labels, predicted_r)\n",
    "rec_confusion_matrix\n",
    "# y = true, x = predicted"
   ]
  },
  {
   "cell_type": "code",
   "execution_count": 149,
   "metadata": {},
   "outputs": [
    {
     "name": "stdout",
     "output_type": "stream",
     "text": [
      "recall: 0.8311688311688312\n",
      "precision: 0.6881720430107527\n"
     ]
    }
   ],
   "source": [
    "tp = rec_confusion_matrix[1][1]\n",
    "fn = rec_confusion_matrix[1][0]\n",
    "fp = rec_confusion_matrix[0][1]\n",
    "tn = rec_confusion_matrix[0][0]\n",
    "rec_recall = tp/(tp+fn)\n",
    "rec_precision = tp/(tp+fp)\n",
    "print(f'recall: {rec_recall}')\n",
    "print(f'precision: {rec_precision}')"
   ]
  },
  {
   "cell_type": "markdown",
   "metadata": {},
   "source": [
    "increase precision"
   ]
  },
  {
   "cell_type": "code",
   "execution_count": 86,
   "metadata": {},
   "outputs": [
    {
     "data": {
      "text/plain": [
       "GridSearchCV(cv=5, error_score=nan,\n",
       "             estimator=Pipeline(memory=None,\n",
       "                                steps=[('vect',\n",
       "                                        CountVectorizer(analyzer='word',\n",
       "                                                        binary=False,\n",
       "                                                        decode_error='strict',\n",
       "                                                        dtype=<class 'numpy.int64'>,\n",
       "                                                        encoding='utf-8',\n",
       "                                                        input='content',\n",
       "                                                        lowercase=True,\n",
       "                                                        max_df=0.4,\n",
       "                                                        max_features=None,\n",
       "                                                        min_df=9,\n",
       "                                                        ngram_range=(1, 1),\n",
       "                                                        preprocessor=None,\n",
       "                                                        stop_words=['i', 'me',\n",
       "                                                                    'my',\n",
       "                                                                    'myself',\n",
       "                                                                    'we', 'our',\n",
       "                                                                    'ours',\n",
       "                                                                    '...\n",
       "                                               'hers', 'herself', 'it', \"it's\",\n",
       "                                               'its', 'itself', ...],\n",
       "                                              ['i', 'me', 'my', 'myself', 'we',\n",
       "                                               'our', 'ours', 'ourselves',\n",
       "                                               'you', \"you're\", \"you've\",\n",
       "                                               \"you'll\", \"you'd\", 'your',\n",
       "                                               'yours', 'yourself',\n",
       "                                               'yourselves', 'he', 'him', 'his',\n",
       "                                               'himself', 'she', \"she's\", 'her',\n",
       "                                               'hers', 'herself', 'it', \"it's\",\n",
       "                                               'its', 'itself', ...]]},\n",
       "             pre_dispatch='2*n_jobs', refit=True, return_train_score=False,\n",
       "             scoring='precision', verbose=0)"
      ]
     },
     "execution_count": 86,
     "metadata": {},
     "output_type": "execute_result"
    }
   ],
   "source": [
    "gs_clf_p = GridSearchCV(\n",
    "    phil_classifier, \n",
    "    parameters, \n",
    "    cv=5, \n",
    "    scoring='precision',\n",
    "    n_jobs=-1)\n",
    "gs_clf_p.fit(training_features, training_labels)"
   ]
  },
  {
   "cell_type": "code",
   "execution_count": 87,
   "metadata": {},
   "outputs": [
    {
     "data": {
      "text/plain": [
       "0.8472614868032105"
      ]
     },
     "execution_count": 87,
     "metadata": {},
     "output_type": "execute_result"
    }
   ],
   "source": [
    "gs_clf_p.best_score_"
   ]
  },
  {
   "cell_type": "code",
   "execution_count": 88,
   "metadata": {},
   "outputs": [
    {
     "name": "stdout",
     "output_type": "stream",
     "text": [
      "tfidf__use_idf: True\n",
      "vect__max_df: 0.3\n",
      "vect__min_df: 7\n",
      "vect__ngram_range: (1, 2)\n",
      "vect__stop_words: ['i', 'me', 'my', 'myself', 'we', 'our', 'ours', 'ourselves', 'you', \"you're\", \"you've\", \"you'll\", \"you'd\", 'your', 'yours', 'yourself', 'yourselves', 'he', 'him', 'his', 'himself', 'she', \"she's\", 'her', 'hers', 'herself', 'it', \"it's\", 'its', 'itself', 'they', 'them', 'their', 'theirs', 'themselves', 'what', 'which', 'who', 'whom', 'this', 'that', \"that'll\", 'these', 'those', 'am', 'is', 'are', 'was', 'were', 'be', 'been', 'being', 'have', 'has', 'had', 'having', 'do', 'does', 'did', 'doing', 'a', 'an', 'the', 'and', 'but', 'if', 'or', 'because', 'as', 'until', 'while', 'of', 'at', 'by', 'for', 'with', 'about', 'against', 'between', 'into', 'through', 'during', 'before', 'after', 'above', 'below', 'to', 'from', 'up', 'down', 'in', 'out', 'on', 'off', 'over', 'under', 'again', 'further', 'then', 'once', 'here', 'there', 'when', 'where', 'why', 'how', 'all', 'any', 'both', 'each', 'few', 'more', 'most', 'other', 'some', 'such', 'no', 'nor', 'not', 'only', 'own', 'same', 'so', 'than', 'too', 'very', 's', 't', 'can', 'will', 'just', 'don', \"don't\", 'should', \"should've\", 'now', 'd', 'll', 'm', 'o', 're', 've', 'y', 'ain', 'aren', \"aren't\", 'couldn', \"couldn't\", 'didn', \"didn't\", 'doesn', \"doesn't\", 'hadn', \"hadn't\", 'hasn', \"hasn't\", 'haven', \"haven't\", 'isn', \"isn't\", 'ma', 'mightn', \"mightn't\", 'mustn', \"mustn't\", 'needn', \"needn't\", 'shan', \"shan't\", 'shouldn', \"shouldn't\", 'wasn', \"wasn't\", 'weren', \"weren't\", 'won', \"won't\", 'wouldn', \"wouldn't\", 'philosophy']\n"
     ]
    }
   ],
   "source": [
    "for param_name in sorted(parameters.keys()):\n",
    "    print(\"%s: %r\" % (param_name, gs_clf_p.best_params_[param_name]))"
   ]
  },
  {
   "cell_type": "code",
   "execution_count": 102,
   "metadata": {},
   "outputs": [],
   "source": [
    "predicted_p = gs_clf_p.best_estimator_.predict(test_features)"
   ]
  },
  {
   "cell_type": "code",
   "execution_count": 103,
   "metadata": {},
   "outputs": [
    {
     "data": {
      "text/plain": [
       "0.8860294117647058"
      ]
     },
     "execution_count": 103,
     "metadata": {},
     "output_type": "execute_result"
    }
   ],
   "source": [
    "np.mean(predicted_p == test_labels)"
   ]
  },
  {
   "cell_type": "code",
   "execution_count": 145,
   "metadata": {},
   "outputs": [
    {
     "data": {
      "text/plain": [
       "array([[178,  17],\n",
       "       [ 14,  63]])"
      ]
     },
     "execution_count": 145,
     "metadata": {},
     "output_type": "execute_result"
    }
   ],
   "source": [
    "prec_confusion_matrix = metrics.confusion_matrix(test_labels, predicted_p)\n",
    "prec_confusion_matrix"
   ]
  },
  {
   "cell_type": "code",
   "execution_count": 147,
   "metadata": {},
   "outputs": [
    {
     "name": "stdout",
     "output_type": "stream",
     "text": [
      "recall: 0.8181818181818182\n",
      "precision: 0.7875\n"
     ]
    }
   ],
   "source": [
    "tp = prec_confusion_matrix[1][1]\n",
    "fn = prec_confusion_matrix[1][0]\n",
    "fp = prec_confusion_matrix[0][1]\n",
    "tn = prec_confusion_matrix[0][0]\n",
    "prec_recall = tp/(tp+fn)\n",
    "prec_precision = tp/(tp+fp)\n",
    "print(f'recall: {prec_recall}')\n",
    "print(f'precision: {prec_precision}')"
   ]
  },
  {
   "cell_type": "markdown",
   "metadata": {},
   "source": [
    "Look at the false positives for overall accuracy model:"
   ]
  },
  {
   "cell_type": "code",
   "execution_count": 114,
   "metadata": {},
   "outputs": [],
   "source": [
    "test_df['Predicted'] = predicted"
   ]
  },
  {
   "cell_type": "code",
   "execution_count": 128,
   "metadata": {},
   "outputs": [],
   "source": [
    "false_negatives = test_df.loc[(test_df['Philosophy'] == True)&(test_df['Predicted'] == False)]"
   ]
  },
  {
   "cell_type": "code",
   "execution_count": 129,
   "metadata": {},
   "outputs": [
    {
     "data": {
      "text/plain": [
       "e    8\n",
       "o    5\n",
       "r    1\n",
       "Name: Philosophy Type, dtype: int64"
      ]
     },
     "execution_count": 129,
     "metadata": {},
     "output_type": "execute_result"
    }
   ],
   "source": [
    "false_negatives['Philosophy Type'].value_counts()"
   ]
  },
  {
   "cell_type": "markdown",
   "metadata": {},
   "source": [
    "Note: mostly ethics"
   ]
  },
  {
   "cell_type": "code",
   "execution_count": 135,
   "metadata": {},
   "outputs": [
    {
     "data": {
      "text/plain": [
       "f    8\n",
       "p    3\n",
       "l    3\n",
       "Name: Writing Type, dtype: int64"
      ]
     },
     "execution_count": 135,
     "metadata": {},
     "output_type": "execute_result"
    }
   ],
   "source": [
    "false_negatives['Writing Type'].value_counts()"
   ]
  },
  {
   "cell_type": "markdown",
   "metadata": {},
   "source": [
    "Dist of writing types isn't much different from the actual."
   ]
  },
  {
   "cell_type": "code",
   "execution_count": 139,
   "metadata": {},
   "outputs": [
    {
     "data": {
      "text/html": [
       "<div>\n",
       "<style scoped>\n",
       "    .dataframe tbody tr th:only-of-type {\n",
       "        vertical-align: middle;\n",
       "    }\n",
       "\n",
       "    .dataframe tbody tr th {\n",
       "        vertical-align: top;\n",
       "    }\n",
       "\n",
       "    .dataframe thead th {\n",
       "        text-align: right;\n",
       "    }\n",
       "</style>\n",
       "<table border=\"1\" class=\"dataframe\">\n",
       "  <thead>\n",
       "    <tr style=\"text-align: right;\">\n",
       "      <th></th>\n",
       "      <th>NZ</th>\n",
       "      <th>Notes</th>\n",
       "      <th>Philosophy</th>\n",
       "      <th>Philosophy Type</th>\n",
       "      <th>Readable</th>\n",
       "      <th>Text</th>\n",
       "      <th>Writing Type</th>\n",
       "      <th>Predicted</th>\n",
       "    </tr>\n",
       "  </thead>\n",
       "  <tbody>\n",
       "    <tr>\n",
       "      <th>NEM_18930614_ARTICLE34</th>\n",
       "      <td>True</td>\n",
       "      <td>First part: somewhat readable complaint about ...</td>\n",
       "      <td>True</td>\n",
       "      <td>o</td>\n",
       "      <td>True</td>\n",
       "      <td>DESIGNING CHARLATANS.\\nThe following remarks a...</td>\n",
       "      <td>f</td>\n",
       "      <td>False</td>\n",
       "    </tr>\n",
       "    <tr>\n",
       "      <th>OW_18840830_ARTICLE81</th>\n",
       "      <td>True</td>\n",
       "      <td>Needs to be divided up.</td>\n",
       "      <td>True</td>\n",
       "      <td>o</td>\n",
       "      <td>True</td>\n",
       "      <td>When Queen Elizabeth on one occasion asked her...</td>\n",
       "      <td>f</td>\n",
       "      <td>False</td>\n",
       "    </tr>\n",
       "    <tr>\n",
       "      <th>ODT_18830714_ARTICLE20</th>\n",
       "      <td>True</td>\n",
       "      <td>section on curiosity as virtue or vice</td>\n",
       "      <td>True</td>\n",
       "      <td>e</td>\n",
       "      <td>True</td>\n",
       "      <td>(Prom Otago Witness.) v\\nThe political uaei of...</td>\n",
       "      <td>f</td>\n",
       "      <td>False</td>\n",
       "    </tr>\n",
       "    <tr>\n",
       "      <th>LT_18831025_ARTICLE34</th>\n",
       "      <td>True</td>\n",
       "      <td>Only final block</td>\n",
       "      <td>True</td>\n",
       "      <td>o</td>\n",
       "      <td>True</td>\n",
       "      <td>[non ora own oobbxspohdmt.]\\nThere is very lit...</td>\n",
       "      <td>f</td>\n",
       "      <td>False</td>\n",
       "    </tr>\n",
       "    <tr>\n",
       "      <th>LT_18960724_ARTICLE18</th>\n",
       "      <td>True</td>\n",
       "      <td></td>\n",
       "      <td>True</td>\n",
       "      <td>e</td>\n",
       "      <td>True</td>\n",
       "      <td>TO THE EDITOR.\\nSir, —Kindly-allow me space iu...</td>\n",
       "      <td>l</td>\n",
       "      <td>False</td>\n",
       "    </tr>\n",
       "    <tr>\n",
       "      <th>WH_18710211_ARTICLE3</th>\n",
       "      <td>None</td>\n",
       "      <td>Just. It's mostly about protectionism, but has...</td>\n",
       "      <td>True</td>\n",
       "      <td>e</td>\n",
       "      <td>True</td>\n",
       "      <td>Protection and its effects &gt;on na tional wealt...</td>\n",
       "      <td>f</td>\n",
       "      <td>False</td>\n",
       "    </tr>\n",
       "    <tr>\n",
       "      <th>AS_18880609_ARTICLE73</th>\n",
       "      <td>None</td>\n",
       "      <td>First 6 of 15 blocks are 'philosophy' anyway</td>\n",
       "      <td>True</td>\n",
       "      <td>e</td>\n",
       "      <td>True</td>\n",
       "      <td>goV write tople, Se thO d COunU Ti^h, rorincan...</td>\n",
       "      <td>f</td>\n",
       "      <td>False</td>\n",
       "    </tr>\n",
       "    <tr>\n",
       "      <th>ODT_18740209_ARTICLE10</th>\n",
       "      <td>None</td>\n",
       "      <td></td>\n",
       "      <td>True</td>\n",
       "      <td>e</td>\n",
       "      <td>True</td>\n",
       "      <td>The Rev. Dr Rnseby delivered a lecture\\nlast e...</td>\n",
       "      <td>p</td>\n",
       "      <td>False</td>\n",
       "    </tr>\n",
       "    <tr>\n",
       "      <th>CHP_18721024_ARTICLE19</th>\n",
       "      <td>True</td>\n",
       "      <td>nature of university education</td>\n",
       "      <td>True</td>\n",
       "      <td>o</td>\n",
       "      <td>True</td>\n",
       "      <td>Tt&gt; THE EDITOR OP THE PRESS. JslE &gt; 1 have jus...</td>\n",
       "      <td>l</td>\n",
       "      <td>False</td>\n",
       "    </tr>\n",
       "    <tr>\n",
       "      <th>ESD_18830927_ARTICLE12</th>\n",
       "      <td>True</td>\n",
       "      <td>By Robert Stout, so classified as NZ author de...</td>\n",
       "      <td>True</td>\n",
       "      <td>e</td>\n",
       "      <td>True</td>\n",
       "      <td>The following is Mr Stout’s letter to the ‘ Ar...</td>\n",
       "      <td>l</td>\n",
       "      <td>False</td>\n",
       "    </tr>\n",
       "    <tr>\n",
       "      <th>ESD_18890826_ARTICLE1</th>\n",
       "      <td>True</td>\n",
       "      <td>Reaction to Royce and some English figures acc...</td>\n",
       "      <td>True</td>\n",
       "      <td>e</td>\n",
       "      <td>True</td>\n",
       "      <td>There is no kind of reading more interesting t...</td>\n",
       "      <td>f</td>\n",
       "      <td>False</td>\n",
       "    </tr>\n",
       "    <tr>\n",
       "      <th>AS_18990419_ARTICLE4</th>\n",
       "      <td>True</td>\n",
       "      <td></td>\n",
       "      <td>True</td>\n",
       "      <td>e</td>\n",
       "      <td>True</td>\n",
       "      <td>WOMEN'S DISABILITIES\\nThere was another full '...</td>\n",
       "      <td>p</td>\n",
       "      <td>False</td>\n",
       "    </tr>\n",
       "    <tr>\n",
       "      <th>LT_18930606_ARTICLE41</th>\n",
       "      <td>None</td>\n",
       "      <td></td>\n",
       "      <td>True</td>\n",
       "      <td>o</td>\n",
       "      <td>True</td>\n",
       "      <td>SISTER MAGDALA AT THE TUAM STREET HALL. Last e...</td>\n",
       "      <td>f</td>\n",
       "      <td>False</td>\n",
       "    </tr>\n",
       "    <tr>\n",
       "      <th>OW_18880608_ARTICLE103</th>\n",
       "      <td>True</td>\n",
       "      <td></td>\n",
       "      <td>True</td>\n",
       "      <td>r</td>\n",
       "      <td>True</td>\n",
       "      <td>PROCEEDINGS IN PRESBYTERY. At Wednesday's meet...</td>\n",
       "      <td>p</td>\n",
       "      <td>False</td>\n",
       "    </tr>\n",
       "  </tbody>\n",
       "</table>\n",
       "</div>"
      ],
      "text/plain": [
       "                          NZ  \\\n",
       "NEM_18930614_ARTICLE34  True   \n",
       "OW_18840830_ARTICLE81   True   \n",
       "ODT_18830714_ARTICLE20  True   \n",
       "LT_18831025_ARTICLE34   True   \n",
       "LT_18960724_ARTICLE18   True   \n",
       "WH_18710211_ARTICLE3    None   \n",
       "AS_18880609_ARTICLE73   None   \n",
       "ODT_18740209_ARTICLE10  None   \n",
       "CHP_18721024_ARTICLE19  True   \n",
       "ESD_18830927_ARTICLE12  True   \n",
       "ESD_18890826_ARTICLE1   True   \n",
       "AS_18990419_ARTICLE4    True   \n",
       "LT_18930606_ARTICLE41   None   \n",
       "OW_18880608_ARTICLE103  True   \n",
       "\n",
       "                                                                    Notes  \\\n",
       "NEM_18930614_ARTICLE34  First part: somewhat readable complaint about ...   \n",
       "OW_18840830_ARTICLE81                             Needs to be divided up.   \n",
       "ODT_18830714_ARTICLE20             section on curiosity as virtue or vice   \n",
       "LT_18831025_ARTICLE34                                    Only final block   \n",
       "LT_18960724_ARTICLE18                                                       \n",
       "WH_18710211_ARTICLE3    Just. It's mostly about protectionism, but has...   \n",
       "AS_18880609_ARTICLE73        First 6 of 15 blocks are 'philosophy' anyway   \n",
       "ODT_18740209_ARTICLE10                                                      \n",
       "CHP_18721024_ARTICLE19                     nature of university education   \n",
       "ESD_18830927_ARTICLE12  By Robert Stout, so classified as NZ author de...   \n",
       "ESD_18890826_ARTICLE1   Reaction to Royce and some English figures acc...   \n",
       "AS_18990419_ARTICLE4                                                        \n",
       "LT_18930606_ARTICLE41                                                       \n",
       "OW_18880608_ARTICLE103                                                      \n",
       "\n",
       "                       Philosophy Philosophy Type Readable  \\\n",
       "NEM_18930614_ARTICLE34       True               o     True   \n",
       "OW_18840830_ARTICLE81        True               o     True   \n",
       "ODT_18830714_ARTICLE20       True               e     True   \n",
       "LT_18831025_ARTICLE34        True               o     True   \n",
       "LT_18960724_ARTICLE18        True               e     True   \n",
       "WH_18710211_ARTICLE3         True               e     True   \n",
       "AS_18880609_ARTICLE73        True               e     True   \n",
       "ODT_18740209_ARTICLE10       True               e     True   \n",
       "CHP_18721024_ARTICLE19       True               o     True   \n",
       "ESD_18830927_ARTICLE12       True               e     True   \n",
       "ESD_18890826_ARTICLE1        True               e     True   \n",
       "AS_18990419_ARTICLE4         True               e     True   \n",
       "LT_18930606_ARTICLE41        True               o     True   \n",
       "OW_18880608_ARTICLE103       True               r     True   \n",
       "\n",
       "                                                                     Text  \\\n",
       "NEM_18930614_ARTICLE34  DESIGNING CHARLATANS.\\nThe following remarks a...   \n",
       "OW_18840830_ARTICLE81   When Queen Elizabeth on one occasion asked her...   \n",
       "ODT_18830714_ARTICLE20  (Prom Otago Witness.) v\\nThe political uaei of...   \n",
       "LT_18831025_ARTICLE34   [non ora own oobbxspohdmt.]\\nThere is very lit...   \n",
       "LT_18960724_ARTICLE18   TO THE EDITOR.\\nSir, —Kindly-allow me space iu...   \n",
       "WH_18710211_ARTICLE3    Protection and its effects >on na tional wealt...   \n",
       "AS_18880609_ARTICLE73   goV write tople, Se thO d COunU Ti^h, rorincan...   \n",
       "ODT_18740209_ARTICLE10  The Rev. Dr Rnseby delivered a lecture\\nlast e...   \n",
       "CHP_18721024_ARTICLE19  Tt> THE EDITOR OP THE PRESS. JslE > 1 have jus...   \n",
       "ESD_18830927_ARTICLE12  The following is Mr Stout’s letter to the ‘ Ar...   \n",
       "ESD_18890826_ARTICLE1   There is no kind of reading more interesting t...   \n",
       "AS_18990419_ARTICLE4    WOMEN'S DISABILITIES\\nThere was another full '...   \n",
       "LT_18930606_ARTICLE41   SISTER MAGDALA AT THE TUAM STREET HALL. Last e...   \n",
       "OW_18880608_ARTICLE103  PROCEEDINGS IN PRESBYTERY. At Wednesday's meet...   \n",
       "\n",
       "                       Writing Type  Predicted  \n",
       "NEM_18930614_ARTICLE34            f      False  \n",
       "OW_18840830_ARTICLE81             f      False  \n",
       "ODT_18830714_ARTICLE20            f      False  \n",
       "LT_18831025_ARTICLE34             f      False  \n",
       "LT_18960724_ARTICLE18             l      False  \n",
       "WH_18710211_ARTICLE3              f      False  \n",
       "AS_18880609_ARTICLE73             f      False  \n",
       "ODT_18740209_ARTICLE10            p      False  \n",
       "CHP_18721024_ARTICLE19            l      False  \n",
       "ESD_18830927_ARTICLE12            l      False  \n",
       "ESD_18890826_ARTICLE1             f      False  \n",
       "AS_18990419_ARTICLE4              p      False  \n",
       "LT_18930606_ARTICLE41             f      False  \n",
       "OW_18880608_ARTICLE103            p      False  "
      ]
     },
     "execution_count": 139,
     "metadata": {},
     "output_type": "execute_result"
    }
   ],
   "source": [
    "false_negatives"
   ]
  },
  {
   "cell_type": "markdown",
   "metadata": {},
   "source": [
    "Interestingly, 6 of 14 are pieces where I have noted that only a small portion of the article is 'philosophical'. This isn't too bad. Let's have a look at the others."
   ]
  },
  {
   "cell_type": "code",
   "execution_count": 143,
   "metadata": {
    "scrolled": false
   },
   "outputs": [
    {
     "data": {
      "application/vnd.jupyter.widget-view+json": {
       "model_id": "4a274955eb9f47128391c89c64374e3c",
       "version_major": 2,
       "version_minor": 0
      },
      "text/plain": [
       "interactive(children=(Dropdown(description='index', options=('NEM_18930614_ARTICLE34', 'OW_18840830_ARTICLE81'…"
      ]
     },
     "metadata": {},
     "output_type": "display_data"
    },
    {
     "data": {
      "text/plain": [
       "<function __main__.print_article_text(index, dataframe)>"
      ]
     },
     "execution_count": 143,
     "metadata": {},
     "output_type": "execute_result"
    }
   ],
   "source": [
    "def print_article_text(index, dataframe):\n",
    "    print (f\"{index}\\n{dataframe.loc[index]['Text']}\")\n",
    "indices = false_negatives.index\n",
    "interact(print_article_text, index=indices, dataframe=fixed(false_negatives))"
   ]
  },
  {
   "cell_type": "markdown",
   "metadata": {},
   "source": [
    " - 'LT_18960724_ARTICLE18' concerns the 'Temple of Truth', which possibly encouraged me to include it as philosophy, but is not otherwise like the articles I've labelled as philosophy. (similarly 'LT_18930606_ARTICLE41')\n",
    " - 'WH_18710211_ARTICLE3' I've already noted is a bit dubious.\n",
    " - 'ODT_18740209_ARTICLE10' also dubious. \n",
    " - 'CHP_18721024_ARTICLE19' I would like this one in. (Mentions of metaphysics etc... Place of intellectual life in NZ)\n",
    " - 'ESD_18890826_ARTICLE1' very similar to politics ones I've explicitly excluded in the dataset, so not surprising it's not picked up. I think I included it simply because of Royce appearing.\n",
    " - 'AS_18990419_ARTICLE4' I'd also like this. Unfortunately probably 'too political'.\n",
    " - 'OW_18880608_ARTICLE103' philosophical content buried in 'proceedings'."
   ]
  },
  {
   "cell_type": "code",
   "execution_count": 133,
   "metadata": {},
   "outputs": [],
   "source": [
    "false_positives = test_df.loc[(test_df['Philosophy'] == False)&(test_df['Predicted'] == True)]"
   ]
  },
  {
   "cell_type": "code",
   "execution_count": 137,
   "metadata": {},
   "outputs": [
    {
     "data": {
      "text/html": [
       "<div>\n",
       "<style scoped>\n",
       "    .dataframe tbody tr th:only-of-type {\n",
       "        vertical-align: middle;\n",
       "    }\n",
       "\n",
       "    .dataframe tbody tr th {\n",
       "        vertical-align: top;\n",
       "    }\n",
       "\n",
       "    .dataframe thead th {\n",
       "        text-align: right;\n",
       "    }\n",
       "</style>\n",
       "<table border=\"1\" class=\"dataframe\">\n",
       "  <thead>\n",
       "    <tr style=\"text-align: right;\">\n",
       "      <th></th>\n",
       "      <th>NZ</th>\n",
       "      <th>Notes</th>\n",
       "      <th>Philosophy</th>\n",
       "      <th>Philosophy Type</th>\n",
       "      <th>Readable</th>\n",
       "      <th>Text</th>\n",
       "      <th>Writing Type</th>\n",
       "      <th>Predicted</th>\n",
       "    </tr>\n",
       "  </thead>\n",
       "  <tbody>\n",
       "    <tr>\n",
       "      <th>ODT_18980222_ARTICLE27</th>\n",
       "      <td>None</td>\n",
       "      <td></td>\n",
       "      <td>False</td>\n",
       "      <td>None</td>\n",
       "      <td>True</td>\n",
       "      <td>■ In the Board Koom of «ie Agricultural Hall' ...</td>\n",
       "      <td>None</td>\n",
       "      <td>True</td>\n",
       "    </tr>\n",
       "    <tr>\n",
       "      <th>LT_18700603_ARTICLE8</th>\n",
       "      <td>None</td>\n",
       "      <td></td>\n",
       "      <td>False</td>\n",
       "      <td>None</td>\n",
       "      <td>True</td>\n",
       "      <td>About a year ago we had the ‘ privi lege of no...</td>\n",
       "      <td>None</td>\n",
       "      <td>True</td>\n",
       "    </tr>\n",
       "    <tr>\n",
       "      <th>CHP_18970706_ARTICLE58</th>\n",
       "      <td>None</td>\n",
       "      <td></td>\n",
       "      <td>False</td>\n",
       "      <td>None</td>\n",
       "      <td>True</td>\n",
       "      <td>TO THE EDITOR OF THE PRESS. Sir, —Had Mr Nolan...</td>\n",
       "      <td>None</td>\n",
       "      <td>True</td>\n",
       "    </tr>\n",
       "    <tr>\n",
       "      <th>DSC_18710429_ARTICLE26</th>\n",
       "      <td>None</td>\n",
       "      <td></td>\n",
       "      <td>False</td>\n",
       "      <td>None</td>\n",
       "      <td>True</td>\n",
       "      <td>TO THE EDITOR; Sir, — \"If the trumpet give an ...</td>\n",
       "      <td>None</td>\n",
       "      <td>True</td>\n",
       "    </tr>\n",
       "    <tr>\n",
       "      <th>ESD_18891218_ARTICLE59</th>\n",
       "      <td>None</td>\n",
       "      <td></td>\n",
       "      <td>False</td>\n",
       "      <td>None</td>\n",
       "      <td>True</td>\n",
       "      <td>On Sunday evening the Rev. E. D. Ceo J preache...</td>\n",
       "      <td>None</td>\n",
       "      <td>True</td>\n",
       "    </tr>\n",
       "    <tr>\n",
       "      <th>ODT_18850204_ARTICLE30</th>\n",
       "      <td>None</td>\n",
       "      <td>Education</td>\n",
       "      <td>False</td>\n",
       "      <td>None</td>\n",
       "      <td>True</td>\n",
       "      <td>TO THE EDITOB, Sib,—lt is somewhat curious tha...</td>\n",
       "      <td>None</td>\n",
       "      <td>True</td>\n",
       "    </tr>\n",
       "    <tr>\n",
       "      <th>HBH_18840609_ARTICLE20</th>\n",
       "      <td>None</td>\n",
       "      <td></td>\n",
       "      <td>False</td>\n",
       "      <td>None</td>\n",
       "      <td>True</td>\n",
       "      <td>Sir,— ln your issue of May 30th I ob serve you...</td>\n",
       "      <td>None</td>\n",
       "      <td>True</td>\n",
       "    </tr>\n",
       "    <tr>\n",
       "      <th>NZTIM_18961126_ARTICLE29</th>\n",
       "      <td>None</td>\n",
       "      <td></td>\n",
       "      <td>False</td>\n",
       "      <td>None</td>\n",
       "      <td>True</td>\n",
       "      <td>TO THE EDITOR. Sxe,—\" Temperance,\" in his open...</td>\n",
       "      <td>None</td>\n",
       "      <td>True</td>\n",
       "    </tr>\n",
       "    <tr>\n",
       "      <th>BH_18880626_ARTICLE16</th>\n",
       "      <td>None</td>\n",
       "      <td></td>\n",
       "      <td>False</td>\n",
       "      <td>None</td>\n",
       "      <td>True</td>\n",
       "      <td>To the Editor,\\nSir, — That a man utterly devo...</td>\n",
       "      <td>None</td>\n",
       "      <td>True</td>\n",
       "    </tr>\n",
       "    <tr>\n",
       "      <th>DTN_18890125_ARTICLE15</th>\n",
       "      <td>None</td>\n",
       "      <td></td>\n",
       "      <td>False</td>\n",
       "      <td>None</td>\n",
       "      <td>True</td>\n",
       "      <td>AN EXPOSITION.\\nMr. A. G. Daniells, ono of the...</td>\n",
       "      <td>None</td>\n",
       "      <td>True</td>\n",
       "    </tr>\n",
       "    <tr>\n",
       "      <th>BH_18721211_ARTICLE30</th>\n",
       "      <td>None</td>\n",
       "      <td></td>\n",
       "      <td>False</td>\n",
       "      <td>None</td>\n",
       "      <td>True</td>\n",
       "      <td>. The English Schools' Enquiry Commis sion iss...</td>\n",
       "      <td>None</td>\n",
       "      <td>True</td>\n",
       "    </tr>\n",
       "    <tr>\n",
       "      <th>CHP_18960224_ARTICLE7</th>\n",
       "      <td>None</td>\n",
       "      <td></td>\n",
       "      <td>False</td>\n",
       "      <td>None</td>\n",
       "      <td>True</td>\n",
       "      <td>In these days of \" one man, one book,\" it is r...</td>\n",
       "      <td>None</td>\n",
       "      <td>True</td>\n",
       "    </tr>\n",
       "    <tr>\n",
       "      <th>CHP_18980319_ARTICLE7</th>\n",
       "      <td>None</td>\n",
       "      <td>Fiction</td>\n",
       "      <td>False</td>\n",
       "      <td>None</td>\n",
       "      <td>True</td>\n",
       "      <td>By Harry Stixxwjsll Edwards,\\nCHAPTER XXVII.—T...</td>\n",
       "      <td>None</td>\n",
       "      <td>True</td>\n",
       "    </tr>\n",
       "    <tr>\n",
       "      <th>CHP_18951209_ARTICLE55</th>\n",
       "      <td>None</td>\n",
       "      <td></td>\n",
       "      <td>False</td>\n",
       "      <td>None</td>\n",
       "      <td>True</td>\n",
       "      <td>At this church, yesterday evening, the Rev. W....</td>\n",
       "      <td>None</td>\n",
       "      <td>True</td>\n",
       "    </tr>\n",
       "  </tbody>\n",
       "</table>\n",
       "</div>"
      ],
      "text/plain": [
       "                            NZ      Notes Philosophy Philosophy Type Readable  \\\n",
       "ODT_18980222_ARTICLE27    None                 False            None     True   \n",
       "LT_18700603_ARTICLE8      None                 False            None     True   \n",
       "CHP_18970706_ARTICLE58    None                 False            None     True   \n",
       "DSC_18710429_ARTICLE26    None                 False            None     True   \n",
       "ESD_18891218_ARTICLE59    None                 False            None     True   \n",
       "ODT_18850204_ARTICLE30    None  Education      False            None     True   \n",
       "HBH_18840609_ARTICLE20    None                 False            None     True   \n",
       "NZTIM_18961126_ARTICLE29  None                 False            None     True   \n",
       "BH_18880626_ARTICLE16     None                 False            None     True   \n",
       "DTN_18890125_ARTICLE15    None                 False            None     True   \n",
       "BH_18721211_ARTICLE30     None                 False            None     True   \n",
       "CHP_18960224_ARTICLE7     None                 False            None     True   \n",
       "CHP_18980319_ARTICLE7     None    Fiction      False            None     True   \n",
       "CHP_18951209_ARTICLE55    None                 False            None     True   \n",
       "\n",
       "                                                                       Text  \\\n",
       "ODT_18980222_ARTICLE27    ■ In the Board Koom of «ie Agricultural Hall' ...   \n",
       "LT_18700603_ARTICLE8      About a year ago we had the ‘ privi lege of no...   \n",
       "CHP_18970706_ARTICLE58    TO THE EDITOR OF THE PRESS. Sir, —Had Mr Nolan...   \n",
       "DSC_18710429_ARTICLE26    TO THE EDITOR; Sir, — \"If the trumpet give an ...   \n",
       "ESD_18891218_ARTICLE59    On Sunday evening the Rev. E. D. Ceo J preache...   \n",
       "ODT_18850204_ARTICLE30    TO THE EDITOB, Sib,—lt is somewhat curious tha...   \n",
       "HBH_18840609_ARTICLE20    Sir,— ln your issue of May 30th I ob serve you...   \n",
       "NZTIM_18961126_ARTICLE29  TO THE EDITOR. Sxe,—\" Temperance,\" in his open...   \n",
       "BH_18880626_ARTICLE16     To the Editor,\\nSir, — That a man utterly devo...   \n",
       "DTN_18890125_ARTICLE15    AN EXPOSITION.\\nMr. A. G. Daniells, ono of the...   \n",
       "BH_18721211_ARTICLE30     . The English Schools' Enquiry Commis sion iss...   \n",
       "CHP_18960224_ARTICLE7     In these days of \" one man, one book,\" it is r...   \n",
       "CHP_18980319_ARTICLE7     By Harry Stixxwjsll Edwards,\\nCHAPTER XXVII.—T...   \n",
       "CHP_18951209_ARTICLE55    At this church, yesterday evening, the Rev. W....   \n",
       "\n",
       "                         Writing Type  Predicted  \n",
       "ODT_18980222_ARTICLE27           None       True  \n",
       "LT_18700603_ARTICLE8             None       True  \n",
       "CHP_18970706_ARTICLE58           None       True  \n",
       "DSC_18710429_ARTICLE26           None       True  \n",
       "ESD_18891218_ARTICLE59           None       True  \n",
       "ODT_18850204_ARTICLE30           None       True  \n",
       "HBH_18840609_ARTICLE20           None       True  \n",
       "NZTIM_18961126_ARTICLE29         None       True  \n",
       "BH_18880626_ARTICLE16            None       True  \n",
       "DTN_18890125_ARTICLE15           None       True  \n",
       "BH_18721211_ARTICLE30            None       True  \n",
       "CHP_18960224_ARTICLE7            None       True  \n",
       "CHP_18980319_ARTICLE7            None       True  \n",
       "CHP_18951209_ARTICLE55           None       True  "
      ]
     },
     "execution_count": 137,
     "metadata": {},
     "output_type": "execute_result"
    }
   ],
   "source": [
    "false_positives"
   ]
  },
  {
   "cell_type": "code",
   "execution_count": 144,
   "metadata": {
    "scrolled": false
   },
   "outputs": [
    {
     "data": {
      "application/vnd.jupyter.widget-view+json": {
       "model_id": "f90755c504584183b10ec244baba5370",
       "version_major": 2,
       "version_minor": 0
      },
      "text/plain": [
       "interactive(children=(Dropdown(description='index', options=('ODT_18980222_ARTICLE27', 'LT_18700603_ARTICLE8',…"
      ]
     },
     "metadata": {},
     "output_type": "display_data"
    },
    {
     "data": {
      "text/plain": [
       "<function __main__.print_article_text(index, dataframe)>"
      ]
     },
     "execution_count": 144,
     "metadata": {},
     "output_type": "execute_result"
    }
   ],
   "source": [
    "indices = false_positives.index\n",
    "interact(print_article_text, index=indices, dataframe=fixed(false_positives))"
   ]
  },
  {
   "cell_type": "markdown",
   "metadata": {},
   "source": [
    " - Theosophical lecture - ODT_18980222_ARTICLE27\n",
    " - NZ institute - LT_18700603_ARTICLE8 - not surprising as I've included others of these which had some more clear bit of philosophy.\n",
    " - CHP_18980319_ARTICLE7 a piece of fiction about a young Hegelian (not in the strict sense)\n",
    "\n",
    "Some sermons and theosophy which I excluded on the grounds that they were more 'straight sermons' that the ones I had labelled as philosophy. There's nothing in here that I would be unhappy to be in a philosophy corpus though."
   ]
  },
  {
   "cell_type": "markdown",
   "metadata": {},
   "source": [
    "I'm going to save the model optimised for overall accuracy. I think I've eered in my labelling on both sides as well."
   ]
  },
  {
   "cell_type": "code",
   "execution_count": 153,
   "metadata": {},
   "outputs": [],
   "source": [
    "with open('classifiers/NB_2.pickle', 'wb') as fout:\n",
    "    pickle.dump(gs_clf.best_estimator_, fout)"
   ]
  },
  {
   "cell_type": "markdown",
   "metadata": {},
   "source": [
    "## Try SVMs"
   ]
  },
  {
   "cell_type": "markdown",
   "metadata": {},
   "source": [
    "I'm keen to try a slightly more 'complex' method, which is said to perform better for text classification. This is done with the proviso that the above false negatives and positives are s(pretty much) all arguable cases."
   ]
  },
  {
   "cell_type": "code",
   "execution_count": 160,
   "metadata": {},
   "outputs": [],
   "source": [
    "SVC_Pipeline = Pipeline([\n",
    "    ('vect', CountVectorizer(\n",
    "        max_df=0.4,\n",
    "        min_df=9,\n",
    "        stop_words=STOPWORDS, \n",
    "        token_pattern=r'(?u)\\b\\w\\w\\w+\\b')),\n",
    "    ('tfidf', TfidfTransformer()),\n",
    "    ('clf', SVC(\n",
    "        )),\n",
    "])"
   ]
  },
  {
   "cell_type": "code",
   "execution_count": 161,
   "metadata": {},
   "outputs": [
    {
     "data": {
      "text/plain": [
       "Pipeline(memory=None,\n",
       "         steps=[('vect',\n",
       "                 CountVectorizer(analyzer='word', binary=False,\n",
       "                                 decode_error='strict',\n",
       "                                 dtype=<class 'numpy.int64'>, encoding='utf-8',\n",
       "                                 input='content', lowercase=True, max_df=0.4,\n",
       "                                 max_features=None, min_df=9,\n",
       "                                 ngram_range=(1, 1), preprocessor=None,\n",
       "                                 stop_words=['i', 'me', 'my', 'myself', 'we',\n",
       "                                             'our', 'ours', 'ourselves', 'you',\n",
       "                                             \"you're\", \"you've\", \"you'll\",...\n",
       "                                 tokenizer=None, vocabulary=None)),\n",
       "                ('tfidf',\n",
       "                 TfidfTransformer(norm='l2', smooth_idf=True,\n",
       "                                  sublinear_tf=False, use_idf=True)),\n",
       "                ('clf',\n",
       "                 SVC(C=1.0, break_ties=False, cache_size=200, class_weight=None,\n",
       "                     coef0=0.0, decision_function_shape='ovr', degree=3,\n",
       "                     gamma='scale', kernel='rbf', max_iter=-1,\n",
       "                     probability=False, random_state=None, shrinking=True,\n",
       "                     tol=0.001, verbose=False))],\n",
       "         verbose=False)"
      ]
     },
     "execution_count": 161,
     "metadata": {},
     "output_type": "execute_result"
    }
   ],
   "source": [
    "SVC_Pipeline.fit(training_features, training_labels)"
   ]
  },
  {
   "cell_type": "code",
   "execution_count": 162,
   "metadata": {},
   "outputs": [],
   "source": [
    "svc_pred = SVC_Pipeline.predict(test_features)"
   ]
  },
  {
   "cell_type": "code",
   "execution_count": 163,
   "metadata": {},
   "outputs": [
    {
     "data": {
      "text/plain": [
       "array([[188,   7],\n",
       "       [ 34,  43]])"
      ]
     },
     "execution_count": 163,
     "metadata": {},
     "output_type": "execute_result"
    }
   ],
   "source": [
    "svc_confusion_matrix = metrics.confusion_matrix(test_labels, svc_pred)\n",
    "svc_confusion_matrix"
   ]
  },
  {
   "cell_type": "code",
   "execution_count": 164,
   "metadata": {},
   "outputs": [
    {
     "name": "stdout",
     "output_type": "stream",
     "text": [
      "accuracy: 0.8492647058823529\n",
      "recall: 0.5584415584415584\n",
      "precision: 0.86\n"
     ]
    }
   ],
   "source": [
    "tp = svc_confusion_matrix[1][1]\n",
    "fn = svc_confusion_matrix[1][0]\n",
    "fp = svc_confusion_matrix[0][1]\n",
    "tn = svc_confusion_matrix[0][0]\n",
    "svc_recall = tp/(tp+fn)\n",
    "svc_precision = tp/(tp+fp)\n",
    "svc_accuracy = (tp+tn)/(tp+fp+tn+fn)\n",
    "print(f'accuracy: {svc_accuracy}')\n",
    "print(f'recall: {svc_recall}')\n",
    "print(f'precision: {svc_precision}')"
   ]
  },
  {
   "cell_type": "markdown",
   "metadata": {},
   "source": [
    "Well that's dreadful. Will have to think about this model a bit."
   ]
  },
  {
   "cell_type": "markdown",
   "metadata": {},
   "source": [
    "## Apply Model with Best Params to Subset of Total Dataset"
   ]
  },
  {
   "cell_type": "markdown",
   "metadata": {},
   "source": [
    "Some of these include articles that will be in the test set. I don't think this is a big deal."
   ]
  },
  {
   "cell_type": "code",
   "execution_count": 2,
   "metadata": {},
   "outputs": [],
   "source": [
    "# If necessary reload model:\n",
    "with open('classifiers/NB_2.pickle', 'rb') as fin:\n",
    "  phil_classifier_2 = pickle.load(fin)"
   ]
  },
  {
   "cell_type": "code",
   "execution_count": 24,
   "metadata": {},
   "outputs": [],
   "source": [
    "corpus_subset_df = pd.read_pickle('pickles/corpus_2000per_subset_df.pickle')"
   ]
  },
  {
   "cell_type": "code",
   "execution_count": 27,
   "metadata": {},
   "outputs": [
    {
     "data": {
      "text/plain": [
       "17949"
      ]
     },
     "execution_count": 27,
     "metadata": {},
     "output_type": "execute_result"
    }
   ],
   "source": [
    "len(corpus_subset_df)"
   ]
  },
  {
   "cell_type": "code",
   "execution_count": 28,
   "metadata": {},
   "outputs": [],
   "source": [
    "corpus_subset_df['Text as string'] = corpus_subset_df['Text'].apply(NL_helpers.blocks2string)"
   ]
  },
  {
   "cell_type": "code",
   "execution_count": 3,
   "metadata": {},
   "outputs": [],
   "source": [
    "def filter_short_articles(string):\n",
    "    if len(string)<800:\n",
    "        string = ''\n",
    "    return string"
   ]
  },
  {
   "cell_type": "code",
   "execution_count": 30,
   "metadata": {},
   "outputs": [],
   "source": [
    "corpus_subset_df['Text as string'] = corpus_subset_df['Text as string'].map(filter_short_articles)"
   ]
  },
  {
   "cell_type": "code",
   "execution_count": 31,
   "metadata": {},
   "outputs": [],
   "source": [
    "corpus_subset_df.drop(corpus_subset_df[corpus_subset_df['Text as string']==''].index, inplace=True)"
   ]
  },
  {
   "cell_type": "code",
   "execution_count": 32,
   "metadata": {},
   "outputs": [],
   "source": [
    "corpus_subset_features = corpus_subset_df['Text as string'].astype('string').to_numpy()"
   ]
  },
  {
   "cell_type": "code",
   "execution_count": 33,
   "metadata": {},
   "outputs": [],
   "source": [
    "predicted_subset = phil_classifier.predict(corpus_subset_features)"
   ]
  },
  {
   "cell_type": "code",
   "execution_count": 34,
   "metadata": {},
   "outputs": [],
   "source": [
    "predictions = pd.Series(data=predicted_subset)"
   ]
  },
  {
   "cell_type": "code",
   "execution_count": 35,
   "metadata": {},
   "outputs": [
    {
     "data": {
      "text/plain": [
       "False    10670\n",
       "True       747\n",
       "dtype: int64"
      ]
     },
     "execution_count": 35,
     "metadata": {},
     "output_type": "execute_result"
    }
   ],
   "source": [
    "predictions.value_counts()"
   ]
  },
  {
   "cell_type": "code",
   "execution_count": 36,
   "metadata": {},
   "outputs": [],
   "source": [
    "predictions.index = corpus_subset_df.index"
   ]
  },
  {
   "cell_type": "code",
   "execution_count": 37,
   "metadata": {},
   "outputs": [
    {
     "data": {
      "text/html": [
       "<div>\n",
       "<style scoped>\n",
       "    .dataframe tbody tr th:only-of-type {\n",
       "        vertical-align: middle;\n",
       "    }\n",
       "\n",
       "    .dataframe tbody tr th {\n",
       "        vertical-align: top;\n",
       "    }\n",
       "\n",
       "    .dataframe thead th {\n",
       "        text-align: right;\n",
       "    }\n",
       "</style>\n",
       "<table border=\"1\" class=\"dataframe\">\n",
       "  <thead>\n",
       "    <tr style=\"text-align: right;\">\n",
       "      <th></th>\n",
       "      <th>Title</th>\n",
       "      <th>Text</th>\n",
       "      <th>Newspaper</th>\n",
       "      <th>Date</th>\n",
       "      <th>Tokenised</th>\n",
       "      <th>Text as string</th>\n",
       "    </tr>\n",
       "  </thead>\n",
       "  <tbody>\n",
       "    <tr>\n",
       "      <th>BH_18740911_ARTICLE23</th>\n",
       "      <td>Invercargill</td>\n",
       "      <td>[(Frbrriburbwri'Gbrresponderit.), The* attenti...</td>\n",
       "      <td>NaN</td>\n",
       "      <td>NaN</td>\n",
       "      <td>NaN</td>\n",
       "      <td>(Frbrriburbwri'Gbrresponderit.)\\nThe* attentio...</td>\n",
       "    </tr>\n",
       "    <tr>\n",
       "      <th>CHP_18970902_ARTICLE28</th>\n",
       "      <td>THE QUEEN AND HER PEOPLE.</td>\n",
       "      <td>[The following is the Queen's Jubilee letter.—...</td>\n",
       "      <td>NaN</td>\n",
       "      <td>NaN</td>\n",
       "      <td>NaN</td>\n",
       "      <td>The following is the Queen's Jubilee letter.—\"...</td>\n",
       "    </tr>\n",
       "    <tr>\n",
       "      <th>BH_18811209_ARTICLE27</th>\n",
       "      <td>HOW IT ALL CAME ABOUT.</td>\n",
       "      <td>[1; ! Bj; a prtfce-s (O- 5 -*ydlut_b_i ;; and'...</td>\n",
       "      <td>NaN</td>\n",
       "      <td>NaN</td>\n",
       "      <td>NaN</td>\n",
       "      <td>1; ! Bj; a prtfce-s (O- 5 -*ydlut_b_i ;; and' ...</td>\n",
       "    </tr>\n",
       "    <tr>\n",
       "      <th>CHP_18970206_ARTICLE29</th>\n",
       "      <td>\"PERFIDIOUS ALBION.\"</td>\n",
       "      <td>[It is seldom that any nation has an opportuni...</td>\n",
       "      <td>NaN</td>\n",
       "      <td>NaN</td>\n",
       "      <td>NaN</td>\n",
       "      <td>It is seldom that any nation has an opportunit...</td>\n",
       "    </tr>\n",
       "    <tr>\n",
       "      <th>CHP_18990714_ARTICLE48</th>\n",
       "      <td>RELIGIOUS EDUCATION.</td>\n",
       "      <td>[A- meeting of ministers representing the wiou...</td>\n",
       "      <td>NaN</td>\n",
       "      <td>NaN</td>\n",
       "      <td>NaN</td>\n",
       "      <td>A- meeting of ministers representing the wious...</td>\n",
       "    </tr>\n",
       "    <tr>\n",
       "      <th>...</th>\n",
       "      <td>...</td>\n",
       "      <td>...</td>\n",
       "      <td>...</td>\n",
       "      <td>...</td>\n",
       "      <td>...</td>\n",
       "      <td>...</td>\n",
       "    </tr>\n",
       "    <tr>\n",
       "      <th>ODT_18980810_ARTICLE58</th>\n",
       "      <td>BIBLE IN SCHOOLS.</td>\n",
       "      <td>[•. , .... , ~r ,j TO. THE EDITOR. ~.. ;.■■■],...</td>\n",
       "      <td>ODT</td>\n",
       "      <td>18980810</td>\n",
       "      <td>[editor, sißj, quite, corre, spondentti, pippa...</td>\n",
       "      <td>•. , .... , ~r ,j TO. THE EDITOR. ~.. ;.■■■],....</td>\n",
       "    </tr>\n",
       "    <tr>\n",
       "      <th>ODT_18980531_ARTICLE21</th>\n",
       "      <td>THE SITUATION IN ITALY.</td>\n",
       "      <td>[A LETTER FROM THE POPE,, Press Association—By...</td>\n",
       "      <td>ODT</td>\n",
       "      <td>18980531</td>\n",
       "      <td>[letter, pope, press, association, telegraph, ...</td>\n",
       "      <td>A LETTER FROM THE POPE,\\nPress Association—By ...</td>\n",
       "    </tr>\n",
       "    <tr>\n",
       "      <th>ODT_18980810_ARTICLE15</th>\n",
       "      <td>SUNDAY NIGHT CONCERTS. TO THE EDITOR.</td>\n",
       "      <td>[•Sis.^Every.nbw' and thea-atteirjpti,■•«•.» m...</td>\n",
       "      <td>ODT</td>\n",
       "      <td>18980810</td>\n",
       "      <td>[sis, every, nbw, thea, atteirjpti, made, less...</td>\n",
       "      <td>•Sis.^Every.nbw' and thea-atteirjpti,■•«•.» ma...</td>\n",
       "    </tr>\n",
       "    <tr>\n",
       "      <th>ODT_18980131_ARTICLE30</th>\n",
       "      <td>\"CIVIS\" AND DR STORDEUR'S LECTURES.</td>\n",
       "      <td>[TO THE JBBITOS. . ' Sir,—May I crave space in...</td>\n",
       "      <td>ODT</td>\n",
       "      <td>18980131</td>\n",
       "      <td>[jbbitos, sir, may, crave, space, columns, pap...</td>\n",
       "      <td>TO THE JBBITOS. . ' Sir,—May I crave space in ...</td>\n",
       "    </tr>\n",
       "    <tr>\n",
       "      <th>ODT_18980507_ARTICLE3</th>\n",
       "      <td>EGGS AND OLIVES.</td>\n",
       "      <td>[1889-91, .:.•;.. ■■'••* Necd'um omnis abactn ...</td>\n",
       "      <td>ODT</td>\n",
       "      <td>18980507</td>\n",
       "      <td>[1889, necd'um, omnis, abactn, pauperies, epul...</td>\n",
       "      <td>1889-91\\n.:.•;.. ■■'••* Necd'um omnis abactn P...</td>\n",
       "    </tr>\n",
       "  </tbody>\n",
       "</table>\n",
       "<p>747 rows × 6 columns</p>\n",
       "</div>"
      ],
      "text/plain": [
       "                                                        Title  \\\n",
       "BH_18740911_ARTICLE23                            Invercargill   \n",
       "CHP_18970902_ARTICLE28              THE QUEEN AND HER PEOPLE.   \n",
       "BH_18811209_ARTICLE27                  HOW IT ALL CAME ABOUT.   \n",
       "CHP_18970206_ARTICLE29                   \"PERFIDIOUS ALBION.\"   \n",
       "CHP_18990714_ARTICLE48                   RELIGIOUS EDUCATION.   \n",
       "...                                                       ...   \n",
       "ODT_18980810_ARTICLE58                      BIBLE IN SCHOOLS.   \n",
       "ODT_18980531_ARTICLE21                THE SITUATION IN ITALY.   \n",
       "ODT_18980810_ARTICLE15  SUNDAY NIGHT CONCERTS. TO THE EDITOR.   \n",
       "ODT_18980131_ARTICLE30    \"CIVIS\" AND DR STORDEUR'S LECTURES.   \n",
       "ODT_18980507_ARTICLE3                        EGGS AND OLIVES.   \n",
       "\n",
       "                                                                     Text  \\\n",
       "BH_18740911_ARTICLE23   [(Frbrriburbwri'Gbrresponderit.), The* attenti...   \n",
       "CHP_18970902_ARTICLE28  [The following is the Queen's Jubilee letter.—...   \n",
       "BH_18811209_ARTICLE27   [1; ! Bj; a prtfce-s (O- 5 -*ydlut_b_i ;; and'...   \n",
       "CHP_18970206_ARTICLE29  [It is seldom that any nation has an opportuni...   \n",
       "CHP_18990714_ARTICLE48  [A- meeting of ministers representing the wiou...   \n",
       "...                                                                   ...   \n",
       "ODT_18980810_ARTICLE58  [•. , .... , ~r ,j TO. THE EDITOR. ~.. ;.■■■],...   \n",
       "ODT_18980531_ARTICLE21  [A LETTER FROM THE POPE,, Press Association—By...   \n",
       "ODT_18980810_ARTICLE15  [•Sis.^Every.nbw' and thea-atteirjpti,■•«•.» m...   \n",
       "ODT_18980131_ARTICLE30  [TO THE JBBITOS. . ' Sir,—May I crave space in...   \n",
       "ODT_18980507_ARTICLE3   [1889-91, .:.•;.. ■■'••* Necd'um omnis abactn ...   \n",
       "\n",
       "                       Newspaper      Date  \\\n",
       "BH_18740911_ARTICLE23        NaN       NaN   \n",
       "CHP_18970902_ARTICLE28       NaN       NaN   \n",
       "BH_18811209_ARTICLE27        NaN       NaN   \n",
       "CHP_18970206_ARTICLE29       NaN       NaN   \n",
       "CHP_18990714_ARTICLE48       NaN       NaN   \n",
       "...                          ...       ...   \n",
       "ODT_18980810_ARTICLE58       ODT  18980810   \n",
       "ODT_18980531_ARTICLE21       ODT  18980531   \n",
       "ODT_18980810_ARTICLE15       ODT  18980810   \n",
       "ODT_18980131_ARTICLE30       ODT  18980131   \n",
       "ODT_18980507_ARTICLE3        ODT  18980507   \n",
       "\n",
       "                                                                Tokenised  \\\n",
       "BH_18740911_ARTICLE23                                                 NaN   \n",
       "CHP_18970902_ARTICLE28                                                NaN   \n",
       "BH_18811209_ARTICLE27                                                 NaN   \n",
       "CHP_18970206_ARTICLE29                                                NaN   \n",
       "CHP_18990714_ARTICLE48                                                NaN   \n",
       "...                                                                   ...   \n",
       "ODT_18980810_ARTICLE58  [editor, sißj, quite, corre, spondentti, pippa...   \n",
       "ODT_18980531_ARTICLE21  [letter, pope, press, association, telegraph, ...   \n",
       "ODT_18980810_ARTICLE15  [sis, every, nbw, thea, atteirjpti, made, less...   \n",
       "ODT_18980131_ARTICLE30  [jbbitos, sir, may, crave, space, columns, pap...   \n",
       "ODT_18980507_ARTICLE3   [1889, necd'um, omnis, abactn, pauperies, epul...   \n",
       "\n",
       "                                                           Text as string  \n",
       "BH_18740911_ARTICLE23   (Frbrriburbwri'Gbrresponderit.)\\nThe* attentio...  \n",
       "CHP_18970902_ARTICLE28  The following is the Queen's Jubilee letter.—\"...  \n",
       "BH_18811209_ARTICLE27   1; ! Bj; a prtfce-s (O- 5 -*ydlut_b_i ;; and' ...  \n",
       "CHP_18970206_ARTICLE29  It is seldom that any nation has an opportunit...  \n",
       "CHP_18990714_ARTICLE48  A- meeting of ministers representing the wious...  \n",
       "...                                                                   ...  \n",
       "ODT_18980810_ARTICLE58  •. , .... , ~r ,j TO. THE EDITOR. ~.. ;.■■■],....  \n",
       "ODT_18980531_ARTICLE21  A LETTER FROM THE POPE,\\nPress Association—By ...  \n",
       "ODT_18980810_ARTICLE15  •Sis.^Every.nbw' and thea-atteirjpti,■•«•.» ma...  \n",
       "ODT_18980131_ARTICLE30  TO THE JBBITOS. . ' Sir,—May I crave space in ...  \n",
       "ODT_18980507_ARTICLE3   1889-91\\n.:.•;.. ■■'••* Necd'um omnis abactn P...  \n",
       "\n",
       "[747 rows x 6 columns]"
      ]
     },
     "execution_count": 37,
     "metadata": {},
     "output_type": "execute_result"
    }
   ],
   "source": [
    "corpus_subset_df.loc[predictions]"
   ]
  },
  {
   "cell_type": "code",
   "execution_count": 38,
   "metadata": {},
   "outputs": [],
   "source": [
    "corpus_subset_df['Newspaper'] = corpus_subset_df.index.map(lambda x: x[0:x.find('_')])\n",
    "corpus_subset_df['Date'] = corpus_subset_df.index.map(lambda x: x[x.find('_')+1:x.find('_')+9])"
   ]
  },
  {
   "cell_type": "code",
   "execution_count": 39,
   "metadata": {},
   "outputs": [],
   "source": [
    "corpus_subset_df['Philosophy(pred)'] = predictions"
   ]
  },
  {
   "cell_type": "code",
   "execution_count": 42,
   "metadata": {},
   "outputs": [],
   "source": [
    "corpus_subset_df = corpus_subset_df.drop(['Tokenised', 'Text as string'], axis=1)"
   ]
  },
  {
   "cell_type": "code",
   "execution_count": 43,
   "metadata": {},
   "outputs": [],
   "source": [
    "corpus_subset_df.to_pickle('pickles/preds_nb_1.tar.gz')"
   ]
  },
  {
   "cell_type": "markdown",
   "metadata": {},
   "source": [
    "Let's check out the results:"
   ]
  },
  {
   "cell_type": "code",
   "execution_count": 240,
   "metadata": {
    "scrolled": true
   },
   "outputs": [
    {
     "data": {
      "application/vnd.jupyter.widget-view+json": {
       "model_id": "f08c7353af884a3faeb65a4d38aa4156",
       "version_major": 2,
       "version_minor": 0
      },
      "text/plain": [
       "interactive(children=(Dropdown(description='index', options=('LT_18990206_ARTICLE20', 'LT_18960709_ARTICLE14',…"
      ]
     },
     "metadata": {},
     "output_type": "display_data"
    },
    {
     "data": {
      "text/plain": [
       "<function NL_helpers.html_text(index, dataframe, boldface=None)>"
      ]
     },
     "execution_count": 240,
     "metadata": {},
     "output_type": "execute_result"
    }
   ],
   "source": [
    "phil_indices = (list(predictions[predictions==True].sample(n=500).index))\n",
    "interact(NL_helpers.html_text, index=phil_indices, dataframe=fixed(corpus_subset_df), boldface=fixed(None))"
   ]
  },
  {
   "cell_type": "markdown",
   "metadata": {},
   "source": [
    "A multicore attempt at fitting model (via https://github.com/scikit-learn/scikit-learn/issues/7448).\n",
    "\n",
    "Final result is a list of all articles classified as true along with 'Title' and 'Text' columns."
   ]
  },
  {
   "cell_type": "code",
   "execution_count": 4,
   "metadata": {},
   "outputs": [],
   "source": [
    "slices_directory = '/home/joshua/Documents/data601_small_slices/'\n",
    "slices = [f'{slices_directory}{path}' for path in os.listdir(slices_directory)]"
   ]
  },
  {
   "cell_type": "code",
   "execution_count": 5,
   "metadata": {},
   "outputs": [],
   "source": [
    "def phil_from_slice(slice_path):\n",
    "    df = pd.read_pickle(slice_path)\n",
    "    series = (\n",
    "        df['Text']\n",
    "        .map(NL_helpers.blocks2string)\n",
    "        .map(filter_short_articles)\n",
    "    )\n",
    "    series.drop(series[series==''].index, inplace=True)\n",
    "    predictions = pd.Series(data=phil_classifier_2.predict(series))\n",
    "    predictions.index = series.index\n",
    "    phil = df[['Title', 'Text']].loc[predictions[predictions].index]\n",
    "    del df\n",
    "    return phil\n",
    "    "
   ]
  },
  {
   "cell_type": "code",
   "execution_count": 6,
   "metadata": {},
   "outputs": [],
   "source": [
    "phil_nb2 = []\n",
    "if __name__ == '__main__':\n",
    "    with Pool(processes=os.cpu_count()//4) as pool:\n",
    "        phil_predictions = pool.imap(phil_from_slice, slices)\n",
    "        for prediction in phil_predictions:\n",
    "            phil_nb2.append(prediction)"
   ]
  },
  {
   "cell_type": "code",
   "execution_count": 8,
   "metadata": {},
   "outputs": [],
   "source": [
    "total_phil = 0\n",
    "for item in phil_nb2:\n",
    "    total_phil += len(item)"
   ]
  },
  {
   "cell_type": "code",
   "execution_count": 9,
   "metadata": {},
   "outputs": [
    {
     "data": {
      "text/plain": [
       "44730"
      ]
     },
     "execution_count": 9,
     "metadata": {},
     "output_type": "execute_result"
    }
   ],
   "source": [
    "total_phil"
   ]
  },
  {
   "cell_type": "markdown",
   "metadata": {},
   "source": [
    "prev: 287832, new: 44730"
   ]
  },
  {
   "cell_type": "code",
   "execution_count": 10,
   "metadata": {},
   "outputs": [],
   "source": [
    "all_phil_nb2 = pd.concat(phil_nb2)"
   ]
  },
  {
   "cell_type": "code",
   "execution_count": 11,
   "metadata": {},
   "outputs": [
    {
     "data": {
      "text/html": [
       "<div>\n",
       "<style scoped>\n",
       "    .dataframe tbody tr th:only-of-type {\n",
       "        vertical-align: middle;\n",
       "    }\n",
       "\n",
       "    .dataframe tbody tr th {\n",
       "        vertical-align: top;\n",
       "    }\n",
       "\n",
       "    .dataframe thead th {\n",
       "        text-align: right;\n",
       "    }\n",
       "</style>\n",
       "<table border=\"1\" class=\"dataframe\">\n",
       "  <thead>\n",
       "    <tr style=\"text-align: right;\">\n",
       "      <th></th>\n",
       "      <th>Title</th>\n",
       "      <th>Text</th>\n",
       "    </tr>\n",
       "  </thead>\n",
       "  <tbody>\n",
       "    <tr>\n",
       "      <th>LT_18940102_ARTICLE15</th>\n",
       "      <td>ROMANTIC WOMEN.</td>\n",
       "      <td>[Most women are inclined to be romantic. This ...</td>\n",
       "    </tr>\n",
       "    <tr>\n",
       "      <th>LT_18940102_ARTICLE26</th>\n",
       "      <td>The Lyttelton Times. TUESDAY, JAN. 2, 1894.</td>\n",
       "      <td>[Whkn previously it Las been our task to look ...</td>\n",
       "    </tr>\n",
       "    <tr>\n",
       "      <th>LT_18940105_ARTICLE16</th>\n",
       "      <td>STATE EDUCATION.</td>\n",
       "      <td>[TO THE EDITOR. Sib, —No doubt a large majorit...</td>\n",
       "    </tr>\n",
       "    <tr>\n",
       "      <th>LT_18940108_ARTICLE22</th>\n",
       "      <td>The Lyttelton Times. MONDAY. JAN. 8, 1894.</td>\n",
       "      <td>[Among the five bishops who passed away last y...</td>\n",
       "    </tr>\n",
       "    <tr>\n",
       "      <th>LT_18940109_ARTICLE7</th>\n",
       "      <td>THE TASK OF THE BIOLOGIST.</td>\n",
       "      <td>[No. 11. When chemistry had finished _ shaping...</td>\n",
       "    </tr>\n",
       "    <tr>\n",
       "      <th>...</th>\n",
       "      <td>...</td>\n",
       "      <td>...</td>\n",
       "    </tr>\n",
       "    <tr>\n",
       "      <th>ODT_18790120_ARTICLE11</th>\n",
       "      <td>THE BIBLE IN SCHOOLS.</td>\n",
       "      <td>[The Rev. Dr Roseby presched en this sub j set...</td>\n",
       "    </tr>\n",
       "    <tr>\n",
       "      <th>ODT_18790120_ARTICLE17</th>\n",
       "      <td>THE EARLY SETTLERS AND THE BIBLE. TO THE EDITOR.</td>\n",
       "      <td>[Sir, —I was gratified to read in your leading...</td>\n",
       "    </tr>\n",
       "    <tr>\n",
       "      <th>ODT_18790121_ARTICLE3</th>\n",
       "      <td>The Otago Daily Times. WITH WHICH IS INCORPORA...</td>\n",
       "      <td>[The Committee appointed by the Athenceum meet...</td>\n",
       "    </tr>\n",
       "    <tr>\n",
       "      <th>ODT_18790121_ARTICLE16</th>\n",
       "      <td>GODLESS EDUCATION. TO THE EDITOR</td>\n",
       "      <td>[Sir,—l clxervo that the reft-reuce to tbo \"jj...</td>\n",
       "    </tr>\n",
       "    <tr>\n",
       "      <th>ODT_18790121_ARTICLE17</th>\n",
       "      <td>THE BIBLE SCHOOLS. TO THE EDITOR.</td>\n",
       "      <td>[Sia,—lt may not be out of place, in the prese...</td>\n",
       "    </tr>\n",
       "  </tbody>\n",
       "</table>\n",
       "<p>44730 rows × 2 columns</p>\n",
       "</div>"
      ],
      "text/plain": [
       "                                                                    Title  \\\n",
       "LT_18940102_ARTICLE15                                     ROMANTIC WOMEN.   \n",
       "LT_18940102_ARTICLE26         The Lyttelton Times. TUESDAY, JAN. 2, 1894.   \n",
       "LT_18940105_ARTICLE16                                    STATE EDUCATION.   \n",
       "LT_18940108_ARTICLE22          The Lyttelton Times. MONDAY. JAN. 8, 1894.   \n",
       "LT_18940109_ARTICLE7                           THE TASK OF THE BIOLOGIST.   \n",
       "...                                                                   ...   \n",
       "ODT_18790120_ARTICLE11                              THE BIBLE IN SCHOOLS.   \n",
       "ODT_18790120_ARTICLE17   THE EARLY SETTLERS AND THE BIBLE. TO THE EDITOR.   \n",
       "ODT_18790121_ARTICLE3   The Otago Daily Times. WITH WHICH IS INCORPORA...   \n",
       "ODT_18790121_ARTICLE16                   GODLESS EDUCATION. TO THE EDITOR   \n",
       "ODT_18790121_ARTICLE17                  THE BIBLE SCHOOLS. TO THE EDITOR.   \n",
       "\n",
       "                                                                     Text  \n",
       "LT_18940102_ARTICLE15   [Most women are inclined to be romantic. This ...  \n",
       "LT_18940102_ARTICLE26   [Whkn previously it Las been our task to look ...  \n",
       "LT_18940105_ARTICLE16   [TO THE EDITOR. Sib, —No doubt a large majorit...  \n",
       "LT_18940108_ARTICLE22   [Among the five bishops who passed away last y...  \n",
       "LT_18940109_ARTICLE7    [No. 11. When chemistry had finished _ shaping...  \n",
       "...                                                                   ...  \n",
       "ODT_18790120_ARTICLE11  [The Rev. Dr Roseby presched en this sub j set...  \n",
       "ODT_18790120_ARTICLE17  [Sir, —I was gratified to read in your leading...  \n",
       "ODT_18790121_ARTICLE3   [The Committee appointed by the Athenceum meet...  \n",
       "ODT_18790121_ARTICLE16  [Sir,—l clxervo that the reft-reuce to tbo \"jj...  \n",
       "ODT_18790121_ARTICLE17  [Sia,—lt may not be out of place, in the prese...  \n",
       "\n",
       "[44730 rows x 2 columns]"
      ]
     },
     "execution_count": 11,
     "metadata": {},
     "output_type": "execute_result"
    }
   ],
   "source": [
    "all_phil_nb2"
   ]
  },
  {
   "cell_type": "code",
   "execution_count": 12,
   "metadata": {},
   "outputs": [],
   "source": [
    "all_phil_nb2.to_pickle('pickles/nb2_philoso_df.tar.gz')"
   ]
  }
 ],
 "metadata": {
  "kernelspec": {
   "display_name": "Python 3",
   "language": "python",
   "name": "python3"
  },
  "language_info": {
   "codemirror_mode": {
    "name": "ipython",
    "version": 3
   },
   "file_extension": ".py",
   "mimetype": "text/x-python",
   "name": "python",
   "nbconvert_exporter": "python",
   "pygments_lexer": "ipython3",
   "version": "3.7.6"
  }
 },
 "nbformat": 4,
 "nbformat_minor": 4
}

{
 "cells": [
  {
   "cell_type": "markdown",
   "metadata": {},
   "source": [
    "# Classifying Texts"
   ]
  },
  {
   "cell_type": "markdown",
   "metadata": {},
   "source": [
    "Classificatory scheme:\n",
    " - Readable / non-readable\n",
    "     - if non-readable, ditch.\n",
    " - philosophy / non-philosophy\n",
    "     - if non-philosophy, no further qus\n",
    " - Ethics-politics / Epistemology-metaphysics / religion-science / other\n",
    " - public event / letter / first-order\n",
    " - NZ / non-NZ\n",
    " "
   ]
  },
  {
   "cell_type": "code",
   "execution_count": 1,
   "metadata": {},
   "outputs": [],
   "source": [
    "import os\n",
    "import time\n",
    "import glob\n",
    "\n",
    "import pandas as pd\n",
    "\n",
    "from ipywidgets import interact, interactive, fixed, interact_manual\n",
    "import ipywidgets as widgets\n",
    "\n",
    "from IPython.display import IFrame, HTML, clear_output\n",
    "\n",
    "\n",
    "import NL_helpers"
   ]
  },
  {
   "cell_type": "code",
   "execution_count": 17,
   "metadata": {},
   "outputs": [
    {
     "data": {
      "text/plain": [
       "<module 'NL_helpers' from '/home/joshua/Documents/Academic/MADS/DATA601/NL_helpers.py'>"
      ]
     },
     "execution_count": 17,
     "metadata": {},
     "output_type": "execute_result"
    }
   ],
   "source": [
    "# Run cell to reload NL_helpers and NL_topicmodels if they have been changed.\n",
    "from importlib import reload\n",
    "reload(NL_helpers)"
   ]
  },
  {
   "cell_type": "code",
   "execution_count": 2,
   "metadata": {},
   "outputs": [],
   "source": [
    "philoso_df = pd.read_pickle('pickles/philoso_df.tar.gz')\n",
    "all_sub_df = pd.read_pickle('pickles/corpus_subset_df.pickle')"
   ]
  },
  {
   "cell_type": "code",
   "execution_count": 4,
   "metadata": {},
   "outputs": [],
   "source": [
    "# collocate_stems = [\n",
    "#     'synthetic'\n",
    "#     'bacon*'\n",
    "#     'epicurean',\n",
    "#     'cosmic',\n",
    "#     'transcend*',\n",
    "#     'stoic',\n",
    "#     'pessimis*',\n",
    "#     'plato*',\n",
    "#     'experimen*',\n",
    "#     \"spence*\",\n",
    "#     'speculat*',\n",
    "#     'materialis*',\n",
    "#     'scept*',\n",
    "# ]\n",
    "collocate_stems = [\n",
    "    'lect*',\n",
    "    'debate'\n",
    "]\n",
    "\n",
    "collocate_search = f\"(?:{'|'.join(collocate_stems)})\""
   ]
  },
  {
   "cell_type": "code",
   "execution_count": 5,
   "metadata": {},
   "outputs": [],
   "source": [
    "philoso_df = philoso_df.loc[NL_helpers.search_text(philoso_df, collocate_search, lower=True)]"
   ]
  },
  {
   "cell_type": "code",
   "execution_count": 6,
   "metadata": {},
   "outputs": [
    {
     "data": {
      "text/plain": [
       "19172"
      ]
     },
     "execution_count": 6,
     "metadata": {},
     "output_type": "execute_result"
    }
   ],
   "source": [
    "len(philoso_df)"
   ]
  },
  {
   "cell_type": "code",
   "execution_count": 7,
   "metadata": {},
   "outputs": [],
   "source": [
    "philoso_df = philoso_df.sample(n=len(all_sub_df))"
   ]
  },
  {
   "cell_type": "code",
   "execution_count": 8,
   "metadata": {},
   "outputs": [],
   "source": [
    "combined_df = pd.concat([philoso_df, all_sub_df])\n",
    "del philoso_df, all_sub_df"
   ]
  },
  {
   "cell_type": "code",
   "execution_count": 30,
   "metadata": {},
   "outputs": [],
   "source": [
    "# classified_pickles = glob.glob('./pickles/classified*')"
   ]
  },
  {
   "cell_type": "code",
   "execution_count": 45,
   "metadata": {},
   "outputs": [],
   "source": [
    "# classified_dfs = []\n",
    "# for pickled in classified_pickles:\n",
    "#     pickled_df = pd.read_pickle(pickled)\n",
    "#     classified_dfs.append(pickled_df)\n",
    "# classified_df = pd.concat(classified_dfs)\n",
    "# classified_df = classified_df[~classified_df.index.duplicated(keep='first')]"
   ]
  },
  {
   "cell_type": "code",
   "execution_count": 2,
   "metadata": {},
   "outputs": [],
   "source": [
    "classified_df = pd.read_pickle('pickles/classified_df.pickle')"
   ]
  },
  {
   "cell_type": "code",
   "execution_count": 14,
   "metadata": {},
   "outputs": [
    {
     "data": {
      "text/html": [
       "<div>\n",
       "<style scoped>\n",
       "    .dataframe tbody tr th:only-of-type {\n",
       "        vertical-align: middle;\n",
       "    }\n",
       "\n",
       "    .dataframe tbody tr th {\n",
       "        vertical-align: top;\n",
       "    }\n",
       "\n",
       "    .dataframe thead th {\n",
       "        text-align: right;\n",
       "    }\n",
       "</style>\n",
       "<table border=\"1\" class=\"dataframe\">\n",
       "  <thead>\n",
       "    <tr style=\"text-align: right;\">\n",
       "      <th></th>\n",
       "      <th>Readable</th>\n",
       "      <th>Philosophy</th>\n",
       "      <th>Philosophy Type</th>\n",
       "      <th>Writing Type</th>\n",
       "      <th>NZ</th>\n",
       "      <th>Notes</th>\n",
       "    </tr>\n",
       "  </thead>\n",
       "  <tbody>\n",
       "    <tr>\n",
       "      <th>LT_18971209_ARTICLE7</th>\n",
       "      <td>True</td>\n",
       "      <td>False</td>\n",
       "      <td>None</td>\n",
       "      <td>None</td>\n",
       "      <td>None</td>\n",
       "      <td></td>\n",
       "    </tr>\n",
       "    <tr>\n",
       "      <th>NZTIM_18860722_ARTICLE11</th>\n",
       "      <td>True</td>\n",
       "      <td>False</td>\n",
       "      <td>None</td>\n",
       "      <td>None</td>\n",
       "      <td>None</td>\n",
       "      <td></td>\n",
       "    </tr>\n",
       "    <tr>\n",
       "      <th>WC_18810721_ARTICLE7</th>\n",
       "      <td>True</td>\n",
       "      <td>False</td>\n",
       "      <td>None</td>\n",
       "      <td>None</td>\n",
       "      <td>None</td>\n",
       "      <td></td>\n",
       "    </tr>\n",
       "    <tr>\n",
       "      <th>DUNST_18980513_ARTICLE3</th>\n",
       "      <td>True</td>\n",
       "      <td>False</td>\n",
       "      <td>None</td>\n",
       "      <td>None</td>\n",
       "      <td>None</td>\n",
       "      <td></td>\n",
       "    </tr>\n",
       "    <tr>\n",
       "      <th>OAM_18960702_ARTICLE35</th>\n",
       "      <td>True</td>\n",
       "      <td>False</td>\n",
       "      <td>None</td>\n",
       "      <td>None</td>\n",
       "      <td>None</td>\n",
       "      <td></td>\n",
       "    </tr>\n",
       "    <tr>\n",
       "      <th>...</th>\n",
       "      <td>...</td>\n",
       "      <td>...</td>\n",
       "      <td>...</td>\n",
       "      <td>...</td>\n",
       "      <td>...</td>\n",
       "      <td>...</td>\n",
       "    </tr>\n",
       "    <tr>\n",
       "      <th>HLC_18950215_ARTICLE19</th>\n",
       "      <td>True</td>\n",
       "      <td>True</td>\n",
       "      <td>r</td>\n",
       "      <td>r</td>\n",
       "      <td>None</td>\n",
       "      <td></td>\n",
       "    </tr>\n",
       "    <tr>\n",
       "      <th>OO_18910214_ARTICLE3</th>\n",
       "      <td>True</td>\n",
       "      <td>True</td>\n",
       "      <td>e</td>\n",
       "      <td>f</td>\n",
       "      <td>None</td>\n",
       "      <td></td>\n",
       "    </tr>\n",
       "    <tr>\n",
       "      <th>OO_18920109_ARTICLE7</th>\n",
       "      <td>True</td>\n",
       "      <td>True</td>\n",
       "      <td>r</td>\n",
       "      <td>l</td>\n",
       "      <td>True</td>\n",
       "      <td></td>\n",
       "    </tr>\n",
       "    <tr>\n",
       "      <th>OO_18921224_ARTICLE2</th>\n",
       "      <td>True</td>\n",
       "      <td>True</td>\n",
       "      <td>r</td>\n",
       "      <td>p</td>\n",
       "      <td>None</td>\n",
       "      <td>Mr Collins public debate in Oxford (existence ...</td>\n",
       "    </tr>\n",
       "    <tr>\n",
       "      <th>OO_18961226_ARTICLE3</th>\n",
       "      <td>True</td>\n",
       "      <td>True</td>\n",
       "      <td>e</td>\n",
       "      <td>f</td>\n",
       "      <td>False</td>\n",
       "      <td>Lady Cook's advice to young women</td>\n",
       "    </tr>\n",
       "  </tbody>\n",
       "</table>\n",
       "<p>587 rows × 6 columns</p>\n",
       "</div>"
      ],
      "text/plain": [
       "                         Readable Philosophy Philosophy Type Writing Type  \\\n",
       "LT_18971209_ARTICLE7         True      False            None         None   \n",
       "NZTIM_18860722_ARTICLE11     True      False            None         None   \n",
       "WC_18810721_ARTICLE7         True      False            None         None   \n",
       "DUNST_18980513_ARTICLE3      True      False            None         None   \n",
       "OAM_18960702_ARTICLE35       True      False            None         None   \n",
       "...                           ...        ...             ...          ...   \n",
       "HLC_18950215_ARTICLE19       True       True               r            r   \n",
       "OO_18910214_ARTICLE3         True       True               e            f   \n",
       "OO_18920109_ARTICLE7         True       True               r            l   \n",
       "OO_18921224_ARTICLE2         True       True               r            p   \n",
       "OO_18961226_ARTICLE3         True       True               e            f   \n",
       "\n",
       "                             NZ  \\\n",
       "LT_18971209_ARTICLE7       None   \n",
       "NZTIM_18860722_ARTICLE11   None   \n",
       "WC_18810721_ARTICLE7       None   \n",
       "DUNST_18980513_ARTICLE3    None   \n",
       "OAM_18960702_ARTICLE35     None   \n",
       "...                         ...   \n",
       "HLC_18950215_ARTICLE19     None   \n",
       "OO_18910214_ARTICLE3       None   \n",
       "OO_18920109_ARTICLE7       True   \n",
       "OO_18921224_ARTICLE2       None   \n",
       "OO_18961226_ARTICLE3      False   \n",
       "\n",
       "                                                                      Notes  \n",
       "LT_18971209_ARTICLE7                                                         \n",
       "NZTIM_18860722_ARTICLE11                                                     \n",
       "WC_18810721_ARTICLE7                                                         \n",
       "DUNST_18980513_ARTICLE3                                                      \n",
       "OAM_18960702_ARTICLE35                                                       \n",
       "...                                                                     ...  \n",
       "HLC_18950215_ARTICLE19                                                       \n",
       "OO_18910214_ARTICLE3                                                         \n",
       "OO_18920109_ARTICLE7                                                         \n",
       "OO_18921224_ARTICLE2      Mr Collins public debate in Oxford (existence ...  \n",
       "OO_18961226_ARTICLE3                      Lady Cook's advice to young women  \n",
       "\n",
       "[587 rows x 6 columns]"
      ]
     },
     "execution_count": 14,
     "metadata": {},
     "output_type": "execute_result"
    }
   ],
   "source": [
    "classified_df"
   ]
  },
  {
   "cell_type": "code",
   "execution_count": 9,
   "metadata": {},
   "outputs": [],
   "source": [
    "# classified_df = pd.DataFrame(columns=['Readable', 'Philosophy', 'Philosophy Type', 'Writing Type', 'NZ', 'Notes'])"
   ]
  },
  {
   "cell_type": "code",
   "execution_count": 48,
   "metadata": {},
   "outputs": [],
   "source": [
    "indices = combined_df.index.to_series().sample(n=100)"
   ]
  },
  {
   "cell_type": "code",
   "execution_count": 11,
   "metadata": {},
   "outputs": [],
   "source": [
    "def classify_text():\n",
    "    \n",
    "    readable = phil = phil_type = genre_type = nz = notes = None\n",
    "    \n",
    "    readable_in = input('Long readable portions? (y if readable)> ')\n",
    "    if readable_in == 'y':\n",
    "        readable = True\n",
    "    else:\n",
    "        readable = False\n",
    "    \n",
    "    if readable == True:\n",
    "        phil_in = input('Philosophy? (y if so)> ')\n",
    "        if phil_in == 'y':\n",
    "            phil = True\n",
    "        else:\n",
    "            phil = False\n",
    "    \n",
    "    if readable == True and phil == True:\n",
    "        phil_type_in = input('Ethics/Epistemology-Metaphysics/Religion-Science/Other? (e/m/r/o)> ')\n",
    "        if phil_type_in in ['e', 'm', 'r', 'o']:\n",
    "            phil_type = phil_type_in\n",
    "        else:\n",
    "            phil_type = 'input error'\n",
    "        \n",
    "        genre_type_in = input('Public event/letter/review/first order? (p/l/r/f)> ')\n",
    "        if genre_type_in in ['p', 'l', 'f', 'r']:\n",
    "            genre_type = genre_type_in\n",
    "        else:\n",
    "            genre_type = 'input error'\n",
    "        \n",
    "        nz_in = input('NZ or non-NZ (author)? (y/n/?)')\n",
    "        if nz_in == 'y':\n",
    "            nz = True\n",
    "        elif nz_in == 'n':\n",
    "            nz = False\n",
    "    \n",
    "    notes = input('Notes? >')\n",
    "    \n",
    "    return (readable, phil, phil_type, genre_type, nz, notes)\n",
    "        "
   ]
  },
  {
   "cell_type": "code",
   "execution_count": 73,
   "metadata": {
    "scrolled": false
   },
   "outputs": [],
   "source": [
    "exit = False\n",
    "i = 0\n",
    "t0 = time.time()\n",
    "while exit == False:\n",
    "    if indices[i] in classified_df.index:\n",
    "        i+=1\n",
    "    else:\n",
    "        NL_helpers.print_text(indices[i], combined_df)\n",
    "        classified_df.loc[indices[i]] = classify_text()\n",
    "        i+=1\n",
    "        exit_decision = input('exit? (y to exit) >')\n",
    "        if exit_decision == 'y':\n",
    "            exit = True\n",
    "        clear_output()\n",
    "                "
   ]
  },
  {
   "cell_type": "code",
   "execution_count": 74,
   "metadata": {},
   "outputs": [
    {
     "data": {
      "text/html": [
       "<div>\n",
       "<style scoped>\n",
       "    .dataframe tbody tr th:only-of-type {\n",
       "        vertical-align: middle;\n",
       "    }\n",
       "\n",
       "    .dataframe tbody tr th {\n",
       "        vertical-align: top;\n",
       "    }\n",
       "\n",
       "    .dataframe thead th {\n",
       "        text-align: right;\n",
       "    }\n",
       "</style>\n",
       "<table border=\"1\" class=\"dataframe\">\n",
       "  <thead>\n",
       "    <tr style=\"text-align: right;\">\n",
       "      <th></th>\n",
       "      <th>Readable</th>\n",
       "      <th>Philosophy</th>\n",
       "      <th>Philosophy Type</th>\n",
       "      <th>Writing Type</th>\n",
       "      <th>NZ</th>\n",
       "      <th>Notes</th>\n",
       "    </tr>\n",
       "  </thead>\n",
       "  <tbody>\n",
       "    <tr>\n",
       "      <th>LT_18971209_ARTICLE7</th>\n",
       "      <td>True</td>\n",
       "      <td>False</td>\n",
       "      <td>None</td>\n",
       "      <td>None</td>\n",
       "      <td>None</td>\n",
       "      <td></td>\n",
       "    </tr>\n",
       "    <tr>\n",
       "      <th>NZTIM_18860722_ARTICLE11</th>\n",
       "      <td>True</td>\n",
       "      <td>False</td>\n",
       "      <td>None</td>\n",
       "      <td>None</td>\n",
       "      <td>None</td>\n",
       "      <td></td>\n",
       "    </tr>\n",
       "    <tr>\n",
       "      <th>WC_18810721_ARTICLE7</th>\n",
       "      <td>True</td>\n",
       "      <td>False</td>\n",
       "      <td>None</td>\n",
       "      <td>None</td>\n",
       "      <td>None</td>\n",
       "      <td></td>\n",
       "    </tr>\n",
       "    <tr>\n",
       "      <th>DUNST_18980513_ARTICLE3</th>\n",
       "      <td>True</td>\n",
       "      <td>False</td>\n",
       "      <td>None</td>\n",
       "      <td>None</td>\n",
       "      <td>None</td>\n",
       "      <td></td>\n",
       "    </tr>\n",
       "    <tr>\n",
       "      <th>OAM_18960702_ARTICLE35</th>\n",
       "      <td>True</td>\n",
       "      <td>False</td>\n",
       "      <td>None</td>\n",
       "      <td>None</td>\n",
       "      <td>None</td>\n",
       "      <td></td>\n",
       "    </tr>\n",
       "    <tr>\n",
       "      <th>...</th>\n",
       "      <td>...</td>\n",
       "      <td>...</td>\n",
       "      <td>...</td>\n",
       "      <td>...</td>\n",
       "      <td>...</td>\n",
       "      <td>...</td>\n",
       "    </tr>\n",
       "    <tr>\n",
       "      <th>TC_18631110_ARTICLE11</th>\n",
       "      <td>True</td>\n",
       "      <td>True</td>\n",
       "      <td>e</td>\n",
       "      <td>f</td>\n",
       "      <td>True</td>\n",
       "      <td>Against Carlyle on slavery and US civil war</td>\n",
       "    </tr>\n",
       "    <tr>\n",
       "      <th>DSC_18630406_ARTICLE55</th>\n",
       "      <td>True</td>\n",
       "      <td>False</td>\n",
       "      <td>None</td>\n",
       "      <td>None</td>\n",
       "      <td>None</td>\n",
       "      <td></td>\n",
       "    </tr>\n",
       "    <tr>\n",
       "      <th>DTN_18940820_ARTICLE7</th>\n",
       "      <td>True</td>\n",
       "      <td>True</td>\n",
       "      <td>e</td>\n",
       "      <td>f</td>\n",
       "      <td>True</td>\n",
       "      <td>Barely counts - asserts in context of NZ polit...</td>\n",
       "    </tr>\n",
       "    <tr>\n",
       "      <th>WH_18740318_ARTICLE8</th>\n",
       "      <td>True</td>\n",
       "      <td>False</td>\n",
       "      <td>None</td>\n",
       "      <td>None</td>\n",
       "      <td>None</td>\n",
       "      <td></td>\n",
       "    </tr>\n",
       "    <tr>\n",
       "      <th>WI_18620729_ARTICLE13</th>\n",
       "      <td>True</td>\n",
       "      <td>False</td>\n",
       "      <td>None</td>\n",
       "      <td>None</td>\n",
       "      <td>None</td>\n",
       "      <td></td>\n",
       "    </tr>\n",
       "  </tbody>\n",
       "</table>\n",
       "<p>196 rows × 6 columns</p>\n",
       "</div>"
      ],
      "text/plain": [
       "                         Readable Philosophy Philosophy Type Writing Type  \\\n",
       "LT_18971209_ARTICLE7         True      False            None         None   \n",
       "NZTIM_18860722_ARTICLE11     True      False            None         None   \n",
       "WC_18810721_ARTICLE7         True      False            None         None   \n",
       "DUNST_18980513_ARTICLE3      True      False            None         None   \n",
       "OAM_18960702_ARTICLE35       True      False            None         None   \n",
       "...                           ...        ...             ...          ...   \n",
       "TC_18631110_ARTICLE11        True       True               e            f   \n",
       "DSC_18630406_ARTICLE55       True      False            None         None   \n",
       "DTN_18940820_ARTICLE7        True       True               e            f   \n",
       "WH_18740318_ARTICLE8         True      False            None         None   \n",
       "WI_18620729_ARTICLE13        True      False            None         None   \n",
       "\n",
       "                            NZ  \\\n",
       "LT_18971209_ARTICLE7      None   \n",
       "NZTIM_18860722_ARTICLE11  None   \n",
       "WC_18810721_ARTICLE7      None   \n",
       "DUNST_18980513_ARTICLE3   None   \n",
       "OAM_18960702_ARTICLE35    None   \n",
       "...                        ...   \n",
       "TC_18631110_ARTICLE11     True   \n",
       "DSC_18630406_ARTICLE55    None   \n",
       "DTN_18940820_ARTICLE7     True   \n",
       "WH_18740318_ARTICLE8      None   \n",
       "WI_18620729_ARTICLE13     None   \n",
       "\n",
       "                                                                      Notes  \n",
       "LT_18971209_ARTICLE7                                                         \n",
       "NZTIM_18860722_ARTICLE11                                                     \n",
       "WC_18810721_ARTICLE7                                                         \n",
       "DUNST_18980513_ARTICLE3                                                      \n",
       "OAM_18960702_ARTICLE35                                                       \n",
       "...                                                                     ...  \n",
       "TC_18631110_ARTICLE11           Against Carlyle on slavery and US civil war  \n",
       "DSC_18630406_ARTICLE55                                                       \n",
       "DTN_18940820_ARTICLE7     Barely counts - asserts in context of NZ polit...  \n",
       "WH_18740318_ARTICLE8                                                         \n",
       "WI_18620729_ARTICLE13                                                        \n",
       "\n",
       "[196 rows x 6 columns]"
      ]
     },
     "execution_count": 74,
     "metadata": {},
     "output_type": "execute_result"
    }
   ],
   "source": [
    "classified_df"
   ]
  },
  {
   "cell_type": "code",
   "execution_count": 92,
   "metadata": {},
   "outputs": [],
   "source": [
    "classified_df.loc['HBT_18650904_ARTICLE11'] = (True, True, 'o', 'f', None, 'Mention of phil books in library')"
   ]
  },
  {
   "cell_type": "code",
   "execution_count": 61,
   "metadata": {},
   "outputs": [],
   "source": [
    "classified_df.loc['ODT_18910505_ARTICLE41']['Notes'] = \"\""
   ]
  },
  {
   "cell_type": "code",
   "execution_count": 4,
   "metadata": {},
   "outputs": [
    {
     "data": {
      "text/plain": [
       "False    147\n",
       "True     101\n",
       "Name: Philosophy, dtype: int64"
      ]
     },
     "execution_count": 4,
     "metadata": {},
     "output_type": "execute_result"
    }
   ],
   "source": [
    "classified_df['Philosophy'].value_counts()"
   ]
  },
  {
   "cell_type": "code",
   "execution_count": 40,
   "metadata": {},
   "outputs": [],
   "source": [
    "classified_df.to_pickle(f'pickles/classified_df.pickle')"
   ]
  },
  {
   "cell_type": "code",
   "execution_count": 13,
   "metadata": {},
   "outputs": [
    {
     "data": {
      "text/plain": [
       "1609747518.6342514"
      ]
     },
     "execution_count": 13,
     "metadata": {},
     "output_type": "execute_result"
    }
   ],
   "source": [
    "t0"
   ]
  },
  {
   "cell_type": "code",
   "execution_count": 19,
   "metadata": {},
   "outputs": [
    {
     "data": {
      "text/plain": [
       "[\"+ THE GERMAN ELECTIONS. CONSPIRACY IN RUSSIAN MILI TARY SCHOOLS. AUSTRIA AND HUNGARY PRE PARING FOR WAR. (SPECIAL TO UNITED PBBSS ASSOCIATION.) London, Feb 14. The Austria Hungarian Delega tions meet on the 13th March, at Buda Festh, when a credit of 60,000,000 florins (about £6000,000) will be demanded. Most of the military and naval schools of Eussia are involved m thejrecent conspiracy detected there, and numerous arrests of officers have been made. Feb 16. Heavy military credits have been asked for m the Austrian Eeichsrath and the Hungarian Parliament m anticipation of additional demands by the Delegations, (rbuter's telegrams.) Berlin, Feb 16 A manifesto has been issued by the Viscount Hohenlohe, appealing t o the electors o f Alsace an d Lorraine to return Government supporters and officials to the Reichstag. The Emperor is suffering from influenza and severe hoarseness aud is confined to his palace. St Petersburg, Feb 16. General Kaulbars has been ap pointed military] attache to the Russian. Embassy at Teheran, Persia.\"]"
      ]
     },
     "execution_count": 19,
     "metadata": {},
     "output_type": "execute_result"
    }
   ],
   "source": [
    "combined_df.loc['MEX_18870218_ARTICLE12']['Text']"
   ]
  },
  {
   "cell_type": "markdown",
   "metadata": {},
   "source": [
    "Not putting in fiction unless it has a very long philosophical discourse..."
   ]
  },
  {
   "cell_type": "markdown",
   "metadata": {},
   "source": [
    "### Some manual additions"
   ]
  },
  {
   "cell_type": "code",
   "execution_count": 54,
   "metadata": {},
   "outputs": [],
   "source": [
    "desired_articles = [ # This list generated by looking through full philoso_df for relevant things by article title.\n",
    "    'ODT_18760318_ARTICLE12',\n",
    "    'TC_18711017_ARTICLE10',\n",
    "    'CHP_18920917_ARTICLE10',\n",
    "    'GLOBE_18820401_ARTICLE21',\n",
    "    'CHP_18940313_ARTICLE9',\n",
    "    'ESD_18820918_ARTICLE1',\n",
    "    'AS_18791120_ARTICLE29',\n",
    "    'ODT_18960611_ARTICLE12',\n",
    "    'DSC_18710826_ARTICLE19',\n",
    "    'CHP_18961008_ARTICLE7',\n",
    "    'OW_18931102_ARTICLE33',\n",
    "    'OW_18650708_ARTICLE11',\n",
    "    'CHP_18920330_ARTICLE46',\n",
    "    'DSC_18580416_ARTICLE20',\n",
    "    'CHP_18920919_ARTICLE48',\n",
    "    'CROMARG_18980628_ARTICLE51',\n",
    "    'LT_18831025_ARTICLE34',\n",
    "    'TC_18910713_ARTICLE36',\n",
    "    'MIC_18820928_ARTICLE10',\n",
    "    'OW_18890815_ARTICLE107',\n",
    "    'GLOBE_18780408_ARTICLE8',\n",
    "    'CROMARG_18920329_ARTICLE12',\n",
    "    'BH_18970910_ARTICLE32', # A truly unreadable one.\n",
    "    'DSC_18741104_ARTICLE19',\n",
    "    'AS_18991106_ARTICLE6',\n",
    "    'OAM_18840416_ARTICLE16',\n",
    "    'ODT_18900528_ARTICLE42',\n",
    "    'CHP_18980305_ARTICLE63',\n",
    "    'DSC_18760710_ARTICLE26',\n",
    "    'ESD_18770602_ARTICLE11',\n",
    "    'DSC_18690820_ARTICLE32', # WOULD BE VERY GOOD TO HAVE!\n",
    "    'AS_18810910_ARTICLE31',\n",
    "    'LT_18970918_ARTICLE10',\n",
    "    'LT_18780620_ARTICLE15',\n",
    "    'ESD_18991007_ARTICLE28',\n",
    "    'OAM_18830907_ARTICLE12',\n",
    "    'BH_18890222_ARTICLE33',\n",
    "    'NZTIM_18790922_ARTICLE15',\n",
    "    'LT_18990304_ARTICLE23',\n",
    "    'NZTIM_18870630_ARTICLE42',\n",
    "    'ESD_18880421_ARTICLE19', # REVIEW OF SALMOND'S BOOK REIGN OF GRACE\n",
    "    'ODT_18800925_ARTICLE32',\n",
    "    'TC_18610205_ARTICLE3',\n",
    "    'WI_18680822_ARTICLE17',\n",
    "    'DSC_18760529_ARTICLE30',\n",
    "    'OW_18790510_ARTICLE18',\n",
    "    'LT_18710816_ARTICLE14',\n",
    "    'ODT_18751113_ARTICLE23',\n",
    "    'OW_18980616_ARTICLE177',\n",
    "    'OW_18600324_ARTICLE1',\n",
    "    'TC_18930809_ARTICLE4',\n",
    "    'ODT_18780307_ARTICLE13',\n",
    "    'NOT_18760629_ARTICLE9',\n",
    "    'FS_18830811_ARTICLE11',\n",
    "    'ODT_18980813_ARTICLE61',\n",
    "    'WH_18800503_ARTICLE14',\n",
    "    'ESD_18880630_ARTICLE38',\n",
    "    'AS_18921224_ARTICLE119',\n",
    "    'OW_18700730_ARTICLE45',\n",
    "    'ODT_18960530_ARTICLE23',\n",
    "    'ODT_18950713_ARTICLE61',\n",
    "    'ESD_18951016_ARTICLE44',\n",
    "    'AS_18880707_ARTICLE89',\n",
    "    'ODT_18990920_ARTICLE15',\n",
    "    'WC_18750921_ARTICLE16',\n",
    "    'ODT_18720910_ARTICLE13',\n",
    "    'OW_18790222_ARTICLE24',\n",
    "    'OW_18920519_ARTICLE16',\n",
    "    'ESD_18750428_ARTICLE4',\n",
    "    'WT_18850915_ARTICLE31',\n",
    "    'BH_18760225_ARTICLE22',\n",
    "    'MEX_18900430_ARTICLE32',\n",
    "    'AS_18821010_ARTICLE41',\n",
    "    'NEM_18840707_ARTICLE12',\n",
    "    'ODT_18980127_ARTICLE31',\n",
    "    'NZTIM_18960806_ARTICLE1',\n",
    "    'ESD_18941026_ARTICLE4'\n",
    "]"
   ]
  },
  {
   "cell_type": "code",
   "execution_count": 55,
   "metadata": {
    "scrolled": false
   },
   "outputs": [
    {
     "ename": "IndexError",
     "evalue": "list index out of range",
     "output_type": "error",
     "traceback": [
      "\u001b[0;31m---------------------------------------------------------------------------\u001b[0m",
      "\u001b[0;31mIndexError\u001b[0m                                Traceback (most recent call last)",
      "\u001b[0;32m<ipython-input-55-911deb632ff0>\u001b[0m in \u001b[0;36m<module>\u001b[0;34m\u001b[0m\n\u001b[1;32m      2\u001b[0m \u001b[0mi\u001b[0m \u001b[0;34m=\u001b[0m \u001b[0;36m0\u001b[0m\u001b[0;34m\u001b[0m\u001b[0;34m\u001b[0m\u001b[0m\n\u001b[1;32m      3\u001b[0m \u001b[0;32mwhile\u001b[0m \u001b[0mexit\u001b[0m \u001b[0;34m==\u001b[0m \u001b[0;32mFalse\u001b[0m\u001b[0;34m:\u001b[0m\u001b[0;34m\u001b[0m\u001b[0;34m\u001b[0m\u001b[0m\n\u001b[0;32m----> 4\u001b[0;31m     \u001b[0;32mif\u001b[0m \u001b[0mdesired_articles\u001b[0m\u001b[0;34m[\u001b[0m\u001b[0mi\u001b[0m\u001b[0;34m]\u001b[0m \u001b[0;32min\u001b[0m \u001b[0mclassified_df\u001b[0m\u001b[0;34m.\u001b[0m\u001b[0mindex\u001b[0m\u001b[0;34m:\u001b[0m\u001b[0;34m\u001b[0m\u001b[0;34m\u001b[0m\u001b[0m\n\u001b[0m\u001b[1;32m      5\u001b[0m         \u001b[0mi\u001b[0m\u001b[0;34m+=\u001b[0m\u001b[0;36m1\u001b[0m\u001b[0;34m\u001b[0m\u001b[0;34m\u001b[0m\u001b[0m\n\u001b[1;32m      6\u001b[0m     \u001b[0;32melse\u001b[0m\u001b[0;34m:\u001b[0m\u001b[0;34m\u001b[0m\u001b[0;34m\u001b[0m\u001b[0m\n",
      "\u001b[0;31mIndexError\u001b[0m: list index out of range"
     ]
    }
   ],
   "source": [
    "exit = False\n",
    "i = 0\n",
    "while exit == False:\n",
    "    if desired_articles[i] in classified_df.index:\n",
    "        i+=1\n",
    "    else:\n",
    "        NL_helpers.print_text(desired_articles[i], philoso_df)\n",
    "        classified_df.loc[desired_articles[i]] = classify_text()\n",
    "        i+=1\n",
    "        exit_decision = input('exit? (y to exit) >')\n",
    "        if exit_decision == 'y':\n",
    "            exit = True\n",
    "        clear_output()\n",
    "                "
   ]
  },
  {
   "cell_type": "code",
   "execution_count": 56,
   "metadata": {
    "scrolled": false
   },
   "outputs": [
    {
     "data": {
      "text/html": [
       "<div>\n",
       "<style scoped>\n",
       "    .dataframe tbody tr th:only-of-type {\n",
       "        vertical-align: middle;\n",
       "    }\n",
       "\n",
       "    .dataframe tbody tr th {\n",
       "        vertical-align: top;\n",
       "    }\n",
       "\n",
       "    .dataframe thead th {\n",
       "        text-align: right;\n",
       "    }\n",
       "</style>\n",
       "<table border=\"1\" class=\"dataframe\">\n",
       "  <thead>\n",
       "    <tr style=\"text-align: right;\">\n",
       "      <th></th>\n",
       "      <th>Readable</th>\n",
       "      <th>Philosophy</th>\n",
       "      <th>Philosophy Type</th>\n",
       "      <th>Writing Type</th>\n",
       "      <th>NZ</th>\n",
       "      <th>Notes</th>\n",
       "    </tr>\n",
       "  </thead>\n",
       "  <tbody>\n",
       "    <tr>\n",
       "      <th>LT_18971209_ARTICLE7</th>\n",
       "      <td>True</td>\n",
       "      <td>False</td>\n",
       "      <td>None</td>\n",
       "      <td>None</td>\n",
       "      <td>None</td>\n",
       "      <td></td>\n",
       "    </tr>\n",
       "    <tr>\n",
       "      <th>NZTIM_18860722_ARTICLE11</th>\n",
       "      <td>True</td>\n",
       "      <td>False</td>\n",
       "      <td>None</td>\n",
       "      <td>None</td>\n",
       "      <td>None</td>\n",
       "      <td></td>\n",
       "    </tr>\n",
       "    <tr>\n",
       "      <th>WC_18810721_ARTICLE7</th>\n",
       "      <td>True</td>\n",
       "      <td>False</td>\n",
       "      <td>None</td>\n",
       "      <td>None</td>\n",
       "      <td>None</td>\n",
       "      <td></td>\n",
       "    </tr>\n",
       "    <tr>\n",
       "      <th>DUNST_18980513_ARTICLE3</th>\n",
       "      <td>True</td>\n",
       "      <td>False</td>\n",
       "      <td>None</td>\n",
       "      <td>None</td>\n",
       "      <td>None</td>\n",
       "      <td></td>\n",
       "    </tr>\n",
       "    <tr>\n",
       "      <th>OAM_18960702_ARTICLE35</th>\n",
       "      <td>True</td>\n",
       "      <td>False</td>\n",
       "      <td>None</td>\n",
       "      <td>None</td>\n",
       "      <td>None</td>\n",
       "      <td></td>\n",
       "    </tr>\n",
       "    <tr>\n",
       "      <th>...</th>\n",
       "      <td>...</td>\n",
       "      <td>...</td>\n",
       "      <td>...</td>\n",
       "      <td>...</td>\n",
       "      <td>...</td>\n",
       "      <td>...</td>\n",
       "    </tr>\n",
       "    <tr>\n",
       "      <th>AS_18821010_ARTICLE41</th>\n",
       "      <td>True</td>\n",
       "      <td>True</td>\n",
       "      <td>r</td>\n",
       "      <td>p</td>\n",
       "      <td>False</td>\n",
       "      <td></td>\n",
       "    </tr>\n",
       "    <tr>\n",
       "      <th>NEM_18840707_ARTICLE12</th>\n",
       "      <td>True</td>\n",
       "      <td>True</td>\n",
       "      <td>r</td>\n",
       "      <td>p</td>\n",
       "      <td>True</td>\n",
       "      <td></td>\n",
       "    </tr>\n",
       "    <tr>\n",
       "      <th>ODT_18980127_ARTICLE31</th>\n",
       "      <td>True</td>\n",
       "      <td>True</td>\n",
       "      <td>r</td>\n",
       "      <td>p</td>\n",
       "      <td>True</td>\n",
       "      <td></td>\n",
       "    </tr>\n",
       "    <tr>\n",
       "      <th>NZTIM_18960806_ARTICLE1</th>\n",
       "      <td>True</td>\n",
       "      <td>True</td>\n",
       "      <td>e</td>\n",
       "      <td>f</td>\n",
       "      <td>True</td>\n",
       "      <td></td>\n",
       "    </tr>\n",
       "    <tr>\n",
       "      <th>ESD_18941026_ARTICLE4</th>\n",
       "      <td>True</td>\n",
       "      <td>True</td>\n",
       "      <td>r</td>\n",
       "      <td>f</td>\n",
       "      <td>False</td>\n",
       "      <td></td>\n",
       "    </tr>\n",
       "  </tbody>\n",
       "</table>\n",
       "<p>273 rows × 6 columns</p>\n",
       "</div>"
      ],
      "text/plain": [
       "                         Readable Philosophy Philosophy Type Writing Type  \\\n",
       "LT_18971209_ARTICLE7         True      False            None         None   \n",
       "NZTIM_18860722_ARTICLE11     True      False            None         None   \n",
       "WC_18810721_ARTICLE7         True      False            None         None   \n",
       "DUNST_18980513_ARTICLE3      True      False            None         None   \n",
       "OAM_18960702_ARTICLE35       True      False            None         None   \n",
       "...                           ...        ...             ...          ...   \n",
       "AS_18821010_ARTICLE41        True       True               r            p   \n",
       "NEM_18840707_ARTICLE12       True       True               r            p   \n",
       "ODT_18980127_ARTICLE31       True       True               r            p   \n",
       "NZTIM_18960806_ARTICLE1      True       True               e            f   \n",
       "ESD_18941026_ARTICLE4        True       True               r            f   \n",
       "\n",
       "                             NZ Notes  \n",
       "LT_18971209_ARTICLE7       None        \n",
       "NZTIM_18860722_ARTICLE11   None        \n",
       "WC_18810721_ARTICLE7       None        \n",
       "DUNST_18980513_ARTICLE3    None        \n",
       "OAM_18960702_ARTICLE35     None        \n",
       "...                         ...   ...  \n",
       "AS_18821010_ARTICLE41     False        \n",
       "NEM_18840707_ARTICLE12     True        \n",
       "ODT_18980127_ARTICLE31     True        \n",
       "NZTIM_18960806_ARTICLE1    True        \n",
       "ESD_18941026_ARTICLE4     False        \n",
       "\n",
       "[273 rows x 6 columns]"
      ]
     },
     "execution_count": 56,
     "metadata": {},
     "output_type": "execute_result"
    }
   ],
   "source": [
    "classified_df"
   ]
  },
  {
   "cell_type": "code",
   "execution_count": 48,
   "metadata": {},
   "outputs": [],
   "source": [
    "classified_df.loc['WH_18800503_ARTICLE14'] = (True, True, 'o', 'l', True, '')"
   ]
  },
  {
   "cell_type": "code",
   "execution_count": 46,
   "metadata": {},
   "outputs": [
    {
     "name": "stdout",
     "output_type": "stream",
     "text": [
      "THE CARLYLE SUBJUNCTIVE.\n",
      "nan - nan\n",
      "\n",
      "TO THE EDITOR. Sir, — Nothing ever reminded me more forcibly of Pope's verse, \"\n",
      "A little learn ing is a dangerous thing,\" than a recent letter from Oarlyle to\n",
      "the Chronicle. The letter is evidently meant for a crushing criticism on the\n",
      "Herald's grammar. The parents of the silly fellow, who Bigna his letter P.W.F.,\n",
      "unless, indeed they, were, during his boyhood, in a state of abject poverty,\n",
      "have much to answer for in allowing him to prow up so deplorably ignorant of the\n",
      "proper use of his mother tongue. There is, however, one redeem ing trait in his\n",
      "character. He has striven, by subsequent application, to make up for early\n",
      "neglect. Unfortunately he has had no competent friends to advise him in the\n",
      "choice of authors. The consequence is' that his book-shelf is filled with trash.\n",
      "His effusion shows -that he . delights in; those cheap manuals that profess to\n",
      "teacfr a language in eight easy lessons. Such small books . on great ' subjects\n",
      "too often endeavour \" to evade \" the difficulties by saying nothing about them.\n",
      "P.W.F. has, evidently gleaned what little he knows of; the structure of the\n",
      "English language! from some of thoße minor grammarians, , who exhaust\n",
      "themselves, if not their sub\", jeots, in an eighteen penny duodecimo. The\n",
      "Carlyle Quixdte ' having downed his tin-plate armour, deems himself invulner\n",
      "able, and, eager for the fray, commences his exploits by a ridiculous attempt\n",
      "to: free his Dolorido from the thralls of the subjunctive modd. Before treating\n",
      "of, P.W.F.'s own immaculate composition, let me examine one of his criticisms on\n",
      "the Herald. A leader in this paper clearly points out an erroneous use, by] the\n",
      "Inspector of Schools, of 'thy subjunc-j tive. P.W.F., after having relieved\n",
      "hira-< self of some meaningless twaddle, seriqusly' attacks the question, and\n",
      "with the' aid of ( about a score of quotations, makes clear! to himself that the\n",
      "Inspector is right; and! the Herald wrong. As a means of con-j vincing other\n",
      "people, several of his quo*] tationsare decided failures. However, they prove\n",
      "that P. W.F. ia totally ignor-, ant of the history of the language ,of whiqhj he\n",
      "constitutes himself a critic. He does; not know that the root be was conjugated;\n",
      "in the present tense, singular, and plural; indicative, as late as Milton's\n",
      "time, I be,i we be, ye be, they be. Has .P.W.IY; never read, \"We bd twelve\n",
      "brethren/! Gen. XIII., 32 ? This use still lingers; among the uneducated — a\n",
      "faot'which pro-; bably accounts for the Inspector's ret en-; tion of be in the\n",
      "Indicative. A ncholar; occasionally makes a mistake in i the use of. a word ;\n",
      "none but an ignoramus attempts to defend such a mistake. In Bulwer's '•« My\n",
      "Novel,\" P. W.F. may read, \"The gallus 1\" answered Solomons \"he be & goiuto\n",
      "have.it hung from the great, elm trees And the parson, good man, is a quotin\n",
      "soripter agin it — you see he's a takin off his gloves, and a puttin his two\n",
      "hans together,\" &o. As regards the ex pression in question — the foregoing\n",
      "fairly represents the dialect of the uneducated. P'W.F. does not appear to know\n",
      "that \" John Locke Gentleman \" whom P*W. F. quotes so triumphantly is known to\n",
      "fame not because of his grammar, but in spite of it. Locke complains^ of his own\n",
      "*' discontinued way of writing \" • and \" of writing by incoherent parcels.\" The\n",
      "eminent philosoper, , Sir William Hamil ton, thus comments on Locked style. \"In\n",
      "his language Locke is of all philosophers the most figurative, ambiguous,\n",
      "vacillat- , ing, various, and even contradictory.' 1 In fine, Locke is a\n",
      "brilliant illustration of the saying that \"One philosopher is worth a thousand\n",
      "grammarians.\" If the reverse is true then P. W.F. falls a long way short of\n",
      "being worth even the one-thousandth part of a philosopher. Some of the minor\n",
      "grammarians, with whose little books P.W.F. has made such frantic efforts to\n",
      "shew that he is acquainted, say \" if \" is the sign of the subjunctive mood. Con\n",
      "sequently P.W.F., rinding that- it re quires less mental effort to believe, than\n",
      "to 'investigate, unhesitatingly accepts every verb labled with \" if \" as a real,\n",
      "pure, genuine, unadulterated subjunctive mood. Had P. W.F. increased the num ber\n",
      "of his quotations tenfold, which he, or at anyrate an ordinary scholar; might\n",
      "easily accomplish, it would be but to little purpose ; for what signify a few\n",
      "score faulty expressions, though uttered by genius, when marshalled against mil\n",
      "lions of correct expressions. The latter, moreover, being according to rule, and\n",
      "the former being contrary to^ rule. It is the \\ province of the grammarian i»\n",
      "discover I rules for the proper arrangement of • words. P.W.F. suggests \"\n",
      "invention\" though certainly not to overcome difficul ties but *• to'evade them,\"\n",
      "1 In this respect iP:W.FJ and the Inspector are very much alike \"especially the\n",
      "former.\" They [invent where they should learn or dis-. icover. Perhaps they take\n",
      "the words discover and invetit for synonyms, if so, to these gentlemen it is the\n",
      "same whether they say, that Columbus, discovered Ame rica, or that he invented\n",
      "it. But to be serious and to return to the quotations,' the authority of any\n",
      "author will go just aB far as it can be supported by grammatical principle, and\n",
      "no farther. The mere vpsi dixit of any man, in a case of this kind, is not worth\n",
      "a .rush; ; Time and apace, tenses and moods possess principles which bend not\n",
      "before authority. It is not a question of genius and utility but simply a\n",
      "question of syntax ; and as authors of the\" highest reputation ; in ' English\n",
      "Literature are over and over again inconsistent with themselves, it is simply\n",
      "impossible that in all cases they can be right, unless a sentence, that is\n",
      "indicative and declarative, can be equally hypothetical and subjunctive, and in\n",
      "many cases, unless past, present, and future time become so accommodating as to\n",
      "be capable of being expressed by the same form of 'the verb*.- P.W.F. has,\n",
      "apparently read that little book which] was written *• particularly for the übo\n",
      "of soldiers, sailors, apprentices, and plongh boys.\" Cobbett, the author, is\n",
      "great upon pronouns j P.W.F. thinks he is, and, happy in the belief, comes down\n",
      "\" like.a thousand of bricks \" upon' 'the ' Herald's grammar' \"I do not propose\n",
      "to oham*. pion the Editor of the Herald, whose acquaintance I have yet\n",
      "ito/make\", / v Leir me say further that I have nothing to hope for or (to) fear\n",
      "from that gentleman.\" I write simply because I do not like the, spirit in which\n",
      "P.W.F.'s remarks are made.\" Quoting the following from the- Heeaid: — \"No one\n",
      "can truthfully say that the pronoun is a part of /speech, with which the\n",
      "Inspector is unacquainted ; on the contrary, with one, . at any rate, his report\n",
      "shows he is very familiar, indeed so- exceedingly familiar that it , tends to\n",
      "breed contempt.\" F.W.3?. ' exultingly exclaims \" Where is the antecedent of the\n",
      "tt? Must we look for it in> \" pronoun,' in \" Inspector,\" or in \"report]'? None\n",
      "of these have anything to do with breed ing contempt*\" The adjective \"familiar\"\n",
      "is the antecedent we are in quest of.\" (It would be interesting to know the\n",
      "number of critics that constituted this we). Then P.W,Fj goes' on to show what\n",
      "the Editor meant to say. Now my humble opinion is that the Editor has said\n",
      "exactly\n"
     ]
    }
   ],
   "source": [
    " NL_helpers.print_text('WH_18800503_ARTICLE14', philoso_df)"
   ]
  },
  {
   "cell_type": "code",
   "execution_count": 105,
   "metadata": {},
   "outputs": [
    {
     "data": {
      "text/plain": [
       "219"
      ]
     },
     "execution_count": 105,
     "metadata": {},
     "output_type": "execute_result"
    }
   ],
   "source": [
    "len(classified_df[classified_df['Philosophy']==True])"
   ]
  },
  {
   "cell_type": "code",
   "execution_count": 278,
   "metadata": {},
   "outputs": [],
   "source": [
    "classified_df.to_pickle(f'pickles/classified_df.pickle')"
   ]
  },
  {
   "cell_type": "markdown",
   "metadata": {},
   "source": [
    "### Additions after first naive bayes model"
   ]
  },
  {
   "cell_type": "code",
   "execution_count": 150,
   "metadata": {},
   "outputs": [],
   "source": [
    "post_bayes_1_df = pd.read_pickle('pickles/preds_nb_1.tar.gz')"
   ]
  },
  {
   "cell_type": "code",
   "execution_count": 151,
   "metadata": {},
   "outputs": [],
   "source": [
    "post_bayes_1_df = post_bayes_1_df[post_bayes_1_df['Philosophy(pred)']==True]"
   ]
  },
  {
   "cell_type": "code",
   "execution_count": 152,
   "metadata": {},
   "outputs": [
    {
     "data": {
      "text/plain": [
       "10670"
      ]
     },
     "execution_count": 152,
     "metadata": {},
     "output_type": "execute_result"
    }
   ],
   "source": [
    "len(post_bayes_1_df)"
   ]
  },
  {
   "cell_type": "code",
   "execution_count": 198,
   "metadata": {},
   "outputs": [
    {
     "data": {
      "text/plain": [
       "146"
      ]
     },
     "execution_count": 198,
     "metadata": {},
     "output_type": "execute_result"
    }
   ],
   "source": [
    "filter_term = r'evolution'\n",
    "filtered_index = NL_helpers.search_text(post_bayes_1_df, filter_term, lower=True)\n",
    "len(filtered_index)"
   ]
  },
  {
   "cell_type": "code",
   "execution_count": 199,
   "metadata": {},
   "outputs": [],
   "source": [
    "formatted_index = [(f'{i} ({post_bayes_1_df.loc[i, \"Title\"]})', i) for i in filtered_index]"
   ]
  },
  {
   "cell_type": "code",
   "execution_count": 200,
   "metadata": {},
   "outputs": [
    {
     "data": {
      "text/plain": [
       "[('ODT_18980601_ARTICLE11 (THE SPANISH SQUADRON.)', 'ODT_18980601_ARTICLE11'),\n",
       " ('WCT_18680810_ARTICLE13 (West Coast Times.  MONDAY, AUGUST 10, 1868.)',\n",
       "  'WCT_18680810_ARTICLE13'),\n",
       " ('HBT_18650512_ARTICLE4 (ARRIVAL OF THE O.S.N CO.’S S.S. ALBION, WITH ENGLISH NEWS TO 20th MARCH.)',\n",
       "  'HBT_18650512_ARTICLE4'),\n",
       " ('MIC_18820406_ARTICLE12 (CABLEGRAMS.)', 'MIC_18820406_ARTICLE12'),\n",
       " ('OW_18960409_ARTICLE120 (THE RIDDLER.)', 'OW_18960409_ARTICLE120'),\n",
       " ('LT_18941009_ARTICLE5 (KIM OK KIUN.)', 'LT_18941009_ARTICLE5'),\n",
       " ('CHP_18970817_ARTICLE17 (TOPICS OF THE DAY.)', 'CHP_18970817_ARTICLE17'),\n",
       " ('OW_18660720_ARTICLE47 (PANAMA.)', 'OW_18660720_ARTICLE47'),\n",
       " ('DSC_18640819_ARTICLE1 (AMERICA.  PROGRESS OP THE CIVIL WAR.)',\n",
       "  'DSC_18640819_ARTICLE1'),\n",
       " ('LT_18990707_ARTICLE4 (MEETINGS OF SOCIETIES.)', 'LT_18990707_ARTICLE4'),\n",
       " ('LT_18841022_ARTICLE39 (UNHAPPY ROYALTY.)', 'LT_18841022_ARTICLE39'),\n",
       " (\"HBH_18870307_ARTICLE7 (Hawke's Bay Herald.  MONDAY, MARCH 7, 1887.  RIOTS AND REVOLUTIONS.)\",\n",
       "  'HBH_18870307_ARTICLE7'),\n",
       " ('ODT_18980521_ARTICLE25 (THE PHILIPPINE RISING.)', 'ODT_18980521_ARTICLE25'),\n",
       " ('ODT_18980315_ARTICLE26 (CURRENT TOPICS.)', 'ODT_18980315_ARTICLE26'),\n",
       " ('WC_18870805_ARTICLE8 (LONDON)', 'WC_18870805_ARTICLE8'),\n",
       " ('DSC_18761214_ARTICLE25 (EDEN TERRACE: MEETING OF RATEPAYERS)',\n",
       "  'DSC_18761214_ARTICLE25'),\n",
       " ('ODT_18980414_ARTICLE1 (SHIPPING.)', 'ODT_18980414_ARTICLE1'),\n",
       " ('CHP_18790129_ARTICLE52 (SAVAGE AND CIVILIZED NATIONS.)',\n",
       "  'CHP_18790129_ARTICLE52'),\n",
       " ('ODT_18980525_ARTICLE4 (The Otago Daily Times. WEDNESDAY, MAY 25, 1898.)',\n",
       "  'ODT_18980525_ARTICLE4'),\n",
       " ('CL_18881026_ARTICLE18 (MODEL DAIRIES)', 'CL_18881026_ARTICLE18'),\n",
       " ('ME_18970511_ARTICLE13 (Graeco-Turkish War.)', 'ME_18970511_ARTICLE13'),\n",
       " ('LT_18651218_ARTICLE5 (THE VOLUNTEER ENCAMPMENT.)', 'LT_18651218_ARTICLE5'),\n",
       " ('WCT_18930614_ARTICLE12 (TELEGRAPHIC NEWS)', 'WCT_18930614_ARTICLE12'),\n",
       " ('GRA_18980926_ARTICLE8 (THE DREYFUS CASE.)', 'GRA_18980926_ARTICLE8'),\n",
       " ('LT_18710331_ARTICLE22 (BEGINNING OF THE END.)', 'LT_18710331_ARTICLE22'),\n",
       " ('OW_18891212_ARTICLE36 ( THE IRISH DELEGATES. ENTHUSIASTIC RECEPTION OF MR JOHN DILLON.)',\n",
       "  'OW_18891212_ARTICLE36'),\n",
       " ('TC_18650728_ARTICLE18 (NEW SOUTH WALES CANNOT VOTE A GRANT FOR THE PANAMA SERVICE.)',\n",
       "  'TC_18650728_ARTICLE18'),\n",
       " ('AS_18890130_ARTICLE30 (THE EUROPEAN SITUATION.)', 'AS_18890130_ARTICLE30'),\n",
       " (\"OW_18901204_ARTICLE202 (PATER'S CHATS WITH THE BOYS.)\",\n",
       "  'OW_18901204_ARTICLE202'),\n",
       " ('ODT_18860825_ARTICLE32 (ADDITIONAL MAIL NEWS.)', 'ODT_18860825_ARTICLE32'),\n",
       " ('NZTIM_18910410_ARTICLE5 (THE New Zealand Times (PUBLISHED DAILY) FRIDAY, APRIL 10, 1891.)',\n",
       "  'NZTIM_18910410_ARTICLE5'),\n",
       " ('ESD_18950207_ARTICLE50 (OUR AMERICAN LETTER.)', 'ESD_18950207_ARTICLE50'),\n",
       " ('NZTIM_18910914_ARTICLE9 (NEWS BY CABLE.)', 'NZTIM_18910914_ARTICLE9'),\n",
       " ('WT_18760608_ARTICLE4 (PROPOSED NATIVE MEETING AT TE KUITI.)',\n",
       "  'WT_18760608_ARTICLE4'),\n",
       " ('TC_18831114_ARTICLE11 (SOME FAMOUS PEOPLE.)', 'TC_18831114_ARTICLE11'),\n",
       " ('NOT_18961007_ARTICLE17 (LATE CABLE.)', 'NOT_18961007_ARTICLE17'),\n",
       " ('ODT_18990711_ARTICLE2 (A RESUME.)', 'ODT_18990711_ARTICLE2'),\n",
       " ('AS_18840919_ARTICLE34 (THE LATEST SCIENTIFIC DISCOVERY.)',\n",
       "  'AS_18840919_ARTICLE34'),\n",
       " ('MIC_18950530_ARTICLE2 (Mt. Ida Chronicle NASEBY, THURSDAY, MAY 30, 1895. THE WAIAREKA CASE.)',\n",
       "  'MIC_18950530_ARTICLE2'),\n",
       " (\"AS_18950119_ARTICLE98 (Jack Jebb's Strange Career.)\",\n",
       "  'AS_18950119_ARTICLE98'),\n",
       " ('OW_18950523_ARTICLE128 (TALK OF THE DAY.)', 'OW_18950523_ARTICLE128'),\n",
       " ('NOT_18710512_ARTICLE16 (AUSTRALIAN NAVAL DEFENCE.  CONSTRUCTION AND ARMAMENT OF THE CERBERUS.)',\n",
       "  'NOT_18710512_ARTICLE16'),\n",
       " ('HBH_18930109_ARTICLE11 (NEW ZEALAND WOOLS FOR AMERICA.)',\n",
       "  'HBH_18930109_ARTICLE11'),\n",
       " ('AS_18910427_ARTICLE31 (A TERROR OF THE SEAS.)', 'AS_18910427_ARTICLE31'),\n",
       " ('LT_18790807_ARTICLE29 (VENETIAN BLIND MAKING.)', 'LT_18790807_ARTICLE29'),\n",
       " ('NEM_18920311_ARTICLE37 (THE BOMB-MAKERS.)', 'NEM_18920311_ARTICLE37'),\n",
       " ('CHP_18931011_ARTICLE15 (TOPICS OF THE DAY.)', 'CHP_18931011_ARTICLE15'),\n",
       " ('CHP_18931115_ARTICLE6 (MR SWANN AT PHILLIPSTOWN.)',\n",
       "  'CHP_18931115_ARTICLE6'),\n",
       " ('ODT_18980525_ARTICLE24 (THE EXHIBITION.)', 'ODT_18980525_ARTICLE24'),\n",
       " ('LT_18840122_ARTICLE32 (HARBOUR DEFENCES.)', 'LT_18840122_ARTICLE32'),\n",
       " ('LWM_18851225_ARTICLE1 (Lake Wakatip Mail. QUEENSTOWN, FRIDAY, DECEMBER 25, 1885.)',\n",
       "  'LWM_18851225_ARTICLE1'),\n",
       " ('LT_18960526_ARTICLE32 (BRITISH AND FOREIGN.)', 'LT_18960526_ARTICLE32'),\n",
       " ('HNS_18990414_ARTICLE10 (CABLE NEWS.)', 'HNS_18990414_ARTICLE10'),\n",
       " ('FS_18871124_ARTICLE5 (CABLE NEWS.)', 'FS_18871124_ARTICLE5'),\n",
       " ('ODT_18980625_ARTICLE82 (THE CHINESE DESPATCHES.)',\n",
       "  'ODT_18980625_ARTICLE82'),\n",
       " ('WC_18950926_ARTICLE3 (The Wanganui Chronicle  AND PATEA-RANGIRIKEI ADVERTISER \"NULLA DIES SINE LINEA.\"  THURSDAY, SEPTEMBER 26, 1895. CYCLING.)',\n",
       "  'WC_18950926_ARTICLE3'),\n",
       " ('NEM_18930218_ARTICLE9 (ENGLISH AND FOREIGN.)', 'NEM_18930218_ARTICLE9'),\n",
       " ('CHP_18950211_ARTICLE49 (\"CONSIDER, GOOD COW, CONSIDER.\")',\n",
       "  'CHP_18950211_ARTICLE49'),\n",
       " ('OAM_18921222_ARTICLE14 (SPECIAL CABLEGRAMS.)', 'OAM_18921222_ARTICLE14'),\n",
       " ('OW_18660908_ARTICLE37 (HAMILTON.)', 'OW_18660908_ARTICLE37'),\n",
       " ('LT_18970220_ARTICLE6 (THE INCIDENCE OF TAXATION.)', 'LT_18970220_ARTICLE6'),\n",
       " ('AS_18770125_ARTICLE13 (UNTITLED)', 'AS_18770125_ARTICLE13'),\n",
       " ('WH_18930916_ARTICLE8 (CABLE NEWS.)', 'WH_18930916_ARTICLE8'),\n",
       " ('ODT_18980507_ARTICLE37 (CURRENT TOPICS.)', 'ODT_18980507_ARTICLE37'),\n",
       " ('OW_18821104_ARTICLE19 (CABLEGRAMS. BRITISH AND FOREIGN.)',\n",
       "  'OW_18821104_ARTICLE19'),\n",
       " ('OW_18630502_ARTICLE51 (MISCELLANEOUS EXTRACTS.)', 'OW_18630502_ARTICLE51'),\n",
       " ('ODT_18850730_ARTICLE31 (LIEUTENANT-GENERAL SIR E. HAMLEY, K.C.B., K.C.M.G.)',\n",
       "  'ODT_18850730_ARTICLE31'),\n",
       " ('GRA_18700716_ARTICLE18 (A MAHOMEDAN LOVE AFFAIR.)',\n",
       "  'GRA_18700716_ARTICLE18'),\n",
       " ('LT_18990831_ARTICLE5 (TORPEDOES STEERED BY LIGHT.)',\n",
       "  'LT_18990831_ARTICLE5'),\n",
       " ('NZTIM_18761102_ARTICLE6 (New Zealand Times. (PUBLISHED DAILY.) THURSDAY, NOVEMBER 3.)',\n",
       "  'NZTIM_18761102_ARTICLE6'),\n",
       " (\"HBH_18960625_ARTICLE6 (Hawke's Bay Herald.  THURSDAY, JUNE 25, 1896.  CUBA.)\",\n",
       "  'HBH_18960625_ARTICLE6'),\n",
       " ('ODT_18980730_ARTICLE32 (POLITICAL NOTES.)', 'ODT_18980730_ARTICLE32'),\n",
       " ('NEM_18911126_ARTICLE9 (UNTITLED)', 'NEM_18911126_ARTICLE9'),\n",
       " ('KUMAT_18851029_ARTICLE5 (LATEST BRITISH AND FOREIGN INTELLIGENCE.)',\n",
       "  'KUMAT_18851029_ARTICLE5'),\n",
       " ('CROMARG_18791216_ARTICLE9 (BRITISH AND FOREIGN NEWS.)',\n",
       "  'CROMARG_18791216_ARTICLE9'),\n",
       " ('FS_18951102_ARTICLE15 (Nominations for the Feilding J.C.)',\n",
       "  'FS_18951102_ARTICLE15'),\n",
       " ('MEX_18860210_ARTICLE6 (LOCAL AND GENERAL NEWS.)', 'MEX_18860210_ARTICLE6'),\n",
       " ('LT_18850314_ARTICLE12 (LITERARY NOTES.)', 'LT_18850314_ARTICLE12'),\n",
       " ('HBH_18930920_ARTICLE34 (HASTINGS.)', 'HBH_18930920_ARTICLE34'),\n",
       " ('LWM_18960821_ARTICLE13 (NEWS FROM ALL SOURCES.)', 'LWM_18960821_ARTICLE13'),\n",
       " ('DTN_18910425_ARTICLE13 (DELAYED MESSAGES.)', 'DTN_18910425_ARTICLE13'),\n",
       " ('CROMARG_18930214_ARTICLE41 (SCIENTIFIC AND USEFUL)',\n",
       "  'CROMARG_18930214_ARTICLE41'),\n",
       " ('OW_18831124_ARTICLE70 (PASSING NOTES.)', 'OW_18831124_ARTICLE70'),\n",
       " ('HBH_18950509_ARTICLE10 (UNTITLED)', 'HBH_18950509_ARTICLE10'),\n",
       " ('LT_18940313_ARTICLE15 (The Lyttelton Times. TUESDAY, MARCH 13, 1894.)',\n",
       "  'LT_18940313_ARTICLE15'),\n",
       " (\"HBH_18910530_ARTICLE12 (Hawke's Bay Herald.  SATURDAY, MAY 30, 1891. TAXATION OR CONFISCATION.)\",\n",
       "  'HBH_18910530_ARTICLE12'),\n",
       " ('OW_18930511_ARTICLE53 (PARAGUAY AND ITS PEOPLE,)', 'OW_18930511_ARTICLE53'),\n",
       " ('HAST_18960501_ARTICLE6 (LOCAL AND GENERAL.)', 'HAST_18960501_ARTICLE6'),\n",
       " ('NZTIM_18781014_ARTICLE11 (UNTITLED)', 'NZTIM_18781014_ARTICLE11'),\n",
       " ('WSTAR_18930927_ARTICLE7 (POLITICAL NEWS.)', 'WSTAR_18930927_ARTICLE7'),\n",
       " ('ODT_18981022_ARTICLE22 (POLITICAL NOTES.)', 'ODT_18981022_ARTICLE22'),\n",
       " ('ODT_18821208_ARTICLE6 (The Otago Daily Times. FRIDAY DECEMBER 8, 1882.)',\n",
       "  'ODT_18821208_ARTICLE6'),\n",
       " ('CHP_18811130_ARTICLE10 (NEWS OF THE DAY.)', 'CHP_18811130_ARTICLE10'),\n",
       " ('DUNST_18800702_ARTICLE3 (LATEST CABLE NEWS.)', 'DUNST_18800702_ARTICLE3'),\n",
       " ('ESD_18921103_ARTICLE14 (WORK AND WAGES.)', 'ESD_18921103_ARTICLE14'),\n",
       " ('AG_18800914_ARTICLE12 (THE CHIMNEY CORNER.)', 'AG_18800914_ARTICLE12'),\n",
       " ('ME_18831123_ARTICLE22 (PRESS PICKINGS.)', 'ME_18831123_ARTICLE22'),\n",
       " ('OW_18840202_ARTICLE24 (LOCAL & GENERAL.)', 'OW_18840202_ARTICLE24'),\n",
       " (\"HNS_18961007_ARTICLE13 (The Czar's Tour.)\", 'HNS_18961007_ARTICLE13'),\n",
       " ('HBH_18980318_ARTICLE7 (THE TRANSVAAL.)', 'HBH_18980318_ARTICLE7'),\n",
       " ('MIC_18810310_ARTICLE4 (UNTITLED)', 'MIC_18810310_ARTICLE4'),\n",
       " ('GRA_18710721_ARTICLE5 (THE  Grey River Argus.  PUBLISHED DAILY.  FRIDAY, JULY 21, 1871.)',\n",
       "  'GRA_18710721_ARTICLE5'),\n",
       " ('ESD_18970624_ARTICLE13 (The Evening Star THURSDAY, JUNE 24, 1897.)',\n",
       "  'ESD_18970624_ARTICLE13'),\n",
       " (\"ESD_18990816_ARTICLE51 (‘JANE AUSTEN.')\", 'ESD_18990816_ARTICLE51'),\n",
       " ('NEM_18990211_ARTICLE7 (UNTITLED)', 'NEM_18990211_ARTICLE7'),\n",
       " ('NZTIM_18790213_ARTICLE17 (OUR CHURCH FUNDS.)', 'NZTIM_18790213_ARTICLE17'),\n",
       " ('AS_18750531_ARTICLE15 (BISHOP SELWYN ON DRINK At FUNERALS.)',\n",
       "  'AS_18750531_ARTICLE15'),\n",
       " ('DSC_18670301_ARTICLE16 (The Daily Southern Cross.)',\n",
       "  'DSC_18670301_ARTICLE16'),\n",
       " ('GRA_18870721_ARTICLE7 (THE  Grey River Argus  PUBLISHED DAILY.  THURSDAY JULY 21,1887.)',\n",
       "  'GRA_18870721_ARTICLE7'),\n",
       " ('WH_18920225_ARTICLE5 (Wanganui Herald.  [PUBLISHED DAILY.]  THURSDAY, FEBRUARY 25, 1892.  THE SMALL HOLDINGS BILL.)',\n",
       "  'WH_18920225_ARTICLE5'),\n",
       " ('LWM_18910828_ARTICLE7 (ORIGINAL CORRESPONDENCE.)', 'LWM_18910828_ARTICLE7'),\n",
       " ('OAM_18880427_ARTICLE3 (Daily Circulation, 1500. The Oamaru Mail FRIDAY, APRIL 27, 1888.)',\n",
       "  'OAM_18880427_ARTICLE3'),\n",
       " ('OW_18930504_ARTICLE133 (A TALK WITH A NONA-GENARIAN.)',\n",
       "  'OW_18930504_ARTICLE133'),\n",
       " ('WSTAR_18821216_ARTICLE9 (UNTITLED)', 'WSTAR_18821216_ARTICLE9'),\n",
       " ('HBH_18930608_ARTICLE32 (PARAGUAY AND ITS PEOPLE.)',\n",
       "  'HBH_18930608_ARTICLE32'),\n",
       " (\"ODT_18980901_ARTICLE56 (MR MELLAND'S LETTER.)\", 'ODT_18980901_ARTICLE56'),\n",
       " ('NOT_18910303_ARTICLE6 (LATEST HOME & FOREIGN NEWS.  By Electric Telegraph.—Copyright.  PER PRESS ASSOCIATION.)',\n",
       "  'NOT_18910303_ARTICLE6'),\n",
       " ('NEM_18911012_ARTICLE28 (ENGULPHED ON MOUNT VESUVIUS.)',\n",
       "  'NEM_18911012_ARTICLE28'),\n",
       " ('ODT_18980801_ARTICLE30 (DEATH OF PRINCE BISMARCK.)',\n",
       "  'ODT_18980801_ARTICLE30'),\n",
       " ('CHP_18970510_ARTICLE57 (THE WAR IN THE EAST.)', 'CHP_18970510_ARTICLE57'),\n",
       " ('NEM_18911124_ARTICLE20 (M. de Giers.)', 'NEM_18911124_ARTICLE20'),\n",
       " ('ESD_18800814_ARTICLE20 (PARLIAMENT.)', 'ESD_18800814_ARTICLE20'),\n",
       " ('AS_18780808_ARTICLE10 (UNTITLED)', 'AS_18780808_ARTICLE10'),\n",
       " ('IT_18951113_ARTICLE16 (THE NEW ARMENIAN HORRORS.)',\n",
       "  'IT_18951113_ARTICLE16'),\n",
       " ('OW_18791220_ARTICLE13 (Provincial and General.)', 'OW_18791220_ARTICLE13'),\n",
       " ('CHP_18740119_ARTICLE20 (NEWS BY THE MAIL.)', 'CHP_18740119_ARTICLE20'),\n",
       " ('MEX_18930330_ARTICLE18 (THE BELFAST DEPUTATION.)',\n",
       "  'MEX_18930330_ARTICLE18'),\n",
       " ('AG_18890215_ARTICLE7 (THE HAYTIAN REVOLUTION.)', 'AG_18890215_ARTICLE7'),\n",
       " ('KUMAT_18840613_ARTICLE9 (THE DARGON ENTERTAINMENT.)',\n",
       "  'KUMAT_18840613_ARTICLE9'),\n",
       " ('DTN_18850307_ARTICLE22 (THE LADIES.)', 'DTN_18850307_ARTICLE22'),\n",
       " ('LT_18710513_ARTICLE14 (THE THOMSON ROAD STEAMER.)',\n",
       "  'LT_18710513_ARTICLE14'),\n",
       " ('LT_18820622_ARTICLE7 (DRAMATIC GOSSIP.)', 'LT_18820622_ARTICLE7'),\n",
       " ('GRA_18970108_ARTICLE19 (WATER PURIFICATION..)', 'GRA_18970108_ARTICLE19'),\n",
       " ('IT_18970401_ARTICLE4 (TELEGRAMS.)', 'IT_18970401_ARTICLE4'),\n",
       " ('LT_18840129_ARTICLE11 (TOWN & COUNTRY.)', 'LT_18840129_ARTICLE11'),\n",
       " ('MEX_18820719_ARTICLE24 (HOUSE OF REPRESENTATIVES.)',\n",
       "  'MEX_18820719_ARTICLE24'),\n",
       " ('HNS_18860923_ARTICLE23 (SILAGE STACKS.)', 'HNS_18860923_ARTICLE23'),\n",
       " ('ODT_18980630_ARTICLE66 (THE OXAGO DAILY TIMES AND REGULATION. TO THE EDITOR)',\n",
       "  'ODT_18980630_ARTICLE66'),\n",
       " (\"DSC_18690729_ARTICLE45 (NEW ZEALAND PARLIAMANT  BRITISH AND GHOORK TROOPS. (Mr. J. Crncroft Wnaon's speech continued.))\",\n",
       "  'DSC_18690729_ARTICLE45'),\n",
       " ('WSTAR_18750626_ARTICLE5 (MAIL NEWS.)', 'WSTAR_18750626_ARTICLE5'),\n",
       " ('ODT_18920420_ARTICLE21 (SPORTING.)', 'ODT_18920420_ARTICLE21'),\n",
       " ('WH_18901211_ARTICLE7 (THE CRISIS.)', 'WH_18901211_ARTICLE7'),\n",
       " ('HBH_18910910_ARTICLE25 (LEGISLATIVE COUNCIL.)', 'HBH_18910910_ARTICLE25'),\n",
       " ('AS_18981015_ARTICLE90 (AQUATICS.)', 'AS_18981015_ARTICLE90'),\n",
       " ('LT_18881001_ARTICLE45 (THE SECOND ARMADA.)', 'LT_18881001_ARTICLE45'),\n",
       " ('ODT_18981011_ARTICLE6 (CABLEGRAMS.)', 'ODT_18981011_ARTICLE6')]"
      ]
     },
     "execution_count": 200,
     "metadata": {},
     "output_type": "execute_result"
    }
   ],
   "source": [
    "formatted_index"
   ]
  },
  {
   "cell_type": "code",
   "execution_count": 201,
   "metadata": {
    "scrolled": false
   },
   "outputs": [
    {
     "data": {
      "application/vnd.jupyter.widget-view+json": {
       "model_id": "3f663b27f129462881fb278be9b8defa",
       "version_major": 2,
       "version_minor": 0
      },
      "text/plain": [
       "interactive(children=(Dropdown(description='index', options=(('ODT_18980601_ARTICLE11 (THE SPANISH SQUADRON.)'…"
      ]
     },
     "metadata": {},
     "output_type": "display_data"
    },
    {
     "data": {
      "text/plain": [
       "<function NL_helpers.html_text(index, dataframe, boldface=None)>"
      ]
     },
     "execution_count": 201,
     "metadata": {},
     "output_type": "execute_result"
    }
   ],
   "source": [
    "interact(NL_helpers.html_text, index=formatted_index, dataframe=fixed(post_bayes_1_df), boldface=fixed(filter_term))"
   ]
  },
  {
   "cell_type": "code",
   "execution_count": null,
   "metadata": {
    "scrolled": false
   },
   "outputs": [],
   "source": [
    "exit = False\n",
    "i = 0\n",
    "while exit == False:\n",
    "    if filtered_index[i] in classified_df.index:\n",
    "        i+=1\n",
    "    else:\n",
    "        NL_helpers.print_text(filtered_index[i], philoso_df)\n",
    "        classified_df.loc[filtered_index[i]] = classify_text()\n",
    "        i+=1\n",
    "        exit_decision = input('exit? (y to exit) >')\n",
    "        if exit_decision == 'y':\n",
    "            exit = True\n",
    "        clear_output()\n",
    "                "
   ]
  },
  {
   "cell_type": "code",
   "execution_count": 163,
   "metadata": {},
   "outputs": [],
   "source": [
    "classified_df.loc['HBWT_18670812_ARTICLE2']['Philosophy'] = False"
   ]
  },
  {
   "cell_type": "code",
   "execution_count": 277,
   "metadata": {},
   "outputs": [
    {
     "data": {
      "text/plain": [
       "False    620\n",
       "True     299\n",
       "Name: Philosophy, dtype: int64"
      ]
     },
     "execution_count": 277,
     "metadata": {},
     "output_type": "execute_result"
    }
   ],
   "source": [
    "classified_df['Philosophy'].value_counts()"
   ]
  },
  {
   "cell_type": "code",
   "execution_count": 209,
   "metadata": {
    "scrolled": true
   },
   "outputs": [
    {
     "data": {
      "text/html": [
       "<div>\n",
       "<style scoped>\n",
       "    .dataframe tbody tr th:only-of-type {\n",
       "        vertical-align: middle;\n",
       "    }\n",
       "\n",
       "    .dataframe tbody tr th {\n",
       "        vertical-align: top;\n",
       "    }\n",
       "\n",
       "    .dataframe thead th {\n",
       "        text-align: right;\n",
       "    }\n",
       "</style>\n",
       "<table border=\"1\" class=\"dataframe\">\n",
       "  <thead>\n",
       "    <tr style=\"text-align: right;\">\n",
       "      <th></th>\n",
       "      <th>Readable</th>\n",
       "      <th>Philosophy</th>\n",
       "      <th>Philosophy Type</th>\n",
       "      <th>Writing Type</th>\n",
       "      <th>NZ</th>\n",
       "      <th>Notes</th>\n",
       "    </tr>\n",
       "  </thead>\n",
       "  <tbody>\n",
       "    <tr>\n",
       "      <th>LT_18971209_ARTICLE7</th>\n",
       "      <td>True</td>\n",
       "      <td>False</td>\n",
       "      <td>None</td>\n",
       "      <td>None</td>\n",
       "      <td>None</td>\n",
       "      <td></td>\n",
       "    </tr>\n",
       "    <tr>\n",
       "      <th>NZTIM_18860722_ARTICLE11</th>\n",
       "      <td>True</td>\n",
       "      <td>False</td>\n",
       "      <td>None</td>\n",
       "      <td>None</td>\n",
       "      <td>None</td>\n",
       "      <td></td>\n",
       "    </tr>\n",
       "    <tr>\n",
       "      <th>WC_18810721_ARTICLE7</th>\n",
       "      <td>True</td>\n",
       "      <td>False</td>\n",
       "      <td>None</td>\n",
       "      <td>None</td>\n",
       "      <td>None</td>\n",
       "      <td></td>\n",
       "    </tr>\n",
       "    <tr>\n",
       "      <th>DUNST_18980513_ARTICLE3</th>\n",
       "      <td>True</td>\n",
       "      <td>False</td>\n",
       "      <td>None</td>\n",
       "      <td>None</td>\n",
       "      <td>None</td>\n",
       "      <td></td>\n",
       "    </tr>\n",
       "    <tr>\n",
       "      <th>OAM_18960702_ARTICLE35</th>\n",
       "      <td>True</td>\n",
       "      <td>False</td>\n",
       "      <td>None</td>\n",
       "      <td>None</td>\n",
       "      <td>None</td>\n",
       "      <td></td>\n",
       "    </tr>\n",
       "    <tr>\n",
       "      <th>...</th>\n",
       "      <td>...</td>\n",
       "      <td>...</td>\n",
       "      <td>...</td>\n",
       "      <td>...</td>\n",
       "      <td>...</td>\n",
       "      <td>...</td>\n",
       "    </tr>\n",
       "    <tr>\n",
       "      <th>HLC_18950215_ARTICLE19</th>\n",
       "      <td>True</td>\n",
       "      <td>True</td>\n",
       "      <td>r</td>\n",
       "      <td>r</td>\n",
       "      <td>None</td>\n",
       "      <td></td>\n",
       "    </tr>\n",
       "    <tr>\n",
       "      <th>OO_18910214_ARTICLE3</th>\n",
       "      <td>True</td>\n",
       "      <td>True</td>\n",
       "      <td>e</td>\n",
       "      <td>f</td>\n",
       "      <td>None</td>\n",
       "      <td></td>\n",
       "    </tr>\n",
       "    <tr>\n",
       "      <th>OO_18920109_ARTICLE7</th>\n",
       "      <td>True</td>\n",
       "      <td>True</td>\n",
       "      <td>r</td>\n",
       "      <td>l</td>\n",
       "      <td>True</td>\n",
       "      <td></td>\n",
       "    </tr>\n",
       "    <tr>\n",
       "      <th>OO_18921224_ARTICLE2</th>\n",
       "      <td>True</td>\n",
       "      <td>True</td>\n",
       "      <td>r</td>\n",
       "      <td>p</td>\n",
       "      <td>None</td>\n",
       "      <td>Mr Collins public debate in Oxford (existence ...</td>\n",
       "    </tr>\n",
       "    <tr>\n",
       "      <th>OO_18961226_ARTICLE3</th>\n",
       "      <td>True</td>\n",
       "      <td>True</td>\n",
       "      <td>e</td>\n",
       "      <td>f</td>\n",
       "      <td>False</td>\n",
       "      <td>Lady Cook's advice to young women</td>\n",
       "    </tr>\n",
       "  </tbody>\n",
       "</table>\n",
       "<p>587 rows × 6 columns</p>\n",
       "</div>"
      ],
      "text/plain": [
       "                         Readable Philosophy Philosophy Type Writing Type  \\\n",
       "LT_18971209_ARTICLE7         True      False            None         None   \n",
       "NZTIM_18860722_ARTICLE11     True      False            None         None   \n",
       "WC_18810721_ARTICLE7         True      False            None         None   \n",
       "DUNST_18980513_ARTICLE3      True      False            None         None   \n",
       "OAM_18960702_ARTICLE35       True      False            None         None   \n",
       "...                           ...        ...             ...          ...   \n",
       "HLC_18950215_ARTICLE19       True       True               r            r   \n",
       "OO_18910214_ARTICLE3         True       True               e            f   \n",
       "OO_18920109_ARTICLE7         True       True               r            l   \n",
       "OO_18921224_ARTICLE2         True       True               r            p   \n",
       "OO_18961226_ARTICLE3         True       True               e            f   \n",
       "\n",
       "                             NZ  \\\n",
       "LT_18971209_ARTICLE7       None   \n",
       "NZTIM_18860722_ARTICLE11   None   \n",
       "WC_18810721_ARTICLE7       None   \n",
       "DUNST_18980513_ARTICLE3    None   \n",
       "OAM_18960702_ARTICLE35     None   \n",
       "...                         ...   \n",
       "HLC_18950215_ARTICLE19     None   \n",
       "OO_18910214_ARTICLE3       None   \n",
       "OO_18920109_ARTICLE7       True   \n",
       "OO_18921224_ARTICLE2       None   \n",
       "OO_18961226_ARTICLE3      False   \n",
       "\n",
       "                                                                      Notes  \n",
       "LT_18971209_ARTICLE7                                                         \n",
       "NZTIM_18860722_ARTICLE11                                                     \n",
       "WC_18810721_ARTICLE7                                                         \n",
       "DUNST_18980513_ARTICLE3                                                      \n",
       "OAM_18960702_ARTICLE35                                                       \n",
       "...                                                                     ...  \n",
       "HLC_18950215_ARTICLE19                                                       \n",
       "OO_18910214_ARTICLE3                                                         \n",
       "OO_18920109_ARTICLE7                                                         \n",
       "OO_18921224_ARTICLE2      Mr Collins public debate in Oxford (existence ...  \n",
       "OO_18961226_ARTICLE3                      Lady Cook's advice to young women  \n",
       "\n",
       "[587 rows x 6 columns]"
      ]
     },
     "execution_count": 209,
     "metadata": {},
     "output_type": "execute_result"
    }
   ],
   "source": [
    "classified_df"
   ]
  },
  {
   "cell_type": "markdown",
   "metadata": {},
   "source": [
    "Stragglers from starter topic model exploration:"
   ]
  },
  {
   "cell_type": "code",
   "execution_count": 205,
   "metadata": {},
   "outputs": [
    {
     "name": "stdout",
     "output_type": "stream",
     "text": [
      "HLC_18950215_ARTICLE19\n",
      "Long readable portions? (y if readable)> y\n",
      "Philosophy? (y if so)> y\n",
      "Ethics/Epistemology-Metaphysics/Religion-Science/Other? (e/m/r/o)> r\n",
      "Public event/letter/review/first order? (p/l/r/f)> r\n",
      "NZ or non-NZ (author)? (y/n/?)\n",
      "Notes? >\n",
      "OO_18910214_ARTICLE3\n",
      "Long readable portions? (y if readable)> y\n",
      "Philosophy? (y if so)> y\n",
      "Ethics/Epistemology-Metaphysics/Religion-Science/Other? (e/m/r/o)> e\n",
      "Public event/letter/review/first order? (p/l/r/f)> f\n",
      "NZ or non-NZ (author)? (y/n/?)\n",
      "Notes? >\n",
      "OO_18920109_ARTICLE7\n",
      "Long readable portions? (y if readable)> y\n",
      "Philosophy? (y if so)> y\n",
      "Ethics/Epistemology-Metaphysics/Religion-Science/Other? (e/m/r/o)> r\n",
      "Public event/letter/review/first order? (p/l/r/f)> l\n",
      "NZ or non-NZ (author)? (y/n/?)y\n",
      "Notes? >\n",
      "OO_18921224_ARTICLE2\n",
      "Long readable portions? (y if readable)> y\n",
      "Philosophy? (y if so)> y\n",
      "Ethics/Epistemology-Metaphysics/Religion-Science/Other? (e/m/r/o)> r\n",
      "Public event/letter/review/first order? (p/l/r/f)> p\n",
      "NZ or non-NZ (author)? (y/n/?)\n",
      "Notes? >Mr Collins public debate in Oxford (existence of God)\n",
      "OO_18961226_ARTICLE3\n",
      "Long readable portions? (y if readable)> y\n",
      "Philosophy? (y if so)> y\n",
      "Ethics/Epistemology-Metaphysics/Religion-Science/Other? (e/m/r/o)> e\n",
      "Public event/letter/review/first order? (p/l/r/f)> f\n",
      "NZ or non-NZ (author)? (y/n/?)n\n",
      "Notes? >Lady Cook's advice to young women\n"
     ]
    }
   ],
   "source": [
    "to_add = [\n",
    "    'HLC_18950215_ARTICLE19',\n",
    "    'OO_18910214_ARTICLE3',\n",
    "    'OO_18920109_ARTICLE7',\n",
    "    'OO_18921224_ARTICLE2',\n",
    "    'OO_18961226_ARTICLE3'\n",
    "]\n",
    "for article in to_add:\n",
    "    print(article)\n",
    "    classified_df.loc[article] = classify_text()"
   ]
  },
  {
   "cell_type": "code",
   "execution_count": 262,
   "metadata": {},
   "outputs": [],
   "source": [
    "philoso_df = pd.read_pickle('pickles/nb1_philoso_df.tar.gz')"
   ]
  },
  {
   "cell_type": "code",
   "execution_count": 269,
   "metadata": {},
   "outputs": [],
   "source": [
    "philoso_df = philoso_df[~philoso_df.astype(str).duplicated()]"
   ]
  },
  {
   "cell_type": "code",
   "execution_count": 249,
   "metadata": {},
   "outputs": [
    {
     "data": {
      "text/plain": [
       "8"
      ]
     },
     "execution_count": 249,
     "metadata": {},
     "output_type": "execute_result"
    }
   ],
   "source": [
    "filter_term = r'mechanical philosophy'\n",
    "filtered_index = NL_helpers.search_text(philoso_df, filter_term, lower=True)\n",
    "len(filtered_index)"
   ]
  },
  {
   "cell_type": "markdown",
   "metadata": {},
   "source": [
    "Terms used:\n",
    "'frankland'\n",
    "'existence of god'\n",
    "'platonic philosophy'\n",
    "'speculative philosophy'\n",
    "'utilitarianism'\n",
    "'nature of science'\n",
    "'nature of art'\n",
    "'herbert spencer'\n",
    "'william james'\n",
    "'josiah royce'\n",
    "'the * of new zealand'\n",
    "'stella henderson'\n",
    "'theodicy'\n",
    "'philosophical discourse'\n",
    "'temple of truth'\n",
    "'ngata'\n",
    "'samuel butler'\n",
    "'idealism'\n",
    "'reign of grace'\n",
    "'hegel'\n",
    "'empiricism'\n",
    "'rationalism'\n",
    "'social philosophy'\n",
    "'mechanical philosophy'"
   ]
  },
  {
   "cell_type": "code",
   "execution_count": 250,
   "metadata": {},
   "outputs": [],
   "source": [
    "formatted_index = [(f'{i} ({philoso_df.loc[i, \"Title\"]})', i) for i in filtered_index]"
   ]
  },
  {
   "cell_type": "code",
   "execution_count": 251,
   "metadata": {},
   "outputs": [
    {
     "name": "stdout",
     "output_type": "stream",
     "text": [
      "0 :  ('LT_18710815_ARTICLE16 (ENGINE DRIVING.)', 'LT_18710815_ARTICLE16')\n",
      "1 :  ('OW_18511018_ARTICLE10 (THE WORKING MAN,)', 'OW_18511018_ARTICLE10')\n",
      "2 :  ('DSC_18520629_ARTICLE8 (Lecture on \" Secular Education.\")', 'DSC_18520629_ARTICLE8')\n",
      "3 :  ('DSC_18691229_ARTICLE17 (A SCHOOL OF SCIENCE FOR AUCKLAiND.)', 'DSC_18691229_ARTICLE17')\n",
      "4 :  ('LT_18690930_ARTICLE17 (MR HUXLEY AND SCIENTIFIC EDUCATION.)', 'LT_18690930_ARTICLE17')\n",
      "5 :  ('OW_18861112_ARTICLE129 (LITERATURE.)', 'OW_18861112_ARTICLE129')\n",
      "6 :  ('ESD_18760108_ARTICLE30 (REVIEW.)', 'ESD_18760108_ARTICLE30')\n",
      "7 :  (\"OW_18601006_ARTICLE1 (LECTURE. BY JOHN M'GLASHAN, ESQ.)\", 'OW_18601006_ARTICLE1')\n"
     ]
    }
   ],
   "source": [
    "for i, item in enumerate(formatted_index):\n",
    "    print(i, ': ', item)"
   ]
  },
  {
   "cell_type": "code",
   "execution_count": 247,
   "metadata": {},
   "outputs": [],
   "source": [
    "desired_items = [1, 10, 13, 17, 27]\n",
    "filtered_index = [filtered_index[i] for i in desired_items]"
   ]
  },
  {
   "cell_type": "code",
   "execution_count": 270,
   "metadata": {
    "scrolled": false
   },
   "outputs": [
    {
     "ename": "IndexError",
     "evalue": "list index out of range",
     "output_type": "error",
     "traceback": [
      "\u001b[0;31m---------------------------------------------------------------------------\u001b[0m",
      "\u001b[0;31mIndexError\u001b[0m                                Traceback (most recent call last)",
      "\u001b[0;32m<ipython-input-270-b9629a179865>\u001b[0m in \u001b[0;36m<module>\u001b[0;34m\u001b[0m\n\u001b[1;32m      2\u001b[0m \u001b[0mi\u001b[0m \u001b[0;34m=\u001b[0m \u001b[0;36m0\u001b[0m\u001b[0;34m\u001b[0m\u001b[0;34m\u001b[0m\u001b[0m\n\u001b[1;32m      3\u001b[0m \u001b[0;32mwhile\u001b[0m \u001b[0mexit\u001b[0m \u001b[0;34m==\u001b[0m \u001b[0;32mFalse\u001b[0m\u001b[0;34m:\u001b[0m\u001b[0;34m\u001b[0m\u001b[0;34m\u001b[0m\u001b[0m\n\u001b[0;32m----> 4\u001b[0;31m     \u001b[0;32mif\u001b[0m \u001b[0mfiltered_index\u001b[0m\u001b[0;34m[\u001b[0m\u001b[0mi\u001b[0m\u001b[0;34m]\u001b[0m \u001b[0;32min\u001b[0m \u001b[0mclassified_df\u001b[0m\u001b[0;34m.\u001b[0m\u001b[0mindex\u001b[0m\u001b[0;34m:\u001b[0m\u001b[0;34m\u001b[0m\u001b[0;34m\u001b[0m\u001b[0m\n\u001b[0m\u001b[1;32m      5\u001b[0m         \u001b[0mi\u001b[0m\u001b[0;34m+=\u001b[0m\u001b[0;36m1\u001b[0m\u001b[0;34m\u001b[0m\u001b[0;34m\u001b[0m\u001b[0m\n\u001b[1;32m      6\u001b[0m     \u001b[0;32melse\u001b[0m\u001b[0;34m:\u001b[0m\u001b[0;34m\u001b[0m\u001b[0;34m\u001b[0m\u001b[0m\n",
      "\u001b[0;31mIndexError\u001b[0m: list index out of range"
     ]
    }
   ],
   "source": [
    "exit = False\n",
    "i = 0\n",
    "while exit == False:\n",
    "    if filtered_index[i] in classified_df.index:\n",
    "        i+=1\n",
    "    else:\n",
    "        try:\n",
    "            NL_helpers.print_text_index_only(filtered_index[i], philoso_df)\n",
    "            skip_decision = input('skip? (y to skip) >')\n",
    "            if skip_decision == 'y':\n",
    "                pass\n",
    "            else:\n",
    "                classified_df.loc[filtered_index[i]] = NL_helpers.classify_text()\n",
    "        except AttributeError:\n",
    "            print(f'wraptext error occurred for {filtered_index[i]}')\n",
    "        i+=1\n",
    "        exit_decision = input('exit? (y to exit) >')\n",
    "        if exit_decision == 'y':\n",
    "            exit = True\n",
    "        clear_output()"
   ]
  },
  {
   "cell_type": "code",
   "execution_count": 62,
   "metadata": {},
   "outputs": [],
   "source": [
    "philoso_df.loc['AS_18861110_ARTICLE51']['Notes'] = \"Very similar to another piece in annotated set on prodigious memory in 'idiots'.\""
   ]
  },
  {
   "cell_type": "code",
   "execution_count": 211,
   "metadata": {
    "scrolled": false
   },
   "outputs": [
    {
     "data": {
      "text/html": [
       "<div>\n",
       "<style scoped>\n",
       "    .dataframe tbody tr th:only-of-type {\n",
       "        vertical-align: middle;\n",
       "    }\n",
       "\n",
       "    .dataframe tbody tr th {\n",
       "        vertical-align: top;\n",
       "    }\n",
       "\n",
       "    .dataframe thead th {\n",
       "        text-align: right;\n",
       "    }\n",
       "</style>\n",
       "<table border=\"1\" class=\"dataframe\">\n",
       "  <thead>\n",
       "    <tr style=\"text-align: right;\">\n",
       "      <th></th>\n",
       "      <th>Readable</th>\n",
       "      <th>Philosophy</th>\n",
       "      <th>Philosophy Type</th>\n",
       "      <th>Writing Type</th>\n",
       "      <th>NZ</th>\n",
       "      <th>Notes</th>\n",
       "    </tr>\n",
       "  </thead>\n",
       "  <tbody>\n",
       "    <tr>\n",
       "      <th>LT_18971209_ARTICLE7</th>\n",
       "      <td>True</td>\n",
       "      <td>False</td>\n",
       "      <td>None</td>\n",
       "      <td>None</td>\n",
       "      <td>None</td>\n",
       "      <td></td>\n",
       "    </tr>\n",
       "    <tr>\n",
       "      <th>NZTIM_18860722_ARTICLE11</th>\n",
       "      <td>True</td>\n",
       "      <td>False</td>\n",
       "      <td>None</td>\n",
       "      <td>None</td>\n",
       "      <td>None</td>\n",
       "      <td></td>\n",
       "    </tr>\n",
       "    <tr>\n",
       "      <th>WC_18810721_ARTICLE7</th>\n",
       "      <td>True</td>\n",
       "      <td>False</td>\n",
       "      <td>None</td>\n",
       "      <td>None</td>\n",
       "      <td>None</td>\n",
       "      <td></td>\n",
       "    </tr>\n",
       "    <tr>\n",
       "      <th>DUNST_18980513_ARTICLE3</th>\n",
       "      <td>True</td>\n",
       "      <td>False</td>\n",
       "      <td>None</td>\n",
       "      <td>None</td>\n",
       "      <td>None</td>\n",
       "      <td></td>\n",
       "    </tr>\n",
       "    <tr>\n",
       "      <th>OAM_18960702_ARTICLE35</th>\n",
       "      <td>True</td>\n",
       "      <td>False</td>\n",
       "      <td>None</td>\n",
       "      <td>None</td>\n",
       "      <td>None</td>\n",
       "      <td></td>\n",
       "    </tr>\n",
       "    <tr>\n",
       "      <th>...</th>\n",
       "      <td>...</td>\n",
       "      <td>...</td>\n",
       "      <td>...</td>\n",
       "      <td>...</td>\n",
       "      <td>...</td>\n",
       "      <td>...</td>\n",
       "    </tr>\n",
       "    <tr>\n",
       "      <th>ODT_18880512_ARTICLE53</th>\n",
       "      <td>True</td>\n",
       "      <td>True</td>\n",
       "      <td>r</td>\n",
       "      <td>l</td>\n",
       "      <td>True</td>\n",
       "      <td></td>\n",
       "    </tr>\n",
       "    <tr>\n",
       "      <th>OW_18880608_ARTICLE103</th>\n",
       "      <td>True</td>\n",
       "      <td>True</td>\n",
       "      <td>r</td>\n",
       "      <td>p</td>\n",
       "      <td>True</td>\n",
       "      <td></td>\n",
       "    </tr>\n",
       "    <tr>\n",
       "      <th>OW_18880504_ARTICLE17</th>\n",
       "      <td>True</td>\n",
       "      <td>True</td>\n",
       "      <td>r</td>\n",
       "      <td>r</td>\n",
       "      <td>True</td>\n",
       "      <td></td>\n",
       "    </tr>\n",
       "    <tr>\n",
       "      <th>LWM_18880504_ARTICLE36</th>\n",
       "      <td>True</td>\n",
       "      <td>True</td>\n",
       "      <td>r</td>\n",
       "      <td>l</td>\n",
       "      <td>True</td>\n",
       "      <td></td>\n",
       "    </tr>\n",
       "    <tr>\n",
       "      <th>MIC_18880623_ARTICLE8</th>\n",
       "      <td>True</td>\n",
       "      <td>False</td>\n",
       "      <td>None</td>\n",
       "      <td>None</td>\n",
       "      <td>None</td>\n",
       "      <td></td>\n",
       "    </tr>\n",
       "  </tbody>\n",
       "</table>\n",
       "<p>785 rows × 6 columns</p>\n",
       "</div>"
      ],
      "text/plain": [
       "                         Readable Philosophy Philosophy Type Writing Type  \\\n",
       "LT_18971209_ARTICLE7         True      False            None         None   \n",
       "NZTIM_18860722_ARTICLE11     True      False            None         None   \n",
       "WC_18810721_ARTICLE7         True      False            None         None   \n",
       "DUNST_18980513_ARTICLE3      True      False            None         None   \n",
       "OAM_18960702_ARTICLE35       True      False            None         None   \n",
       "...                           ...        ...             ...          ...   \n",
       "ODT_18880512_ARTICLE53       True       True               r            l   \n",
       "OW_18880608_ARTICLE103       True       True               r            p   \n",
       "OW_18880504_ARTICLE17        True       True               r            r   \n",
       "LWM_18880504_ARTICLE36       True       True               r            l   \n",
       "MIC_18880623_ARTICLE8        True      False            None         None   \n",
       "\n",
       "                            NZ Notes  \n",
       "LT_18971209_ARTICLE7      None        \n",
       "NZTIM_18860722_ARTICLE11  None        \n",
       "WC_18810721_ARTICLE7      None        \n",
       "DUNST_18980513_ARTICLE3   None        \n",
       "OAM_18960702_ARTICLE35    None        \n",
       "...                        ...   ...  \n",
       "ODT_18880512_ARTICLE53    True        \n",
       "OW_18880608_ARTICLE103    True        \n",
       "OW_18880504_ARTICLE17     True        \n",
       "LWM_18880504_ARTICLE36    True        \n",
       "MIC_18880623_ARTICLE8     None        \n",
       "\n",
       "[785 rows x 6 columns]"
      ]
     },
     "execution_count": 211,
     "metadata": {},
     "output_type": "execute_result"
    }
   ],
   "source": [
    "classified_df"
   ]
  },
  {
   "cell_type": "code",
   "execution_count": 266,
   "metadata": {},
   "outputs": [],
   "source": [
    "classified_df.drop(filtered_index, inplace=True)"
   ]
  },
  {
   "cell_type": "markdown",
   "metadata": {},
   "source": [
    "Check stays in: NZTIM_18791104_ARTICLE14"
   ]
  },
  {
   "cell_type": "code",
   "execution_count": null,
   "metadata": {},
   "outputs": [],
   "source": [
    "classified_df.loc['MIC_18880623_ARTICLE8'] = (True, True, 'r', 'r', True, '')"
   ]
  },
  {
   "cell_type": "markdown",
   "metadata": {},
   "source": [
    "### Adding a broader swathe of 'non-philosophy' than available in 'nb1_philoso_df'"
   ]
  },
  {
   "cell_type": "code",
   "execution_count": 272,
   "metadata": {},
   "outputs": [],
   "source": [
    "del philoso_df"
   ]
  },
  {
   "cell_type": "code",
   "execution_count": 273,
   "metadata": {},
   "outputs": [],
   "source": [
    "all_sub_df = pd.read_pickle('pickles/corpus_subset_df.pickle')"
   ]
  },
  {
   "cell_type": "code",
   "execution_count": 274,
   "metadata": {},
   "outputs": [],
   "source": [
    "all_sub_df = all_sub_df.sample(n=150)"
   ]
  },
  {
   "cell_type": "code",
   "execution_count": 275,
   "metadata": {
    "scrolled": false
   },
   "outputs": [
    {
     "ename": "IndexError",
     "evalue": "index 150 is out of bounds for axis 0 with size 150",
     "output_type": "error",
     "traceback": [
      "\u001b[0;31m---------------------------------------------------------------------------\u001b[0m",
      "\u001b[0;31mIndexError\u001b[0m                                Traceback (most recent call last)",
      "\u001b[0;32m<ipython-input-275-9600b7f5603b>\u001b[0m in \u001b[0;36m<module>\u001b[0;34m\u001b[0m\n\u001b[1;32m      2\u001b[0m \u001b[0mi\u001b[0m \u001b[0;34m=\u001b[0m \u001b[0;36m0\u001b[0m\u001b[0;34m\u001b[0m\u001b[0;34m\u001b[0m\u001b[0m\n\u001b[1;32m      3\u001b[0m \u001b[0;32mwhile\u001b[0m \u001b[0mexit\u001b[0m \u001b[0;34m==\u001b[0m \u001b[0;32mFalse\u001b[0m\u001b[0;34m:\u001b[0m\u001b[0;34m\u001b[0m\u001b[0;34m\u001b[0m\u001b[0m\n\u001b[0;32m----> 4\u001b[0;31m     \u001b[0;32mif\u001b[0m \u001b[0mall_sub_df\u001b[0m\u001b[0;34m.\u001b[0m\u001b[0mindex\u001b[0m\u001b[0;34m[\u001b[0m\u001b[0mi\u001b[0m\u001b[0;34m]\u001b[0m \u001b[0;32min\u001b[0m \u001b[0mclassified_df\u001b[0m\u001b[0;34m.\u001b[0m\u001b[0mindex\u001b[0m\u001b[0;34m:\u001b[0m\u001b[0;34m\u001b[0m\u001b[0;34m\u001b[0m\u001b[0m\n\u001b[0m\u001b[1;32m      5\u001b[0m         \u001b[0mi\u001b[0m\u001b[0;34m+=\u001b[0m\u001b[0;36m1\u001b[0m\u001b[0;34m\u001b[0m\u001b[0;34m\u001b[0m\u001b[0m\n\u001b[1;32m      6\u001b[0m     \u001b[0;32melse\u001b[0m\u001b[0;34m:\u001b[0m\u001b[0;34m\u001b[0m\u001b[0;34m\u001b[0m\u001b[0m\n",
      "\u001b[0;32m~/anaconda3/lib/python3.7/site-packages/pandas/core/indexes/base.py\u001b[0m in \u001b[0;36m__getitem__\u001b[0;34m(self, key)\u001b[0m\n\u001b[1;32m   3928\u001b[0m         \u001b[0;32mif\u001b[0m \u001b[0mis_scalar\u001b[0m\u001b[0;34m(\u001b[0m\u001b[0mkey\u001b[0m\u001b[0;34m)\u001b[0m\u001b[0;34m:\u001b[0m\u001b[0;34m\u001b[0m\u001b[0;34m\u001b[0m\u001b[0m\n\u001b[1;32m   3929\u001b[0m             \u001b[0mkey\u001b[0m \u001b[0;34m=\u001b[0m \u001b[0mcom\u001b[0m\u001b[0;34m.\u001b[0m\u001b[0mcast_scalar_indexer\u001b[0m\u001b[0;34m(\u001b[0m\u001b[0mkey\u001b[0m\u001b[0;34m)\u001b[0m\u001b[0;34m\u001b[0m\u001b[0;34m\u001b[0m\u001b[0m\n\u001b[0;32m-> 3930\u001b[0;31m             \u001b[0;32mreturn\u001b[0m \u001b[0mgetitem\u001b[0m\u001b[0;34m(\u001b[0m\u001b[0mkey\u001b[0m\u001b[0;34m)\u001b[0m\u001b[0;34m\u001b[0m\u001b[0;34m\u001b[0m\u001b[0m\n\u001b[0m\u001b[1;32m   3931\u001b[0m \u001b[0;34m\u001b[0m\u001b[0m\n\u001b[1;32m   3932\u001b[0m         \u001b[0;32mif\u001b[0m \u001b[0misinstance\u001b[0m\u001b[0;34m(\u001b[0m\u001b[0mkey\u001b[0m\u001b[0;34m,\u001b[0m \u001b[0mslice\u001b[0m\u001b[0;34m)\u001b[0m\u001b[0;34m:\u001b[0m\u001b[0;34m\u001b[0m\u001b[0;34m\u001b[0m\u001b[0m\n",
      "\u001b[0;31mIndexError\u001b[0m: index 150 is out of bounds for axis 0 with size 150"
     ]
    }
   ],
   "source": [
    "exit = False\n",
    "i = 0\n",
    "while exit == False:\n",
    "    if all_sub_df.index[i] in classified_df.index:\n",
    "        i+=1\n",
    "    else:\n",
    "        try:\n",
    "            NL_helpers.print_text_index_only(all_sub_df.index[i], all_sub_df)\n",
    "            classified_df.loc[all_sub_df.index[i]] = NL_helpers.classify_text()\n",
    "        except AttributeError:\n",
    "            print(f'wraptext error occurred for {filtered_index[i]}')\n",
    "        i+=1\n",
    "        exit_decision = input('exit? (y to exit) >')\n",
    "        if exit_decision == 'y':\n",
    "            exit = True\n",
    "        clear_output()"
   ]
  },
  {
   "cell_type": "code",
   "execution_count": 264,
   "metadata": {},
   "outputs": [
    {
     "data": {
      "text/plain": [
       "['LT_18710815_ARTICLE16',\n",
       " 'OW_18511018_ARTICLE10',\n",
       " 'DSC_18520629_ARTICLE8',\n",
       " 'DSC_18691229_ARTICLE17',\n",
       " 'LT_18690930_ARTICLE17',\n",
       " 'OW_18861112_ARTICLE129',\n",
       " 'ESD_18760108_ARTICLE30',\n",
       " 'OW_18601006_ARTICLE1']"
      ]
     },
     "execution_count": 264,
     "metadata": {},
     "output_type": "execute_result"
    }
   ],
   "source": [
    "filtered_index"
   ]
  },
  {
   "cell_type": "code",
   "execution_count": 276,
   "metadata": {},
   "outputs": [
    {
     "data": {
      "text/plain": [
       "959"
      ]
     },
     "execution_count": 276,
     "metadata": {},
     "output_type": "execute_result"
    }
   ],
   "source": [
    "len(classified_df)"
   ]
  }
 ],
 "metadata": {
  "kernelspec": {
   "display_name": "Python 3",
   "language": "python",
   "name": "python3"
  },
  "language_info": {
   "codemirror_mode": {
    "name": "ipython",
    "version": 3
   },
   "file_extension": ".py",
   "mimetype": "text/x-python",
   "name": "python",
   "nbconvert_exporter": "python",
   "pygments_lexer": "ipython3",
   "version": "3.7.6"
  }
 },
 "nbformat": 4,
 "nbformat_minor": 4
}

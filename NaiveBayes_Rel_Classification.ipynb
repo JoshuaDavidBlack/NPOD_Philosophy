{
 "cells": [
  {
   "cell_type": "markdown",
   "metadata": {},
   "source": [
    "# First Application of Naive Bayes to Philosophy/Non-Philosophy Classification"
   ]
  },
  {
   "cell_type": "code",
   "execution_count": 1,
   "metadata": {},
   "outputs": [],
   "source": [
    "import os\n",
    "import pickle\n",
    "from multiprocessing import Pool\n",
    "\n",
    "from ipywidgets import interact, interactive, fixed, interact_manual\n",
    "import ipywidgets as widgets\n",
    "\n",
    "from nltk.corpus import stopwords\n",
    "\n",
    "import numpy as np\n",
    "\n",
    "from sklearn import metrics\n",
    "from sklearn.feature_extraction.text import CountVectorizer, TfidfTransformer\n",
    "from sklearn.model_selection import GridSearchCV\n",
    "from sklearn.naive_bayes import MultinomialNB\n",
    "from sklearn.svm import SVC\n",
    "from sklearn.pipeline import Pipeline\n",
    "\n",
    "import pandas as pd\n",
    "\n",
    "import NL_helpers\n",
    "\n",
    "STOPWORDS = list(stopwords.words('english'))"
   ]
  },
  {
   "cell_type": "markdown",
   "metadata": {},
   "source": [
    "## Load Labels and Corresponding Texts"
   ]
  },
  {
   "cell_type": "markdown",
   "metadata": {},
   "source": [
    "Load labels with article codes."
   ]
  },
  {
   "cell_type": "code",
   "execution_count": 2,
   "metadata": {},
   "outputs": [],
   "source": [
    "annotated_df = pd.read_pickle('pickles/classified_df.pickle')"
   ]
  },
  {
   "cell_type": "code",
   "execution_count": 3,
   "metadata": {
    "scrolled": false
   },
   "outputs": [
    {
     "data": {
      "text/html": [
       "<div>\n",
       "<style scoped>\n",
       "    .dataframe tbody tr th:only-of-type {\n",
       "        vertical-align: middle;\n",
       "    }\n",
       "\n",
       "    .dataframe tbody tr th {\n",
       "        vertical-align: top;\n",
       "    }\n",
       "\n",
       "    .dataframe thead th {\n",
       "        text-align: right;\n",
       "    }\n",
       "</style>\n",
       "<table border=\"1\" class=\"dataframe\">\n",
       "  <thead>\n",
       "    <tr style=\"text-align: right;\">\n",
       "      <th></th>\n",
       "      <th>Readable</th>\n",
       "      <th>Philosophy</th>\n",
       "      <th>Philosophy Type</th>\n",
       "      <th>Writing Type</th>\n",
       "      <th>NZ</th>\n",
       "      <th>Notes</th>\n",
       "    </tr>\n",
       "  </thead>\n",
       "  <tbody>\n",
       "    <tr>\n",
       "      <th>LT_18971209_ARTICLE7</th>\n",
       "      <td>True</td>\n",
       "      <td>False</td>\n",
       "      <td>None</td>\n",
       "      <td>None</td>\n",
       "      <td>None</td>\n",
       "      <td></td>\n",
       "    </tr>\n",
       "    <tr>\n",
       "      <th>NZTIM_18860722_ARTICLE11</th>\n",
       "      <td>True</td>\n",
       "      <td>False</td>\n",
       "      <td>None</td>\n",
       "      <td>None</td>\n",
       "      <td>None</td>\n",
       "      <td></td>\n",
       "    </tr>\n",
       "    <tr>\n",
       "      <th>WC_18810721_ARTICLE7</th>\n",
       "      <td>True</td>\n",
       "      <td>False</td>\n",
       "      <td>None</td>\n",
       "      <td>None</td>\n",
       "      <td>None</td>\n",
       "      <td></td>\n",
       "    </tr>\n",
       "    <tr>\n",
       "      <th>DUNST_18980513_ARTICLE3</th>\n",
       "      <td>True</td>\n",
       "      <td>False</td>\n",
       "      <td>None</td>\n",
       "      <td>None</td>\n",
       "      <td>None</td>\n",
       "      <td></td>\n",
       "    </tr>\n",
       "    <tr>\n",
       "      <th>OAM_18960702_ARTICLE35</th>\n",
       "      <td>True</td>\n",
       "      <td>False</td>\n",
       "      <td>None</td>\n",
       "      <td>None</td>\n",
       "      <td>None</td>\n",
       "      <td></td>\n",
       "    </tr>\n",
       "    <tr>\n",
       "      <th>...</th>\n",
       "      <td>...</td>\n",
       "      <td>...</td>\n",
       "      <td>...</td>\n",
       "      <td>...</td>\n",
       "      <td>...</td>\n",
       "      <td>...</td>\n",
       "    </tr>\n",
       "    <tr>\n",
       "      <th>AG_18840116_ARTICLE5</th>\n",
       "      <td>True</td>\n",
       "      <td>False</td>\n",
       "      <td>None</td>\n",
       "      <td>None</td>\n",
       "      <td>None</td>\n",
       "      <td></td>\n",
       "    </tr>\n",
       "    <tr>\n",
       "      <th>MS_18830117_ARTICLE19</th>\n",
       "      <td>True</td>\n",
       "      <td>False</td>\n",
       "      <td>None</td>\n",
       "      <td>None</td>\n",
       "      <td>None</td>\n",
       "      <td></td>\n",
       "    </tr>\n",
       "    <tr>\n",
       "      <th>GRA_18970305_ARTICLE3</th>\n",
       "      <td>True</td>\n",
       "      <td>False</td>\n",
       "      <td>None</td>\n",
       "      <td>None</td>\n",
       "      <td>None</td>\n",
       "      <td></td>\n",
       "    </tr>\n",
       "    <tr>\n",
       "      <th>LT_18800611_ARTICLE5</th>\n",
       "      <td>True</td>\n",
       "      <td>False</td>\n",
       "      <td>None</td>\n",
       "      <td>None</td>\n",
       "      <td>None</td>\n",
       "      <td></td>\n",
       "    </tr>\n",
       "    <tr>\n",
       "      <th>AG_18910526_ARTICLE8</th>\n",
       "      <td>True</td>\n",
       "      <td>False</td>\n",
       "      <td>None</td>\n",
       "      <td>None</td>\n",
       "      <td>None</td>\n",
       "      <td></td>\n",
       "    </tr>\n",
       "  </tbody>\n",
       "</table>\n",
       "<p>959 rows × 6 columns</p>\n",
       "</div>"
      ],
      "text/plain": [
       "                         Readable Philosophy Philosophy Type Writing Type  \\\n",
       "LT_18971209_ARTICLE7         True      False            None         None   \n",
       "NZTIM_18860722_ARTICLE11     True      False            None         None   \n",
       "WC_18810721_ARTICLE7         True      False            None         None   \n",
       "DUNST_18980513_ARTICLE3      True      False            None         None   \n",
       "OAM_18960702_ARTICLE35       True      False            None         None   \n",
       "...                           ...        ...             ...          ...   \n",
       "AG_18840116_ARTICLE5         True      False            None         None   \n",
       "MS_18830117_ARTICLE19        True      False            None         None   \n",
       "GRA_18970305_ARTICLE3        True      False            None         None   \n",
       "LT_18800611_ARTICLE5         True      False            None         None   \n",
       "AG_18910526_ARTICLE8         True      False            None         None   \n",
       "\n",
       "                            NZ Notes  \n",
       "LT_18971209_ARTICLE7      None        \n",
       "NZTIM_18860722_ARTICLE11  None        \n",
       "WC_18810721_ARTICLE7      None        \n",
       "DUNST_18980513_ARTICLE3   None        \n",
       "OAM_18960702_ARTICLE35    None        \n",
       "...                        ...   ...  \n",
       "AG_18840116_ARTICLE5      None        \n",
       "MS_18830117_ARTICLE19     None        \n",
       "GRA_18970305_ARTICLE3     None        \n",
       "LT_18800611_ARTICLE5      None        \n",
       "AG_18910526_ARTICLE8      None        \n",
       "\n",
       "[959 rows x 6 columns]"
      ]
     },
     "execution_count": 3,
     "metadata": {},
     "output_type": "execute_result"
    }
   ],
   "source": [
    "annotated_df"
   ]
  },
  {
   "cell_type": "markdown",
   "metadata": {},
   "source": [
    "Use article codes to load texts."
   ]
  },
  {
   "cell_type": "code",
   "execution_count": 4,
   "metadata": {},
   "outputs": [],
   "source": [
    "dataset_path = '/home/joshua/hdd/Datasets/papers-past/'"
   ]
  },
  {
   "cell_type": "markdown",
   "metadata": {},
   "source": [
    "The total dataset is divided into nine pickles. The following code runs through each, and collects the text for any articles in the annotated df using a left join opperation."
   ]
  },
  {
   "cell_type": "code",
   "execution_count": 5,
   "metadata": {},
   "outputs": [],
   "source": [
    "texts = pd.DataFrame(index=annotated_df.index)\n",
    "for i in range(9):\n",
    "    df = pd.read_pickle(dataset_path+f'corpus_df_{i}.tar.gz')\n",
    "    matching_df = texts.join(df['Text'])\n",
    "    annotated_df = annotated_df.combine_first(matching_df)\n",
    "    del matching_df, df # May aid python memory management"
   ]
  },
  {
   "cell_type": "markdown",
   "metadata": {},
   "source": [
    "Change text from list to simple string"
   ]
  },
  {
   "cell_type": "code",
   "execution_count": 6,
   "metadata": {},
   "outputs": [],
   "source": [
    "annotated_df['Text as String'] = annotated_df['Text'].apply(NL_helpers.blocks2string)"
   ]
  },
  {
   "cell_type": "code",
   "execution_count": 7,
   "metadata": {},
   "outputs": [
    {
     "data": {
      "text/plain": [
       "r    139\n",
       "e     94\n",
       "o     51\n",
       "m     13\n",
       "f      1\n",
       "Name: Philosophy Type, dtype: int64"
      ]
     },
     "execution_count": 7,
     "metadata": {},
     "output_type": "execute_result"
    }
   ],
   "source": [
    "annotated_df['Philosophy Type'].value_counts()"
   ]
  },
  {
   "cell_type": "markdown",
   "metadata": {},
   "source": [
    "Drop non-philosophy."
   ]
  },
  {
   "cell_type": "code",
   "execution_count": 8,
   "metadata": {},
   "outputs": [],
   "source": [
    "annotated_df = annotated_df[annotated_df['Philosophy']==True]"
   ]
  },
  {
   "cell_type": "code",
   "execution_count": 9,
   "metadata": {},
   "outputs": [],
   "source": [
    "annotated_df['Religion-Science'] = annotated_df['Philosophy Type'].apply(lambda x: (x == 'r'))"
   ]
  },
  {
   "cell_type": "code",
   "execution_count": 10,
   "metadata": {},
   "outputs": [
    {
     "data": {
      "text/plain": [
       "False    160\n",
       "True     139\n",
       "Name: Religion-Science, dtype: int64"
      ]
     },
     "execution_count": 10,
     "metadata": {},
     "output_type": "execute_result"
    }
   ],
   "source": [
    "annotated_df['Religion-Science'].value_counts()"
   ]
  },
  {
   "cell_type": "markdown",
   "metadata": {},
   "source": [
    "Will take 75% of each class for the training dataset."
   ]
  },
  {
   "cell_type": "code",
   "execution_count": 12,
   "metadata": {},
   "outputs": [],
   "source": [
    "training_rel = annotated_df.loc[annotated_df['Religion-Science']==True].sample(n=139//4 * 3, random_state=1)\n",
    "training_nonrel = annotated_df.loc[annotated_df['Religion-Science']==False].sample(n=160//4 * 3, random_state=1)\n",
    "training_df = training_rel.append(training_nonrel)\n",
    "del training_rel, training_nonrel"
   ]
  },
  {
   "cell_type": "code",
   "execution_count": 13,
   "metadata": {},
   "outputs": [],
   "source": [
    "test_df = annotated_df.loc[[i for i in annotated_df.index if not i in training_df.index]]"
   ]
  },
  {
   "cell_type": "code",
   "execution_count": 14,
   "metadata": {},
   "outputs": [
    {
     "data": {
      "text/html": [
       "<div>\n",
       "<style scoped>\n",
       "    .dataframe tbody tr th:only-of-type {\n",
       "        vertical-align: middle;\n",
       "    }\n",
       "\n",
       "    .dataframe tbody tr th {\n",
       "        vertical-align: top;\n",
       "    }\n",
       "\n",
       "    .dataframe thead th {\n",
       "        text-align: right;\n",
       "    }\n",
       "</style>\n",
       "<table border=\"1\" class=\"dataframe\">\n",
       "  <thead>\n",
       "    <tr style=\"text-align: right;\">\n",
       "      <th></th>\n",
       "      <th>NZ</th>\n",
       "      <th>Notes</th>\n",
       "      <th>Philosophy</th>\n",
       "      <th>Philosophy Type</th>\n",
       "      <th>Readable</th>\n",
       "      <th>Text</th>\n",
       "      <th>Writing Type</th>\n",
       "      <th>Text as String</th>\n",
       "      <th>Religion-Science</th>\n",
       "    </tr>\n",
       "  </thead>\n",
       "  <tbody>\n",
       "    <tr>\n",
       "      <th>LT_18941123_ARTICLE22</th>\n",
       "      <td>None</td>\n",
       "      <td>Theosophy</td>\n",
       "      <td>True</td>\n",
       "      <td>r</td>\n",
       "      <td>True</td>\n",
       "      <td>[THE COMIN6 RACE., revealing to the world one ...</td>\n",
       "      <td>f</td>\n",
       "      <td>THE COMIN6 RACE.\\nrevealing to the world one o...</td>\n",
       "      <td>True</td>\n",
       "    </tr>\n",
       "    <tr>\n",
       "      <th>WC_18791225_ARTICLE4</th>\n",
       "      <td>True</td>\n",
       "      <td></td>\n",
       "      <td>True</td>\n",
       "      <td>r</td>\n",
       "      <td>True</td>\n",
       "      <td>[We notice that the editor of the Herald has b...</td>\n",
       "      <td>l</td>\n",
       "      <td>We notice that the editor of the Herald has be...</td>\n",
       "      <td>True</td>\n",
       "    </tr>\n",
       "    <tr>\n",
       "      <th>AS_18890605_ARTICLE27</th>\n",
       "      <td>True</td>\n",
       "      <td>Final para, george grey ref to American idea o...</td>\n",
       "      <td>True</td>\n",
       "      <td>o</td>\n",
       "      <td>True</td>\n",
       "      <td>[For tlio or ...u that laclsa assistance, For ...</td>\n",
       "      <td>f</td>\n",
       "      <td>For tlio or ...u that laclsa assistance, For t...</td>\n",
       "      <td>False</td>\n",
       "    </tr>\n",
       "    <tr>\n",
       "      <th>NEM_18921228_ARTICLE44</th>\n",
       "      <td>None</td>\n",
       "      <td></td>\n",
       "      <td>True</td>\n",
       "      <td>e</td>\n",
       "      <td>True</td>\n",
       "      <td>[(National Observer.) We begin by accepting mo...</td>\n",
       "      <td>f</td>\n",
       "      <td>(National Observer.) We begin by accepting mos...</td>\n",
       "      <td>False</td>\n",
       "    </tr>\n",
       "    <tr>\n",
       "      <th>HBT_18650904_ARTICLE11</th>\n",
       "      <td>None</td>\n",
       "      <td>Mention of phil books in library</td>\n",
       "      <td>True</td>\n",
       "      <td>o</td>\n",
       "      <td>True</td>\n",
       "      <td>[t(OOD Woeds July, 1865 ; Sunday Magazine —Jul...</td>\n",
       "      <td>f</td>\n",
       "      <td>t(OOD Woeds July, 1865 ; Sunday Magazine —July...</td>\n",
       "      <td>False</td>\n",
       "    </tr>\n",
       "    <tr>\n",
       "      <th>...</th>\n",
       "      <td>...</td>\n",
       "      <td>...</td>\n",
       "      <td>...</td>\n",
       "      <td>...</td>\n",
       "      <td>...</td>\n",
       "      <td>...</td>\n",
       "      <td>...</td>\n",
       "      <td>...</td>\n",
       "      <td>...</td>\n",
       "    </tr>\n",
       "    <tr>\n",
       "      <th>ODT_18820708_ARTICLE24</th>\n",
       "      <td>True</td>\n",
       "      <td></td>\n",
       "      <td>True</td>\n",
       "      <td>r</td>\n",
       "      <td>True</td>\n",
       "      <td>[TO THE EDITOB. Sir,—l am afraid \"Viator\" cann...</td>\n",
       "      <td>l</td>\n",
       "      <td>TO THE EDITOB. Sir,—l am afraid \"Viator\" canno...</td>\n",
       "      <td>True</td>\n",
       "    </tr>\n",
       "    <tr>\n",
       "      <th>LT_18990211_ARTICLE29</th>\n",
       "      <td>None</td>\n",
       "      <td></td>\n",
       "      <td>True</td>\n",
       "      <td>o</td>\n",
       "      <td>True</td>\n",
       "      <td>[Lv his “ Romance of the Earth ” Professor Bic...</td>\n",
       "      <td>r</td>\n",
       "      <td>Lv his “ Romance of the Earth ” Professor Bick...</td>\n",
       "      <td>False</td>\n",
       "    </tr>\n",
       "    <tr>\n",
       "      <th>DSC_18601207_ARTICLE27</th>\n",
       "      <td>None</td>\n",
       "      <td></td>\n",
       "      <td>True</td>\n",
       "      <td>o</td>\n",
       "      <td>True</td>\n",
       "      <td>[1 The^ meeting in London, under the Presidenc...</td>\n",
       "      <td>p</td>\n",
       "      <td>1 The^ meeting in London, under the Presidency...</td>\n",
       "      <td>False</td>\n",
       "    </tr>\n",
       "    <tr>\n",
       "      <th>ESD_18760108_ARTICLE30</th>\n",
       "      <td>True</td>\n",
       "      <td></td>\n",
       "      <td>True</td>\n",
       "      <td>o</td>\n",
       "      <td>True</td>\n",
       "      <td>[The New Zealand Magazine, a quarterly Journal...</td>\n",
       "      <td>r</td>\n",
       "      <td>The New Zealand Magazine, a quarterly Journal ...</td>\n",
       "      <td>False</td>\n",
       "    </tr>\n",
       "    <tr>\n",
       "      <th>OW_18601006_ARTICLE1</th>\n",
       "      <td>True</td>\n",
       "      <td></td>\n",
       "      <td>True</td>\n",
       "      <td>e</td>\n",
       "      <td>True</td>\n",
       "      <td>[The following able and instructive lecture, w...</td>\n",
       "      <td>p</td>\n",
       "      <td>The following able and instructive lecture, wh...</td>\n",
       "      <td>False</td>\n",
       "    </tr>\n",
       "  </tbody>\n",
       "</table>\n",
       "<p>77 rows × 9 columns</p>\n",
       "</div>"
      ],
      "text/plain": [
       "                          NZ  \\\n",
       "LT_18941123_ARTICLE22   None   \n",
       "WC_18791225_ARTICLE4    True   \n",
       "AS_18890605_ARTICLE27   True   \n",
       "NEM_18921228_ARTICLE44  None   \n",
       "HBT_18650904_ARTICLE11  None   \n",
       "...                      ...   \n",
       "ODT_18820708_ARTICLE24  True   \n",
       "LT_18990211_ARTICLE29   None   \n",
       "DSC_18601207_ARTICLE27  None   \n",
       "ESD_18760108_ARTICLE30  True   \n",
       "OW_18601006_ARTICLE1    True   \n",
       "\n",
       "                                                                    Notes  \\\n",
       "LT_18941123_ARTICLE22                                           Theosophy   \n",
       "WC_18791225_ARTICLE4                                                        \n",
       "AS_18890605_ARTICLE27   Final para, george grey ref to American idea o...   \n",
       "NEM_18921228_ARTICLE44                                                      \n",
       "HBT_18650904_ARTICLE11                   Mention of phil books in library   \n",
       "...                                                                   ...   \n",
       "ODT_18820708_ARTICLE24                                                      \n",
       "LT_18990211_ARTICLE29                                                       \n",
       "DSC_18601207_ARTICLE27                                                      \n",
       "ESD_18760108_ARTICLE30                                                      \n",
       "OW_18601006_ARTICLE1                                                        \n",
       "\n",
       "                       Philosophy Philosophy Type Readable  \\\n",
       "LT_18941123_ARTICLE22        True               r     True   \n",
       "WC_18791225_ARTICLE4         True               r     True   \n",
       "AS_18890605_ARTICLE27        True               o     True   \n",
       "NEM_18921228_ARTICLE44       True               e     True   \n",
       "HBT_18650904_ARTICLE11       True               o     True   \n",
       "...                           ...             ...      ...   \n",
       "ODT_18820708_ARTICLE24       True               r     True   \n",
       "LT_18990211_ARTICLE29        True               o     True   \n",
       "DSC_18601207_ARTICLE27       True               o     True   \n",
       "ESD_18760108_ARTICLE30       True               o     True   \n",
       "OW_18601006_ARTICLE1         True               e     True   \n",
       "\n",
       "                                                                     Text  \\\n",
       "LT_18941123_ARTICLE22   [THE COMIN6 RACE., revealing to the world one ...   \n",
       "WC_18791225_ARTICLE4    [We notice that the editor of the Herald has b...   \n",
       "AS_18890605_ARTICLE27   [For tlio or ...u that laclsa assistance, For ...   \n",
       "NEM_18921228_ARTICLE44  [(National Observer.) We begin by accepting mo...   \n",
       "HBT_18650904_ARTICLE11  [t(OOD Woeds July, 1865 ; Sunday Magazine —Jul...   \n",
       "...                                                                   ...   \n",
       "ODT_18820708_ARTICLE24  [TO THE EDITOB. Sir,—l am afraid \"Viator\" cann...   \n",
       "LT_18990211_ARTICLE29   [Lv his “ Romance of the Earth ” Professor Bic...   \n",
       "DSC_18601207_ARTICLE27  [1 The^ meeting in London, under the Presidenc...   \n",
       "ESD_18760108_ARTICLE30  [The New Zealand Magazine, a quarterly Journal...   \n",
       "OW_18601006_ARTICLE1    [The following able and instructive lecture, w...   \n",
       "\n",
       "                       Writing Type  \\\n",
       "LT_18941123_ARTICLE22             f   \n",
       "WC_18791225_ARTICLE4              l   \n",
       "AS_18890605_ARTICLE27             f   \n",
       "NEM_18921228_ARTICLE44            f   \n",
       "HBT_18650904_ARTICLE11            f   \n",
       "...                             ...   \n",
       "ODT_18820708_ARTICLE24            l   \n",
       "LT_18990211_ARTICLE29             r   \n",
       "DSC_18601207_ARTICLE27            p   \n",
       "ESD_18760108_ARTICLE30            r   \n",
       "OW_18601006_ARTICLE1              p   \n",
       "\n",
       "                                                           Text as String  \\\n",
       "LT_18941123_ARTICLE22   THE COMIN6 RACE.\\nrevealing to the world one o...   \n",
       "WC_18791225_ARTICLE4    We notice that the editor of the Herald has be...   \n",
       "AS_18890605_ARTICLE27   For tlio or ...u that laclsa assistance, For t...   \n",
       "NEM_18921228_ARTICLE44  (National Observer.) We begin by accepting mos...   \n",
       "HBT_18650904_ARTICLE11  t(OOD Woeds July, 1865 ; Sunday Magazine —July...   \n",
       "...                                                                   ...   \n",
       "ODT_18820708_ARTICLE24  TO THE EDITOB. Sir,—l am afraid \"Viator\" canno...   \n",
       "LT_18990211_ARTICLE29   Lv his “ Romance of the Earth ” Professor Bick...   \n",
       "DSC_18601207_ARTICLE27  1 The^ meeting in London, under the Presidency...   \n",
       "ESD_18760108_ARTICLE30  The New Zealand Magazine, a quarterly Journal ...   \n",
       "OW_18601006_ARTICLE1    The following able and instructive lecture, wh...   \n",
       "\n",
       "                        Religion-Science  \n",
       "LT_18941123_ARTICLE22               True  \n",
       "WC_18791225_ARTICLE4                True  \n",
       "AS_18890605_ARTICLE27              False  \n",
       "NEM_18921228_ARTICLE44             False  \n",
       "HBT_18650904_ARTICLE11             False  \n",
       "...                                  ...  \n",
       "ODT_18820708_ARTICLE24              True  \n",
       "LT_18990211_ARTICLE29              False  \n",
       "DSC_18601207_ARTICLE27             False  \n",
       "ESD_18760108_ARTICLE30             False  \n",
       "OW_18601006_ARTICLE1               False  \n",
       "\n",
       "[77 rows x 9 columns]"
      ]
     },
     "execution_count": 14,
     "metadata": {},
     "output_type": "execute_result"
    }
   ],
   "source": [
    "test_df"
   ]
  },
  {
   "cell_type": "code",
   "execution_count": 15,
   "metadata": {},
   "outputs": [
    {
     "data": {
      "text/plain": [
       "False    120\n",
       "True     102\n",
       "Name: Religion-Science, dtype: int64"
      ]
     },
     "execution_count": 15,
     "metadata": {},
     "output_type": "execute_result"
    }
   ],
   "source": [
    "training_df['Religion-Science'].value_counts()"
   ]
  },
  {
   "cell_type": "code",
   "execution_count": 16,
   "metadata": {},
   "outputs": [
    {
     "data": {
      "text/plain": [
       "False    40\n",
       "True     37\n",
       "Name: Religion-Science, dtype: int64"
      ]
     },
     "execution_count": 16,
     "metadata": {},
     "output_type": "execute_result"
    }
   ],
   "source": [
    "test_df['Religion-Science'].value_counts()"
   ]
  },
  {
   "cell_type": "markdown",
   "metadata": {},
   "source": [
    "## Set up Pipeline and Fit Model"
   ]
  },
  {
   "cell_type": "markdown",
   "metadata": {},
   "source": [
    "Tokeniser change from default: words of length 3+ rather than 2+."
   ]
  },
  {
   "cell_type": "code",
   "execution_count": 17,
   "metadata": {},
   "outputs": [],
   "source": [
    "rel_classifier = Pipeline([\n",
    "    ('vect', CountVectorizer(\n",
    "        max_df=0.4,\n",
    "        min_df=9,\n",
    "        stop_words=STOPWORDS, \n",
    "        token_pattern=r'(?u)\\b\\w\\w\\w+\\b')),\n",
    "    ('tfidf', TfidfTransformer()),\n",
    "    ('clf', MultinomialNB()),\n",
    "])"
   ]
  },
  {
   "cell_type": "code",
   "execution_count": 19,
   "metadata": {},
   "outputs": [],
   "source": [
    "training_features = training_df['Text as String'].astype('string').to_numpy()"
   ]
  },
  {
   "cell_type": "code",
   "execution_count": 20,
   "metadata": {},
   "outputs": [],
   "source": [
    "training_labels = training_df['Religion-Science'].to_numpy().astype(bool)"
   ]
  },
  {
   "cell_type": "code",
   "execution_count": 21,
   "metadata": {
    "scrolled": true
   },
   "outputs": [
    {
     "data": {
      "text/plain": [
       "Pipeline(memory=None,\n",
       "         steps=[('vect',\n",
       "                 CountVectorizer(analyzer='word', binary=False,\n",
       "                                 decode_error='strict',\n",
       "                                 dtype=<class 'numpy.int64'>, encoding='utf-8',\n",
       "                                 input='content', lowercase=True, max_df=0.4,\n",
       "                                 max_features=None, min_df=9,\n",
       "                                 ngram_range=(1, 1), preprocessor=None,\n",
       "                                 stop_words=['i', 'me', 'my', 'myself', 'we',\n",
       "                                             'our', 'ours', 'ourselves', 'you',\n",
       "                                             \"you're\", \"you've\", \"you'll\",...\n",
       "                                             'yourself', 'yourselves', 'he',\n",
       "                                             'him', 'his', 'himself', 'she',\n",
       "                                             \"she's\", 'her', 'hers', 'herself',\n",
       "                                             'it', \"it's\", 'its', 'itself', ...],\n",
       "                                 strip_accents=None,\n",
       "                                 token_pattern='(?u)\\\\b\\\\w\\\\w\\\\w+\\\\b',\n",
       "                                 tokenizer=None, vocabulary=None)),\n",
       "                ('tfidf',\n",
       "                 TfidfTransformer(norm='l2', smooth_idf=True,\n",
       "                                  sublinear_tf=False, use_idf=True)),\n",
       "                ('clf',\n",
       "                 MultinomialNB(alpha=1.0, class_prior=None, fit_prior=True))],\n",
       "         verbose=False)"
      ]
     },
     "execution_count": 21,
     "metadata": {},
     "output_type": "execute_result"
    }
   ],
   "source": [
    "rel_classifier.fit(training_features, training_labels)"
   ]
  },
  {
   "cell_type": "code",
   "execution_count": 23,
   "metadata": {},
   "outputs": [],
   "source": [
    "test_features = test_df['Text as String'].astype('string').to_numpy()"
   ]
  },
  {
   "cell_type": "code",
   "execution_count": 24,
   "metadata": {},
   "outputs": [],
   "source": [
    "test_labels = test_df['Religion-Science'].to_numpy().astype(bool)"
   ]
  },
  {
   "cell_type": "code",
   "execution_count": 26,
   "metadata": {},
   "outputs": [],
   "source": [
    "predicted = rel_classifier.predict(test_features)"
   ]
  },
  {
   "cell_type": "code",
   "execution_count": 27,
   "metadata": {},
   "outputs": [
    {
     "data": {
      "text/plain": [
       "0.8051948051948052"
      ]
     },
     "execution_count": 27,
     "metadata": {},
     "output_type": "execute_result"
    }
   ],
   "source": [
    "np.mean(predicted == test_labels)"
   ]
  },
  {
   "cell_type": "code",
   "execution_count": 28,
   "metadata": {},
   "outputs": [
    {
     "data": {
      "text/plain": [
       "array([[34,  6],\n",
       "       [ 9, 28]])"
      ]
     },
     "execution_count": 28,
     "metadata": {},
     "output_type": "execute_result"
    }
   ],
   "source": [
    "metrics.confusion_matrix(test_labels, predicted)"
   ]
  },
  {
   "cell_type": "code",
   "execution_count": 30,
   "metadata": {},
   "outputs": [
    {
     "data": {
      "text/plain": [
       "2168"
      ]
     },
     "execution_count": 30,
     "metadata": {},
     "output_type": "execute_result"
    }
   ],
   "source": [
    "len(rel_classifier['vect'].vocabulary_)"
   ]
  },
  {
   "cell_type": "markdown",
   "metadata": {},
   "source": [
    "## Grid Parameter Search"
   ]
  },
  {
   "cell_type": "code",
   "execution_count": 57,
   "metadata": {},
   "outputs": [],
   "source": [
    "parameters = {\n",
    "    'vect__min_df': [2, 5, 7, 10],\n",
    "    'vect__max_df': [0.3, 0.4, 0.5],\n",
    "    'vect__ngram_range': [(1, 1), (1, 2), (1, 3)],\n",
    "    'tfidf__use_idf': (True, False),\n",
    "    'clf__alpha': [0.3, 0.4, 0.5, 0.75]\n",
    "}"
   ]
  },
  {
   "cell_type": "code",
   "execution_count": 58,
   "metadata": {},
   "outputs": [
    {
     "data": {
      "text/plain": [
       "GridSearchCV(cv=5, error_score=nan,\n",
       "             estimator=Pipeline(memory=None,\n",
       "                                steps=[('vect',\n",
       "                                        CountVectorizer(analyzer='word',\n",
       "                                                        binary=False,\n",
       "                                                        decode_error='strict',\n",
       "                                                        dtype=<class 'numpy.int64'>,\n",
       "                                                        encoding='utf-8',\n",
       "                                                        input='content',\n",
       "                                                        lowercase=True,\n",
       "                                                        max_df=0.4,\n",
       "                                                        max_features=None,\n",
       "                                                        min_df=9,\n",
       "                                                        ngram_range=(1, 1),\n",
       "                                                        preprocessor=None,\n",
       "                                                        stop_words=['i', 'me',\n",
       "                                                                    'my',\n",
       "                                                                    'myself',\n",
       "                                                                    'we', 'our',\n",
       "                                                                    'ours',\n",
       "                                                                    '...\n",
       "                                        MultinomialNB(alpha=1.0,\n",
       "                                                      class_prior=None,\n",
       "                                                      fit_prior=True))],\n",
       "                                verbose=False),\n",
       "             iid='deprecated', n_jobs=-1,\n",
       "             param_grid={'clf__alpha': [0.3, 0.4, 0.5, 0.75],\n",
       "                         'tfidf__use_idf': (True, False),\n",
       "                         'vect__max_df': [0.3, 0.4, 0.5],\n",
       "                         'vect__min_df': [2, 5, 7, 10],\n",
       "                         'vect__ngram_range': [(1, 1), (1, 2), (1, 3)]},\n",
       "             pre_dispatch='2*n_jobs', refit=True, return_train_score=False,\n",
       "             scoring=None, verbose=0)"
      ]
     },
     "execution_count": 58,
     "metadata": {},
     "output_type": "execute_result"
    }
   ],
   "source": [
    "gs_clf = GridSearchCV(rel_classifier, parameters, cv=5, n_jobs=-1)\n",
    "gs_clf.fit(training_features, training_labels)"
   ]
  },
  {
   "cell_type": "code",
   "execution_count": 59,
   "metadata": {},
   "outputs": [
    {
     "data": {
      "text/plain": [
       "0.8830303030303032"
      ]
     },
     "execution_count": 59,
     "metadata": {},
     "output_type": "execute_result"
    }
   ],
   "source": [
    "gs_clf.best_score_"
   ]
  },
  {
   "cell_type": "code",
   "execution_count": 60,
   "metadata": {},
   "outputs": [
    {
     "name": "stdout",
     "output_type": "stream",
     "text": [
      "clf__alpha: 0.3\n",
      "tfidf__use_idf: True\n",
      "vect__max_df: 0.4\n",
      "vect__min_df: 5\n",
      "vect__ngram_range: (1, 1)\n"
     ]
    }
   ],
   "source": [
    "for param_name in sorted(parameters.keys()):\n",
    "    print(\"%s: %r\" % (param_name, gs_clf.best_params_[param_name]))"
   ]
  },
  {
   "cell_type": "markdown",
   "metadata": {},
   "source": [
    "Allowing lower smoothing values helps with training performance, but not test."
   ]
  },
  {
   "cell_type": "code",
   "execution_count": 61,
   "metadata": {},
   "outputs": [],
   "source": [
    "predicted = gs_clf.best_estimator_.predict(test_features)"
   ]
  },
  {
   "cell_type": "code",
   "execution_count": 62,
   "metadata": {},
   "outputs": [
    {
     "data": {
      "text/plain": [
       "0.8441558441558441"
      ]
     },
     "execution_count": 62,
     "metadata": {},
     "output_type": "execute_result"
    }
   ],
   "source": [
    "np.mean(predicted == test_labels)"
   ]
  },
  {
   "cell_type": "code",
   "execution_count": 63,
   "metadata": {},
   "outputs": [
    {
     "data": {
      "text/plain": [
       "array([[34,  6],\n",
       "       [ 6, 31]])"
      ]
     },
     "execution_count": 63,
     "metadata": {},
     "output_type": "execute_result"
    }
   ],
   "source": [
    "confusion_matrix = metrics.confusion_matrix(test_labels, predicted)\n",
    "confusion_matrix"
   ]
  },
  {
   "cell_type": "code",
   "execution_count": 64,
   "metadata": {},
   "outputs": [
    {
     "name": "stdout",
     "output_type": "stream",
     "text": [
      "recall: 0.8378378378378378\n",
      "precision: 0.8378378378378378\n"
     ]
    }
   ],
   "source": [
    "tp = confusion_matrix[1][1]\n",
    "fn = confusion_matrix[1][0]\n",
    "fp = confusion_matrix[0][1]\n",
    "tn = confusion_matrix[0][0]\n",
    "recall = tp/(tp+fn)\n",
    "precision = tp/(tp+fp)\n",
    "print(f'recall: {recall}')\n",
    "print(f'precision: {precision}')"
   ]
  },
  {
   "cell_type": "markdown",
   "metadata": {},
   "source": [
    "### Evaluation"
   ]
  },
  {
   "cell_type": "markdown",
   "metadata": {},
   "source": [
    "Look at the false positives for overall accuracy model:"
   ]
  },
  {
   "cell_type": "code",
   "execution_count": 65,
   "metadata": {},
   "outputs": [],
   "source": [
    "test_df['Predicted'] = predicted"
   ]
  },
  {
   "cell_type": "code",
   "execution_count": 66,
   "metadata": {},
   "outputs": [],
   "source": [
    "false_negatives = test_df.loc[(test_df['Religion-Science'] == True)&(test_df['Predicted'] == False)]"
   ]
  },
  {
   "cell_type": "code",
   "execution_count": 67,
   "metadata": {},
   "outputs": [
    {
     "data": {
      "text/html": [
       "<div>\n",
       "<style scoped>\n",
       "    .dataframe tbody tr th:only-of-type {\n",
       "        vertical-align: middle;\n",
       "    }\n",
       "\n",
       "    .dataframe tbody tr th {\n",
       "        vertical-align: top;\n",
       "    }\n",
       "\n",
       "    .dataframe thead th {\n",
       "        text-align: right;\n",
       "    }\n",
       "</style>\n",
       "<table border=\"1\" class=\"dataframe\">\n",
       "  <thead>\n",
       "    <tr style=\"text-align: right;\">\n",
       "      <th></th>\n",
       "      <th>NZ</th>\n",
       "      <th>Notes</th>\n",
       "      <th>Philosophy</th>\n",
       "      <th>Philosophy Type</th>\n",
       "      <th>Readable</th>\n",
       "      <th>Text</th>\n",
       "      <th>Writing Type</th>\n",
       "      <th>Text as String</th>\n",
       "      <th>Religion-Science</th>\n",
       "      <th>Predicted</th>\n",
       "    </tr>\n",
       "  </thead>\n",
       "  <tbody>\n",
       "    <tr>\n",
       "      <th>LT_18941123_ARTICLE22</th>\n",
       "      <td>None</td>\n",
       "      <td>Theosophy</td>\n",
       "      <td>True</td>\n",
       "      <td>r</td>\n",
       "      <td>True</td>\n",
       "      <td>[THE COMIN6 RACE., revealing to the world one ...</td>\n",
       "      <td>f</td>\n",
       "      <td>THE COMIN6 RACE.\\nrevealing to the world one o...</td>\n",
       "      <td>True</td>\n",
       "      <td>False</td>\n",
       "    </tr>\n",
       "    <tr>\n",
       "      <th>OW_18920519_ARTICLE16</th>\n",
       "      <td>True</td>\n",
       "      <td>First letter only (change mid-block)</td>\n",
       "      <td>True</td>\n",
       "      <td>r</td>\n",
       "      <td>True</td>\n",
       "      <td>[TO THE EDITOR. I S IR -Such is the title of t...</td>\n",
       "      <td>l</td>\n",
       "      <td>TO THE EDITOR. I S IR -Such is the title of th...</td>\n",
       "      <td>True</td>\n",
       "      <td>False</td>\n",
       "    </tr>\n",
       "    <tr>\n",
       "      <th>CHP_18750208_ARTICLE22</th>\n",
       "      <td>False</td>\n",
       "      <td>Final paragraph contains short arg that natura...</td>\n",
       "      <td>True</td>\n",
       "      <td>r</td>\n",
       "      <td>True</td>\n",
       "      <td>[From a review in the Spectator of \" The Fores...</td>\n",
       "      <td>f</td>\n",
       "      <td>From a review in the Spectator of \" The Forest...</td>\n",
       "      <td>True</td>\n",
       "      <td>False</td>\n",
       "    </tr>\n",
       "    <tr>\n",
       "      <th>AS_18940205_ARTICLE14</th>\n",
       "      <td>True</td>\n",
       "      <td></td>\n",
       "      <td>True</td>\n",
       "      <td>r</td>\n",
       "      <td>True</td>\n",
       "      <td>[For tlio cause that lacks ajsistanos, For tha...</td>\n",
       "      <td>f</td>\n",
       "      <td>For tlio cause that lacks ajsistanos, For tha ...</td>\n",
       "      <td>True</td>\n",
       "      <td>False</td>\n",
       "    </tr>\n",
       "    <tr>\n",
       "      <th>NEM_18841119_ARTICLE13</th>\n",
       "      <td>None</td>\n",
       "      <td>theodicy</td>\n",
       "      <td>True</td>\n",
       "      <td>r</td>\n",
       "      <td>True</td>\n",
       "      <td>[: .-•;-. '■■--■?! ■ -'' ( Cotnmvwiiiciated.) ...</td>\n",
       "      <td>p</td>\n",
       "      <td>: .-•;-. '■■--■?! ■ -'' ( Cotnmvwiiiciated.) \"...</td>\n",
       "      <td>True</td>\n",
       "      <td>False</td>\n",
       "    </tr>\n",
       "    <tr>\n",
       "      <th>NZTIM_18871118_ARTICLE4</th>\n",
       "      <td>False</td>\n",
       "      <td></td>\n",
       "      <td>True</td>\n",
       "      <td>r</td>\n",
       "      <td>True</td>\n",
       "      <td>[Atlantic Monthly. It has been deplored of lat...</td>\n",
       "      <td>f</td>\n",
       "      <td>Atlantic Monthly. It has been deplored of late...</td>\n",
       "      <td>True</td>\n",
       "      <td>False</td>\n",
       "    </tr>\n",
       "  </tbody>\n",
       "</table>\n",
       "</div>"
      ],
      "text/plain": [
       "                            NZ  \\\n",
       "LT_18941123_ARTICLE22     None   \n",
       "OW_18920519_ARTICLE16     True   \n",
       "CHP_18750208_ARTICLE22   False   \n",
       "AS_18940205_ARTICLE14     True   \n",
       "NEM_18841119_ARTICLE13    None   \n",
       "NZTIM_18871118_ARTICLE4  False   \n",
       "\n",
       "                                                                     Notes  \\\n",
       "LT_18941123_ARTICLE22                                            Theosophy   \n",
       "OW_18920519_ARTICLE16                 First letter only (change mid-block)   \n",
       "CHP_18750208_ARTICLE22   Final paragraph contains short arg that natura...   \n",
       "AS_18940205_ARTICLE14                                                        \n",
       "NEM_18841119_ARTICLE13                                            theodicy   \n",
       "NZTIM_18871118_ARTICLE4                                                      \n",
       "\n",
       "                        Philosophy Philosophy Type Readable  \\\n",
       "LT_18941123_ARTICLE22         True               r     True   \n",
       "OW_18920519_ARTICLE16         True               r     True   \n",
       "CHP_18750208_ARTICLE22        True               r     True   \n",
       "AS_18940205_ARTICLE14         True               r     True   \n",
       "NEM_18841119_ARTICLE13        True               r     True   \n",
       "NZTIM_18871118_ARTICLE4       True               r     True   \n",
       "\n",
       "                                                                      Text  \\\n",
       "LT_18941123_ARTICLE22    [THE COMIN6 RACE., revealing to the world one ...   \n",
       "OW_18920519_ARTICLE16    [TO THE EDITOR. I S IR -Such is the title of t...   \n",
       "CHP_18750208_ARTICLE22   [From a review in the Spectator of \" The Fores...   \n",
       "AS_18940205_ARTICLE14    [For tlio cause that lacks ajsistanos, For tha...   \n",
       "NEM_18841119_ARTICLE13   [: .-•;-. '■■--■?! ■ -'' ( Cotnmvwiiiciated.) ...   \n",
       "NZTIM_18871118_ARTICLE4  [Atlantic Monthly. It has been deplored of lat...   \n",
       "\n",
       "                        Writing Type  \\\n",
       "LT_18941123_ARTICLE22              f   \n",
       "OW_18920519_ARTICLE16              l   \n",
       "CHP_18750208_ARTICLE22             f   \n",
       "AS_18940205_ARTICLE14              f   \n",
       "NEM_18841119_ARTICLE13             p   \n",
       "NZTIM_18871118_ARTICLE4            f   \n",
       "\n",
       "                                                            Text as String  \\\n",
       "LT_18941123_ARTICLE22    THE COMIN6 RACE.\\nrevealing to the world one o...   \n",
       "OW_18920519_ARTICLE16    TO THE EDITOR. I S IR -Such is the title of th...   \n",
       "CHP_18750208_ARTICLE22   From a review in the Spectator of \" The Forest...   \n",
       "AS_18940205_ARTICLE14    For tlio cause that lacks ajsistanos, For tha ...   \n",
       "NEM_18841119_ARTICLE13   : .-•;-. '■■--■?! ■ -'' ( Cotnmvwiiiciated.) \"...   \n",
       "NZTIM_18871118_ARTICLE4  Atlantic Monthly. It has been deplored of late...   \n",
       "\n",
       "                         Religion-Science  Predicted  \n",
       "LT_18941123_ARTICLE22                True      False  \n",
       "OW_18920519_ARTICLE16                True      False  \n",
       "CHP_18750208_ARTICLE22               True      False  \n",
       "AS_18940205_ARTICLE14                True      False  \n",
       "NEM_18841119_ARTICLE13               True      False  \n",
       "NZTIM_18871118_ARTICLE4              True      False  "
      ]
     },
     "execution_count": 67,
     "metadata": {},
     "output_type": "execute_result"
    }
   ],
   "source": [
    "false_negatives"
   ]
  },
  {
   "cell_type": "code",
   "execution_count": 68,
   "metadata": {
    "scrolled": false
   },
   "outputs": [
    {
     "data": {
      "application/vnd.jupyter.widget-view+json": {
       "model_id": "244c3f1615da42cdacb7ddba137f5cfb",
       "version_major": 2,
       "version_minor": 0
      },
      "text/plain": [
       "interactive(children=(Dropdown(description='index', options=('LT_18941123_ARTICLE22', 'OW_18920519_ARTICLE16',…"
      ]
     },
     "metadata": {},
     "output_type": "display_data"
    },
    {
     "data": {
      "text/plain": [
       "<function __main__.print_article_text(index, dataframe)>"
      ]
     },
     "execution_count": 68,
     "metadata": {},
     "output_type": "execute_result"
    }
   ],
   "source": [
    "def print_article_text(index, dataframe):\n",
    "    print (f\"{index}\\n{dataframe.loc[index]['Text']}\")\n",
    "indices = false_negatives.index\n",
    "interact(print_article_text, index=indices, dataframe=fixed(false_negatives))"
   ]
  },
  {
   "cell_type": "code",
   "execution_count": 69,
   "metadata": {},
   "outputs": [],
   "source": [
    "false_positives = test_df.loc[(test_df['Religion-Science'] == False)&(test_df['Predicted'] == True)]"
   ]
  },
  {
   "cell_type": "code",
   "execution_count": 70,
   "metadata": {},
   "outputs": [
    {
     "data": {
      "text/html": [
       "<div>\n",
       "<style scoped>\n",
       "    .dataframe tbody tr th:only-of-type {\n",
       "        vertical-align: middle;\n",
       "    }\n",
       "\n",
       "    .dataframe tbody tr th {\n",
       "        vertical-align: top;\n",
       "    }\n",
       "\n",
       "    .dataframe thead th {\n",
       "        text-align: right;\n",
       "    }\n",
       "</style>\n",
       "<table border=\"1\" class=\"dataframe\">\n",
       "  <thead>\n",
       "    <tr style=\"text-align: right;\">\n",
       "      <th></th>\n",
       "      <th>NZ</th>\n",
       "      <th>Notes</th>\n",
       "      <th>Philosophy</th>\n",
       "      <th>Philosophy Type</th>\n",
       "      <th>Readable</th>\n",
       "      <th>Text</th>\n",
       "      <th>Writing Type</th>\n",
       "      <th>Text as String</th>\n",
       "      <th>Religion-Science</th>\n",
       "      <th>Predicted</th>\n",
       "    </tr>\n",
       "  </thead>\n",
       "  <tbody>\n",
       "    <tr>\n",
       "      <th>AS_18991106_ARTICLE6</th>\n",
       "      <td>None</td>\n",
       "      <td></td>\n",
       "      <td>True</td>\n",
       "      <td>m</td>\n",
       "      <td>True</td>\n",
       "      <td>[Mr F. Davidson lectured last night in the Mut...</td>\n",
       "      <td>p</td>\n",
       "      <td>Mr F. Davidson lectured last night in the Mutu...</td>\n",
       "      <td>False</td>\n",
       "      <td>True</td>\n",
       "    </tr>\n",
       "    <tr>\n",
       "      <th>ESD_18891202_ARTICLE24</th>\n",
       "      <td>False</td>\n",
       "      <td></td>\n",
       "      <td>True</td>\n",
       "      <td>m</td>\n",
       "      <td>True</td>\n",
       "      <td>[. « The Bishop of Carlisle, who preached befo...</td>\n",
       "      <td>f</td>\n",
       "      <td>. « The Bishop of Carlisle, who preached befor...</td>\n",
       "      <td>False</td>\n",
       "      <td>True</td>\n",
       "    </tr>\n",
       "    <tr>\n",
       "      <th>ESD_18831020_ARTICLE32</th>\n",
       "      <td>False</td>\n",
       "      <td>A bit of anti-philosophy argument at the end</td>\n",
       "      <td>True</td>\n",
       "      <td>o</td>\n",
       "      <td>True</td>\n",
       "      <td>[At the request of a number of our readers we ...</td>\n",
       "      <td>r</td>\n",
       "      <td>At the request of a number of our readers we g...</td>\n",
       "      <td>False</td>\n",
       "      <td>True</td>\n",
       "    </tr>\n",
       "    <tr>\n",
       "      <th>WC_18750112_ARTICLE2</th>\n",
       "      <td>None</td>\n",
       "      <td></td>\n",
       "      <td>True</td>\n",
       "      <td>m</td>\n",
       "      <td>True</td>\n",
       "      <td>[To some it may appear nothing short of an imp...</td>\n",
       "      <td>f</td>\n",
       "      <td>To some it may appear nothing short of an impe...</td>\n",
       "      <td>False</td>\n",
       "      <td>True</td>\n",
       "    </tr>\n",
       "    <tr>\n",
       "      <th>WCT_18731110_ARTICLE11</th>\n",
       "      <td>None</td>\n",
       "      <td></td>\n",
       "      <td>True</td>\n",
       "      <td>o</td>\n",
       "      <td>True</td>\n",
       "      <td>[alh^ollowing lecture was delivered on Friday ...</td>\n",
       "      <td>p</td>\n",
       "      <td>alh^ollowing lecture was delivered on Friday n...</td>\n",
       "      <td>False</td>\n",
       "      <td>True</td>\n",
       "    </tr>\n",
       "    <tr>\n",
       "      <th>LT_18990211_ARTICLE29</th>\n",
       "      <td>None</td>\n",
       "      <td></td>\n",
       "      <td>True</td>\n",
       "      <td>o</td>\n",
       "      <td>True</td>\n",
       "      <td>[Lv his “ Romance of the Earth ” Professor Bic...</td>\n",
       "      <td>r</td>\n",
       "      <td>Lv his “ Romance of the Earth ” Professor Bick...</td>\n",
       "      <td>False</td>\n",
       "      <td>True</td>\n",
       "    </tr>\n",
       "  </tbody>\n",
       "</table>\n",
       "</div>"
      ],
      "text/plain": [
       "                           NZ                                         Notes  \\\n",
       "AS_18991106_ARTICLE6     None                                                 \n",
       "ESD_18891202_ARTICLE24  False                                                 \n",
       "ESD_18831020_ARTICLE32  False  A bit of anti-philosophy argument at the end   \n",
       "WC_18750112_ARTICLE2     None                                                 \n",
       "WCT_18731110_ARTICLE11   None                                                 \n",
       "LT_18990211_ARTICLE29    None                                                 \n",
       "\n",
       "                       Philosophy Philosophy Type Readable  \\\n",
       "AS_18991106_ARTICLE6         True               m     True   \n",
       "ESD_18891202_ARTICLE24       True               m     True   \n",
       "ESD_18831020_ARTICLE32       True               o     True   \n",
       "WC_18750112_ARTICLE2         True               m     True   \n",
       "WCT_18731110_ARTICLE11       True               o     True   \n",
       "LT_18990211_ARTICLE29        True               o     True   \n",
       "\n",
       "                                                                     Text  \\\n",
       "AS_18991106_ARTICLE6    [Mr F. Davidson lectured last night in the Mut...   \n",
       "ESD_18891202_ARTICLE24  [. « The Bishop of Carlisle, who preached befo...   \n",
       "ESD_18831020_ARTICLE32  [At the request of a number of our readers we ...   \n",
       "WC_18750112_ARTICLE2    [To some it may appear nothing short of an imp...   \n",
       "WCT_18731110_ARTICLE11  [alh^ollowing lecture was delivered on Friday ...   \n",
       "LT_18990211_ARTICLE29   [Lv his “ Romance of the Earth ” Professor Bic...   \n",
       "\n",
       "                       Writing Type  \\\n",
       "AS_18991106_ARTICLE6              p   \n",
       "ESD_18891202_ARTICLE24            f   \n",
       "ESD_18831020_ARTICLE32            r   \n",
       "WC_18750112_ARTICLE2              f   \n",
       "WCT_18731110_ARTICLE11            p   \n",
       "LT_18990211_ARTICLE29             r   \n",
       "\n",
       "                                                           Text as String  \\\n",
       "AS_18991106_ARTICLE6    Mr F. Davidson lectured last night in the Mutu...   \n",
       "ESD_18891202_ARTICLE24  . « The Bishop of Carlisle, who preached befor...   \n",
       "ESD_18831020_ARTICLE32  At the request of a number of our readers we g...   \n",
       "WC_18750112_ARTICLE2    To some it may appear nothing short of an impe...   \n",
       "WCT_18731110_ARTICLE11  alh^ollowing lecture was delivered on Friday n...   \n",
       "LT_18990211_ARTICLE29   Lv his “ Romance of the Earth ” Professor Bick...   \n",
       "\n",
       "                        Religion-Science  Predicted  \n",
       "AS_18991106_ARTICLE6               False       True  \n",
       "ESD_18891202_ARTICLE24             False       True  \n",
       "ESD_18831020_ARTICLE32             False       True  \n",
       "WC_18750112_ARTICLE2               False       True  \n",
       "WCT_18731110_ARTICLE11             False       True  \n",
       "LT_18990211_ARTICLE29              False       True  "
      ]
     },
     "execution_count": 70,
     "metadata": {},
     "output_type": "execute_result"
    }
   ],
   "source": [
    "false_positives"
   ]
  },
  {
   "cell_type": "code",
   "execution_count": 71,
   "metadata": {
    "scrolled": true
   },
   "outputs": [
    {
     "data": {
      "application/vnd.jupyter.widget-view+json": {
       "model_id": "5d21294121744225b5895ff65c4db766",
       "version_major": 2,
       "version_minor": 0
      },
      "text/plain": [
       "interactive(children=(Dropdown(description='index', options=('AS_18991106_ARTICLE6', 'ESD_18891202_ARTICLE24',…"
      ]
     },
     "metadata": {},
     "output_type": "display_data"
    },
    {
     "data": {
      "text/plain": [
       "<function __main__.print_article_text(index, dataframe)>"
      ]
     },
     "execution_count": 71,
     "metadata": {},
     "output_type": "execute_result"
    }
   ],
   "source": [
    "indices = false_positives.index\n",
    "interact(print_article_text, index=indices, dataframe=fixed(false_positives))"
   ]
  },
  {
   "cell_type": "markdown",
   "metadata": {},
   "source": [
    "Well, we're at least distinguishing it from 'e'. In future work, most of 'm' would be rolled in to 'r' anyway."
   ]
  },
  {
   "cell_type": "code",
   "execution_count": 72,
   "metadata": {},
   "outputs": [],
   "source": [
    "with open('classifiers/religion-science_v2.pickle', 'wb') as fout:\n",
    "    pickle.dump(gs_clf.best_estimator_, fout)"
   ]
  },
  {
   "cell_type": "markdown",
   "metadata": {},
   "source": [
    "## Apply Model with Best Params to nb2 v2 subset."
   ]
  },
  {
   "cell_type": "code",
   "execution_count": 99,
   "metadata": {},
   "outputs": [],
   "source": [
    "# If necessary reload model:\n",
    "with open('classifiers/religion-science.pickle', 'rb') as fin:\n",
    "  rel_classifier = pickle.load(fin)"
   ]
  },
  {
   "cell_type": "code",
   "execution_count": 74,
   "metadata": {},
   "outputs": [],
   "source": [
    "nb2_corpus = pd.read_pickle('pickles/nb2_philoso_df_v2.tar.gz')"
   ]
  },
  {
   "cell_type": "code",
   "execution_count": 75,
   "metadata": {},
   "outputs": [],
   "source": [
    "nb2_corpus['Newspaper'] = nb2_corpus.index.map(lambda x: x[0:x.find('_')])\n",
    "nb2_corpus['Date'] = nb2_corpus.index.map(lambda x: x[x.find('_')+1:x.find('_')+9])"
   ]
  },
  {
   "cell_type": "code",
   "execution_count": 76,
   "metadata": {},
   "outputs": [],
   "source": [
    "nb2_corpus['Text as String'] = nb2_corpus['Text'].map(NL_helpers.blocks2string)\n",
    "features = nb2_corpus['Text as String'].astype('string').to_numpy()"
   ]
  },
  {
   "cell_type": "code",
   "execution_count": 77,
   "metadata": {},
   "outputs": [],
   "source": [
    "predictions = gs_clf.best_estimator_.predict(features)"
   ]
  },
  {
   "cell_type": "code",
   "execution_count": 78,
   "metadata": {},
   "outputs": [
    {
     "data": {
      "text/plain": [
       "31131"
      ]
     },
     "execution_count": 78,
     "metadata": {},
     "output_type": "execute_result"
    }
   ],
   "source": [
    "len(predictions)"
   ]
  },
  {
   "cell_type": "code",
   "execution_count": 79,
   "metadata": {},
   "outputs": [
    {
     "data": {
      "text/plain": [
       "31131"
      ]
     },
     "execution_count": 79,
     "metadata": {},
     "output_type": "execute_result"
    }
   ],
   "source": [
    "len(features)"
   ]
  },
  {
   "cell_type": "code",
   "execution_count": 80,
   "metadata": {},
   "outputs": [],
   "source": [
    "nb2_corpus['Religion (pred)'] = predictions"
   ]
  },
  {
   "cell_type": "code",
   "execution_count": 81,
   "metadata": {},
   "outputs": [],
   "source": [
    "rel_from_nb2 = nb2_corpus[nb2_corpus['Religion (pred)']==True]"
   ]
  },
  {
   "cell_type": "code",
   "execution_count": 82,
   "metadata": {},
   "outputs": [
    {
     "data": {
      "text/html": [
       "<div>\n",
       "<style scoped>\n",
       "    .dataframe tbody tr th:only-of-type {\n",
       "        vertical-align: middle;\n",
       "    }\n",
       "\n",
       "    .dataframe tbody tr th {\n",
       "        vertical-align: top;\n",
       "    }\n",
       "\n",
       "    .dataframe thead th {\n",
       "        text-align: right;\n",
       "    }\n",
       "</style>\n",
       "<table border=\"1\" class=\"dataframe\">\n",
       "  <thead>\n",
       "    <tr style=\"text-align: right;\">\n",
       "      <th></th>\n",
       "      <th>Title</th>\n",
       "      <th>Text</th>\n",
       "      <th>Newspaper</th>\n",
       "      <th>Date</th>\n",
       "      <th>Text as String</th>\n",
       "      <th>Religion (pred)</th>\n",
       "    </tr>\n",
       "  </thead>\n",
       "  <tbody>\n",
       "    <tr>\n",
       "      <th>LT_18940109_ARTICLE7</th>\n",
       "      <td>THE TASK OF THE BIOLOGIST.</td>\n",
       "      <td>[No. 11. When chemistry had finished _ shaping...</td>\n",
       "      <td>LT</td>\n",
       "      <td>18940109</td>\n",
       "      <td>No. 11. When chemistry had finished _ shaping;...</td>\n",
       "      <td>True</td>\n",
       "    </tr>\n",
       "    <tr>\n",
       "      <th>LT_18940115_ARTICLE5</th>\n",
       "      <td>THE THEORY OF EVOLUTION.</td>\n",
       "      <td>[SIGNIFICANT RUDIMENTS. [BY W.G.P.] No. lII.' ...</td>\n",
       "      <td>LT</td>\n",
       "      <td>18940115</td>\n",
       "      <td>SIGNIFICANT RUDIMENTS. [BY W.G.P.] No. lII.' '...</td>\n",
       "      <td>True</td>\n",
       "    </tr>\n",
       "    <tr>\n",
       "      <th>LT_18940129_ARTICLE48</th>\n",
       "      <td>THE THEORY OF EVOLUTION.</td>\n",
       "      <td>[A CHANGED WORLD. [BY W.G.P.] No. V. The bitte...</td>\n",
       "      <td>LT</td>\n",
       "      <td>18940129</td>\n",
       "      <td>A CHANGED WORLD. [BY W.G.P.] No. V. The bitter...</td>\n",
       "      <td>True</td>\n",
       "    </tr>\n",
       "    <tr>\n",
       "      <th>LT_18940219_ARTICLE18</th>\n",
       "      <td>HERESY.</td>\n",
       "      <td>[TO THE EDITOR. Sir,— The action of the Presby...</td>\n",
       "      <td>LT</td>\n",
       "      <td>18940219</td>\n",
       "      <td>TO THE EDITOR. Sir,— The action of the Presbyt...</td>\n",
       "      <td>True</td>\n",
       "    </tr>\n",
       "    <tr>\n",
       "      <th>LT_18940219_ARTICLE24</th>\n",
       "      <td>REV JAMES GIBB ON CHRISTIAN DUTY.</td>\n",
       "      <td>[At St Andrew’s Presbyterian Church, yesterday...</td>\n",
       "      <td>LT</td>\n",
       "      <td>18940219</td>\n",
       "      <td>At St Andrew’s Presbyterian Church, yesterday ...</td>\n",
       "      <td>True</td>\n",
       "    </tr>\n",
       "    <tr>\n",
       "      <th>...</th>\n",
       "      <td>...</td>\n",
       "      <td>...</td>\n",
       "      <td>...</td>\n",
       "      <td>...</td>\n",
       "      <td>...</td>\n",
       "      <td>...</td>\n",
       "    </tr>\n",
       "    <tr>\n",
       "      <th>ODT_18771031_ARTICLE30</th>\n",
       "      <td>THE INDIAN FAMINE.</td>\n",
       "      <td>[TO THE TJDITOR. Sir—l think I have_ fair caus...</td>\n",
       "      <td>ODT</td>\n",
       "      <td>18771031</td>\n",
       "      <td>TO THE TJDITOR. Sir—l think I have_ fair cause...</td>\n",
       "      <td>True</td>\n",
       "    </tr>\n",
       "    <tr>\n",
       "      <th>ODT_18771107_ARTICLE32</th>\n",
       "      <td>POPULAR CULTURE.</td>\n",
       "      <td>[The. discourse of Mi* J^hn M &gt;r!ev on \" I'opu...</td>\n",
       "      <td>ODT</td>\n",
       "      <td>18771107</td>\n",
       "      <td>The. discourse of Mi* J^hn M &gt;r!ev on \" I'opul...</td>\n",
       "      <td>True</td>\n",
       "    </tr>\n",
       "    <tr>\n",
       "      <th>ODT_18790115_ARTICLE20</th>\n",
       "      <td>MR BRIGHT AND THE ELDERS. TO THE EDITOR.</td>\n",
       "      <td>[Sib,—However objectionable Mr Bright's title ...</td>\n",
       "      <td>ODT</td>\n",
       "      <td>18790115</td>\n",
       "      <td>Sib,—However objectionable Mr Bright's title m...</td>\n",
       "      <td>True</td>\n",
       "    </tr>\n",
       "    <tr>\n",
       "      <th>ODT_18790118_ARTICLE23</th>\n",
       "      <td>UNTITLED</td>\n",
       "      <td>[Sir,—Before the public can fairly under stand...</td>\n",
       "      <td>ODT</td>\n",
       "      <td>18790118</td>\n",
       "      <td>Sir,—Before the public can fairly under stand ...</td>\n",
       "      <td>True</td>\n",
       "    </tr>\n",
       "    <tr>\n",
       "      <th>ODT_18790121_ARTICLE17</th>\n",
       "      <td>THE BIBLE SCHOOLS. TO THE EDITOR.</td>\n",
       "      <td>[Sia,—lt may not be out of place, in the prese...</td>\n",
       "      <td>ODT</td>\n",
       "      <td>18790121</td>\n",
       "      <td>Sia,—lt may not be out of place, in the presen...</td>\n",
       "      <td>True</td>\n",
       "    </tr>\n",
       "  </tbody>\n",
       "</table>\n",
       "<p>10013 rows × 6 columns</p>\n",
       "</div>"
      ],
      "text/plain": [
       "                                                           Title  \\\n",
       "LT_18940109_ARTICLE7                  THE TASK OF THE BIOLOGIST.   \n",
       "LT_18940115_ARTICLE5                    THE THEORY OF EVOLUTION.   \n",
       "LT_18940129_ARTICLE48                   THE THEORY OF EVOLUTION.   \n",
       "LT_18940219_ARTICLE18                                    HERESY.   \n",
       "LT_18940219_ARTICLE24          REV JAMES GIBB ON CHRISTIAN DUTY.   \n",
       "...                                                          ...   \n",
       "ODT_18771031_ARTICLE30                        THE INDIAN FAMINE.   \n",
       "ODT_18771107_ARTICLE32                          POPULAR CULTURE.   \n",
       "ODT_18790115_ARTICLE20  MR BRIGHT AND THE ELDERS. TO THE EDITOR.   \n",
       "ODT_18790118_ARTICLE23                                  UNTITLED   \n",
       "ODT_18790121_ARTICLE17         THE BIBLE SCHOOLS. TO THE EDITOR.   \n",
       "\n",
       "                                                                     Text  \\\n",
       "LT_18940109_ARTICLE7    [No. 11. When chemistry had finished _ shaping...   \n",
       "LT_18940115_ARTICLE5    [SIGNIFICANT RUDIMENTS. [BY W.G.P.] No. lII.' ...   \n",
       "LT_18940129_ARTICLE48   [A CHANGED WORLD. [BY W.G.P.] No. V. The bitte...   \n",
       "LT_18940219_ARTICLE18   [TO THE EDITOR. Sir,— The action of the Presby...   \n",
       "LT_18940219_ARTICLE24   [At St Andrew’s Presbyterian Church, yesterday...   \n",
       "...                                                                   ...   \n",
       "ODT_18771031_ARTICLE30  [TO THE TJDITOR. Sir—l think I have_ fair caus...   \n",
       "ODT_18771107_ARTICLE32  [The. discourse of Mi* J^hn M >r!ev on \" I'opu...   \n",
       "ODT_18790115_ARTICLE20  [Sib,—However objectionable Mr Bright's title ...   \n",
       "ODT_18790118_ARTICLE23  [Sir,—Before the public can fairly under stand...   \n",
       "ODT_18790121_ARTICLE17  [Sia,—lt may not be out of place, in the prese...   \n",
       "\n",
       "                       Newspaper      Date  \\\n",
       "LT_18940109_ARTICLE7          LT  18940109   \n",
       "LT_18940115_ARTICLE5          LT  18940115   \n",
       "LT_18940129_ARTICLE48         LT  18940129   \n",
       "LT_18940219_ARTICLE18         LT  18940219   \n",
       "LT_18940219_ARTICLE24         LT  18940219   \n",
       "...                          ...       ...   \n",
       "ODT_18771031_ARTICLE30       ODT  18771031   \n",
       "ODT_18771107_ARTICLE32       ODT  18771107   \n",
       "ODT_18790115_ARTICLE20       ODT  18790115   \n",
       "ODT_18790118_ARTICLE23       ODT  18790118   \n",
       "ODT_18790121_ARTICLE17       ODT  18790121   \n",
       "\n",
       "                                                           Text as String  \\\n",
       "LT_18940109_ARTICLE7    No. 11. When chemistry had finished _ shaping;...   \n",
       "LT_18940115_ARTICLE5    SIGNIFICANT RUDIMENTS. [BY W.G.P.] No. lII.' '...   \n",
       "LT_18940129_ARTICLE48   A CHANGED WORLD. [BY W.G.P.] No. V. The bitter...   \n",
       "LT_18940219_ARTICLE18   TO THE EDITOR. Sir,— The action of the Presbyt...   \n",
       "LT_18940219_ARTICLE24   At St Andrew’s Presbyterian Church, yesterday ...   \n",
       "...                                                                   ...   \n",
       "ODT_18771031_ARTICLE30  TO THE TJDITOR. Sir—l think I have_ fair cause...   \n",
       "ODT_18771107_ARTICLE32  The. discourse of Mi* J^hn M >r!ev on \" I'opul...   \n",
       "ODT_18790115_ARTICLE20  Sib,—However objectionable Mr Bright's title m...   \n",
       "ODT_18790118_ARTICLE23  Sir,—Before the public can fairly under stand ...   \n",
       "ODT_18790121_ARTICLE17  Sia,—lt may not be out of place, in the presen...   \n",
       "\n",
       "                        Religion (pred)  \n",
       "LT_18940109_ARTICLE7               True  \n",
       "LT_18940115_ARTICLE5               True  \n",
       "LT_18940129_ARTICLE48              True  \n",
       "LT_18940219_ARTICLE18              True  \n",
       "LT_18940219_ARTICLE24              True  \n",
       "...                                 ...  \n",
       "ODT_18771031_ARTICLE30             True  \n",
       "ODT_18771107_ARTICLE32             True  \n",
       "ODT_18790115_ARTICLE20             True  \n",
       "ODT_18790118_ARTICLE23             True  \n",
       "ODT_18790121_ARTICLE17             True  \n",
       "\n",
       "[10013 rows x 6 columns]"
      ]
     },
     "execution_count": 82,
     "metadata": {},
     "output_type": "execute_result"
    }
   ],
   "source": [
    "rel_from_nb2"
   ]
  },
  {
   "cell_type": "markdown",
   "metadata": {},
   "source": [
    "No need to remove duplicates this time as they have already been removed from nb2 corpus."
   ]
  },
  {
   "cell_type": "code",
   "execution_count": 89,
   "metadata": {},
   "outputs": [
    {
     "data": {
      "text/plain": [
       "<matplotlib.axes._subplots.AxesSubplot at 0x7f041ffb8d90>"
      ]
     },
     "execution_count": 89,
     "metadata": {},
     "output_type": "execute_result"
    },
    {
     "data": {
      "image/png": "[encoded data removed]",
      "text/plain": [
       "<Figure size 432x288 with 1 Axes>"
      ]
     },
     "metadata": {
      "needs_background": "light"
     },
     "output_type": "display_data"
    }
   ],
   "source": [
    "rel_from_nb2.index.map(lambda x: int(x[x.find('_')+1:x.find('_')+5])).to_series().hist()"
   ]
  },
  {
   "cell_type": "code",
   "execution_count": 90,
   "metadata": {},
   "outputs": [
    {
     "data": {
      "text/plain": [
       "<matplotlib.axes._subplots.AxesSubplot at 0x7f0412d7fc10>"
      ]
     },
     "execution_count": 90,
     "metadata": {},
     "output_type": "execute_result"
    },
    {
     "data": {
      "image/png": "[encoded data removed]",
      "text/plain": [
       "<Figure size 432x288 with 1 Axes>"
      ]
     },
     "metadata": {
      "needs_background": "light"
     },
     "output_type": "display_data"
    }
   ],
   "source": [
    "nb2_corpus.index.map(lambda x: int(x[x.find('_')+1:x.find('_')+5])).to_series().hist()"
   ]
  },
  {
   "cell_type": "code",
   "execution_count": 86,
   "metadata": {},
   "outputs": [
    {
     "data": {
      "text/plain": [
       "ODT        1163\n",
       "ESD        1064\n",
       "AS          879\n",
       "OW          869\n",
       "CHP         558\n",
       "LT          467\n",
       "NZTIM       425\n",
       "BH          391\n",
       "TC          344\n",
       "HBH         320\n",
       "NEM         298\n",
       "WC          263\n",
       "WH          242\n",
       "DSC         234\n",
       "NOT         226\n",
       "OAM         221\n",
       "DTN         211\n",
       "MEX         158\n",
       "WCT         138\n",
       "WT          124\n",
       "GRA         119\n",
       "WSTAR       116\n",
       "AG          110\n",
       "CROMARG      90\n",
       "LWM          89\n",
       "MIC          85\n",
       "WI           75\n",
       "ME           75\n",
       "FS           73\n",
       "DUNST        58\n",
       "WDT          53\n",
       "WAIST        48\n",
       "MT           38\n",
       "MS           38\n",
       "OO           37\n",
       "WEST         32\n",
       "WOODEX       31\n",
       "IT           30\n",
       "LCP          30\n",
       "MH           30\n",
       "HNS          28\n",
       "BA           26\n",
       "NA           21\n",
       "CL           20\n",
       "HBT          18\n",
       "KUMAT        14\n",
       "OG            8\n",
       "HAST          7\n",
       "OPUNT         7\n",
       "NZSCSG        4\n",
       "HLC           3\n",
       "HBWT          1\n",
       "WDA           1\n",
       "NZCPNA        1\n",
       "MTBM          1\n",
       "ALG           1\n",
       "Name: Newspaper, dtype: int64"
      ]
     },
     "execution_count": 86,
     "metadata": {},
     "output_type": "execute_result"
    }
   ],
   "source": [
    "rel_from_nb2['Newspaper'].value_counts()"
   ]
  },
  {
   "cell_type": "code",
   "execution_count": 87,
   "metadata": {},
   "outputs": [
    {
     "data": {
      "text/plain": [
       "ODT        2867\n",
       "ESD        2733\n",
       "OW         2699\n",
       "AS         2231\n",
       "LT         2173\n",
       "CHP        1881\n",
       "BH         1594\n",
       "NZTIM      1391\n",
       "TC          986\n",
       "NEM         849\n",
       "HBH         831\n",
       "DSC         763\n",
       "OAM         710\n",
       "NOT         661\n",
       "MEX         583\n",
       "WH          570\n",
       "WSTAR       549\n",
       "WC          545\n",
       "DTN         527\n",
       "WT          521\n",
       "LWM         512\n",
       "CROMARG     455\n",
       "WCT         436\n",
       "ME          386\n",
       "GRA         385\n",
       "AG          361\n",
       "WI          289\n",
       "WDT         248\n",
       "MIC         230\n",
       "FS          209\n",
       "DUNST       162\n",
       "IT          155\n",
       "OO          149\n",
       "WAIST       139\n",
       "WEST        138\n",
       "LCP         135\n",
       "BA          124\n",
       "HBT         123\n",
       "CL          112\n",
       "HNS         102\n",
       "MH           96\n",
       "MS           92\n",
       "MT           75\n",
       "WOODEX       74\n",
       "NA           58\n",
       "KUMAT        52\n",
       "HAST         49\n",
       "OG           32\n",
       "NZSCSG       26\n",
       "OPUNT        15\n",
       "HLC          14\n",
       "NZCPNA        8\n",
       "HBWT          8\n",
       "NZGWS         7\n",
       "WDA           6\n",
       "ALG           2\n",
       "MTBM          2\n",
       "CHARG         1\n",
       "Name: Newspaper, dtype: int64"
      ]
     },
     "execution_count": 87,
     "metadata": {},
     "output_type": "execute_result"
    }
   ],
   "source": [
    "nb2_corpus['Newspaper'].value_counts()"
   ]
  },
  {
   "cell_type": "code",
   "execution_count": 84,
   "metadata": {},
   "outputs": [],
   "source": [
    "rel_from_nb2.to_pickle('pickles/rel_v2_philoso_df.tar.gz')"
   ]
  }
 ],
 "metadata": {
  "kernelspec": {
   "display_name": "Python 3",
   "language": "python",
   "name": "python3"
  },
  "language_info": {
   "codemirror_mode": {
    "name": "ipython",
    "version": 3
   },
   "file_extension": ".py",
   "mimetype": "text/x-python",
   "name": "python",
   "nbconvert_exporter": "python",
   "pygments_lexer": "ipython3",
   "version": "3.7.6"
  }
 },
 "nbformat": 4,
 "nbformat_minor": 4
}

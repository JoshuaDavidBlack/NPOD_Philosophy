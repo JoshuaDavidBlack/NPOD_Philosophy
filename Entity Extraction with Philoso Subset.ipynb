{
 "cells": [
  {
   "cell_type": "code",
   "execution_count": 1,
   "metadata": {},
   "outputs": [],
   "source": [
    "import spacy\n",
    "import en_core_web_md\n",
    "import re\n",
    "import time\n",
    "\n",
    "import pandas as pd\n",
    "\n",
    "from pandarallel import pandarallel\n",
    "\n",
    "nlp = en_core_web_md.load()\n",
    "\n",
    "RE_STRING = '[.!?\\\\-]|[0-9]'"
   ]
  },
  {
   "cell_type": "code",
   "execution_count": 5,
   "metadata": {},
   "outputs": [],
   "source": [
    "def entity_extract(strings):\n",
    "    entities = [i.text for i in nlp(' '.join(strings)).ents]\n",
    "    entities = set(entities)\n",
    "    unwanted = []\n",
    "    for entity in entities:\n",
    "        if re.search(RE_STRING, entity):\n",
    "            unwanted.append(entity)\n",
    "    entities = entities.difference(unwanted)\n",
    "    return entities"
   ]
  },
  {
   "cell_type": "code",
   "execution_count": 6,
   "metadata": {},
   "outputs": [],
   "source": [
    "def propn_extract(strings):\n",
    "    propns = [tok.string for tok in nlp(' '.join(strings)) if tok.pos_ == \"PROPN\"]\n",
    "    propns = set(propns)\n",
    "    unwanted = []\n",
    "    for prop in propns:\n",
    "        if len(prop) < 3 or re.search(RE_STRING, prop):\n",
    "            unwanted.append(prop)\n",
    "    propns = propns.difference(unwanted)\n",
    "    return propns"
   ]
  },
  {
   "cell_type": "code",
   "execution_count": 2,
   "metadata": {},
   "outputs": [
    {
     "name": "stdout",
     "output_type": "stream",
     "text": [
      "INFO: Pandarallel will run on 32 workers.\n",
      "INFO: Pandarallel will use Memory file system to transfer data between the main process and workers.\n"
     ]
    }
   ],
   "source": [
    "pandarallel.initialize()"
   ]
  },
  {
   "cell_type": "code",
   "execution_count": 3,
   "metadata": {},
   "outputs": [],
   "source": [
    "philoso_df = pd.read_pickle('pickles/nb2_philoso_df_v2.tar.gz')"
   ]
  },
  {
   "cell_type": "code",
   "execution_count": 4,
   "metadata": {},
   "outputs": [
    {
     "data": {
      "text/html": [
       "<div>\n",
       "<style scoped>\n",
       "    .dataframe tbody tr th:only-of-type {\n",
       "        vertical-align: middle;\n",
       "    }\n",
       "\n",
       "    .dataframe tbody tr th {\n",
       "        vertical-align: top;\n",
       "    }\n",
       "\n",
       "    .dataframe thead th {\n",
       "        text-align: right;\n",
       "    }\n",
       "</style>\n",
       "<table border=\"1\" class=\"dataframe\">\n",
       "  <thead>\n",
       "    <tr style=\"text-align: right;\">\n",
       "      <th></th>\n",
       "      <th>Title</th>\n",
       "      <th>Text</th>\n",
       "    </tr>\n",
       "  </thead>\n",
       "  <tbody>\n",
       "    <tr>\n",
       "      <th>LT_18940102_ARTICLE15</th>\n",
       "      <td>ROMANTIC WOMEN.</td>\n",
       "      <td>[Most women are inclined to be romantic. This ...</td>\n",
       "    </tr>\n",
       "    <tr>\n",
       "      <th>LT_18940108_ARTICLE22</th>\n",
       "      <td>The Lyttelton Times. MONDAY. JAN. 8, 1894.</td>\n",
       "      <td>[Among the five bishops who passed away last y...</td>\n",
       "    </tr>\n",
       "    <tr>\n",
       "      <th>LT_18940109_ARTICLE7</th>\n",
       "      <td>THE TASK OF THE BIOLOGIST.</td>\n",
       "      <td>[No. 11. When chemistry had finished _ shaping...</td>\n",
       "    </tr>\n",
       "    <tr>\n",
       "      <th>LT_18940115_ARTICLE5</th>\n",
       "      <td>THE THEORY OF EVOLUTION.</td>\n",
       "      <td>[SIGNIFICANT RUDIMENTS. [BY W.G.P.] No. lII.' ...</td>\n",
       "    </tr>\n",
       "    <tr>\n",
       "      <th>LT_18940124_ARTICLE6</th>\n",
       "      <td>THE THEORY OF EVOLUTION.</td>\n",
       "      <td>[THE CEADLE OP THOUGHT. [BY W.G.P.] No. IV. Iu...</td>\n",
       "    </tr>\n",
       "    <tr>\n",
       "      <th>...</th>\n",
       "      <td>...</td>\n",
       "      <td>...</td>\n",
       "    </tr>\n",
       "    <tr>\n",
       "      <th>ODT_18790118_ARTICLE23</th>\n",
       "      <td>UNTITLED</td>\n",
       "      <td>[Sir,—Before the public can fairly under stand...</td>\n",
       "    </tr>\n",
       "    <tr>\n",
       "      <th>ODT_18790120_ARTICLE11</th>\n",
       "      <td>THE BIBLE IN SCHOOLS.</td>\n",
       "      <td>[The Rev. Dr Roseby presched en this sub j set...</td>\n",
       "    </tr>\n",
       "    <tr>\n",
       "      <th>ODT_18790120_ARTICLE17</th>\n",
       "      <td>THE EARLY SETTLERS AND THE BIBLE. TO THE EDITOR.</td>\n",
       "      <td>[Sir, —I was gratified to read in your leading...</td>\n",
       "    </tr>\n",
       "    <tr>\n",
       "      <th>ODT_18790121_ARTICLE3</th>\n",
       "      <td>The Otago Daily Times. WITH WHICH IS INCORPORA...</td>\n",
       "      <td>[The Committee appointed by the Athenceum meet...</td>\n",
       "    </tr>\n",
       "    <tr>\n",
       "      <th>ODT_18790121_ARTICLE17</th>\n",
       "      <td>THE BIBLE SCHOOLS. TO THE EDITOR.</td>\n",
       "      <td>[Sia,—lt may not be out of place, in the prese...</td>\n",
       "    </tr>\n",
       "  </tbody>\n",
       "</table>\n",
       "<p>31131 rows × 2 columns</p>\n",
       "</div>"
      ],
      "text/plain": [
       "                                                                    Title  \\\n",
       "LT_18940102_ARTICLE15                                     ROMANTIC WOMEN.   \n",
       "LT_18940108_ARTICLE22          The Lyttelton Times. MONDAY. JAN. 8, 1894.   \n",
       "LT_18940109_ARTICLE7                           THE TASK OF THE BIOLOGIST.   \n",
       "LT_18940115_ARTICLE5                             THE THEORY OF EVOLUTION.   \n",
       "LT_18940124_ARTICLE6                             THE THEORY OF EVOLUTION.   \n",
       "...                                                                   ...   \n",
       "ODT_18790118_ARTICLE23                                           UNTITLED   \n",
       "ODT_18790120_ARTICLE11                              THE BIBLE IN SCHOOLS.   \n",
       "ODT_18790120_ARTICLE17   THE EARLY SETTLERS AND THE BIBLE. TO THE EDITOR.   \n",
       "ODT_18790121_ARTICLE3   The Otago Daily Times. WITH WHICH IS INCORPORA...   \n",
       "ODT_18790121_ARTICLE17                  THE BIBLE SCHOOLS. TO THE EDITOR.   \n",
       "\n",
       "                                                                     Text  \n",
       "LT_18940102_ARTICLE15   [Most women are inclined to be romantic. This ...  \n",
       "LT_18940108_ARTICLE22   [Among the five bishops who passed away last y...  \n",
       "LT_18940109_ARTICLE7    [No. 11. When chemistry had finished _ shaping...  \n",
       "LT_18940115_ARTICLE5    [SIGNIFICANT RUDIMENTS. [BY W.G.P.] No. lII.' ...  \n",
       "LT_18940124_ARTICLE6    [THE CEADLE OP THOUGHT. [BY W.G.P.] No. IV. Iu...  \n",
       "...                                                                   ...  \n",
       "ODT_18790118_ARTICLE23  [Sir,—Before the public can fairly under stand...  \n",
       "ODT_18790120_ARTICLE11  [The Rev. Dr Roseby presched en this sub j set...  \n",
       "ODT_18790120_ARTICLE17  [Sir, —I was gratified to read in your leading...  \n",
       "ODT_18790121_ARTICLE3   [The Committee appointed by the Athenceum meet...  \n",
       "ODT_18790121_ARTICLE17  [Sia,—lt may not be out of place, in the prese...  \n",
       "\n",
       "[31131 rows x 2 columns]"
      ]
     },
     "execution_count": 4,
     "metadata": {},
     "output_type": "execute_result"
    }
   ],
   "source": [
    "philoso_df"
   ]
  },
  {
   "cell_type": "code",
   "execution_count": 10,
   "metadata": {},
   "outputs": [
    {
     "name": "stdout",
     "output_type": "stream",
     "text": [
      "-413.40772461891174\n"
     ]
    }
   ],
   "source": [
    "t0 = time.time()\n",
    "philoso_df['Entities'] = philoso_df['Text'].parallel_apply(lambda x: entity_extract(x))\n",
    "print(f'{t0 - time.time()}')"
   ]
  },
  {
   "cell_type": "code",
   "execution_count": 11,
   "metadata": {},
   "outputs": [],
   "source": [
    "philoso_df.to_pickle('pickles/nb2_v2_entities_df.tar.gz')"
   ]
  }
 ],
 "metadata": {
  "kernelspec": {
   "display_name": "Python 3",
   "language": "python",
   "name": "python3"
  },
  "language_info": {
   "codemirror_mode": {
    "name": "ipython",
    "version": 3
   },
   "file_extension": ".py",
   "mimetype": "text/x-python",
   "name": "python",
   "nbconvert_exporter": "python",
   "pygments_lexer": "ipython3",
   "version": "3.7.6"
  }
 },
 "nbformat": 4,
 "nbformat_minor": 4
}

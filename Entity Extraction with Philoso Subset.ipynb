{
 "cells": [
  {
   "cell_type": "code",
   "execution_count": 23,
   "metadata": {},
   "outputs": [],
   "source": [
    "import spacy\n",
    "import en_core_web_md\n",
    "import re\n",
    "import time\n",
    "\n",
    "import pandas as pd\n",
    "\n",
    "from pandarallel import pandarallel\n",
    "\n",
    "nlp = en_core_web_md.load()\n",
    "\n",
    "RE_STRING = '[.!?\\\\-]|[0-9]'"
   ]
  },
  {
   "cell_type": "code",
   "execution_count": 2,
   "metadata": {},
   "outputs": [
    {
     "name": "stdout",
     "output_type": "stream",
     "text": [
      "INFO: Pandarallel will run on 32 workers.\n",
      "INFO: Pandarallel will use Memory file system to transfer data between the main process and workers.\n"
     ]
    }
   ],
   "source": [
    "pandarallel.initialize()"
   ]
  },
  {
   "cell_type": "code",
   "execution_count": 4,
   "metadata": {},
   "outputs": [],
   "source": [
    "philoso_df = pd.read_pickle('pickles/philoso_df.tar.gz')"
   ]
  },
  {
   "cell_type": "code",
   "execution_count": 5,
   "metadata": {},
   "outputs": [
    {
     "data": {
      "text/html": [
       "<div>\n",
       "<style scoped>\n",
       "    .dataframe tbody tr th:only-of-type {\n",
       "        vertical-align: middle;\n",
       "    }\n",
       "\n",
       "    .dataframe tbody tr th {\n",
       "        vertical-align: top;\n",
       "    }\n",
       "\n",
       "    .dataframe thead th {\n",
       "        text-align: right;\n",
       "    }\n",
       "</style>\n",
       "<table border=\"1\" class=\"dataframe\">\n",
       "  <thead>\n",
       "    <tr style=\"text-align: right;\">\n",
       "      <th></th>\n",
       "      <th>Title</th>\n",
       "      <th>Text</th>\n",
       "      <th>Newspaper</th>\n",
       "      <th>Date</th>\n",
       "      <th>Tokenised</th>\n",
       "    </tr>\n",
       "  </thead>\n",
       "  <tbody>\n",
       "    <tr>\n",
       "      <th>NA_18870416_ARTICLE4</th>\n",
       "      <td>FOEEIGN AGGRESSION.</td>\n",
       "      <td>[Fob some time past the colonial defences, the...</td>\n",
       "      <td>NaN</td>\n",
       "      <td>NaN</td>\n",
       "      <td>NaN</td>\n",
       "    </tr>\n",
       "    <tr>\n",
       "      <th>NA_18870813_ARTICLE27</th>\n",
       "      <td>WHANGAREI MUTUAL IMPROVEMENT ASSOCIATION.</td>\n",
       "      <td>[On Friday evening the debate \" Moral Suasion\"...</td>\n",
       "      <td>NaN</td>\n",
       "      <td>NaN</td>\n",
       "      <td>NaN</td>\n",
       "    </tr>\n",
       "    <tr>\n",
       "      <th>NA_18871022_ARTICLE5</th>\n",
       "      <td>The Northern Advocate.</td>\n",
       "      <td>[OUR COAL FIELDS. y, Ont Thursday last the Hon...</td>\n",
       "      <td>NaN</td>\n",
       "      <td>NaN</td>\n",
       "      <td>NaN</td>\n",
       "    </tr>\n",
       "    <tr>\n",
       "      <th>NA_18880204_ARTICLE21</th>\n",
       "      <td>HEART WISDON.</td>\n",
       "      <td>[Unnumbered years have sped since first The bu...</td>\n",
       "      <td>NaN</td>\n",
       "      <td>NaN</td>\n",
       "      <td>NaN</td>\n",
       "    </tr>\n",
       "    <tr>\n",
       "      <th>NA_18880623_ARTICLE29</th>\n",
       "      <td>OUR AUCKLAND LETTER. I</td>\n",
       "      <td>[« (From our own Correspondent.) Auckland, Tue...</td>\n",
       "      <td>NaN</td>\n",
       "      <td>NaN</td>\n",
       "      <td>NaN</td>\n",
       "    </tr>\n",
       "    <tr>\n",
       "      <th>...</th>\n",
       "      <td>...</td>\n",
       "      <td>...</td>\n",
       "      <td>...</td>\n",
       "      <td>...</td>\n",
       "      <td>...</td>\n",
       "    </tr>\n",
       "    <tr>\n",
       "      <th>ODT_18980917_ARTICLE15</th>\n",
       "      <td>BOOK NOTICES.</td>\n",
       "      <td>[\" Corleone.\" By F. Marion Crawford. London: M...</td>\n",
       "      <td>ODT</td>\n",
       "      <td>18980917</td>\n",
       "      <td>[corleone, marion, crawford, london, macmillan...</td>\n",
       "    </tr>\n",
       "    <tr>\n",
       "      <th>ODT_18980924_ARTICLE5</th>\n",
       "      <td>PASSING- NOTES.</td>\n",
       "      <td>[It is difficult to believe, probably nobody, ...</td>\n",
       "      <td>ODT</td>\n",
       "      <td>18980924</td>\n",
       "      <td>[difficult, believe, probably, nobody, believe...</td>\n",
       "    </tr>\n",
       "    <tr>\n",
       "      <th>ODT_18981008_ARTICLE15</th>\n",
       "      <td>PUBLISHED BY SPECIAL ARRANGEMENT. WILD EELLIN ...</td>\n",
       "      <td>[COPYRIGHT., CHAPTER XXXIIL—\"SEI MIR GEG-, RUE...</td>\n",
       "      <td>ODT</td>\n",
       "      <td>18981008</td>\n",
       "      <td>[copyright, chapter, xxxiil, geg, ruesst, maro...</td>\n",
       "    </tr>\n",
       "    <tr>\n",
       "      <th>ODT_18981013_ARTICLE51</th>\n",
       "      <td>BISMARCK.</td>\n",
       "      <td>[THE ATTEMPT OP AN ESTIMATE, ,■'•,' (By O. E. ...</td>\n",
       "      <td>ODT</td>\n",
       "      <td>18981013</td>\n",
       "      <td>[attempt, estimate, hugo, leckness, weakness, ...</td>\n",
       "    </tr>\n",
       "    <tr>\n",
       "      <th>ODT_18981015_ARTICLE4</th>\n",
       "      <td>PASSING NOTES.</td>\n",
       "      <td>[j'n the Land of the Willow-pattern Plate ther...</td>\n",
       "      <td>ODT</td>\n",
       "      <td>18981015</td>\n",
       "      <td>[j'n, land, willow, pattern, plate, thing, log...</td>\n",
       "    </tr>\n",
       "  </tbody>\n",
       "</table>\n",
       "<p>29647 rows × 5 columns</p>\n",
       "</div>"
      ],
      "text/plain": [
       "                                                                    Title  \\\n",
       "NA_18870416_ARTICLE4                                  FOEEIGN AGGRESSION.   \n",
       "NA_18870813_ARTICLE27           WHANGAREI MUTUAL IMPROVEMENT ASSOCIATION.   \n",
       "NA_18871022_ARTICLE5                               The Northern Advocate.   \n",
       "NA_18880204_ARTICLE21                                       HEART WISDON.   \n",
       "NA_18880623_ARTICLE29                              OUR AUCKLAND LETTER. I   \n",
       "...                                                                   ...   \n",
       "ODT_18980917_ARTICLE15                                      BOOK NOTICES.   \n",
       "ODT_18980924_ARTICLE5                                     PASSING- NOTES.   \n",
       "ODT_18981008_ARTICLE15  PUBLISHED BY SPECIAL ARRANGEMENT. WILD EELLIN ...   \n",
       "ODT_18981013_ARTICLE51                                          BISMARCK.   \n",
       "ODT_18981015_ARTICLE4                                      PASSING NOTES.   \n",
       "\n",
       "                                                                     Text  \\\n",
       "NA_18870416_ARTICLE4    [Fob some time past the colonial defences, the...   \n",
       "NA_18870813_ARTICLE27   [On Friday evening the debate \" Moral Suasion\"...   \n",
       "NA_18871022_ARTICLE5    [OUR COAL FIELDS. y, Ont Thursday last the Hon...   \n",
       "NA_18880204_ARTICLE21   [Unnumbered years have sped since first The bu...   \n",
       "NA_18880623_ARTICLE29   [« (From our own Correspondent.) Auckland, Tue...   \n",
       "...                                                                   ...   \n",
       "ODT_18980917_ARTICLE15  [\" Corleone.\" By F. Marion Crawford. London: M...   \n",
       "ODT_18980924_ARTICLE5   [It is difficult to believe, probably nobody, ...   \n",
       "ODT_18981008_ARTICLE15  [COPYRIGHT., CHAPTER XXXIIL—\"SEI MIR GEG-, RUE...   \n",
       "ODT_18981013_ARTICLE51  [THE ATTEMPT OP AN ESTIMATE, ,■'•,' (By O. E. ...   \n",
       "ODT_18981015_ARTICLE4   [j'n the Land of the Willow-pattern Plate ther...   \n",
       "\n",
       "                       Newspaper      Date  \\\n",
       "NA_18870416_ARTICLE4         NaN       NaN   \n",
       "NA_18870813_ARTICLE27        NaN       NaN   \n",
       "NA_18871022_ARTICLE5         NaN       NaN   \n",
       "NA_18880204_ARTICLE21        NaN       NaN   \n",
       "NA_18880623_ARTICLE29        NaN       NaN   \n",
       "...                          ...       ...   \n",
       "ODT_18980917_ARTICLE15       ODT  18980917   \n",
       "ODT_18980924_ARTICLE5        ODT  18980924   \n",
       "ODT_18981008_ARTICLE15       ODT  18981008   \n",
       "ODT_18981013_ARTICLE51       ODT  18981013   \n",
       "ODT_18981015_ARTICLE4        ODT  18981015   \n",
       "\n",
       "                                                                Tokenised  \n",
       "NA_18870416_ARTICLE4                                                  NaN  \n",
       "NA_18870813_ARTICLE27                                                 NaN  \n",
       "NA_18871022_ARTICLE5                                                  NaN  \n",
       "NA_18880204_ARTICLE21                                                 NaN  \n",
       "NA_18880623_ARTICLE29                                                 NaN  \n",
       "...                                                                   ...  \n",
       "ODT_18980917_ARTICLE15  [corleone, marion, crawford, london, macmillan...  \n",
       "ODT_18980924_ARTICLE5   [difficult, believe, probably, nobody, believe...  \n",
       "ODT_18981008_ARTICLE15  [copyright, chapter, xxxiil, geg, ruesst, maro...  \n",
       "ODT_18981013_ARTICLE51  [attempt, estimate, hugo, leckness, weakness, ...  \n",
       "ODT_18981015_ARTICLE4   [j'n, land, willow, pattern, plate, thing, log...  \n",
       "\n",
       "[29647 rows x 5 columns]"
      ]
     },
     "execution_count": 5,
     "metadata": {},
     "output_type": "execute_result"
    }
   ],
   "source": [
    "philoso_df"
   ]
  },
  {
   "cell_type": "code",
   "execution_count": 24,
   "metadata": {},
   "outputs": [
    {
     "name": "stdout",
     "output_type": "stream",
     "text": [
      "-961.607528924942\n"
     ]
    }
   ],
   "source": [
    "t0 = time.time()\n",
    "philoso_df['Proper Nouns'] = philoso_df['Text'].parallel_apply(lambda x: propn_extract(x))\n",
    "print(f'{t0 - time.time()}')"
   ]
  },
  {
   "cell_type": "code",
   "execution_count": 12,
   "metadata": {},
   "outputs": [],
   "source": [
    "dog = nlp(' '.join(philoso_df['Text'][400]))"
   ]
  },
  {
   "cell_type": "code",
   "execution_count": 18,
   "metadata": {},
   "outputs": [
    {
     "data": {
      "text/plain": [
       "['NELSON',\n",
       " 'TUESDAY',\n",
       " 'JULY ',\n",
       " 'HON',\n",
       " 'MR',\n",
       " '. ',\n",
       " 'STAFFORD',\n",
       " 'Parliament ',\n",
       " 'New ',\n",
       " 'Zealand ',\n",
       " 'Opposition ',\n",
       " 'Mr. ',\n",
       " 'Stafford ',\n",
       " 'Opposition ',\n",
       " 'Mr. ',\n",
       " 'Stafford ',\n",
       " 'Constitution ',\n",
       " 'Act ',\n",
       " '-',\n",
       " 'Maori',\n",
       " '| ',\n",
       " 'Public ',\n",
       " 'Debts ',\n",
       " 'Act',\n",
       " 'Crown ',\n",
       " 'Mr. ',\n",
       " 'Stafford ',\n",
       " 'Governor',\n",
       " 'Minis ',\n",
       " 'ter',\n",
       " 'Blue ',\n",
       " 'Books',\n",
       " 'Mr. ',\n",
       " 'Stafford',\n",
       " 'Blue ',\n",
       " 'Book ',\n",
       " 'vol',\n",
       " '. ',\n",
       " 'D. ',\n",
       " 'Mr. ',\n",
       " 'Stafford',\n",
       " 'Mr. ',\n",
       " 'Disraeli',\n",
       " 'Parliament',\n",
       " 'Mr. ',\n",
       " 'Disraeli ',\n",
       " 'Mr. ',\n",
       " 'Glad',\n",
       " 'Ministry',\n",
       " 'British ',\n",
       " 'House ',\n",
       " 'Commons',\n",
       " 'Mr. ',\n",
       " 'Gladstone',\n",
       " 'hsw ',\n",
       " 'hs ',\n",
       " 'biffl',\n",
       " 'effec ',\n",
       " 'tive ',\n",
       " 'New ',\n",
       " 'Zealand ',\n",
       " 'Constitution',\n",
       " 'Mr. ',\n",
       " 'Disraeli',\n",
       " 'tem ',\n",
       " 'porarily ',\n",
       " 'Mr. ',\n",
       " 'Stafford',\n",
       " 'becks',\n",
       " 'arid ',\n",
       " 'Grattane']"
      ]
     },
     "execution_count": 18,
     "metadata": {},
     "output_type": "execute_result"
    }
   ],
   "source": [
    "[tok.string for tok in dog if tok.pos_ == \"PROPN\"]"
   ]
  },
  {
   "cell_type": "code",
   "execution_count": 13,
   "metadata": {},
   "outputs": [
    {
     "data": {
      "text/plain": [
       "NELSON, TUESDAY, JULY 4, 1871. A HINT FOR THE HON. MR. STAFFORD. The Parliament of New Zealand will assemble in the course of a few weeks, and, doubtless some new mode of action will be required by the leader of the Opposition that is, or is to be. Last year, in the face of a coming election, Mr. Stafford modestly withdrew from his customary prominence, preferring to put to the front a somewhat rash but unsuspecting gentleman, who, during the session, performed the Opposition talking, and, in the election which followed, lost his seat. Mr. Stafford has tried so many political movements for popularity, 1 that most of them must now be somewhat stale, and can hardly again be decently employed. It requires invention to provide novelties. The extreme radicalism be avowed when the Constitution Act wag being considered, led a large section of the public to suppose that he was the man for i the people. That served its turn for the moment, and, of course, was duly abandoned. Of his anti-Maori, and pro-war beliefs and actions; his fondness for the \" arbitrament of the sword,\" we are still \" enjoying,\" and | will long, perforce, enjoy many ofthefruitß, which will set our children's teeth on edge. His cry about economy, his promised la?ge 1 reductions which bore him bravely into ; office, and resulted in no saving at all, but great loss, and in the yet unfathomed Public Debts Act, and kindred calamities, are still ■ fresh in the memory of the public. None, even of that local band of literary admirers, ' of which he is himself supposed to be the chief, has a single word to say in defence or palliation of the most extraordinary 1 proceedings in which a modern Crown minister was ever concerned—the proceed ings of Mr. Stafford with reference to the lease, furnishings, and occupancy of the Governor's temporary residence and Minis ter's house. This business, as set forth in the Blue Books, exhibited such an amount of tricky shiftiness and misrepresentation, that a perusal of the papers would greatly tend to deter even supporters from placing reliance on either the common judgment or political fairness, to go no further, of the politician who makes such a sad figure in that correspondence. To employ what we believe is a prominent item in Mr. Stafford's own creed, that \"little arrangement\" was \" worse than a crime ;—it was a blunder.\" Unhappily for him, it was one of thoße personal blunders which, more than merely political errors, attract attention, and are treasured in the memory. The subject, as giving a gleam of character, is worth attention; and no doubt will send fresh members to study the Blue Book for 1869, vol. 2, D. 26. This, however, was not the hint we pur posed offering to Mr. Stafford, as to him it would be superfluous, seeing he is far better acquainted with all the facts than any blue book can make him. But he might take a leaf out of Mr. Disraeli's book, and, after the meeting of Parliament, rise to a little vituperation, linked at rare intervals by a few statements of fact of the kind that lurks in financial fancy. Mr. Disraeli lately made a keen and \" brilliant \" attack on Mr. Glad* stone and the work of his Ministry, and sonifl effective use might be made, in appearance at least, of the style of patriotic indignation and invective displayed by the leader of the opposition in the British House of Commons, who spoke thus : — \" On the recommendation of Mr. Gladstone, w« have legalised confiscation, we have consecrated sacrilege, we have condoned high treason, we hsw destroyed ohurches, we have shaken property to it' foundation, and we have emptied gaols; and now we cannot govern a county, and must come to. a parliamentary committee. He had found, as hs supposed, the philosopher's stone in relation to Irish affairs, and no time and labor had been grudged biffl, and no offence taken at the most startling measure'! and now the Ri.irht Honorable gentleman, after all his heroic exploits and at the head of his gM»' majority, is making government ridiculous.\" Here is a very fair model; a good, healthy, hyperbolic piece of oratory, the adoption of which, with a little alteration to suit difference of latitude, might prove as effec tive as the \"cradle and hearse\" speech which was weepingly delivered over the imaginary corpus of the New Zealand Constitution. The best point in such matters is that, as in the case of Mr. Disraeli) the speaker is gratified, the party is tem porarily pleased, and nobody is a farthing the worse. It is worthy of Mr. Stafford's consideration; and perhaps we may be allowed, should he adopt this friendly hint, to suggest \"above all,--no tears.\" That fountain i« played put, and is only provocative of \" boos, and becks' arid -wreathed smiles,\" to which are added the sneering titters of those stony ■ and selfish creatures who do not believe n> mock Grattane, and who lack faith in public display! of painfully patriotic hydraulics."
      ]
     },
     "execution_count": 13,
     "metadata": {},
     "output_type": "execute_result"
    }
   ],
   "source": [
    "dog"
   ]
  },
  {
   "cell_type": "code",
   "execution_count": 34,
   "metadata": {},
   "outputs": [],
   "source": [
    "def entity_extract(strings):\n",
    "    entities = [i.text for i in nlp(' '.join(strings)).ents]\n",
    "    entities = set(entities)\n",
    "    unwanted = []\n",
    "    for entity in entities:\n",
    "        if re.search(RE_STRING, entity):\n",
    "            unwanted.append(entity)\n",
    "    entities = entities.difference(unwanted)\n",
    "    return entities"
   ]
  },
  {
   "cell_type": "code",
   "execution_count": 21,
   "metadata": {},
   "outputs": [],
   "source": [
    "def propn_extract(strings):\n",
    "    propns = [tok.string for tok in nlp(' '.join(strings)) if tok.pos_ == \"PROPN\"]\n",
    "    propns = set(propns)\n",
    "    unwanted = []\n",
    "    for prop in propns:\n",
    "        if len(prop) < 3 or re.search(RE_STRING, prop):\n",
    "            unwanted.append(prop)\n",
    "    propns = propns.difference(unwanted)\n",
    "    return propns"
   ]
  },
  {
   "cell_type": "code",
   "execution_count": 28,
   "metadata": {},
   "outputs": [],
   "source": [
    "philoso_df.to_pickle('pickles/philoso_propn_df.tar.gz')"
   ]
  },
  {
   "cell_type": "code",
   "execution_count": 47,
   "metadata": {},
   "outputs": [],
   "source": [
    "philoso_df['Newspaper'] = philoso_df.index.map(lambda x: x[0:x.find('_')])\n",
    "philoso_df['Date']=philoso_df.index.map(lambda x: x[x.find('_')+1:x.find('_')+9])"
   ]
  },
  {
   "cell_type": "code",
   "execution_count": 26,
   "metadata": {},
   "outputs": [],
   "source": [
    "philoso_df = philoso_df[['Title', 'Text', 'Proper Nouns']]"
   ]
  },
  {
   "cell_type": "code",
   "execution_count": 27,
   "metadata": {},
   "outputs": [
    {
     "data": {
      "text/html": [
       "<div>\n",
       "<style scoped>\n",
       "    .dataframe tbody tr th:only-of-type {\n",
       "        vertical-align: middle;\n",
       "    }\n",
       "\n",
       "    .dataframe tbody tr th {\n",
       "        vertical-align: top;\n",
       "    }\n",
       "\n",
       "    .dataframe thead th {\n",
       "        text-align: right;\n",
       "    }\n",
       "</style>\n",
       "<table border=\"1\" class=\"dataframe\">\n",
       "  <thead>\n",
       "    <tr style=\"text-align: right;\">\n",
       "      <th></th>\n",
       "      <th>Title</th>\n",
       "      <th>Text</th>\n",
       "      <th>Proper Nouns</th>\n",
       "    </tr>\n",
       "  </thead>\n",
       "  <tbody>\n",
       "    <tr>\n",
       "      <th>NA_18870416_ARTICLE4</th>\n",
       "      <td>FOEEIGN AGGRESSION.</td>\n",
       "      <td>[Fob some time past the colonial defences, the...</td>\n",
       "      <td>{Ac , compet , thiat , loverty , Mansion , ihg...</td>\n",
       "    </tr>\n",
       "    <tr>\n",
       "      <th>NA_18870813_ARTICLE27</th>\n",
       "      <td>WHANGAREI MUTUAL IMPROVEMENT ASSOCIATION.</td>\n",
       "      <td>[On Friday evening the debate \" Moral Suasion\"...</td>\n",
       "      <td>{ho , Carruth , b|e , Brooks , Sealey , Jjecti...</td>\n",
       "    </tr>\n",
       "    <tr>\n",
       "      <th>NA_18871022_ARTICLE5</th>\n",
       "      <td>The Northern Advocate.</td>\n",
       "      <td>[OUR COAL FIELDS. y, Ont Thursday last the Hon...</td>\n",
       "      <td>{Government , Point, Whan , Island, Hector, iA...</td>\n",
       "    </tr>\n",
       "    <tr>\n",
       "      <th>NA_18880204_ARTICLE21</th>\n",
       "      <td>HEART WISDON.</td>\n",
       "      <td>[Unnumbered years have sped since first The bu...</td>\n",
       "      <td>{vaia, ua , Kly, Springs , Life, Becauseljto ,...</td>\n",
       "    </tr>\n",
       "    <tr>\n",
       "      <th>NA_18880623_ARTICLE29</th>\n",
       "      <td>OUR AUCKLAND LETTER. I</td>\n",
       "      <td>[« (From our own Correspondent.) Auckland, Tue...</td>\n",
       "      <td>{Saturday, Majesty, Victorian , House , ths , ...</td>\n",
       "    </tr>\n",
       "    <tr>\n",
       "      <th>...</th>\n",
       "      <td>...</td>\n",
       "      <td>...</td>\n",
       "      <td>...</td>\n",
       "    </tr>\n",
       "    <tr>\n",
       "      <th>ODT_18980917_ARTICLE15</th>\n",
       "      <td>BOOK NOTICES.</td>\n",
       "      <td>[\" Corleone.\" By F. Marion Crawford. London: M...</td>\n",
       "      <td>{Bliss , Library, Corona , Lizzie , Creator , ...</td>\n",
       "    </tr>\n",
       "    <tr>\n",
       "      <th>ODT_18980924_ARTICLE5</th>\n",
       "      <td>PASSING- NOTES.</td>\n",
       "      <td>[It is difficult to believe, probably nobody, ...</td>\n",
       "      <td>{Grey, Cathedral , Governor, Brown, Dance , no...</td>\n",
       "    </tr>\n",
       "    <tr>\n",
       "      <th>ODT_18981008_ARTICLE15</th>\n",
       "      <td>PUBLISHED BY SPECIAL ARRANGEMENT. WILD EELLIN ...</td>\n",
       "      <td>[COPYRIGHT., CHAPTER XXXIIL—\"SEI MIR GEG-, RUE...</td>\n",
       "      <td>{calceolarias , liavo , Somerled , Lord , Arch...</td>\n",
       "    </tr>\n",
       "    <tr>\n",
       "      <th>ODT_18981013_ARTICLE51</th>\n",
       "      <td>BISMARCK.</td>\n",
       "      <td>[THE ATTEMPT OP AN ESTIMATE, ,■'•,' (By O. E. ...</td>\n",
       "      <td>{Goethe , Cliurch, Protestant, Frederick , sio...</td>\n",
       "    </tr>\n",
       "    <tr>\n",
       "      <th>ODT_18981015_ARTICLE4</th>\n",
       "      <td>PASSING NOTES.</td>\n",
       "      <td>[j'n the Land of the Willow-pattern Plate ther...</td>\n",
       "      <td>{Hindostan , ia , Brown, Plate , Mongol , Japa...</td>\n",
       "    </tr>\n",
       "  </tbody>\n",
       "</table>\n",
       "<p>29647 rows × 3 columns</p>\n",
       "</div>"
      ],
      "text/plain": [
       "                                                                    Title  \\\n",
       "NA_18870416_ARTICLE4                                  FOEEIGN AGGRESSION.   \n",
       "NA_18870813_ARTICLE27           WHANGAREI MUTUAL IMPROVEMENT ASSOCIATION.   \n",
       "NA_18871022_ARTICLE5                               The Northern Advocate.   \n",
       "NA_18880204_ARTICLE21                                       HEART WISDON.   \n",
       "NA_18880623_ARTICLE29                              OUR AUCKLAND LETTER. I   \n",
       "...                                                                   ...   \n",
       "ODT_18980917_ARTICLE15                                      BOOK NOTICES.   \n",
       "ODT_18980924_ARTICLE5                                     PASSING- NOTES.   \n",
       "ODT_18981008_ARTICLE15  PUBLISHED BY SPECIAL ARRANGEMENT. WILD EELLIN ...   \n",
       "ODT_18981013_ARTICLE51                                          BISMARCK.   \n",
       "ODT_18981015_ARTICLE4                                      PASSING NOTES.   \n",
       "\n",
       "                                                                     Text  \\\n",
       "NA_18870416_ARTICLE4    [Fob some time past the colonial defences, the...   \n",
       "NA_18870813_ARTICLE27   [On Friday evening the debate \" Moral Suasion\"...   \n",
       "NA_18871022_ARTICLE5    [OUR COAL FIELDS. y, Ont Thursday last the Hon...   \n",
       "NA_18880204_ARTICLE21   [Unnumbered years have sped since first The bu...   \n",
       "NA_18880623_ARTICLE29   [« (From our own Correspondent.) Auckland, Tue...   \n",
       "...                                                                   ...   \n",
       "ODT_18980917_ARTICLE15  [\" Corleone.\" By F. Marion Crawford. London: M...   \n",
       "ODT_18980924_ARTICLE5   [It is difficult to believe, probably nobody, ...   \n",
       "ODT_18981008_ARTICLE15  [COPYRIGHT., CHAPTER XXXIIL—\"SEI MIR GEG-, RUE...   \n",
       "ODT_18981013_ARTICLE51  [THE ATTEMPT OP AN ESTIMATE, ,■'•,' (By O. E. ...   \n",
       "ODT_18981015_ARTICLE4   [j'n the Land of the Willow-pattern Plate ther...   \n",
       "\n",
       "                                                             Proper Nouns  \n",
       "NA_18870416_ARTICLE4    {Ac , compet , thiat , loverty , Mansion , ihg...  \n",
       "NA_18870813_ARTICLE27   {ho , Carruth , b|e , Brooks , Sealey , Jjecti...  \n",
       "NA_18871022_ARTICLE5    {Government , Point, Whan , Island, Hector, iA...  \n",
       "NA_18880204_ARTICLE21   {vaia, ua , Kly, Springs , Life, Becauseljto ,...  \n",
       "NA_18880623_ARTICLE29   {Saturday, Majesty, Victorian , House , ths , ...  \n",
       "...                                                                   ...  \n",
       "ODT_18980917_ARTICLE15  {Bliss , Library, Corona , Lizzie , Creator , ...  \n",
       "ODT_18980924_ARTICLE5   {Grey, Cathedral , Governor, Brown, Dance , no...  \n",
       "ODT_18981008_ARTICLE15  {calceolarias , liavo , Somerled , Lord , Arch...  \n",
       "ODT_18981013_ARTICLE51  {Goethe , Cliurch, Protestant, Frederick , sio...  \n",
       "ODT_18981015_ARTICLE4   {Hindostan , ia , Brown, Plate , Mongol , Japa...  \n",
       "\n",
       "[29647 rows x 3 columns]"
      ]
     },
     "execution_count": 27,
     "metadata": {},
     "output_type": "execute_result"
    }
   ],
   "source": [
    "philoso_df"
   ]
  },
  {
   "cell_type": "code",
   "execution_count": 54,
   "metadata": {},
   "outputs": [
    {
     "data": {
      "text/plain": [
       "['the Mansion House',\n",
       " 'years',\n",
       " 'Un',\n",
       " 'auch',\n",
       " 'tjie mo st',\n",
       " 'vio lence',\n",
       " 'Germany',\n",
       " 'iorm',\n",
       " 'thiat labour',\n",
       " 'unclad',\n",
       " 'England',\n",
       " 'fed',\n",
       " 'Ac',\n",
       " 'Europe',\n",
       " 'ACes',\n",
       " 'md',\n",
       " 'Prance',\n",
       " 'India',\n",
       " 'indus',\n",
       " 'Ori thia',\n",
       " 'colonists',\n",
       " 'Sweden',\n",
       " 'the xercise dt',\n",
       " 'one']"
      ]
     },
     "execution_count": 54,
     "metadata": {},
     "output_type": "execute_result"
    }
   ],
   "source": [
    "list(philoso_df.iloc[0]['Entities'])"
   ]
  },
  {
   "cell_type": "markdown",
   "metadata": {},
   "source": [
    "map may be the wrong thing here (map replaces values)."
   ]
  }
 ],
 "metadata": {
  "kernelspec": {
   "display_name": "Python 3",
   "language": "python",
   "name": "python3"
  },
  "language_info": {
   "codemirror_mode": {
    "name": "ipython",
    "version": 3
   },
   "file_extension": ".py",
   "mimetype": "text/x-python",
   "name": "python",
   "nbconvert_exporter": "python",
   "pygments_lexer": "ipython3",
   "version": "3.7.6"
  }
 },
 "nbformat": 4,
 "nbformat_minor": 4
}

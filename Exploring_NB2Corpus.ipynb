{
 "cells": [
  {
   "cell_type": "code",
   "execution_count": 5,
   "metadata": {},
   "outputs": [],
   "source": [
    "import pandas as pd\n",
    "\n",
    "from ipywidgets import interact, interactive, fixed, interact_manual\n",
    "import ipywidgets as widgets\n",
    "\n",
    "import NL_helpers\n",
    "import NL_topicmodels"
   ]
  },
  {
   "cell_type": "code",
   "execution_count": 2,
   "metadata": {},
   "outputs": [],
   "source": [
    "philoso_corpus = pd.read_pickle('pickles/nb2_philoso_df.tar.gz')"
   ]
  },
  {
   "cell_type": "code",
   "execution_count": 7,
   "metadata": {},
   "outputs": [],
   "source": [
    "NL_topicmodels.add_title_and_date(philoso_corpus)"
   ]
  },
  {
   "cell_type": "code",
   "execution_count": 15,
   "metadata": {},
   "outputs": [],
   "source": [
    "philoso_corpus = philoso_corpus[~philoso_corpus.index.duplicated(keep='first')]"
   ]
  },
  {
   "cell_type": "code",
   "execution_count": 17,
   "metadata": {},
   "outputs": [
    {
     "data": {
      "text/html": [
       "<div>\n",
       "<style scoped>\n",
       "    .dataframe tbody tr th:only-of-type {\n",
       "        vertical-align: middle;\n",
       "    }\n",
       "\n",
       "    .dataframe tbody tr th {\n",
       "        vertical-align: top;\n",
       "    }\n",
       "\n",
       "    .dataframe thead th {\n",
       "        text-align: right;\n",
       "    }\n",
       "</style>\n",
       "<table border=\"1\" class=\"dataframe\">\n",
       "  <thead>\n",
       "    <tr style=\"text-align: right;\">\n",
       "      <th></th>\n",
       "      <th>Title</th>\n",
       "      <th>Text</th>\n",
       "      <th>Newspaper</th>\n",
       "      <th>Date</th>\n",
       "    </tr>\n",
       "  </thead>\n",
       "  <tbody>\n",
       "    <tr>\n",
       "      <th>LT_18940102_ARTICLE15</th>\n",
       "      <td>ROMANTIC WOMEN.</td>\n",
       "      <td>[Most women are inclined to be romantic. This ...</td>\n",
       "      <td>LT</td>\n",
       "      <td>18940102</td>\n",
       "    </tr>\n",
       "    <tr>\n",
       "      <th>LT_18940102_ARTICLE26</th>\n",
       "      <td>The Lyttelton Times. TUESDAY, JAN. 2, 1894.</td>\n",
       "      <td>[Whkn previously it Las been our task to look ...</td>\n",
       "      <td>LT</td>\n",
       "      <td>18940102</td>\n",
       "    </tr>\n",
       "    <tr>\n",
       "      <th>LT_18940105_ARTICLE16</th>\n",
       "      <td>STATE EDUCATION.</td>\n",
       "      <td>[TO THE EDITOR. Sib, —No doubt a large majorit...</td>\n",
       "      <td>LT</td>\n",
       "      <td>18940105</td>\n",
       "    </tr>\n",
       "    <tr>\n",
       "      <th>LT_18940108_ARTICLE22</th>\n",
       "      <td>The Lyttelton Times. MONDAY. JAN. 8, 1894.</td>\n",
       "      <td>[Among the five bishops who passed away last y...</td>\n",
       "      <td>LT</td>\n",
       "      <td>18940108</td>\n",
       "    </tr>\n",
       "    <tr>\n",
       "      <th>LT_18940109_ARTICLE7</th>\n",
       "      <td>THE TASK OF THE BIOLOGIST.</td>\n",
       "      <td>[No. 11. When chemistry had finished _ shaping...</td>\n",
       "      <td>LT</td>\n",
       "      <td>18940109</td>\n",
       "    </tr>\n",
       "    <tr>\n",
       "      <th>...</th>\n",
       "      <td>...</td>\n",
       "      <td>...</td>\n",
       "      <td>...</td>\n",
       "      <td>...</td>\n",
       "    </tr>\n",
       "    <tr>\n",
       "      <th>ODT_18790120_ARTICLE11</th>\n",
       "      <td>THE BIBLE IN SCHOOLS.</td>\n",
       "      <td>[The Rev. Dr Roseby presched en this sub j set...</td>\n",
       "      <td>ODT</td>\n",
       "      <td>18790120</td>\n",
       "    </tr>\n",
       "    <tr>\n",
       "      <th>ODT_18790120_ARTICLE17</th>\n",
       "      <td>THE EARLY SETTLERS AND THE BIBLE. TO THE EDITOR.</td>\n",
       "      <td>[Sir, —I was gratified to read in your leading...</td>\n",
       "      <td>ODT</td>\n",
       "      <td>18790120</td>\n",
       "    </tr>\n",
       "    <tr>\n",
       "      <th>ODT_18790121_ARTICLE3</th>\n",
       "      <td>The Otago Daily Times. WITH WHICH IS INCORPORA...</td>\n",
       "      <td>[The Committee appointed by the Athenceum meet...</td>\n",
       "      <td>ODT</td>\n",
       "      <td>18790121</td>\n",
       "    </tr>\n",
       "    <tr>\n",
       "      <th>ODT_18790121_ARTICLE16</th>\n",
       "      <td>GODLESS EDUCATION. TO THE EDITOR</td>\n",
       "      <td>[Sir,—l clxervo that the reft-reuce to tbo \"jj...</td>\n",
       "      <td>ODT</td>\n",
       "      <td>18790121</td>\n",
       "    </tr>\n",
       "    <tr>\n",
       "      <th>ODT_18790121_ARTICLE17</th>\n",
       "      <td>THE BIBLE SCHOOLS. TO THE EDITOR.</td>\n",
       "      <td>[Sia,—lt may not be out of place, in the prese...</td>\n",
       "      <td>ODT</td>\n",
       "      <td>18790121</td>\n",
       "    </tr>\n",
       "  </tbody>\n",
       "</table>\n",
       "<p>37949 rows × 4 columns</p>\n",
       "</div>"
      ],
      "text/plain": [
       "                                                                    Title  \\\n",
       "LT_18940102_ARTICLE15                                     ROMANTIC WOMEN.   \n",
       "LT_18940102_ARTICLE26         The Lyttelton Times. TUESDAY, JAN. 2, 1894.   \n",
       "LT_18940105_ARTICLE16                                    STATE EDUCATION.   \n",
       "LT_18940108_ARTICLE22          The Lyttelton Times. MONDAY. JAN. 8, 1894.   \n",
       "LT_18940109_ARTICLE7                           THE TASK OF THE BIOLOGIST.   \n",
       "...                                                                   ...   \n",
       "ODT_18790120_ARTICLE11                              THE BIBLE IN SCHOOLS.   \n",
       "ODT_18790120_ARTICLE17   THE EARLY SETTLERS AND THE BIBLE. TO THE EDITOR.   \n",
       "ODT_18790121_ARTICLE3   The Otago Daily Times. WITH WHICH IS INCORPORA...   \n",
       "ODT_18790121_ARTICLE16                   GODLESS EDUCATION. TO THE EDITOR   \n",
       "ODT_18790121_ARTICLE17                  THE BIBLE SCHOOLS. TO THE EDITOR.   \n",
       "\n",
       "                                                                     Text  \\\n",
       "LT_18940102_ARTICLE15   [Most women are inclined to be romantic. This ...   \n",
       "LT_18940102_ARTICLE26   [Whkn previously it Las been our task to look ...   \n",
       "LT_18940105_ARTICLE16   [TO THE EDITOR. Sib, —No doubt a large majorit...   \n",
       "LT_18940108_ARTICLE22   [Among the five bishops who passed away last y...   \n",
       "LT_18940109_ARTICLE7    [No. 11. When chemistry had finished _ shaping...   \n",
       "...                                                                   ...   \n",
       "ODT_18790120_ARTICLE11  [The Rev. Dr Roseby presched en this sub j set...   \n",
       "ODT_18790120_ARTICLE17  [Sir, —I was gratified to read in your leading...   \n",
       "ODT_18790121_ARTICLE3   [The Committee appointed by the Athenceum meet...   \n",
       "ODT_18790121_ARTICLE16  [Sir,—l clxervo that the reft-reuce to tbo \"jj...   \n",
       "ODT_18790121_ARTICLE17  [Sia,—lt may not be out of place, in the prese...   \n",
       "\n",
       "                       Newspaper      Date  \n",
       "LT_18940102_ARTICLE15         LT  18940102  \n",
       "LT_18940102_ARTICLE26         LT  18940102  \n",
       "LT_18940105_ARTICLE16         LT  18940105  \n",
       "LT_18940108_ARTICLE22         LT  18940108  \n",
       "LT_18940109_ARTICLE7          LT  18940109  \n",
       "...                          ...       ...  \n",
       "ODT_18790120_ARTICLE11       ODT  18790120  \n",
       "ODT_18790120_ARTICLE17       ODT  18790120  \n",
       "ODT_18790121_ARTICLE3        ODT  18790121  \n",
       "ODT_18790121_ARTICLE16       ODT  18790121  \n",
       "ODT_18790121_ARTICLE17       ODT  18790121  \n",
       "\n",
       "[37949 rows x 4 columns]"
      ]
     },
     "execution_count": 17,
     "metadata": {},
     "output_type": "execute_result"
    }
   ],
   "source": [
    "philoso_corpus"
   ]
  },
  {
   "cell_type": "code",
   "execution_count": 27,
   "metadata": {
    "scrolled": false
   },
   "outputs": [
    {
     "data": {
      "application/vnd.jupyter.widget-view+json": {
       "model_id": "d134c25f841d4e40854848323dca9ee5",
       "version_major": 2,
       "version_minor": 0
      },
      "text/plain": [
       "interactive(children=(Dropdown(description='index', options=('AS_18771201_ARTICLE22', 'AS_18791215_ARTICLE29',…"
      ]
     },
     "metadata": {},
     "output_type": "display_data"
    },
    {
     "data": {
      "text/plain": [
       "<function NL_helpers.html_text(index, dataframe, boldface=None)>"
      ]
     },
     "execution_count": 27,
     "metadata": {},
     "output_type": "execute_result"
    }
   ],
   "source": [
    "indices = philoso_corpus.sample(n=100).index\n",
    "interact(NL_helpers.html_text, index=m_indices, dataframe=fixed(philoso_corpus), boldface=fixed('[Mm]aori'))"
   ]
  },
  {
   "cell_type": "code",
   "execution_count": 25,
   "metadata": {},
   "outputs": [],
   "source": [
    "m_indices = NL_helpers.search_text(philoso_corpus, 'maori', lower=True)"
   ]
  }
 ],
 "metadata": {
  "kernelspec": {
   "display_name": "Python 3",
   "language": "python",
   "name": "python3"
  },
  "language_info": {
   "codemirror_mode": {
    "name": "ipython",
    "version": 3
   },
   "file_extension": ".py",
   "mimetype": "text/x-python",
   "name": "python",
   "nbconvert_exporter": "python",
   "pygments_lexer": "ipython3",
   "version": "3.7.6"
  }
 },
 "nbformat": 4,
 "nbformat_minor": 4
}

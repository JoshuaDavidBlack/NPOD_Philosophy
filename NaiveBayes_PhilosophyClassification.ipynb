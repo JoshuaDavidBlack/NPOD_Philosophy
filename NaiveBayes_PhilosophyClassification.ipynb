{
 "cells": [
  {
   "cell_type": "markdown",
   "metadata": {},
   "source": [
    "# First Application of Naive Bayes to Philosophy/Non-Philosophy Classification"
   ]
  },
  {
   "cell_type": "code",
   "execution_count": 43,
   "metadata": {},
   "outputs": [],
   "source": [
    "import os\n",
    "import pickle\n",
    "from multiprocessing import Pool\n",
    "\n",
    "from ipywidgets import interact, interactive, fixed, interact_manual\n",
    "import ipywidgets as widgets\n",
    "\n",
    "from nltk.corpus import stopwords\n",
    "\n",
    "import numpy as np\n",
    "\n",
    "from sklearn import metrics\n",
    "from sklearn.feature_extraction.text import CountVectorizer, TfidfTransformer\n",
    "from sklearn.model_selection import GridSearchCV\n",
    "from sklearn.naive_bayes import MultinomialNB\n",
    "from sklearn.pipeline import Pipeline\n",
    "\n",
    "import pandas as pd\n",
    "\n",
    "import NL_helpers\n",
    "\n",
    "STOPWORDS = list(stopwords.words('english'))\n",
    "STOPWORDS_2 = STOPWORDS + ['philosophy']"
   ]
  },
  {
   "cell_type": "markdown",
   "metadata": {},
   "source": [
    "## Load Labels and Corresponding Texts"
   ]
  },
  {
   "cell_type": "markdown",
   "metadata": {},
   "source": [
    "Load labels with article codes."
   ]
  },
  {
   "cell_type": "code",
   "execution_count": 2,
   "metadata": {},
   "outputs": [],
   "source": [
    "annotated_df = pd.read_pickle('pickles/classified_df.pickle')"
   ]
  },
  {
   "cell_type": "code",
   "execution_count": null,
   "metadata": {
    "scrolled": true
   },
   "outputs": [],
   "source": [
    "annotated_df"
   ]
  },
  {
   "cell_type": "markdown",
   "metadata": {},
   "source": [
    "Use article codes to load texts."
   ]
  },
  {
   "cell_type": "code",
   "execution_count": 4,
   "metadata": {},
   "outputs": [],
   "source": [
    "dataset_path = '/home/joshua/hdd/Datasets/papers-past/'"
   ]
  },
  {
   "cell_type": "markdown",
   "metadata": {},
   "source": [
    "The total dataset is divided into nine pickles. The following code runs through each, and collects the text for any articles in the annotated df using a left join opperation."
   ]
  },
  {
   "cell_type": "code",
   "execution_count": null,
   "metadata": {},
   "outputs": [],
   "source": [
    "texts = pd.DataFrame(index=annotated_df.index)\n",
    "for i in range(9):\n",
    "    df = pd.read_pickle(dataset_path+f'corpus_df_{i}.tar.gz')\n",
    "    matching_df = texts.join(df['Text'])\n",
    "    annotated_df = annotated_df.combine_first(matching_df)\n",
    "    del matching_df, df # May aid python memory management"
   ]
  },
  {
   "cell_type": "markdown",
   "metadata": {},
   "source": [
    "Change text from list to simple string"
   ]
  },
  {
   "cell_type": "code",
   "execution_count": null,
   "metadata": {},
   "outputs": [],
   "source": [
    "annotated_df['Text'] = annotated_df['Text'].map(NL_helpers.blocks2string)"
   ]
  },
  {
   "cell_type": "code",
   "execution_count": null,
   "metadata": {},
   "outputs": [],
   "source": [
    "annotated_df.to_pickle('pickles/classified_with_text_df.pickle')"
   ]
  },
  {
   "cell_type": "code",
   "execution_count": 3,
   "metadata": {},
   "outputs": [],
   "source": [
    "# annotated_df = pd.read_pickle('pickles/classified_with_text_df.pickle')"
   ]
  },
  {
   "cell_type": "code",
   "execution_count": 5,
   "metadata": {},
   "outputs": [
    {
     "data": {
      "text/plain": [
       "False    147\n",
       "True     101\n",
       "Name: Philosophy, dtype: int64"
      ]
     },
     "execution_count": 5,
     "metadata": {},
     "output_type": "execute_result"
    }
   ],
   "source": [
    "annotated_df['Philosophy'].value_counts()"
   ]
  },
  {
   "cell_type": "markdown",
   "metadata": {},
   "source": [
    "I will go for a 75/25 training/test split on the philosophy observations. I will do the same on 100 of the non-philosophy and then add the remaining 47 non-philosophy articles to the test set. This should somewhat mimic the prevalence of non-philosophy articles in the overall dataset."
   ]
  },
  {
   "cell_type": "code",
   "execution_count": 6,
   "metadata": {},
   "outputs": [],
   "source": [
    "training_phil = annotated_df.loc[annotated_df['Philosophy']==True].sample(n=75)\n",
    "training_nonphil = annotated_df.loc[annotated_df['Philosophy']==False].sample(n=75)\n",
    "training_df = training_phil.append(training_nonphil)\n",
    "del training_phil, training_nonphil"
   ]
  },
  {
   "cell_type": "code",
   "execution_count": 7,
   "metadata": {},
   "outputs": [],
   "source": [
    "test_df = annotated_df.loc[[i for i in annotated_df.index if not i in training_df.index]]"
   ]
  },
  {
   "cell_type": "code",
   "execution_count": 8,
   "metadata": {},
   "outputs": [
    {
     "data": {
      "text/html": [
       "<div>\n",
       "<style scoped>\n",
       "    .dataframe tbody tr th:only-of-type {\n",
       "        vertical-align: middle;\n",
       "    }\n",
       "\n",
       "    .dataframe tbody tr th {\n",
       "        vertical-align: top;\n",
       "    }\n",
       "\n",
       "    .dataframe thead th {\n",
       "        text-align: right;\n",
       "    }\n",
       "</style>\n",
       "<table border=\"1\" class=\"dataframe\">\n",
       "  <thead>\n",
       "    <tr style=\"text-align: right;\">\n",
       "      <th></th>\n",
       "      <th>NZ</th>\n",
       "      <th>Notes</th>\n",
       "      <th>Philosophy</th>\n",
       "      <th>Philosophy Type</th>\n",
       "      <th>Readable</th>\n",
       "      <th>Text</th>\n",
       "      <th>Writing Type</th>\n",
       "    </tr>\n",
       "  </thead>\n",
       "  <tbody>\n",
       "    <tr>\n",
       "      <th>WC_18810721_ARTICLE7</th>\n",
       "      <td>None</td>\n",
       "      <td></td>\n",
       "      <td>False</td>\n",
       "      <td>None</td>\n",
       "      <td>True</td>\n",
       "      <td>July 18. ; The \"Very Eev. A. P. Stanley, Dean ...</td>\n",
       "      <td>None</td>\n",
       "    </tr>\n",
       "    <tr>\n",
       "      <th>OW_18800717_ARTICLE97</th>\n",
       "      <td>None</td>\n",
       "      <td></td>\n",
       "      <td>False</td>\n",
       "      <td>None</td>\n",
       "      <td>True</td>\n",
       "      <td>1465. Charade —By Albert E Hardy, Oamaru :—\\nM...</td>\n",
       "      <td>None</td>\n",
       "    </tr>\n",
       "    <tr>\n",
       "      <th>ESD_18890912_ARTICLE37</th>\n",
       "      <td>None</td>\n",
       "      <td></td>\n",
       "      <td>False</td>\n",
       "      <td>None</td>\n",
       "      <td>True</td>\n",
       "      <td>[By Onr. Special Reporters.!\\nOAMARU, Septembe...</td>\n",
       "      <td>None</td>\n",
       "    </tr>\n",
       "    <tr>\n",
       "      <th>HBH_18860916_ARTICLE10</th>\n",
       "      <td>None</td>\n",
       "      <td></td>\n",
       "      <td>False</td>\n",
       "      <td>None</td>\n",
       "      <td>True</td>\n",
       "      <td>(Itccoivcd Soptombor la, 2.15 p.m.)\\nMklhourxk...</td>\n",
       "      <td>None</td>\n",
       "    </tr>\n",
       "    <tr>\n",
       "      <th>WT_18760815_ARTICLE1</th>\n",
       "      <td>None</td>\n",
       "      <td></td>\n",
       "      <td>None</td>\n",
       "      <td>None</td>\n",
       "      <td>False</td>\n",
       "      <td>Mr X ITU rt-pjrts that at Mr Oibson'i clearing...</td>\n",
       "      <td>None</td>\n",
       "    </tr>\n",
       "    <tr>\n",
       "      <th>...</th>\n",
       "      <td>...</td>\n",
       "      <td>...</td>\n",
       "      <td>...</td>\n",
       "      <td>...</td>\n",
       "      <td>...</td>\n",
       "      <td>...</td>\n",
       "      <td>...</td>\n",
       "    </tr>\n",
       "    <tr>\n",
       "      <th>NOT_18760629_ARTICLE9</th>\n",
       "      <td>True</td>\n",
       "      <td>Good grump about Duncan MacGregor, first phil ...</td>\n",
       "      <td>True</td>\n",
       "      <td>r</td>\n",
       "      <td>True</td>\n",
       "      <td>Sib,— The Rev. A. B. Todd, in your issue of Ju...</td>\n",
       "      <td>l</td>\n",
       "    </tr>\n",
       "    <tr>\n",
       "      <th>FS_18830811_ARTICLE11</th>\n",
       "      <td>True</td>\n",
       "      <td></td>\n",
       "      <td>True</td>\n",
       "      <td>r</td>\n",
       "      <td>True</td>\n",
       "      <td>' The Rev. Mr Murray delivered bis s lecture a...</td>\n",
       "      <td>p</td>\n",
       "    </tr>\n",
       "    <tr>\n",
       "      <th>ODT_18990920_ARTICLE15</th>\n",
       "      <td>True</td>\n",
       "      <td></td>\n",
       "      <td>True</td>\n",
       "      <td>e</td>\n",
       "      <td>True</td>\n",
       "      <td>TQ THE EDITOK.\\nSir, —The famous saying of the...</td>\n",
       "      <td>l</td>\n",
       "    </tr>\n",
       "    <tr>\n",
       "      <th>MEX_18900430_ARTICLE32</th>\n",
       "      <td>None</td>\n",
       "      <td></td>\n",
       "      <td>True</td>\n",
       "      <td>r</td>\n",
       "      <td>True</td>\n",
       "      <td>What etands ont as the one greot, estab lished...</td>\n",
       "      <td>f</td>\n",
       "    </tr>\n",
       "    <tr>\n",
       "      <th>NEM_18840707_ARTICLE12</th>\n",
       "      <td>True</td>\n",
       "      <td></td>\n",
       "      <td>True</td>\n",
       "      <td>r</td>\n",
       "      <td>True</td>\n",
       "      <td>to assume that it was self evident. Ingenious ...</td>\n",
       "      <td>p</td>\n",
       "    </tr>\n",
       "  </tbody>\n",
       "</table>\n",
       "<p>123 rows × 7 columns</p>\n",
       "</div>"
      ],
      "text/plain": [
       "                          NZ  \\\n",
       "WC_18810721_ARTICLE7    None   \n",
       "OW_18800717_ARTICLE97   None   \n",
       "ESD_18890912_ARTICLE37  None   \n",
       "HBH_18860916_ARTICLE10  None   \n",
       "WT_18760815_ARTICLE1    None   \n",
       "...                      ...   \n",
       "NOT_18760629_ARTICLE9   True   \n",
       "FS_18830811_ARTICLE11   True   \n",
       "ODT_18990920_ARTICLE15  True   \n",
       "MEX_18900430_ARTICLE32  None   \n",
       "NEM_18840707_ARTICLE12  True   \n",
       "\n",
       "                                                                    Notes  \\\n",
       "WC_18810721_ARTICLE7                                                        \n",
       "OW_18800717_ARTICLE97                                                       \n",
       "ESD_18890912_ARTICLE37                                                      \n",
       "HBH_18860916_ARTICLE10                                                      \n",
       "WT_18760815_ARTICLE1                                                        \n",
       "...                                                                   ...   \n",
       "NOT_18760629_ARTICLE9   Good grump about Duncan MacGregor, first phil ...   \n",
       "FS_18830811_ARTICLE11                                                       \n",
       "ODT_18990920_ARTICLE15                                                      \n",
       "MEX_18900430_ARTICLE32                                                      \n",
       "NEM_18840707_ARTICLE12                                                      \n",
       "\n",
       "                       Philosophy Philosophy Type Readable  \\\n",
       "WC_18810721_ARTICLE7        False            None     True   \n",
       "OW_18800717_ARTICLE97       False            None     True   \n",
       "ESD_18890912_ARTICLE37      False            None     True   \n",
       "HBH_18860916_ARTICLE10      False            None     True   \n",
       "WT_18760815_ARTICLE1         None            None    False   \n",
       "...                           ...             ...      ...   \n",
       "NOT_18760629_ARTICLE9        True               r     True   \n",
       "FS_18830811_ARTICLE11        True               r     True   \n",
       "ODT_18990920_ARTICLE15       True               e     True   \n",
       "MEX_18900430_ARTICLE32       True               r     True   \n",
       "NEM_18840707_ARTICLE12       True               r     True   \n",
       "\n",
       "                                                                     Text  \\\n",
       "WC_18810721_ARTICLE7    July 18. ; The \"Very Eev. A. P. Stanley, Dean ...   \n",
       "OW_18800717_ARTICLE97   1465. Charade —By Albert E Hardy, Oamaru :—\\nM...   \n",
       "ESD_18890912_ARTICLE37  [By Onr. Special Reporters.!\\nOAMARU, Septembe...   \n",
       "HBH_18860916_ARTICLE10  (Itccoivcd Soptombor la, 2.15 p.m.)\\nMklhourxk...   \n",
       "WT_18760815_ARTICLE1    Mr X ITU rt-pjrts that at Mr Oibson'i clearing...   \n",
       "...                                                                   ...   \n",
       "NOT_18760629_ARTICLE9   Sib,— The Rev. A. B. Todd, in your issue of Ju...   \n",
       "FS_18830811_ARTICLE11   ' The Rev. Mr Murray delivered bis s lecture a...   \n",
       "ODT_18990920_ARTICLE15  TQ THE EDITOK.\\nSir, —The famous saying of the...   \n",
       "MEX_18900430_ARTICLE32  What etands ont as the one greot, estab lished...   \n",
       "NEM_18840707_ARTICLE12  to assume that it was self evident. Ingenious ...   \n",
       "\n",
       "                       Writing Type  \n",
       "WC_18810721_ARTICLE7           None  \n",
       "OW_18800717_ARTICLE97          None  \n",
       "ESD_18890912_ARTICLE37         None  \n",
       "HBH_18860916_ARTICLE10         None  \n",
       "WT_18760815_ARTICLE1           None  \n",
       "...                             ...  \n",
       "NOT_18760629_ARTICLE9             l  \n",
       "FS_18830811_ARTICLE11             p  \n",
       "ODT_18990920_ARTICLE15            l  \n",
       "MEX_18900430_ARTICLE32            f  \n",
       "NEM_18840707_ARTICLE12            p  \n",
       "\n",
       "[123 rows x 7 columns]"
      ]
     },
     "execution_count": 8,
     "metadata": {},
     "output_type": "execute_result"
    }
   ],
   "source": [
    "test_df"
   ]
  },
  {
   "cell_type": "markdown",
   "metadata": {},
   "source": [
    "## Set up Pipeline and Fit Model"
   ]
  },
  {
   "cell_type": "markdown",
   "metadata": {},
   "source": [
    "Tokeniser change from default: words of length 3+ rather than 2+."
   ]
  },
  {
   "cell_type": "code",
   "execution_count": 5,
   "metadata": {},
   "outputs": [],
   "source": [
    "phil_classifier = Pipeline([\n",
    "    ('vect', CountVectorizer(\n",
    "        max_df=0.4,\n",
    "        min_df=9,\n",
    "        stop_words=STOPWORDS, \n",
    "        token_pattern=r'(?u)\\b\\w\\w\\w+\\b')),\n",
    "    ('tfidf', TfidfTransformer()),\n",
    "    ('clf', MultinomialNB()),\n",
    "])"
   ]
  },
  {
   "cell_type": "code",
   "execution_count": 10,
   "metadata": {},
   "outputs": [],
   "source": [
    "training_features = training_df['Text'].astype('string').to_numpy()"
   ]
  },
  {
   "cell_type": "code",
   "execution_count": 11,
   "metadata": {},
   "outputs": [],
   "source": [
    "training_labels = training_df['Philosophy'].to_numpy().astype(bool)"
   ]
  },
  {
   "cell_type": "code",
   "execution_count": 12,
   "metadata": {},
   "outputs": [
    {
     "data": {
      "text/plain": [
       "array([ True,  True,  True,  True,  True,  True,  True,  True,  True,\n",
       "        True,  True,  True,  True,  True,  True,  True,  True,  True,\n",
       "        True,  True,  True,  True,  True,  True,  True,  True,  True,\n",
       "        True,  True,  True,  True,  True,  True,  True,  True,  True,\n",
       "        True,  True,  True,  True,  True,  True,  True,  True,  True,\n",
       "        True,  True,  True,  True,  True,  True,  True,  True,  True,\n",
       "        True,  True,  True,  True,  True,  True,  True,  True,  True,\n",
       "        True,  True,  True,  True,  True,  True,  True,  True,  True,\n",
       "        True,  True,  True, False, False, False, False, False, False,\n",
       "       False, False, False, False, False, False, False, False, False,\n",
       "       False, False, False, False, False, False, False, False, False,\n",
       "       False, False, False, False, False, False, False, False, False,\n",
       "       False, False, False, False, False, False, False, False, False,\n",
       "       False, False, False, False, False, False, False, False, False,\n",
       "       False, False, False, False, False, False, False, False, False,\n",
       "       False, False, False, False, False, False, False, False, False,\n",
       "       False, False, False, False, False, False])"
      ]
     },
     "execution_count": 12,
     "metadata": {},
     "output_type": "execute_result"
    }
   ],
   "source": [
    "training_labels"
   ]
  },
  {
   "cell_type": "code",
   "execution_count": 13,
   "metadata": {
    "scrolled": true
   },
   "outputs": [
    {
     "data": {
      "text/plain": [
       "Pipeline(memory=None,\n",
       "         steps=[('vect',\n",
       "                 CountVectorizer(analyzer='word', binary=False,\n",
       "                                 decode_error='strict',\n",
       "                                 dtype=<class 'numpy.int64'>, encoding='utf-8',\n",
       "                                 input='content', lowercase=True, max_df=0.4,\n",
       "                                 max_features=None, min_df=9,\n",
       "                                 ngram_range=(1, 1), preprocessor=None,\n",
       "                                 stop_words=['i', 'me', 'my', 'myself', 'we',\n",
       "                                             'our', 'ours', 'ourselves', 'you',\n",
       "                                             \"you're\", \"you've\", \"you'll\",...\n",
       "                                             'yourself', 'yourselves', 'he',\n",
       "                                             'him', 'his', 'himself', 'she',\n",
       "                                             \"she's\", 'her', 'hers', 'herself',\n",
       "                                             'it', \"it's\", 'its', 'itself', ...],\n",
       "                                 strip_accents=None,\n",
       "                                 token_pattern='(?u)\\\\b\\\\w\\\\w\\\\w+\\\\b',\n",
       "                                 tokenizer=None, vocabulary=None)),\n",
       "                ('tfidf',\n",
       "                 TfidfTransformer(norm='l2', smooth_idf=True,\n",
       "                                  sublinear_tf=False, use_idf=True)),\n",
       "                ('clf',\n",
       "                 MultinomialNB(alpha=1.0, class_prior=None, fit_prior=True))],\n",
       "         verbose=False)"
      ]
     },
     "execution_count": 13,
     "metadata": {},
     "output_type": "execute_result"
    }
   ],
   "source": [
    "phil_classifier.fit(training_features, training_labels)"
   ]
  },
  {
   "cell_type": "code",
   "execution_count": 14,
   "metadata": {},
   "outputs": [],
   "source": [
    "test_features = test_df['Text'].astype('string').to_numpy()"
   ]
  },
  {
   "cell_type": "code",
   "execution_count": 15,
   "metadata": {},
   "outputs": [],
   "source": [
    "test_labels = test_df['Philosophy'].to_numpy().astype(bool)"
   ]
  },
  {
   "cell_type": "code",
   "execution_count": 16,
   "metadata": {},
   "outputs": [],
   "source": [
    "predicted = phil_classifier.predict(test_features)"
   ]
  },
  {
   "cell_type": "code",
   "execution_count": 17,
   "metadata": {},
   "outputs": [
    {
     "data": {
      "text/plain": [
       "0.9024390243902439"
      ]
     },
     "execution_count": 17,
     "metadata": {},
     "output_type": "execute_result"
    }
   ],
   "source": [
    "np.mean(predicted == test_labels)"
   ]
  },
  {
   "cell_type": "code",
   "execution_count": 18,
   "metadata": {},
   "outputs": [
    {
     "data": {
      "text/plain": [
       "array([[88,  9],\n",
       "       [ 3, 23]])"
      ]
     },
     "execution_count": 18,
     "metadata": {},
     "output_type": "execute_result"
    }
   ],
   "source": [
    "metrics.confusion_matrix(test_labels, predicted)"
   ]
  },
  {
   "cell_type": "code",
   "execution_count": 19,
   "metadata": {},
   "outputs": [
    {
     "data": {
      "text/plain": [
       "1458"
      ]
     },
     "execution_count": 19,
     "metadata": {},
     "output_type": "execute_result"
    }
   ],
   "source": [
    "len(phil_classifier['vect'].vocabulary_)"
   ]
  },
  {
   "cell_type": "markdown",
   "metadata": {},
   "source": [
    "## Grid Parameter Search"
   ]
  },
  {
   "cell_type": "code",
   "execution_count": 20,
   "metadata": {},
   "outputs": [],
   "source": [
    "parameters = {\n",
    "    'vect__min_df': [7, 8, 9, 10, 11, 12],\n",
    "    'vect__max_df': [0.2, 0.3, 0.4, 0.5],\n",
    "    'vect__ngram_range': [(1, 1), (1, 2), (1, 3)],\n",
    "    'vect__stop_words': [STOPWORDS, STOPWORDS_2], # Worry: presence of the word 'philosophy' is doing all the work\n",
    "    'tfidf__use_idf': (True, False),\n",
    "}"
   ]
  },
  {
   "cell_type": "code",
   "execution_count": 21,
   "metadata": {},
   "outputs": [
    {
     "data": {
      "text/plain": [
       "GridSearchCV(cv=5, error_score=nan,\n",
       "             estimator=Pipeline(memory=None,\n",
       "                                steps=[('vect',\n",
       "                                        CountVectorizer(analyzer='word',\n",
       "                                                        binary=False,\n",
       "                                                        decode_error='strict',\n",
       "                                                        dtype=<class 'numpy.int64'>,\n",
       "                                                        encoding='utf-8',\n",
       "                                                        input='content',\n",
       "                                                        lowercase=True,\n",
       "                                                        max_df=0.4,\n",
       "                                                        max_features=None,\n",
       "                                                        min_df=9,\n",
       "                                                        ngram_range=(1, 1),\n",
       "                                                        preprocessor=None,\n",
       "                                                        stop_words=['i', 'me',\n",
       "                                                                    'my',\n",
       "                                                                    'myself',\n",
       "                                                                    'we', 'our',\n",
       "                                                                    'ours',\n",
       "                                                                    '...\n",
       "                                               'hers', 'herself', 'it', \"it's\",\n",
       "                                               'its', 'itself', ...],\n",
       "                                              ['i', 'me', 'my', 'myself', 'we',\n",
       "                                               'our', 'ours', 'ourselves',\n",
       "                                               'you', \"you're\", \"you've\",\n",
       "                                               \"you'll\", \"you'd\", 'your',\n",
       "                                               'yours', 'yourself',\n",
       "                                               'yourselves', 'he', 'him', 'his',\n",
       "                                               'himself', 'she', \"she's\", 'her',\n",
       "                                               'hers', 'herself', 'it', \"it's\",\n",
       "                                               'its', 'itself', ...]]},\n",
       "             pre_dispatch='2*n_jobs', refit=True, return_train_score=False,\n",
       "             scoring=None, verbose=0)"
      ]
     },
     "execution_count": 21,
     "metadata": {},
     "output_type": "execute_result"
    }
   ],
   "source": [
    "gs_clf = GridSearchCV(phil_classifier, parameters, cv=5, n_jobs=-1)\n",
    "gs_clf.fit(training_features, training_labels)"
   ]
  },
  {
   "cell_type": "code",
   "execution_count": 25,
   "metadata": {},
   "outputs": [
    {
     "data": {
      "text/plain": [
       "0.8933333333333333"
      ]
     },
     "execution_count": 25,
     "metadata": {},
     "output_type": "execute_result"
    }
   ],
   "source": [
    "gs_clf.best_score_"
   ]
  },
  {
   "cell_type": "code",
   "execution_count": 26,
   "metadata": {},
   "outputs": [
    {
     "name": "stdout",
     "output_type": "stream",
     "text": [
      "tfidf__use_idf: True\n",
      "vect__max_df: 0.2\n",
      "vect__min_df: 7\n",
      "vect__ngram_range: (1, 1)\n",
      "vect__stop_words: ['i', 'me', 'my', 'myself', 'we', 'our', 'ours', 'ourselves', 'you', \"you're\", \"you've\", \"you'll\", \"you'd\", 'your', 'yours', 'yourself', 'yourselves', 'he', 'him', 'his', 'himself', 'she', \"she's\", 'her', 'hers', 'herself', 'it', \"it's\", 'its', 'itself', 'they', 'them', 'their', 'theirs', 'themselves', 'what', 'which', 'who', 'whom', 'this', 'that', \"that'll\", 'these', 'those', 'am', 'is', 'are', 'was', 'were', 'be', 'been', 'being', 'have', 'has', 'had', 'having', 'do', 'does', 'did', 'doing', 'a', 'an', 'the', 'and', 'but', 'if', 'or', 'because', 'as', 'until', 'while', 'of', 'at', 'by', 'for', 'with', 'about', 'against', 'between', 'into', 'through', 'during', 'before', 'after', 'above', 'below', 'to', 'from', 'up', 'down', 'in', 'out', 'on', 'off', 'over', 'under', 'again', 'further', 'then', 'once', 'here', 'there', 'when', 'where', 'why', 'how', 'all', 'any', 'both', 'each', 'few', 'more', 'most', 'other', 'some', 'such', 'no', 'nor', 'not', 'only', 'own', 'same', 'so', 'than', 'too', 'very', 's', 't', 'can', 'will', 'just', 'don', \"don't\", 'should', \"should've\", 'now', 'd', 'll', 'm', 'o', 're', 've', 'y', 'ain', 'aren', \"aren't\", 'couldn', \"couldn't\", 'didn', \"didn't\", 'doesn', \"doesn't\", 'hadn', \"hadn't\", 'hasn', \"hasn't\", 'haven', \"haven't\", 'isn', \"isn't\", 'ma', 'mightn', \"mightn't\", 'mustn', \"mustn't\", 'needn', \"needn't\", 'shan', \"shan't\", 'shouldn', \"shouldn't\", 'wasn', \"wasn't\", 'weren', \"weren't\", 'won', \"won't\", 'wouldn', \"wouldn't\"]\n"
     ]
    }
   ],
   "source": [
    "for param_name in sorted(parameters.keys()):\n",
    "    print(\"%s: %r\" % (param_name, gs_clf.best_params_[param_name]))"
   ]
  },
  {
   "cell_type": "code",
   "execution_count": 46,
   "metadata": {},
   "outputs": [],
   "source": [
    "with open('classifiers/NB_1.pickle', 'wb') as fout:\n",
    "  pickle.dump(phil_classifier, fout)"
   ]
  },
  {
   "cell_type": "markdown",
   "metadata": {},
   "source": [
    "## Apply Model with Best Params to Subset of Total Dataset"
   ]
  },
  {
   "cell_type": "markdown",
   "metadata": {},
   "source": [
    "Some of these include articles that will be in the test set. I don't think this is a big deal."
   ]
  },
  {
   "cell_type": "code",
   "execution_count": 17,
   "metadata": {},
   "outputs": [],
   "source": [
    "# If necessary reload model:\n",
    "with open('classifiers/NB_1.pickle', 'rb') as fin:\n",
    "  phil_classifier = pickle.load(fin)"
   ]
  },
  {
   "cell_type": "code",
   "execution_count": 24,
   "metadata": {},
   "outputs": [],
   "source": [
    "corpus_subset_df = pd.read_pickle('pickles/corpus_2000per_subset_df.pickle')"
   ]
  },
  {
   "cell_type": "code",
   "execution_count": 27,
   "metadata": {},
   "outputs": [
    {
     "data": {
      "text/plain": [
       "17949"
      ]
     },
     "execution_count": 27,
     "metadata": {},
     "output_type": "execute_result"
    }
   ],
   "source": [
    "len(corpus_subset_df)"
   ]
  },
  {
   "cell_type": "code",
   "execution_count": 28,
   "metadata": {},
   "outputs": [],
   "source": [
    "corpus_subset_df['Text as string'] = corpus_subset_df['Text'].apply(NL_helpers.blocks2string)"
   ]
  },
  {
   "cell_type": "code",
   "execution_count": 6,
   "metadata": {},
   "outputs": [],
   "source": [
    "def filter_short_articles(string):\n",
    "    if len(string)<800:\n",
    "        string = ''\n",
    "    return string"
   ]
  },
  {
   "cell_type": "code",
   "execution_count": 30,
   "metadata": {},
   "outputs": [],
   "source": [
    "corpus_subset_df['Text as string'] = corpus_subset_df['Text as string'].map(filter_short_articles)"
   ]
  },
  {
   "cell_type": "code",
   "execution_count": 31,
   "metadata": {},
   "outputs": [],
   "source": [
    "corpus_subset_df.drop(corpus_subset_df[corpus_subset_df['Text as string']==''].index, inplace=True)"
   ]
  },
  {
   "cell_type": "code",
   "execution_count": 32,
   "metadata": {},
   "outputs": [],
   "source": [
    "corpus_subset_features = corpus_subset_df['Text as string'].astype('string').to_numpy()"
   ]
  },
  {
   "cell_type": "code",
   "execution_count": 33,
   "metadata": {},
   "outputs": [],
   "source": [
    "predicted_subset = phil_classifier.predict(corpus_subset_features)"
   ]
  },
  {
   "cell_type": "code",
   "execution_count": 34,
   "metadata": {},
   "outputs": [],
   "source": [
    "predictions = pd.Series(data=predicted_subset)"
   ]
  },
  {
   "cell_type": "code",
   "execution_count": 35,
   "metadata": {},
   "outputs": [
    {
     "data": {
      "text/plain": [
       "False    10670\n",
       "True       747\n",
       "dtype: int64"
      ]
     },
     "execution_count": 35,
     "metadata": {},
     "output_type": "execute_result"
    }
   ],
   "source": [
    "predictions.value_counts()"
   ]
  },
  {
   "cell_type": "code",
   "execution_count": 36,
   "metadata": {},
   "outputs": [],
   "source": [
    "predictions.index = corpus_subset_df.index"
   ]
  },
  {
   "cell_type": "code",
   "execution_count": 37,
   "metadata": {},
   "outputs": [
    {
     "data": {
      "text/html": [
       "<div>\n",
       "<style scoped>\n",
       "    .dataframe tbody tr th:only-of-type {\n",
       "        vertical-align: middle;\n",
       "    }\n",
       "\n",
       "    .dataframe tbody tr th {\n",
       "        vertical-align: top;\n",
       "    }\n",
       "\n",
       "    .dataframe thead th {\n",
       "        text-align: right;\n",
       "    }\n",
       "</style>\n",
       "<table border=\"1\" class=\"dataframe\">\n",
       "  <thead>\n",
       "    <tr style=\"text-align: right;\">\n",
       "      <th></th>\n",
       "      <th>Title</th>\n",
       "      <th>Text</th>\n",
       "      <th>Newspaper</th>\n",
       "      <th>Date</th>\n",
       "      <th>Tokenised</th>\n",
       "      <th>Text as string</th>\n",
       "    </tr>\n",
       "  </thead>\n",
       "  <tbody>\n",
       "    <tr>\n",
       "      <th>BH_18740911_ARTICLE23</th>\n",
       "      <td>Invercargill</td>\n",
       "      <td>[(Frbrriburbwri'Gbrresponderit.), The* attenti...</td>\n",
       "      <td>NaN</td>\n",
       "      <td>NaN</td>\n",
       "      <td>NaN</td>\n",
       "      <td>(Frbrriburbwri'Gbrresponderit.)\\nThe* attentio...</td>\n",
       "    </tr>\n",
       "    <tr>\n",
       "      <th>CHP_18970902_ARTICLE28</th>\n",
       "      <td>THE QUEEN AND HER PEOPLE.</td>\n",
       "      <td>[The following is the Queen's Jubilee letter.—...</td>\n",
       "      <td>NaN</td>\n",
       "      <td>NaN</td>\n",
       "      <td>NaN</td>\n",
       "      <td>The following is the Queen's Jubilee letter.—\"...</td>\n",
       "    </tr>\n",
       "    <tr>\n",
       "      <th>BH_18811209_ARTICLE27</th>\n",
       "      <td>HOW IT ALL CAME ABOUT.</td>\n",
       "      <td>[1; ! Bj; a prtfce-s (O- 5 -*ydlut_b_i ;; and'...</td>\n",
       "      <td>NaN</td>\n",
       "      <td>NaN</td>\n",
       "      <td>NaN</td>\n",
       "      <td>1; ! Bj; a prtfce-s (O- 5 -*ydlut_b_i ;; and' ...</td>\n",
       "    </tr>\n",
       "    <tr>\n",
       "      <th>CHP_18970206_ARTICLE29</th>\n",
       "      <td>\"PERFIDIOUS ALBION.\"</td>\n",
       "      <td>[It is seldom that any nation has an opportuni...</td>\n",
       "      <td>NaN</td>\n",
       "      <td>NaN</td>\n",
       "      <td>NaN</td>\n",
       "      <td>It is seldom that any nation has an opportunit...</td>\n",
       "    </tr>\n",
       "    <tr>\n",
       "      <th>CHP_18990714_ARTICLE48</th>\n",
       "      <td>RELIGIOUS EDUCATION.</td>\n",
       "      <td>[A- meeting of ministers representing the wiou...</td>\n",
       "      <td>NaN</td>\n",
       "      <td>NaN</td>\n",
       "      <td>NaN</td>\n",
       "      <td>A- meeting of ministers representing the wious...</td>\n",
       "    </tr>\n",
       "    <tr>\n",
       "      <th>...</th>\n",
       "      <td>...</td>\n",
       "      <td>...</td>\n",
       "      <td>...</td>\n",
       "      <td>...</td>\n",
       "      <td>...</td>\n",
       "      <td>...</td>\n",
       "    </tr>\n",
       "    <tr>\n",
       "      <th>ODT_18980810_ARTICLE58</th>\n",
       "      <td>BIBLE IN SCHOOLS.</td>\n",
       "      <td>[•. , .... , ~r ,j TO. THE EDITOR. ~.. ;.■■■],...</td>\n",
       "      <td>ODT</td>\n",
       "      <td>18980810</td>\n",
       "      <td>[editor, sißj, quite, corre, spondentti, pippa...</td>\n",
       "      <td>•. , .... , ~r ,j TO. THE EDITOR. ~.. ;.■■■],....</td>\n",
       "    </tr>\n",
       "    <tr>\n",
       "      <th>ODT_18980531_ARTICLE21</th>\n",
       "      <td>THE SITUATION IN ITALY.</td>\n",
       "      <td>[A LETTER FROM THE POPE,, Press Association—By...</td>\n",
       "      <td>ODT</td>\n",
       "      <td>18980531</td>\n",
       "      <td>[letter, pope, press, association, telegraph, ...</td>\n",
       "      <td>A LETTER FROM THE POPE,\\nPress Association—By ...</td>\n",
       "    </tr>\n",
       "    <tr>\n",
       "      <th>ODT_18980810_ARTICLE15</th>\n",
       "      <td>SUNDAY NIGHT CONCERTS. TO THE EDITOR.</td>\n",
       "      <td>[•Sis.^Every.nbw' and thea-atteirjpti,■•«•.» m...</td>\n",
       "      <td>ODT</td>\n",
       "      <td>18980810</td>\n",
       "      <td>[sis, every, nbw, thea, atteirjpti, made, less...</td>\n",
       "      <td>•Sis.^Every.nbw' and thea-atteirjpti,■•«•.» ma...</td>\n",
       "    </tr>\n",
       "    <tr>\n",
       "      <th>ODT_18980131_ARTICLE30</th>\n",
       "      <td>\"CIVIS\" AND DR STORDEUR'S LECTURES.</td>\n",
       "      <td>[TO THE JBBITOS. . ' Sir,—May I crave space in...</td>\n",
       "      <td>ODT</td>\n",
       "      <td>18980131</td>\n",
       "      <td>[jbbitos, sir, may, crave, space, columns, pap...</td>\n",
       "      <td>TO THE JBBITOS. . ' Sir,—May I crave space in ...</td>\n",
       "    </tr>\n",
       "    <tr>\n",
       "      <th>ODT_18980507_ARTICLE3</th>\n",
       "      <td>EGGS AND OLIVES.</td>\n",
       "      <td>[1889-91, .:.•;.. ■■'••* Necd'um omnis abactn ...</td>\n",
       "      <td>ODT</td>\n",
       "      <td>18980507</td>\n",
       "      <td>[1889, necd'um, omnis, abactn, pauperies, epul...</td>\n",
       "      <td>1889-91\\n.:.•;.. ■■'••* Necd'um omnis abactn P...</td>\n",
       "    </tr>\n",
       "  </tbody>\n",
       "</table>\n",
       "<p>747 rows × 6 columns</p>\n",
       "</div>"
      ],
      "text/plain": [
       "                                                        Title  \\\n",
       "BH_18740911_ARTICLE23                            Invercargill   \n",
       "CHP_18970902_ARTICLE28              THE QUEEN AND HER PEOPLE.   \n",
       "BH_18811209_ARTICLE27                  HOW IT ALL CAME ABOUT.   \n",
       "CHP_18970206_ARTICLE29                   \"PERFIDIOUS ALBION.\"   \n",
       "CHP_18990714_ARTICLE48                   RELIGIOUS EDUCATION.   \n",
       "...                                                       ...   \n",
       "ODT_18980810_ARTICLE58                      BIBLE IN SCHOOLS.   \n",
       "ODT_18980531_ARTICLE21                THE SITUATION IN ITALY.   \n",
       "ODT_18980810_ARTICLE15  SUNDAY NIGHT CONCERTS. TO THE EDITOR.   \n",
       "ODT_18980131_ARTICLE30    \"CIVIS\" AND DR STORDEUR'S LECTURES.   \n",
       "ODT_18980507_ARTICLE3                        EGGS AND OLIVES.   \n",
       "\n",
       "                                                                     Text  \\\n",
       "BH_18740911_ARTICLE23   [(Frbrriburbwri'Gbrresponderit.), The* attenti...   \n",
       "CHP_18970902_ARTICLE28  [The following is the Queen's Jubilee letter.—...   \n",
       "BH_18811209_ARTICLE27   [1; ! Bj; a prtfce-s (O- 5 -*ydlut_b_i ;; and'...   \n",
       "CHP_18970206_ARTICLE29  [It is seldom that any nation has an opportuni...   \n",
       "CHP_18990714_ARTICLE48  [A- meeting of ministers representing the wiou...   \n",
       "...                                                                   ...   \n",
       "ODT_18980810_ARTICLE58  [•. , .... , ~r ,j TO. THE EDITOR. ~.. ;.■■■],...   \n",
       "ODT_18980531_ARTICLE21  [A LETTER FROM THE POPE,, Press Association—By...   \n",
       "ODT_18980810_ARTICLE15  [•Sis.^Every.nbw' and thea-atteirjpti,■•«•.» m...   \n",
       "ODT_18980131_ARTICLE30  [TO THE JBBITOS. . ' Sir,—May I crave space in...   \n",
       "ODT_18980507_ARTICLE3   [1889-91, .:.•;.. ■■'••* Necd'um omnis abactn ...   \n",
       "\n",
       "                       Newspaper      Date  \\\n",
       "BH_18740911_ARTICLE23        NaN       NaN   \n",
       "CHP_18970902_ARTICLE28       NaN       NaN   \n",
       "BH_18811209_ARTICLE27        NaN       NaN   \n",
       "CHP_18970206_ARTICLE29       NaN       NaN   \n",
       "CHP_18990714_ARTICLE48       NaN       NaN   \n",
       "...                          ...       ...   \n",
       "ODT_18980810_ARTICLE58       ODT  18980810   \n",
       "ODT_18980531_ARTICLE21       ODT  18980531   \n",
       "ODT_18980810_ARTICLE15       ODT  18980810   \n",
       "ODT_18980131_ARTICLE30       ODT  18980131   \n",
       "ODT_18980507_ARTICLE3        ODT  18980507   \n",
       "\n",
       "                                                                Tokenised  \\\n",
       "BH_18740911_ARTICLE23                                                 NaN   \n",
       "CHP_18970902_ARTICLE28                                                NaN   \n",
       "BH_18811209_ARTICLE27                                                 NaN   \n",
       "CHP_18970206_ARTICLE29                                                NaN   \n",
       "CHP_18990714_ARTICLE48                                                NaN   \n",
       "...                                                                   ...   \n",
       "ODT_18980810_ARTICLE58  [editor, sißj, quite, corre, spondentti, pippa...   \n",
       "ODT_18980531_ARTICLE21  [letter, pope, press, association, telegraph, ...   \n",
       "ODT_18980810_ARTICLE15  [sis, every, nbw, thea, atteirjpti, made, less...   \n",
       "ODT_18980131_ARTICLE30  [jbbitos, sir, may, crave, space, columns, pap...   \n",
       "ODT_18980507_ARTICLE3   [1889, necd'um, omnis, abactn, pauperies, epul...   \n",
       "\n",
       "                                                           Text as string  \n",
       "BH_18740911_ARTICLE23   (Frbrriburbwri'Gbrresponderit.)\\nThe* attentio...  \n",
       "CHP_18970902_ARTICLE28  The following is the Queen's Jubilee letter.—\"...  \n",
       "BH_18811209_ARTICLE27   1; ! Bj; a prtfce-s (O- 5 -*ydlut_b_i ;; and' ...  \n",
       "CHP_18970206_ARTICLE29  It is seldom that any nation has an opportunit...  \n",
       "CHP_18990714_ARTICLE48  A- meeting of ministers representing the wious...  \n",
       "...                                                                   ...  \n",
       "ODT_18980810_ARTICLE58  •. , .... , ~r ,j TO. THE EDITOR. ~.. ;.■■■],....  \n",
       "ODT_18980531_ARTICLE21  A LETTER FROM THE POPE,\\nPress Association—By ...  \n",
       "ODT_18980810_ARTICLE15  •Sis.^Every.nbw' and thea-atteirjpti,■•«•.» ma...  \n",
       "ODT_18980131_ARTICLE30  TO THE JBBITOS. . ' Sir,—May I crave space in ...  \n",
       "ODT_18980507_ARTICLE3   1889-91\\n.:.•;.. ■■'••* Necd'um omnis abactn P...  \n",
       "\n",
       "[747 rows x 6 columns]"
      ]
     },
     "execution_count": 37,
     "metadata": {},
     "output_type": "execute_result"
    }
   ],
   "source": [
    "corpus_subset_df.loc[predictions]"
   ]
  },
  {
   "cell_type": "code",
   "execution_count": 38,
   "metadata": {},
   "outputs": [],
   "source": [
    "corpus_subset_df['Newspaper'] = corpus_subset_df.index.map(lambda x: x[0:x.find('_')])\n",
    "corpus_subset_df['Date'] = corpus_subset_df.index.map(lambda x: x[x.find('_')+1:x.find('_')+9])"
   ]
  },
  {
   "cell_type": "code",
   "execution_count": 39,
   "metadata": {},
   "outputs": [],
   "source": [
    "corpus_subset_df['Philosophy(pred)'] = predictions"
   ]
  },
  {
   "cell_type": "code",
   "execution_count": 42,
   "metadata": {},
   "outputs": [],
   "source": [
    "corpus_subset_df = corpus_subset_df.drop(['Tokenised', 'Text as string'], axis=1)"
   ]
  },
  {
   "cell_type": "code",
   "execution_count": 43,
   "metadata": {},
   "outputs": [],
   "source": [
    "corpus_subset_df.to_pickle('pickles/preds_nb_1.tar.gz')"
   ]
  },
  {
   "cell_type": "markdown",
   "metadata": {},
   "source": [
    "Let's check out the results:"
   ]
  },
  {
   "cell_type": "code",
   "execution_count": 240,
   "metadata": {
    "scrolled": true
   },
   "outputs": [
    {
     "data": {
      "application/vnd.jupyter.widget-view+json": {
       "model_id": "f08c7353af884a3faeb65a4d38aa4156",
       "version_major": 2,
       "version_minor": 0
      },
      "text/plain": [
       "interactive(children=(Dropdown(description='index', options=('LT_18990206_ARTICLE20', 'LT_18960709_ARTICLE14',…"
      ]
     },
     "metadata": {},
     "output_type": "display_data"
    },
    {
     "data": {
      "text/plain": [
       "<function NL_helpers.html_text(index, dataframe, boldface=None)>"
      ]
     },
     "execution_count": 240,
     "metadata": {},
     "output_type": "execute_result"
    }
   ],
   "source": [
    "phil_indices = (list(predictions[predictions==True].sample(n=500).index))\n",
    "interact(NL_helpers.html_text, index=phil_indices, dataframe=fixed(corpus_subset_df), boldface=fixed(None))"
   ]
  },
  {
   "cell_type": "markdown",
   "metadata": {},
   "source": [
    "A multicore attempt at fitting model (via https://github.com/scikit-learn/scikit-learn/issues/7448).\n",
    "\n",
    "Final result is a list of all articles classified as true along with 'Title' and 'Text' columns."
   ]
  },
  {
   "cell_type": "code",
   "execution_count": 12,
   "metadata": {},
   "outputs": [],
   "source": [
    "slices_directory = '/home/joshua/Documents/data601_small_slices/'\n",
    "slices = [f'{slices_directory}{path}' for path in os.listdir(slices_directory)]"
   ]
  },
  {
   "cell_type": "code",
   "execution_count": 36,
   "metadata": {},
   "outputs": [],
   "source": [
    "def phil_from_slice(slice_path):\n",
    "    df = pd.read_pickle(slice_path)\n",
    "    series = (\n",
    "        df['Text']\n",
    "        .map(NL_helpers.blocks2string)\n",
    "        .map(filter_short_articles)\n",
    "    )\n",
    "    series.drop(series[series==''].index, inplace=True)\n",
    "    predictions = pd.Series(data=phil_classifier.predict(series))\n",
    "    predictions.index = series.index\n",
    "    phil = df[['Title', 'Text']].loc[predictions[predictions].index]\n",
    "    del df\n",
    "    return phil\n",
    "    "
   ]
  },
  {
   "cell_type": "code",
   "execution_count": 37,
   "metadata": {},
   "outputs": [],
   "source": [
    "phil_nb1 = []\n",
    "if __name__ == '__main__':\n",
    "    with Pool(processes=os.cpu_count()//4 + 4) as pool:\n",
    "        phil_predictions = pool.imap(phil_from_slice, slices)\n",
    "        for prediction in phil_predictions:\n",
    "            phil_nb1.append(prediction)"
   ]
  },
  {
   "cell_type": "code",
   "execution_count": 38,
   "metadata": {},
   "outputs": [],
   "source": [
    "total_phil = 0\n",
    "for item in phil_nb1:\n",
    "    total_phil += len(item)"
   ]
  },
  {
   "cell_type": "code",
   "execution_count": 40,
   "metadata": {},
   "outputs": [
    {
     "data": {
      "text/plain": [
       "287832"
      ]
     },
     "execution_count": 40,
     "metadata": {},
     "output_type": "execute_result"
    }
   ],
   "source": [
    "total_phil"
   ]
  },
  {
   "cell_type": "code",
   "execution_count": 39,
   "metadata": {},
   "outputs": [],
   "source": [
    "all_phil_nb1 = pd.concat(phil_nb1)"
   ]
  },
  {
   "cell_type": "code",
   "execution_count": 41,
   "metadata": {},
   "outputs": [
    {
     "data": {
      "text/html": [
       "<div>\n",
       "<style scoped>\n",
       "    .dataframe tbody tr th:only-of-type {\n",
       "        vertical-align: middle;\n",
       "    }\n",
       "\n",
       "    .dataframe tbody tr th {\n",
       "        vertical-align: top;\n",
       "    }\n",
       "\n",
       "    .dataframe thead th {\n",
       "        text-align: right;\n",
       "    }\n",
       "</style>\n",
       "<table border=\"1\" class=\"dataframe\">\n",
       "  <thead>\n",
       "    <tr style=\"text-align: right;\">\n",
       "      <th></th>\n",
       "      <th>Title</th>\n",
       "      <th>Text</th>\n",
       "    </tr>\n",
       "  </thead>\n",
       "  <tbody>\n",
       "    <tr>\n",
       "      <th>LT_18940102_ARTICLE9</th>\n",
       "      <td>HOW THEY GET ENGAGED IN GREENLAND.</td>\n",
       "      <td>[The missionaries in Greenland seem to have a ...</td>\n",
       "    </tr>\n",
       "    <tr>\n",
       "      <th>LT_18940102_ARTICLE12</th>\n",
       "      <td>SHEARING WET SHEEP.</td>\n",
       "      <td>[TO THE EDITOR. Sir, —It being a matter of gre...</td>\n",
       "    </tr>\n",
       "    <tr>\n",
       "      <th>LT_18940102_ARTICLE13</th>\n",
       "      <td>WORK AND WAGES.</td>\n",
       "      <td>[TO THE EDITOR. Sir, —It appears that no cry o...</td>\n",
       "    </tr>\n",
       "    <tr>\n",
       "      <th>LT_18940102_ARTICLE15</th>\n",
       "      <td>ROMANTIC WOMEN.</td>\n",
       "      <td>[Most women are inclined to be romantic. This ...</td>\n",
       "    </tr>\n",
       "    <tr>\n",
       "      <th>LT_18940102_ARTICLE41</th>\n",
       "      <td>IN MEMORIAM.</td>\n",
       "      <td>[BISHOP HARPER. Ob., I)K. SS, 1533. “Go forth ...</td>\n",
       "    </tr>\n",
       "    <tr>\n",
       "      <th>...</th>\n",
       "      <td>...</td>\n",
       "      <td>...</td>\n",
       "    </tr>\n",
       "    <tr>\n",
       "      <th>ODT_18790121_ARTICLE9</th>\n",
       "      <td>THE PRESBYTERIAN SYNOD OF OTAGO AND SOUTHLAND.</td>\n",
       "      <td>[FIFTH DAY. The Syrorl resumed its transaction...</td>\n",
       "    </tr>\n",
       "    <tr>\n",
       "      <th>ODT_18790121_ARTICLE15</th>\n",
       "      <td>THE SECOLD CHAIR OF MORAL PHILOSOPHY AND POLIT...</td>\n",
       "      <td>[TO TJIE EDITOR, Sir,—You must not suppose iro...</td>\n",
       "    </tr>\n",
       "    <tr>\n",
       "      <th>ODT_18790121_ARTICLE16</th>\n",
       "      <td>GODLESS EDUCATION. TO THE EDITOR</td>\n",
       "      <td>[Sir,—l clxervo that the reft-reuce to tbo \"jj...</td>\n",
       "    </tr>\n",
       "    <tr>\n",
       "      <th>ODT_18790121_ARTICLE17</th>\n",
       "      <td>THE BIBLE SCHOOLS. TO THE EDITOR.</td>\n",
       "      <td>[Sia,—lt may not be out of place, in the prese...</td>\n",
       "    </tr>\n",
       "    <tr>\n",
       "      <th>ODT_18790122_ARTICLE22</th>\n",
       "      <td>THE UNIVERSITY PROFESSORSHIP.</td>\n",
       "      <td>[TO THE EDITOR,, Sin,—rmust take exception to ...</td>\n",
       "    </tr>\n",
       "  </tbody>\n",
       "</table>\n",
       "<p>287832 rows × 2 columns</p>\n",
       "</div>"
      ],
      "text/plain": [
       "                                                                    Title  \\\n",
       "LT_18940102_ARTICLE9                   HOW THEY GET ENGAGED IN GREENLAND.   \n",
       "LT_18940102_ARTICLE12                                 SHEARING WET SHEEP.   \n",
       "LT_18940102_ARTICLE13                                     WORK AND WAGES.   \n",
       "LT_18940102_ARTICLE15                                     ROMANTIC WOMEN.   \n",
       "LT_18940102_ARTICLE41                                        IN MEMORIAM.   \n",
       "...                                                                   ...   \n",
       "ODT_18790121_ARTICLE9      THE PRESBYTERIAN SYNOD OF OTAGO AND SOUTHLAND.   \n",
       "ODT_18790121_ARTICLE15  THE SECOLD CHAIR OF MORAL PHILOSOPHY AND POLIT...   \n",
       "ODT_18790121_ARTICLE16                   GODLESS EDUCATION. TO THE EDITOR   \n",
       "ODT_18790121_ARTICLE17                  THE BIBLE SCHOOLS. TO THE EDITOR.   \n",
       "ODT_18790122_ARTICLE22                      THE UNIVERSITY PROFESSORSHIP.   \n",
       "\n",
       "                                                                     Text  \n",
       "LT_18940102_ARTICLE9    [The missionaries in Greenland seem to have a ...  \n",
       "LT_18940102_ARTICLE12   [TO THE EDITOR. Sir, —It being a matter of gre...  \n",
       "LT_18940102_ARTICLE13   [TO THE EDITOR. Sir, —It appears that no cry o...  \n",
       "LT_18940102_ARTICLE15   [Most women are inclined to be romantic. This ...  \n",
       "LT_18940102_ARTICLE41   [BISHOP HARPER. Ob., I)K. SS, 1533. “Go forth ...  \n",
       "...                                                                   ...  \n",
       "ODT_18790121_ARTICLE9   [FIFTH DAY. The Syrorl resumed its transaction...  \n",
       "ODT_18790121_ARTICLE15  [TO TJIE EDITOR, Sir,—You must not suppose iro...  \n",
       "ODT_18790121_ARTICLE16  [Sir,—l clxervo that the reft-reuce to tbo \"jj...  \n",
       "ODT_18790121_ARTICLE17  [Sia,—lt may not be out of place, in the prese...  \n",
       "ODT_18790122_ARTICLE22  [TO THE EDITOR,, Sin,—rmust take exception to ...  \n",
       "\n",
       "[287832 rows x 2 columns]"
      ]
     },
     "execution_count": 41,
     "metadata": {},
     "output_type": "execute_result"
    }
   ],
   "source": [
    "all_phil_nb1"
   ]
  },
  {
   "cell_type": "code",
   "execution_count": 42,
   "metadata": {},
   "outputs": [],
   "source": [
    "all_phil_nb1.to_pickle('pickles/nb1_philoso_df.tar.gz')"
   ]
  }
 ],
 "metadata": {
  "kernelspec": {
   "display_name": "Python 3",
   "language": "python",
   "name": "python3"
  },
  "language_info": {
   "codemirror_mode": {
    "name": "ipython",
    "version": 3
   },
   "file_extension": ".py",
   "mimetype": "text/x-python",
   "name": "python",
   "nbconvert_exporter": "python",
   "pygments_lexer": "ipython3",
   "version": "3.7.6"
  }
 },
 "nbformat": 4,
 "nbformat_minor": 4
}

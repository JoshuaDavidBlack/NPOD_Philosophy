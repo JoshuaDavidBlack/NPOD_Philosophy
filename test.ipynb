{
  "cells": [
    {
      "cell_type": "markdown",
      "source": [
        "#"
      ],
      "metadata": {
        "nteract": {
          "transient": {
            "deleting": false
          }
        }
      }
    },
    {
      "cell_type": "markdown",
      "source": [
        "#Test heading "
      ],
      "metadata": {
        "nteract": {
          "transient": {
            "deleting": false
          }
        }
      }
    }
  ],
  "metadata": {},
  "nbformat": 4,
  "nbformat_minor": 0
}